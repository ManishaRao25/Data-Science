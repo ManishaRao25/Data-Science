{
 "cells": [
  {
   "cell_type": "markdown",
   "metadata": {},
   "source": [
    "# Importing The Libraries"
   ]
  },
  {
   "cell_type": "code",
   "execution_count": 1,
   "metadata": {},
   "outputs": [
    {
     "name": "stderr",
     "output_type": "stream",
     "text": [
      "C:\\Users\\ASUS\\anaconda\\lib\\site-packages\\pandas\\core\\computation\\expressions.py:20: UserWarning: Pandas requires version '2.7.3' or newer of 'numexpr' (version '2.7.1' currently installed).\n",
      "  from pandas.core.computation.check import NUMEXPR_INSTALLED\n"
     ]
    }
   ],
   "source": [
    "import pandas as pd\n",
    "import numpy as np\n",
    "import seaborn as sns\n",
    "import matplotlib.pyplot as plt\n",
    "import plotly as px\n",
    "from sklearn.model_selection import train_test_split\n",
    "from sklearn.preprocessing import OneHotEncoder\n",
    "from sklearn.linear_model import LinearRegression\n",
    "from sklearn.ensemble import RandomForestRegressor\n",
    "from sklearn.metrics import mean_squared_error, r2_score"
   ]
  },
  {
   "cell_type": "code",
   "execution_count": 2,
   "metadata": {},
   "outputs": [],
   "source": [
    "df = pd.read_csv(r'G:\\My Drive\\employee_data.csv')"
   ]
  },
  {
   "cell_type": "markdown",
   "metadata": {},
   "source": [
    "# Inspecting Data"
   ]
  },
  {
   "cell_type": "code",
   "execution_count": 3,
   "metadata": {},
   "outputs": [
    {
     "data": {
      "text/html": [
       "<div>\n",
       "<style scoped>\n",
       "    .dataframe tbody tr th:only-of-type {\n",
       "        vertical-align: middle;\n",
       "    }\n",
       "\n",
       "    .dataframe tbody tr th {\n",
       "        vertical-align: top;\n",
       "    }\n",
       "\n",
       "    .dataframe thead th {\n",
       "        text-align: right;\n",
       "    }\n",
       "</style>\n",
       "<table border=\"1\" class=\"dataframe\">\n",
       "  <thead>\n",
       "    <tr style=\"text-align: right;\">\n",
       "      <th></th>\n",
       "      <th>ID</th>\n",
       "      <th>Gender</th>\n",
       "      <th>Experience (Years)</th>\n",
       "      <th>Position</th>\n",
       "      <th>Salary</th>\n",
       "    </tr>\n",
       "  </thead>\n",
       "  <tbody>\n",
       "    <tr>\n",
       "      <th>0</th>\n",
       "      <td>1</td>\n",
       "      <td>F</td>\n",
       "      <td>4</td>\n",
       "      <td>DevOps Engineer</td>\n",
       "      <td>109976</td>\n",
       "    </tr>\n",
       "    <tr>\n",
       "      <th>1</th>\n",
       "      <td>2</td>\n",
       "      <td>M</td>\n",
       "      <td>6</td>\n",
       "      <td>DevOps Engineer</td>\n",
       "      <td>120088</td>\n",
       "    </tr>\n",
       "    <tr>\n",
       "      <th>2</th>\n",
       "      <td>3</td>\n",
       "      <td>M</td>\n",
       "      <td>17</td>\n",
       "      <td>Web Developer</td>\n",
       "      <td>181301</td>\n",
       "    </tr>\n",
       "    <tr>\n",
       "      <th>3</th>\n",
       "      <td>4</td>\n",
       "      <td>M</td>\n",
       "      <td>7</td>\n",
       "      <td>Systems Administrator</td>\n",
       "      <td>77530</td>\n",
       "    </tr>\n",
       "    <tr>\n",
       "      <th>4</th>\n",
       "      <td>5</td>\n",
       "      <td>F</td>\n",
       "      <td>13</td>\n",
       "      <td>Systems Administrator</td>\n",
       "      <td>152397</td>\n",
       "    </tr>\n",
       "    <tr>\n",
       "      <th>...</th>\n",
       "      <td>...</td>\n",
       "      <td>...</td>\n",
       "      <td>...</td>\n",
       "      <td>...</td>\n",
       "      <td>...</td>\n",
       "    </tr>\n",
       "    <tr>\n",
       "      <th>395</th>\n",
       "      <td>396</td>\n",
       "      <td>F</td>\n",
       "      <td>19</td>\n",
       "      <td>Cloud Solutions Architect</td>\n",
       "      <td>236045</td>\n",
       "    </tr>\n",
       "    <tr>\n",
       "      <th>396</th>\n",
       "      <td>397</td>\n",
       "      <td>F</td>\n",
       "      <td>20</td>\n",
       "      <td>Web Developer</td>\n",
       "      <td>182770</td>\n",
       "    </tr>\n",
       "    <tr>\n",
       "      <th>397</th>\n",
       "      <td>398</td>\n",
       "      <td>F</td>\n",
       "      <td>9</td>\n",
       "      <td>Network Administrator</td>\n",
       "      <td>85550</td>\n",
       "    </tr>\n",
       "    <tr>\n",
       "      <th>398</th>\n",
       "      <td>399</td>\n",
       "      <td>M</td>\n",
       "      <td>18</td>\n",
       "      <td>Database Administrator (DBA)</td>\n",
       "      <td>129996</td>\n",
       "    </tr>\n",
       "    <tr>\n",
       "      <th>399</th>\n",
       "      <td>400</td>\n",
       "      <td>F</td>\n",
       "      <td>11</td>\n",
       "      <td>IT Security Analyst</td>\n",
       "      <td>169058</td>\n",
       "    </tr>\n",
       "  </tbody>\n",
       "</table>\n",
       "<p>400 rows × 5 columns</p>\n",
       "</div>"
      ],
      "text/plain": [
       "      ID Gender  Experience (Years)                      Position  Salary\n",
       "0      1      F                   4               DevOps Engineer  109976\n",
       "1      2      M                   6               DevOps Engineer  120088\n",
       "2      3      M                  17                 Web Developer  181301\n",
       "3      4      M                   7         Systems Administrator   77530\n",
       "4      5      F                  13         Systems Administrator  152397\n",
       "..   ...    ...                 ...                           ...     ...\n",
       "395  396      F                  19     Cloud Solutions Architect  236045\n",
       "396  397      F                  20                 Web Developer  182770\n",
       "397  398      F                   9         Network Administrator   85550\n",
       "398  399      M                  18  Database Administrator (DBA)  129996\n",
       "399  400      F                  11           IT Security Analyst  169058\n",
       "\n",
       "[400 rows x 5 columns]"
      ]
     },
     "execution_count": 3,
     "metadata": {},
     "output_type": "execute_result"
    }
   ],
   "source": [
    "df"
   ]
  },
  {
   "cell_type": "code",
   "execution_count": 4,
   "metadata": {},
   "outputs": [
    {
     "name": "stdout",
     "output_type": "stream",
     "text": [
      "<class 'pandas.core.frame.DataFrame'>\n",
      "RangeIndex: 400 entries, 0 to 399\n",
      "Data columns (total 5 columns):\n",
      " #   Column              Non-Null Count  Dtype \n",
      "---  ------              --------------  ----- \n",
      " 0   ID                  400 non-null    int64 \n",
      " 1   Gender              400 non-null    object\n",
      " 2   Experience (Years)  400 non-null    int64 \n",
      " 3   Position            400 non-null    object\n",
      " 4   Salary              400 non-null    int64 \n",
      "dtypes: int64(3), object(2)\n",
      "memory usage: 15.8+ KB\n"
     ]
    }
   ],
   "source": [
    "df.info()"
   ]
  },
  {
   "cell_type": "code",
   "execution_count": 5,
   "metadata": {},
   "outputs": [
    {
     "data": {
      "text/html": [
       "<div>\n",
       "<style scoped>\n",
       "    .dataframe tbody tr th:only-of-type {\n",
       "        vertical-align: middle;\n",
       "    }\n",
       "\n",
       "    .dataframe tbody tr th {\n",
       "        vertical-align: top;\n",
       "    }\n",
       "\n",
       "    .dataframe thead th {\n",
       "        text-align: right;\n",
       "    }\n",
       "</style>\n",
       "<table border=\"1\" class=\"dataframe\">\n",
       "  <thead>\n",
       "    <tr style=\"text-align: right;\">\n",
       "      <th></th>\n",
       "      <th>ID</th>\n",
       "      <th>Experience (Years)</th>\n",
       "      <th>Salary</th>\n",
       "    </tr>\n",
       "  </thead>\n",
       "  <tbody>\n",
       "    <tr>\n",
       "      <th>count</th>\n",
       "      <td>400.000000</td>\n",
       "      <td>400.000000</td>\n",
       "      <td>400.00000</td>\n",
       "    </tr>\n",
       "    <tr>\n",
       "      <th>mean</th>\n",
       "      <td>200.500000</td>\n",
       "      <td>9.670000</td>\n",
       "      <td>131701.19750</td>\n",
       "    </tr>\n",
       "    <tr>\n",
       "      <th>std</th>\n",
       "      <td>115.614301</td>\n",
       "      <td>6.101571</td>\n",
       "      <td>43351.50899</td>\n",
       "    </tr>\n",
       "    <tr>\n",
       "      <th>min</th>\n",
       "      <td>1.000000</td>\n",
       "      <td>0.000000</td>\n",
       "      <td>43643.00000</td>\n",
       "    </tr>\n",
       "    <tr>\n",
       "      <th>25%</th>\n",
       "      <td>100.750000</td>\n",
       "      <td>4.000000</td>\n",
       "      <td>100484.75000</td>\n",
       "    </tr>\n",
       "    <tr>\n",
       "      <th>50%</th>\n",
       "      <td>200.500000</td>\n",
       "      <td>10.000000</td>\n",
       "      <td>128561.50000</td>\n",
       "    </tr>\n",
       "    <tr>\n",
       "      <th>75%</th>\n",
       "      <td>300.250000</td>\n",
       "      <td>15.000000</td>\n",
       "      <td>157735.00000</td>\n",
       "    </tr>\n",
       "    <tr>\n",
       "      <th>max</th>\n",
       "      <td>400.000000</td>\n",
       "      <td>20.000000</td>\n",
       "      <td>269950.00000</td>\n",
       "    </tr>\n",
       "  </tbody>\n",
       "</table>\n",
       "</div>"
      ],
      "text/plain": [
       "               ID  Experience (Years)        Salary\n",
       "count  400.000000          400.000000     400.00000\n",
       "mean   200.500000            9.670000  131701.19750\n",
       "std    115.614301            6.101571   43351.50899\n",
       "min      1.000000            0.000000   43643.00000\n",
       "25%    100.750000            4.000000  100484.75000\n",
       "50%    200.500000           10.000000  128561.50000\n",
       "75%    300.250000           15.000000  157735.00000\n",
       "max    400.000000           20.000000  269950.00000"
      ]
     },
     "execution_count": 5,
     "metadata": {},
     "output_type": "execute_result"
    }
   ],
   "source": [
    "df.describe()"
   ]
  },
  {
   "cell_type": "markdown",
   "metadata": {},
   "source": [
    "# Data Cleaning\n",
    "#### No Null values"
   ]
  },
  {
   "cell_type": "code",
   "execution_count": 6,
   "metadata": {},
   "outputs": [
    {
     "data": {
      "text/plain": [
       "ID                    0\n",
       "Gender                0\n",
       "Experience (Years)    0\n",
       "Position              0\n",
       "Salary                0\n",
       "dtype: int64"
      ]
     },
     "execution_count": 6,
     "metadata": {},
     "output_type": "execute_result"
    }
   ],
   "source": [
    "df.isnull().sum()"
   ]
  },
  {
   "cell_type": "markdown",
   "metadata": {},
   "source": [
    "# Data Visualization"
   ]
  },
  {
   "cell_type": "markdown",
   "metadata": {},
   "source": [
    "#####  Displaying Count of Employees  by Gender"
   ]
  },
  {
   "cell_type": "code",
   "execution_count": 7,
   "metadata": {},
   "outputs": [
    {
     "data": {
      "image/png": "[encoded data removed]",
      "text/plain": [
       "<Figure size 432x288 with 1 Axes>"
      ]
     },
     "metadata": {
      "needs_background": "light"
     },
     "output_type": "display_data"
    }
   ],
   "source": [
    "sns.countplot(data=df, x='Gender')\n",
    "plt.title('Count of Employees by Gender')\n",
    "\n",
    "plt.show()\n"
   ]
  },
  {
   "cell_type": "markdown",
   "metadata": {},
   "source": [
    "##### Displaying Count of Employees by Position"
   ]
  },
  {
   "cell_type": "code",
   "execution_count": 8,
   "metadata": {},
   "outputs": [
    {
     "data": {
      "text/plain": [
       "Text(0.5, 1.0, 'Count of Employees by Position')"
      ]
     },
     "execution_count": 8,
     "metadata": {},
     "output_type": "execute_result"
    },
    {
     "data": {
      "image/png": "[encoded data removed]",
      "text/plain": [
       "<Figure size 432x288 with 1 Axes>"
      ]
     },
     "metadata": {
      "needs_background": "light"
     },
     "output_type": "display_data"
    }
   ],
   "source": [
    "sns.countplot(data=df, y='Position')\n",
    "plt.title('Count of Employees by Position')"
   ]
  },
  {
   "cell_type": "markdown",
   "metadata": {},
   "source": [
    "#### Salary Distribution by Position"
   ]
  },
  {
   "cell_type": "code",
   "execution_count": 9,
   "metadata": {},
   "outputs": [
    {
     "data": {
      "image/png": "[encoded data removed]",
      "text/plain": [
       "<Figure size 432x288 with 1 Axes>"
      ]
     },
     "metadata": {
      "needs_background": "light"
     },
     "output_type": "display_data"
    }
   ],
   "source": [
    "plt.subplot(1, 2, 2)\n",
    "sns.boxplot(data=df, x='Position', y='Salary')\n",
    "plt.title('Salary Distribution by Position')\n",
    "plt.xticks(rotation=90)\n",
    "\n",
    "plt.show()"
   ]
  },
  {
   "cell_type": "markdown",
   "metadata": {},
   "source": [
    "##### Box plots to compare salaries"
   ]
  },
  {
   "cell_type": "code",
   "execution_count": 10,
   "metadata": {},
   "outputs": [
    {
     "data": {
      "text/plain": [
       "Text(0.5, 1.0, 'Salary Distribution by Gender')"
      ]
     },
     "execution_count": 10,
     "metadata": {},
     "output_type": "execute_result"
    },
    {
     "data": {
      "image/png": "[encoded data removed]",
      "text/plain": [
       "<Figure size 1008x432 with 1 Axes>"
      ]
     },
     "metadata": {
      "needs_background": "light"
     },
     "output_type": "display_data"
    }
   ],
   "source": [
    "plt.figure(figsize=(14, 6))\n",
    "\n",
    "plt.subplot(1, 2, 1)\n",
    "sns.boxplot(data=df, x='Gender', y='Salary')\n",
    "plt.title('Salary Distribution by Gender')"
   ]
  },
  {
   "cell_type": "markdown",
   "metadata": {},
   "source": [
    "#### Distribution by Experience And Salaries"
   ]
  },
  {
   "cell_type": "code",
   "execution_count": 11,
   "metadata": {},
   "outputs": [
    {
     "name": "stdout",
     "output_type": "stream",
     "text": [
      "An error occurred: Multi-dimensional indexing (e.g. `obj[:, None]`) is no longer supported. Convert to a numpy array before indexing instead.\n"
     ]
    },
    {
     "data": {
      "image/png": "[encoded data removed]",
      "text/plain": [
       "<Figure size 1008x432 with 1 Axes>"
      ]
     },
     "metadata": {
      "needs_background": "light"
     },
     "output_type": "display_data"
    },
    {
     "data": {
      "image/png": "[encoded data removed]",
      "text/plain": [
       "<Figure size 1008x432 with 2 Axes>"
      ]
     },
     "metadata": {
      "needs_background": "light"
     },
     "output_type": "display_data"
    }
   ],
   "source": [
    "experience_years = df['Experience (Years)'].tolist()\n",
    "salary = df['Salary'].tolist()\n",
    "\n",
    "try:\n",
    "    # Distribution plots for numerical columns\n",
    "    plt.figure(figsize=(14, 6))\n",
    "\n",
    "    plt.subplot(1, 2, 1)\n",
    "    sns.histplot(experience_years, kde=True)\n",
    "    plt.title('Distribution of Experience (Years)')\n",
    "\n",
    "    plt.subplot(1, 2, 2)\n",
    "    sns.histplot(salary, kde=True)\n",
    "    plt.title('Distribution of Salary')\n",
    "\n",
    "    plt.show()\n",
    "except ValueError as e:\n",
    "    print(f\"An error occurred: {e}\")\n",
    "    # Alternative way to plot\n",
    "    plt.figure(figsize=(14, 6))\n",
    "\n",
    "    plt.subplot(1, 2, 1)\n",
    "    plt.hist(experience_years, bins=30, alpha=0.7, color='blue')\n",
    "    plt.title('Distribution of Experience (Years)')\n",
    "\n",
    "    plt.subplot(1, 2, 2)\n",
    "    plt.hist(salary, bins=30, alpha=0.7, color='green')\n",
    "    plt.title('Distribution of Salary')\n",
    "\n",
    "    plt.show()"
   ]
  },
  {
   "cell_type": "markdown",
   "metadata": {},
   "source": [
    "###### Correlation matrix"
   ]
  },
  {
   "cell_type": "code",
   "execution_count": 12,
   "metadata": {},
   "outputs": [
    {
     "data": {
      "image/png": "[encoded data removed]",
      "text/plain": [
       "<Figure size 720x432 with 2 Axes>"
      ]
     },
     "metadata": {
      "needs_background": "light"
     },
     "output_type": "display_data"
    }
   ],
   "source": [
    "correlation_matrix = df.corr(numeric_only=True)\n",
    "\n",
    "plt.figure(figsize=(10, 6))\n",
    "sns.heatmap(correlation_matrix, annot=True, fmt='.2f')\n",
    "plt.title('Correlation Matrix')\n",
    "plt.show()"
   ]
  },
  {
   "cell_type": "markdown",
   "metadata": {},
   "source": [
    "# Model Building\n",
    "- Linear Regression: A linear regression model was built to predict salary based on experience.\n",
    "- Performance Metrics: Metrics such as R-squared, Mean Absolute Error (MAE), and Mean Squared Error (MSE) were used to evaluate model performance."
   ]
  },
  {
   "cell_type": "code",
   "execution_count": 13,
   "metadata": {},
   "outputs": [
    {
     "name": "stdout",
     "output_type": "stream",
     "text": [
      "Linear Regression - MSE: 631971798.3687112 R2: 0.6616917183403799\n",
      "Random Forest Regressor - MSE: 761929654.4087088 R2: 0.5921224447136968\n"
     ]
    }
   ],
   "source": [
    "# One-hot encoding categorical variables\n",
    "encoder = OneHotEncoder(drop='first', sparse=False)\n",
    "encoded_categories = encoder.fit_transform(df[['Gender', 'Position']].to_numpy())\n",
    "encoded_df = pd.DataFrame(encoded_categories, columns=encoder.get_feature_names(['Gender', 'Position']))\n",
    "\n",
    "# Combine encoded columns with the original DataFrame\n",
    "df_encoded = pd.concat([df.drop(['Gender', 'Position'], axis=1), encoded_df], axis=1)\n",
    "\n",
    "# Splitting the data into training and testing sets\n",
    "X = df_encoded.drop('Salary', axis=1)\n",
    "y = df_encoded['Salary']\n",
    "X_train, X_test, y_train, y_test = train_test_split(X, y, test_size=0.2, random_state=42)\n",
    "\n",
    "# Linear Regression\n",
    "lin_reg = LinearRegression()\n",
    "lin_reg.fit(X_train, y_train)\n",
    "y_pred_lr = lin_reg.predict(X_test)\n",
    "\n",
    "# Random Forest Regressor\n",
    "rf_reg = RandomForestRegressor(n_estimators=100, random_state=42)\n",
    "rf_reg.fit(X_train, y_train)\n",
    "y_pred_rf = rf_reg.predict(X_test)\n",
    "\n",
    "# Performance evaluation\n",
    "mse_lr = mean_squared_error(y_test, y_pred_lr)\n",
    "r2_lr = r2_score(y_test, y_pred_lr)\n",
    "\n",
    "mse_rf = mean_squared_error(y_test, y_pred_rf)\n",
    "r2_rf = r2_score(y_test, y_pred_rf)\n",
    "\n",
    "print('Linear Regression - MSE:', mse_lr, 'R2:', r2_lr)\n",
    "print('Random Forest Regressor - MSE:', mse_rf, 'R2:', r2_rf)"
   ]
  },
  {
   "cell_type": "markdown",
   "metadata": {},
   "source": [
    "# Feature Scaling"
   ]
  },
  {
   "cell_type": "code",
   "execution_count": 14,
   "metadata": {},
   "outputs": [
    {
     "data": {
      "application/javascript": [
       "\n",
       "        if (window._pyforest_update_imports_cell) { window._pyforest_update_imports_cell('from sklearn.preprocessing import PolynomialFeatures'); }\n",
       "    "
      ],
      "text/plain": [
       "<IPython.core.display.Javascript object>"
      ]
     },
     "metadata": {},
     "output_type": "display_data"
    },
    {
     "data": {
      "application/javascript": [
       "\n",
       "        if (window._pyforest_update_imports_cell) { window._pyforest_update_imports_cell('from sklearn.preprocessing import StandardScaler\\nfrom sklearn.preprocessing import PolynomialFeatures'); }\n",
       "    "
      ],
      "text/plain": [
       "<IPython.core.display.Javascript object>"
      ]
     },
     "metadata": {},
     "output_type": "display_data"
    }
   ],
   "source": [
    "\n",
    "df['Log_Salary'] = np.log1p(df['Salary'])\n",
    "\n",
    "poly = PolynomialFeatures(degree=2, include_bias=False)\n",
    "poly_features = poly.fit_transform(df[['Experience (Years)']])\n",
    "poly_feature_names = poly.get_feature_names(['Experience_Years'])\n",
    "poly_df = pd.DataFrame(poly_features, columns=poly_feature_names)\n",
    "\n",
    "df = pd.concat([df, poly_df], axis=1)\n",
    "\n",
    "gender_dummies = pd.get_dummies(df['Gender'], drop_first=True)\n",
    "\n",
    "for column in gender_dummies.columns:\n",
    "    df[f'Experience_Gender_{column}'] = df['Experience (Years)'] * gender_dummies[column]\n",
    "\n",
    "scaler = StandardScaler()\n",
    "df[['Experience (Years)', 'Log_Salary']] = scaler.fit_transform(df[['Experience (Years)', 'Log_Salary']])\n",
    "\n",
    "df['Experience_Bin'] = pd.cut(df['Experience (Years)'], bins=3, labels=['Low', 'Medium', 'High'])\n",
    "\n",
    "df.drop('Salary', axis=1, inplace=True)\n"
   ]
  },
  {
   "cell_type": "code",
   "execution_count": 15,
   "metadata": {},
   "outputs": [
    {
     "data": {
      "text/html": [
       "<div>\n",
       "<style scoped>\n",
       "    .dataframe tbody tr th:only-of-type {\n",
       "        vertical-align: middle;\n",
       "    }\n",
       "\n",
       "    .dataframe tbody tr th {\n",
       "        vertical-align: top;\n",
       "    }\n",
       "\n",
       "    .dataframe thead th {\n",
       "        text-align: right;\n",
       "    }\n",
       "</style>\n",
       "<table border=\"1\" class=\"dataframe\">\n",
       "  <thead>\n",
       "    <tr style=\"text-align: right;\">\n",
       "      <th></th>\n",
       "      <th>ID</th>\n",
       "      <th>Gender</th>\n",
       "      <th>Experience (Years)</th>\n",
       "      <th>Position</th>\n",
       "      <th>Log_Salary</th>\n",
       "      <th>Experience_Years</th>\n",
       "      <th>Experience_Years^2</th>\n",
       "      <th>Experience_Gender_M</th>\n",
       "      <th>Experience_Bin</th>\n",
       "    </tr>\n",
       "  </thead>\n",
       "  <tbody>\n",
       "    <tr>\n",
       "      <th>0</th>\n",
       "      <td>1</td>\n",
       "      <td>F</td>\n",
       "      <td>-0.930433</td>\n",
       "      <td>DevOps Engineer</td>\n",
       "      <td>-0.367617</td>\n",
       "      <td>4.0</td>\n",
       "      <td>16.0</td>\n",
       "      <td>0</td>\n",
       "      <td>Low</td>\n",
       "    </tr>\n",
       "    <tr>\n",
       "      <th>1</th>\n",
       "      <td>2</td>\n",
       "      <td>M</td>\n",
       "      <td>-0.602238</td>\n",
       "      <td>DevOps Engineer</td>\n",
       "      <td>-0.108396</td>\n",
       "      <td>6.0</td>\n",
       "      <td>36.0</td>\n",
       "      <td>6</td>\n",
       "      <td>Low</td>\n",
       "    </tr>\n",
       "    <tr>\n",
       "      <th>2</th>\n",
       "      <td>3</td>\n",
       "      <td>M</td>\n",
       "      <td>1.202834</td>\n",
       "      <td>Web Developer</td>\n",
       "      <td>1.105554</td>\n",
       "      <td>17.0</td>\n",
       "      <td>289.0</td>\n",
       "      <td>17</td>\n",
       "      <td>High</td>\n",
       "    </tr>\n",
       "    <tr>\n",
       "      <th>3</th>\n",
       "      <td>4</td>\n",
       "      <td>M</td>\n",
       "      <td>-0.438140</td>\n",
       "      <td>Systems Administrator</td>\n",
       "      <td>-1.397860</td>\n",
       "      <td>7.0</td>\n",
       "      <td>49.0</td>\n",
       "      <td>7</td>\n",
       "      <td>Medium</td>\n",
       "    </tr>\n",
       "    <tr>\n",
       "      <th>4</th>\n",
       "      <td>5</td>\n",
       "      <td>F</td>\n",
       "      <td>0.546445</td>\n",
       "      <td>Systems Administrator</td>\n",
       "      <td>0.593757</td>\n",
       "      <td>13.0</td>\n",
       "      <td>169.0</td>\n",
       "      <td>0</td>\n",
       "      <td>Medium</td>\n",
       "    </tr>\n",
       "  </tbody>\n",
       "</table>\n",
       "</div>"
      ],
      "text/plain": [
       "   ID Gender  Experience (Years)               Position  Log_Salary  \\\n",
       "0   1      F           -0.930433        DevOps Engineer   -0.367617   \n",
       "1   2      M           -0.602238        DevOps Engineer   -0.108396   \n",
       "2   3      M            1.202834          Web Developer    1.105554   \n",
       "3   4      M           -0.438140  Systems Administrator   -1.397860   \n",
       "4   5      F            0.546445  Systems Administrator    0.593757   \n",
       "\n",
       "   Experience_Years  Experience_Years^2  Experience_Gender_M Experience_Bin  \n",
       "0               4.0                16.0                    0            Low  \n",
       "1               6.0                36.0                    6            Low  \n",
       "2              17.0               289.0                   17           High  \n",
       "3               7.0                49.0                    7         Medium  \n",
       "4              13.0               169.0                    0         Medium  "
      ]
     },
     "execution_count": 15,
     "metadata": {},
     "output_type": "execute_result"
    }
   ],
   "source": [
    "df.head()"
   ]
  },
  {
   "cell_type": "code",
   "execution_count": 16,
   "metadata": {},
   "outputs": [
    {
     "data": {
      "image/png": "[encoded data removed]",
      "text/plain": [
       "<Figure size 864x720 with 2 Axes>"
      ]
     },
     "metadata": {
      "needs_background": "light"
     },
     "output_type": "display_data"
    }
   ],
   "source": [
    "numeric_cols = df.select_dtypes(include=['float64', 'int64']).columns\n",
    "\n",
    "correlation_matrix = df[numeric_cols].corr()\n",
    "\n",
    "plt.figure(figsize=(12, 10))\n",
    "sns.heatmap(correlation_matrix, annot=True, cmap='coolwarm', vmin=-1, vmax=1)\n",
    "plt.title('Correlation Heatmap')\n",
    "plt.show()"
   ]
  },
  {
   "cell_type": "markdown",
   "metadata": {},
   "source": [
    "#### Feature Importance Analysis:\n",
    "Use a Random Forest Regressor to assess feature importance."
   ]
  },
  {
   "cell_type": "code",
   "execution_count": 17,
   "metadata": {},
   "outputs": [
    {
     "data": {
      "image/png": "[encoded data removed]",
      "text/plain": [
       "<Figure size 720x432 with 1 Axes>"
      ]
     },
     "metadata": {
      "needs_background": "light"
     },
     "output_type": "display_data"
    }
   ],
   "source": [
    "from sklearn.ensemble import RandomForestRegressor\n",
    "from sklearn.model_selection import train_test_split\n",
    "\n",
    "X = df.drop(['Log_Salary', 'Gender', 'Position', 'Experience_Bin'], axis=1)\n",
    "y = df['Log_Salary']\n",
    "\n",
    "X_train, X_test, y_train, y_test = train_test_split(X, y, test_size=0.2, random_state=42)\n",
    "\n",
    "\n",
    "rf_model = RandomForestRegressor(n_estimators=100, random_state=42)\n",
    "rf_model.fit(X_train, y_train)\n",
    "\n",
    "importances = pd.DataFrame({'feature': X.columns, 'importance': rf_model.feature_importances_})\n",
    "importances = importances.sort_values('importance', ascending=False)\n",
    "\n",
    "plt.figure(figsize=(10, 6))\n",
    "sns.barplot(x='importance', y='feature', data=importances)\n",
    "plt.title('Feature Importances')\n",
    "plt.show()"
   ]
  },
  {
   "cell_type": "markdown",
   "metadata": {},
   "source": [
    "#### Exploratory Data Analysis (EDA) for Categorical Variables:\n",
    "Analyze the relationship between categorical variables and salary."
   ]
  },
  {
   "cell_type": "code",
   "execution_count": 18,
   "metadata": {},
   "outputs": [
    {
     "data": {
      "image/png": "[encoded data removed]",
      "text/plain": [
       "<Figure size 864x432 with 1 Axes>"
      ]
     },
     "metadata": {
      "needs_background": "light"
     },
     "output_type": "display_data"
    },
    {
     "data": {
      "image/png": "[encoded data removed]",
      "text/plain": [
       "<Figure size 576x432 with 1 Axes>"
      ]
     },
     "metadata": {
      "needs_background": "light"
     },
     "output_type": "display_data"
    },
    {
     "data": {
      "image/png": "[encoded data removed]",
      "text/plain": [
       "<Figure size 576x432 with 1 Axes>"
      ]
     },
     "metadata": {
      "needs_background": "light"
     },
     "output_type": "display_data"
    }
   ],
   "source": [
    "plt.figure(figsize=(12, 6))\n",
    "sns.boxplot(x='Position', y='Log_Salary', data=df)\n",
    "plt.xticks(rotation=45)\n",
    "plt.title('Log Salary Distribution by Position')\n",
    "plt.show()\n",
    "\n",
    "plt.figure(figsize=(8, 6))\n",
    "sns.boxplot(x='Gender', y='Log_Salary', data=df)\n",
    "plt.title('Log Salary Distribution by Gender')\n",
    "plt.show()\n",
    "\n",
    "plt.figure(figsize=(8, 6))\n",
    "sns.boxplot(x='Experience_Bin', y='Log_Salary', data=df)\n",
    "plt.title('Log Salary Distribution by Experience Bin')\n",
    "plt.show()"
   ]
  },
  {
   "cell_type": "markdown",
   "metadata": {},
   "source": [
    "##### Multiple Linear Regression:\n",
    "Perform multiple linear regression to understand the relationships between features and salary."
   ]
  },
  {
   "cell_type": "code",
   "execution_count": 19,
   "metadata": {},
   "outputs": [
    {
     "name": "stdout",
     "output_type": "stream",
     "text": [
      "                            OLS Regression Results                            \n",
      "==============================================================================\n",
      "Dep. Variable:             Log_Salary   R-squared:                       0.395\n",
      "Model:                            OLS   Adj. R-squared:                  0.389\n",
      "Method:                 Least Squares   F-statistic:                     64.44\n",
      "Date:                Sun, 04 Aug 2024   Prob (F-statistic):           6.45e-42\n",
      "Time:                        13:22:58   Log-Likelihood:                -467.11\n",
      "No. Observations:                 400   AIC:                             944.2\n",
      "Df Residuals:                     395   BIC:                             964.2\n",
      "Df Model:                           4                                         \n",
      "Covariance Type:            nonrobust                                         \n",
      "=======================================================================================\n",
      "                          coef    std err          t      P>|t|      [0.025      0.975]\n",
      "---------------------------------------------------------------------------------------\n",
      "const                  -0.3045      0.034     -9.010      0.000      -0.371      -0.238\n",
      "ID                     -0.0002      0.000     -0.642      0.521      -0.001       0.000\n",
      "Experience (Years)      0.4942      0.055      8.998      0.000       0.386       0.602\n",
      "Experience_Years        0.0674      0.020      3.434      0.001       0.029       0.106\n",
      "Experience_Years^2     -0.0024      0.001     -1.955      0.051      -0.005    1.33e-05\n",
      "Experience_Gender_M     0.0009      0.007      0.130      0.897      -0.013       0.014\n",
      "==============================================================================\n",
      "Omnibus:                       12.707   Durbin-Watson:                   2.031\n",
      "Prob(Omnibus):                  0.002   Jarque-Bera (JB):                9.517\n",
      "Skew:                          -0.272   Prob(JB):                      0.00858\n",
      "Kurtosis:                       2.476   Cond. No.                     2.91e+17\n",
      "==============================================================================\n",
      "\n",
      "Notes:\n",
      "[1] Standard Errors assume that the covariance matrix of the errors is correctly specified.\n",
      "[2] The smallest eigenvalue is 3.41e-28. This might indicate that there are\n",
      "strong multicollinearity problems or that the design matrix is singular.\n"
     ]
    }
   ],
   "source": [
    "import statsmodels.api as sm\n",
    "\n",
    "X = df.drop(['Log_Salary', 'Gender', 'Position', 'Experience_Bin'], axis=1)\n",
    "y = df['Log_Salary']\n",
    "\n",
    "# Add constant term to the features\n",
    "X = sm.add_constant(X)\n",
    "\n",
    "model = sm.OLS(y, X).fit()\n",
    "print(model.summary())"
   ]
  },
  {
   "cell_type": "markdown",
   "metadata": {},
   "source": [
    "##### Residual Analysis:\n",
    "Analyze the residuals to check the assumptions of linear regression."
   ]
  },
  {
   "cell_type": "code",
   "execution_count": 20,
   "metadata": {},
   "outputs": [
    {
     "data": {
      "image/png": "[encoded data removed]",
      "text/plain": [
       "<Figure size 720x432 with 1 Axes>"
      ]
     },
     "metadata": {
      "needs_background": "light"
     },
     "output_type": "display_data"
    },
    {
     "data": {
      "image/png": "[encoded data removed]",
      "text/plain": [
       "<Figure size 720x432 with 1 Axes>"
      ]
     },
     "metadata": {
      "needs_background": "light"
     },
     "output_type": "display_data"
    }
   ],
   "source": [
    "# Calculate residuals\n",
    "residuals = model.resid\n",
    "\n",
    "# Plot residuals\n",
    "plt.figure(figsize=(10, 6))\n",
    "sns.scatterplot(x=model.predict(), y=residuals)\n",
    "plt.axhline(y=0, color='r', linestyle='--')\n",
    "plt.xlabel('Predicted values')\n",
    "plt.ylabel('Residuals')\n",
    "plt.title('Residual Plot')\n",
    "plt.show()\n",
    "\n",
    "# Q-Q plot\n",
    "import scipy.stats as stats\n",
    "fig, ax = plt.subplots(figsize=(10, 6))\n",
    "stats.probplot(residuals, dist=\"norm\", plot=ax)\n",
    "ax.set_title(\"Q-Q plot\")\n",
    "plt.show()"
   ]
  },
  {
   "cell_type": "markdown",
   "metadata": {},
   "source": [
    "##### ANOVA for Categorical Variables:\n",
    "Perform one-way ANOVA to test for significant differences in salary across categories."
   ]
  },
  {
   "cell_type": "code",
   "execution_count": 21,
   "metadata": {},
   "outputs": [
    {
     "name": "stdout",
     "output_type": "stream",
     "text": [
      "ANOVA results for Position: F-statistic = 17.21405701570043, p-value = 6.545402519015772e-26\n",
      "ANOVA results for Experience_Bin: F-statistic = 106.83118426280373, p-value = 7.557632329516565e-38\n"
     ]
    }
   ],
   "source": [
    "import scipy.stats as stats\n",
    "\n",
    "position_groups = [group for name, group in df.groupby('Position')['Log_Salary']]\n",
    "f_statistic, p_value = stats.f_oneway(*position_groups)\n",
    "print(f\"ANOVA results for Position: F-statistic = {f_statistic}, p-value = {p_value}\")\n",
    "\n",
    "exp_bin_groups = [group for name, group in df.groupby('Experience_Bin')['Log_Salary']]\n",
    "f_statistic, p_value = stats.f_oneway(*exp_bin_groups)\n",
    "print(f\"ANOVA results for Experience_Bin: F-statistic = {f_statistic}, p-value = {p_value}\")"
   ]
  },
  {
   "cell_type": "code",
   "execution_count": 22,
   "metadata": {},
   "outputs": [
    {
     "data": {
      "text/html": [
       "        <script type=\"text/javascript\">\n",
       "        window.PlotlyConfig = {MathJaxConfig: 'local'};\n",
       "        if (window.MathJax && window.MathJax.Hub && window.MathJax.Hub.Config) {window.MathJax.Hub.Config({SVG: {font: \"STIX-Web\"}});}\n",
       "        if (typeof require !== 'undefined') {\n",
       "        require.undef(\"plotly\");\n",
       "        requirejs.config({\n",
       "            paths: {\n",
       "                'plotly': ['https://cdn.plot.ly/plotly-2.29.1.min']\n",
       "            }\n",
       "        });\n",
       "        require(['plotly'], function(Plotly) {\n",
       "            window._Plotly = Plotly;\n",
       "        });\n",
       "        }\n",
       "        </script>\n",
       "        "
      ]
     },
     "metadata": {},
     "output_type": "display_data"
    }
   ],
   "source": [
    "from plotly.offline import download_plotlyjs, init_notebook_mode,plot,iplot\n",
    "import chart_studio.plotly as py\n",
    "init_notebook_mode(connected=True)\n",
    "import plotly.graph_objects as go\n",
    "import plotly.express as px"
   ]
  },
  {
   "cell_type": "markdown",
   "metadata": {},
   "source": [
    "#### Correlation Heatmap after Feature Scaling"
   ]
  },
  {
   "cell_type": "code",
   "execution_count": 23,
   "metadata": {},
   "outputs": [
    {
     "data": {
      "application/vnd.plotly.v1+json": {
       "config": {
        "plotlyServerURL": "https://plot.ly"
       },
       "data": [
        {
         "colorscale": [
          [
           0,
           "rgb(103,0,31)"
          ],
          [
           0.1,
           "rgb(178,24,43)"
          ],
          [
           0.2,
           "rgb(214,96,77)"
          ],
          [
           0.3,
           "rgb(244,165,130)"
          ],
          [
           0.4,
           "rgb(253,219,199)"
          ],
          [
           0.5,
           "rgb(247,247,247)"
          ],
          [
           0.6,
           "rgb(209,229,240)"
          ],
          [
           0.7,
           "rgb(146,197,222)"
          ],
          [
           0.8,
           "rgb(67,147,195)"
          ],
          [
           0.9,
           "rgb(33,102,172)"
          ],
          [
           1,
           "rgb(5,48,97)"
          ]
         ],
         "type": "heatmap",
         "x": [
          "ID",
          "Experience (Years)",
          "Log_Salary",
          "Experience_Years",
          "Experience_Years^2",
          "Experience_Gender_M"
         ],
         "y": [
          "ID",
          "Experience (Years)",
          "Log_Salary",
          "Experience_Years",
          "Experience_Years^2",
          "Experience_Gender_M"
         ],
         "z": [
          [
           1,
           0.06730472223896118,
           0.017153651421754464,
           0.06730472223896268,
           0.06403949550005343,
           0.03210768887246326
          ],
          [
           0.06730472223896118,
           1,
           0.6232006864528853,
           0.9999999999999994,
           0.9652919953249604,
           0.46000043794320494
          ],
          [
           0.017153651421754464,
           0.6232006864528853,
           1,
           0.6232006864528852,
           0.5815874830063756,
           0.2921699527502382
          ],
          [
           0.06730472223896268,
           0.9999999999999994,
           0.6232006864528852,
           1,
           0.9652919953249598,
           0.46000043794320455
          ],
          [
           0.06403949550005343,
           0.9652919953249604,
           0.5815874830063756,
           0.9652919953249598,
           1,
           0.44055308979251534
          ],
          [
           0.03210768887246326,
           0.46000043794320494,
           0.2921699527502382,
           0.46000043794320455,
           0.44055308979251534,
           1
          ]
         ],
         "zmax": 1,
         "zmin": -1
        }
       ],
       "layout": {
        "height": 600,
        "template": {
         "data": {
          "bar": [
           {
            "error_x": {
             "color": "#2a3f5f"
            },
            "error_y": {
             "color": "#2a3f5f"
            },
            "marker": {
             "line": {
              "color": "#E5ECF6",
              "width": 0.5
             },
             "pattern": {
              "fillmode": "overlay",
              "size": 10,
              "solidity": 0.2
             }
            },
            "type": "bar"
           }
          ],
          "barpolar": [
           {
            "marker": {
             "line": {
              "color": "#E5ECF6",
              "width": 0.5
             },
             "pattern": {
              "fillmode": "overlay",
              "size": 10,
              "solidity": 0.2
             }
            },
            "type": "barpolar"
           }
          ],
          "carpet": [
           {
            "aaxis": {
             "endlinecolor": "#2a3f5f",
             "gridcolor": "white",
             "linecolor": "white",
             "minorgridcolor": "white",
             "startlinecolor": "#2a3f5f"
            },
            "baxis": {
             "endlinecolor": "#2a3f5f",
             "gridcolor": "white",
             "linecolor": "white",
             "minorgridcolor": "white",
             "startlinecolor": "#2a3f5f"
            },
            "type": "carpet"
           }
          ],
          "choropleth": [
           {
            "colorbar": {
             "outlinewidth": 0,
             "ticks": ""
            },
            "type": "choropleth"
           }
          ],
          "contour": [
           {
            "colorbar": {
             "outlinewidth": 0,
             "ticks": ""
            },
            "colorscale": [
             [
              0,
              "#0d0887"
             ],
             [
              0.1111111111111111,
              "#46039f"
             ],
             [
              0.2222222222222222,
              "#7201a8"
             ],
             [
              0.3333333333333333,
              "#9c179e"
             ],
             [
              0.4444444444444444,
              "#bd3786"
             ],
             [
              0.5555555555555556,
              "#d8576b"
             ],
             [
              0.6666666666666666,
              "#ed7953"
             ],
             [
              0.7777777777777778,
              "#fb9f3a"
             ],
             [
              0.8888888888888888,
              "#fdca26"
             ],
             [
              1,
              "#f0f921"
             ]
            ],
            "type": "contour"
           }
          ],
          "contourcarpet": [
           {
            "colorbar": {
             "outlinewidth": 0,
             "ticks": ""
            },
            "type": "contourcarpet"
           }
          ],
          "heatmap": [
           {
            "colorbar": {
             "outlinewidth": 0,
             "ticks": ""
            },
            "colorscale": [
             [
              0,
              "#0d0887"
             ],
             [
              0.1111111111111111,
              "#46039f"
             ],
             [
              0.2222222222222222,
              "#7201a8"
             ],
             [
              0.3333333333333333,
              "#9c179e"
             ],
             [
              0.4444444444444444,
              "#bd3786"
             ],
             [
              0.5555555555555556,
              "#d8576b"
             ],
             [
              0.6666666666666666,
              "#ed7953"
             ],
             [
              0.7777777777777778,
              "#fb9f3a"
             ],
             [
              0.8888888888888888,
              "#fdca26"
             ],
             [
              1,
              "#f0f921"
             ]
            ],
            "type": "heatmap"
           }
          ],
          "heatmapgl": [
           {
            "colorbar": {
             "outlinewidth": 0,
             "ticks": ""
            },
            "colorscale": [
             [
              0,
              "#0d0887"
             ],
             [
              0.1111111111111111,
              "#46039f"
             ],
             [
              0.2222222222222222,
              "#7201a8"
             ],
             [
              0.3333333333333333,
              "#9c179e"
             ],
             [
              0.4444444444444444,
              "#bd3786"
             ],
             [
              0.5555555555555556,
              "#d8576b"
             ],
             [
              0.6666666666666666,
              "#ed7953"
             ],
             [
              0.7777777777777778,
              "#fb9f3a"
             ],
             [
              0.8888888888888888,
              "#fdca26"
             ],
             [
              1,
              "#f0f921"
             ]
            ],
            "type": "heatmapgl"
           }
          ],
          "histogram": [
           {
            "marker": {
             "pattern": {
              "fillmode": "overlay",
              "size": 10,
              "solidity": 0.2
             }
            },
            "type": "histogram"
           }
          ],
          "histogram2d": [
           {
            "colorbar": {
             "outlinewidth": 0,
             "ticks": ""
            },
            "colorscale": [
             [
              0,
              "#0d0887"
             ],
             [
              0.1111111111111111,
              "#46039f"
             ],
             [
              0.2222222222222222,
              "#7201a8"
             ],
             [
              0.3333333333333333,
              "#9c179e"
             ],
             [
              0.4444444444444444,
              "#bd3786"
             ],
             [
              0.5555555555555556,
              "#d8576b"
             ],
             [
              0.6666666666666666,
              "#ed7953"
             ],
             [
              0.7777777777777778,
              "#fb9f3a"
             ],
             [
              0.8888888888888888,
              "#fdca26"
             ],
             [
              1,
              "#f0f921"
             ]
            ],
            "type": "histogram2d"
           }
          ],
          "histogram2dcontour": [
           {
            "colorbar": {
             "outlinewidth": 0,
             "ticks": ""
            },
            "colorscale": [
             [
              0,
              "#0d0887"
             ],
             [
              0.1111111111111111,
              "#46039f"
             ],
             [
              0.2222222222222222,
              "#7201a8"
             ],
             [
              0.3333333333333333,
              "#9c179e"
             ],
             [
              0.4444444444444444,
              "#bd3786"
             ],
             [
              0.5555555555555556,
              "#d8576b"
             ],
             [
              0.6666666666666666,
              "#ed7953"
             ],
             [
              0.7777777777777778,
              "#fb9f3a"
             ],
             [
              0.8888888888888888,
              "#fdca26"
             ],
             [
              1,
              "#f0f921"
             ]
            ],
            "type": "histogram2dcontour"
           }
          ],
          "mesh3d": [
           {
            "colorbar": {
             "outlinewidth": 0,
             "ticks": ""
            },
            "type": "mesh3d"
           }
          ],
          "parcoords": [
           {
            "line": {
             "colorbar": {
              "outlinewidth": 0,
              "ticks": ""
             }
            },
            "type": "parcoords"
           }
          ],
          "pie": [
           {
            "automargin": true,
            "type": "pie"
           }
          ],
          "scatter": [
           {
            "fillpattern": {
             "fillmode": "overlay",
             "size": 10,
             "solidity": 0.2
            },
            "type": "scatter"
           }
          ],
          "scatter3d": [
           {
            "line": {
             "colorbar": {
              "outlinewidth": 0,
              "ticks": ""
             }
            },
            "marker": {
             "colorbar": {
              "outlinewidth": 0,
              "ticks": ""
             }
            },
            "type": "scatter3d"
           }
          ],
          "scattercarpet": [
           {
            "marker": {
             "colorbar": {
              "outlinewidth": 0,
              "ticks": ""
             }
            },
            "type": "scattercarpet"
           }
          ],
          "scattergeo": [
           {
            "marker": {
             "colorbar": {
              "outlinewidth": 0,
              "ticks": ""
             }
            },
            "type": "scattergeo"
           }
          ],
          "scattergl": [
           {
            "marker": {
             "colorbar": {
              "outlinewidth": 0,
              "ticks": ""
             }
            },
            "type": "scattergl"
           }
          ],
          "scattermapbox": [
           {
            "marker": {
             "colorbar": {
              "outlinewidth": 0,
              "ticks": ""
             }
            },
            "type": "scattermapbox"
           }
          ],
          "scatterpolar": [
           {
            "marker": {
             "colorbar": {
              "outlinewidth": 0,
              "ticks": ""
             }
            },
            "type": "scatterpolar"
           }
          ],
          "scatterpolargl": [
           {
            "marker": {
             "colorbar": {
              "outlinewidth": 0,
              "ticks": ""
             }
            },
            "type": "scatterpolargl"
           }
          ],
          "scatterternary": [
           {
            "marker": {
             "colorbar": {
              "outlinewidth": 0,
              "ticks": ""
             }
            },
            "type": "scatterternary"
           }
          ],
          "surface": [
           {
            "colorbar": {
             "outlinewidth": 0,
             "ticks": ""
            },
            "colorscale": [
             [
              0,
              "#0d0887"
             ],
             [
              0.1111111111111111,
              "#46039f"
             ],
             [
              0.2222222222222222,
              "#7201a8"
             ],
             [
              0.3333333333333333,
              "#9c179e"
             ],
             [
              0.4444444444444444,
              "#bd3786"
             ],
             [
              0.5555555555555556,
              "#d8576b"
             ],
             [
              0.6666666666666666,
              "#ed7953"
             ],
             [
              0.7777777777777778,
              "#fb9f3a"
             ],
             [
              0.8888888888888888,
              "#fdca26"
             ],
             [
              1,
              "#f0f921"
             ]
            ],
            "type": "surface"
           }
          ],
          "table": [
           {
            "cells": {
             "fill": {
              "color": "#EBF0F8"
             },
             "line": {
              "color": "white"
             }
            },
            "header": {
             "fill": {
              "color": "#C8D4E3"
             },
             "line": {
              "color": "white"
             }
            },
            "type": "table"
           }
          ]
         },
         "layout": {
          "annotationdefaults": {
           "arrowcolor": "#2a3f5f",
           "arrowhead": 0,
           "arrowwidth": 1
          },
          "autotypenumbers": "strict",
          "coloraxis": {
           "colorbar": {
            "outlinewidth": 0,
            "ticks": ""
           }
          },
          "colorscale": {
           "diverging": [
            [
             0,
             "#8e0152"
            ],
            [
             0.1,
             "#c51b7d"
            ],
            [
             0.2,
             "#de77ae"
            ],
            [
             0.3,
             "#f1b6da"
            ],
            [
             0.4,
             "#fde0ef"
            ],
            [
             0.5,
             "#f7f7f7"
            ],
            [
             0.6,
             "#e6f5d0"
            ],
            [
             0.7,
             "#b8e186"
            ],
            [
             0.8,
             "#7fbc41"
            ],
            [
             0.9,
             "#4d9221"
            ],
            [
             1,
             "#276419"
            ]
           ],
           "sequential": [
            [
             0,
             "#0d0887"
            ],
            [
             0.1111111111111111,
             "#46039f"
            ],
            [
             0.2222222222222222,
             "#7201a8"
            ],
            [
             0.3333333333333333,
             "#9c179e"
            ],
            [
             0.4444444444444444,
             "#bd3786"
            ],
            [
             0.5555555555555556,
             "#d8576b"
            ],
            [
             0.6666666666666666,
             "#ed7953"
            ],
            [
             0.7777777777777778,
             "#fb9f3a"
            ],
            [
             0.8888888888888888,
             "#fdca26"
            ],
            [
             1,
             "#f0f921"
            ]
           ],
           "sequentialminus": [
            [
             0,
             "#0d0887"
            ],
            [
             0.1111111111111111,
             "#46039f"
            ],
            [
             0.2222222222222222,
             "#7201a8"
            ],
            [
             0.3333333333333333,
             "#9c179e"
            ],
            [
             0.4444444444444444,
             "#bd3786"
            ],
            [
             0.5555555555555556,
             "#d8576b"
            ],
            [
             0.6666666666666666,
             "#ed7953"
            ],
            [
             0.7777777777777778,
             "#fb9f3a"
            ],
            [
             0.8888888888888888,
             "#fdca26"
            ],
            [
             1,
             "#f0f921"
            ]
           ]
          },
          "colorway": [
           "#636efa",
           "#EF553B",
           "#00cc96",
           "#ab63fa",
           "#FFA15A",
           "#19d3f3",
           "#FF6692",
           "#B6E880",
           "#FF97FF",
           "#FECB52"
          ],
          "font": {
           "color": "#2a3f5f"
          },
          "geo": {
           "bgcolor": "white",
           "lakecolor": "white",
           "landcolor": "#E5ECF6",
           "showlakes": true,
           "showland": true,
           "subunitcolor": "white"
          },
          "hoverlabel": {
           "align": "left"
          },
          "hovermode": "closest",
          "mapbox": {
           "style": "light"
          },
          "paper_bgcolor": "white",
          "plot_bgcolor": "#E5ECF6",
          "polar": {
           "angularaxis": {
            "gridcolor": "white",
            "linecolor": "white",
            "ticks": ""
           },
           "bgcolor": "#E5ECF6",
           "radialaxis": {
            "gridcolor": "white",
            "linecolor": "white",
            "ticks": ""
           }
          },
          "scene": {
           "xaxis": {
            "backgroundcolor": "#E5ECF6",
            "gridcolor": "white",
            "gridwidth": 2,
            "linecolor": "white",
            "showbackground": true,
            "ticks": "",
            "zerolinecolor": "white"
           },
           "yaxis": {
            "backgroundcolor": "#E5ECF6",
            "gridcolor": "white",
            "gridwidth": 2,
            "linecolor": "white",
            "showbackground": true,
            "ticks": "",
            "zerolinecolor": "white"
           },
           "zaxis": {
            "backgroundcolor": "#E5ECF6",
            "gridcolor": "white",
            "gridwidth": 2,
            "linecolor": "white",
            "showbackground": true,
            "ticks": "",
            "zerolinecolor": "white"
           }
          },
          "shapedefaults": {
           "line": {
            "color": "#2a3f5f"
           }
          },
          "ternary": {
           "aaxis": {
            "gridcolor": "white",
            "linecolor": "white",
            "ticks": ""
           },
           "baxis": {
            "gridcolor": "white",
            "linecolor": "white",
            "ticks": ""
           },
           "bgcolor": "#E5ECF6",
           "caxis": {
            "gridcolor": "white",
            "linecolor": "white",
            "ticks": ""
           }
          },
          "title": {
           "x": 0.05
          },
          "xaxis": {
           "automargin": true,
           "gridcolor": "white",
           "linecolor": "white",
           "ticks": "",
           "title": {
            "standoff": 15
           },
           "zerolinecolor": "white",
           "zerolinewidth": 2
          },
          "yaxis": {
           "automargin": true,
           "gridcolor": "white",
           "linecolor": "white",
           "ticks": "",
           "title": {
            "standoff": 15
           },
           "zerolinecolor": "white",
           "zerolinewidth": 2
          }
         }
        },
        "title": {
         "text": "Correlation Heatmap"
        },
        "width": 800
       }
      },
      "text/html": [
       "<div>                            <div id=\"c1c750f9-1528-4c93-9bf1-684f1eb82c16\" class=\"plotly-graph-div\" style=\"height:600px; width:800px;\"></div>            <script type=\"text/javascript\">                require([\"plotly\"], function(Plotly) {                    window.PLOTLYENV=window.PLOTLYENV || {};                                    if (document.getElementById(\"c1c750f9-1528-4c93-9bf1-684f1eb82c16\")) {                    Plotly.newPlot(                        \"c1c750f9-1528-4c93-9bf1-684f1eb82c16\",                        [{\"colorscale\":[[0.0,\"rgb(103,0,31)\"],[0.1,\"rgb(178,24,43)\"],[0.2,\"rgb(214,96,77)\"],[0.3,\"rgb(244,165,130)\"],[0.4,\"rgb(253,219,199)\"],[0.5,\"rgb(247,247,247)\"],[0.6,\"rgb(209,229,240)\"],[0.7,\"rgb(146,197,222)\"],[0.8,\"rgb(67,147,195)\"],[0.9,\"rgb(33,102,172)\"],[1.0,\"rgb(5,48,97)\"]],\"x\":[\"ID\",\"Experience (Years)\",\"Log_Salary\",\"Experience_Years\",\"Experience_Years^2\",\"Experience_Gender_M\"],\"y\":[\"ID\",\"Experience (Years)\",\"Log_Salary\",\"Experience_Years\",\"Experience_Years^2\",\"Experience_Gender_M\"],\"z\":[[1.0,0.06730472223896118,0.017153651421754464,0.06730472223896268,0.06403949550005343,0.03210768887246326],[0.06730472223896118,1.0,0.6232006864528853,0.9999999999999994,0.9652919953249604,0.46000043794320494],[0.017153651421754464,0.6232006864528853,1.0,0.6232006864528852,0.5815874830063756,0.2921699527502382],[0.06730472223896268,0.9999999999999994,0.6232006864528852,1.0,0.9652919953249598,0.46000043794320455],[0.06403949550005343,0.9652919953249604,0.5815874830063756,0.9652919953249598,1.0,0.44055308979251534],[0.03210768887246326,0.46000043794320494,0.2921699527502382,0.46000043794320455,0.44055308979251534,1.0]],\"zmax\":1,\"zmin\":-1,\"type\":\"heatmap\"}],                        {\"template\":{\"data\":{\"histogram2dcontour\":[{\"type\":\"histogram2dcontour\",\"colorbar\":{\"outlinewidth\":0,\"ticks\":\"\"},\"colorscale\":[[0.0,\"#0d0887\"],[0.1111111111111111,\"#46039f\"],[0.2222222222222222,\"#7201a8\"],[0.3333333333333333,\"#9c179e\"],[0.4444444444444444,\"#bd3786\"],[0.5555555555555556,\"#d8576b\"],[0.6666666666666666,\"#ed7953\"],[0.7777777777777778,\"#fb9f3a\"],[0.8888888888888888,\"#fdca26\"],[1.0,\"#f0f921\"]]}],\"choropleth\":[{\"type\":\"choropleth\",\"colorbar\":{\"outlinewidth\":0,\"ticks\":\"\"}}],\"histogram2d\":[{\"type\":\"histogram2d\",\"colorbar\":{\"outlinewidth\":0,\"ticks\":\"\"},\"colorscale\":[[0.0,\"#0d0887\"],[0.1111111111111111,\"#46039f\"],[0.2222222222222222,\"#7201a8\"],[0.3333333333333333,\"#9c179e\"],[0.4444444444444444,\"#bd3786\"],[0.5555555555555556,\"#d8576b\"],[0.6666666666666666,\"#ed7953\"],[0.7777777777777778,\"#fb9f3a\"],[0.8888888888888888,\"#fdca26\"],[1.0,\"#f0f921\"]]}],\"heatmap\":[{\"type\":\"heatmap\",\"colorbar\":{\"outlinewidth\":0,\"ticks\":\"\"},\"colorscale\":[[0.0,\"#0d0887\"],[0.1111111111111111,\"#46039f\"],[0.2222222222222222,\"#7201a8\"],[0.3333333333333333,\"#9c179e\"],[0.4444444444444444,\"#bd3786\"],[0.5555555555555556,\"#d8576b\"],[0.6666666666666666,\"#ed7953\"],[0.7777777777777778,\"#fb9f3a\"],[0.8888888888888888,\"#fdca26\"],[1.0,\"#f0f921\"]]}],\"heatmapgl\":[{\"type\":\"heatmapgl\",\"colorbar\":{\"outlinewidth\":0,\"ticks\":\"\"},\"colorscale\":[[0.0,\"#0d0887\"],[0.1111111111111111,\"#46039f\"],[0.2222222222222222,\"#7201a8\"],[0.3333333333333333,\"#9c179e\"],[0.4444444444444444,\"#bd3786\"],[0.5555555555555556,\"#d8576b\"],[0.6666666666666666,\"#ed7953\"],[0.7777777777777778,\"#fb9f3a\"],[0.8888888888888888,\"#fdca26\"],[1.0,\"#f0f921\"]]}],\"contourcarpet\":[{\"type\":\"contourcarpet\",\"colorbar\":{\"outlinewidth\":0,\"ticks\":\"\"}}],\"contour\":[{\"type\":\"contour\",\"colorbar\":{\"outlinewidth\":0,\"ticks\":\"\"},\"colorscale\":[[0.0,\"#0d0887\"],[0.1111111111111111,\"#46039f\"],[0.2222222222222222,\"#7201a8\"],[0.3333333333333333,\"#9c179e\"],[0.4444444444444444,\"#bd3786\"],[0.5555555555555556,\"#d8576b\"],[0.6666666666666666,\"#ed7953\"],[0.7777777777777778,\"#fb9f3a\"],[0.8888888888888888,\"#fdca26\"],[1.0,\"#f0f921\"]]}],\"surface\":[{\"type\":\"surface\",\"colorbar\":{\"outlinewidth\":0,\"ticks\":\"\"},\"colorscale\":[[0.0,\"#0d0887\"],[0.1111111111111111,\"#46039f\"],[0.2222222222222222,\"#7201a8\"],[0.3333333333333333,\"#9c179e\"],[0.4444444444444444,\"#bd3786\"],[0.5555555555555556,\"#d8576b\"],[0.6666666666666666,\"#ed7953\"],[0.7777777777777778,\"#fb9f3a\"],[0.8888888888888888,\"#fdca26\"],[1.0,\"#f0f921\"]]}],\"mesh3d\":[{\"type\":\"mesh3d\",\"colorbar\":{\"outlinewidth\":0,\"ticks\":\"\"}}],\"scatter\":[{\"fillpattern\":{\"fillmode\":\"overlay\",\"size\":10,\"solidity\":0.2},\"type\":\"scatter\"}],\"parcoords\":[{\"type\":\"parcoords\",\"line\":{\"colorbar\":{\"outlinewidth\":0,\"ticks\":\"\"}}}],\"scatterpolargl\":[{\"type\":\"scatterpolargl\",\"marker\":{\"colorbar\":{\"outlinewidth\":0,\"ticks\":\"\"}}}],\"bar\":[{\"error_x\":{\"color\":\"#2a3f5f\"},\"error_y\":{\"color\":\"#2a3f5f\"},\"marker\":{\"line\":{\"color\":\"#E5ECF6\",\"width\":0.5},\"pattern\":{\"fillmode\":\"overlay\",\"size\":10,\"solidity\":0.2}},\"type\":\"bar\"}],\"scattergeo\":[{\"type\":\"scattergeo\",\"marker\":{\"colorbar\":{\"outlinewidth\":0,\"ticks\":\"\"}}}],\"scatterpolar\":[{\"type\":\"scatterpolar\",\"marker\":{\"colorbar\":{\"outlinewidth\":0,\"ticks\":\"\"}}}],\"histogram\":[{\"marker\":{\"pattern\":{\"fillmode\":\"overlay\",\"size\":10,\"solidity\":0.2}},\"type\":\"histogram\"}],\"scattergl\":[{\"type\":\"scattergl\",\"marker\":{\"colorbar\":{\"outlinewidth\":0,\"ticks\":\"\"}}}],\"scatter3d\":[{\"type\":\"scatter3d\",\"line\":{\"colorbar\":{\"outlinewidth\":0,\"ticks\":\"\"}},\"marker\":{\"colorbar\":{\"outlinewidth\":0,\"ticks\":\"\"}}}],\"scattermapbox\":[{\"type\":\"scattermapbox\",\"marker\":{\"colorbar\":{\"outlinewidth\":0,\"ticks\":\"\"}}}],\"scatterternary\":[{\"type\":\"scatterternary\",\"marker\":{\"colorbar\":{\"outlinewidth\":0,\"ticks\":\"\"}}}],\"scattercarpet\":[{\"type\":\"scattercarpet\",\"marker\":{\"colorbar\":{\"outlinewidth\":0,\"ticks\":\"\"}}}],\"carpet\":[{\"aaxis\":{\"endlinecolor\":\"#2a3f5f\",\"gridcolor\":\"white\",\"linecolor\":\"white\",\"minorgridcolor\":\"white\",\"startlinecolor\":\"#2a3f5f\"},\"baxis\":{\"endlinecolor\":\"#2a3f5f\",\"gridcolor\":\"white\",\"linecolor\":\"white\",\"minorgridcolor\":\"white\",\"startlinecolor\":\"#2a3f5f\"},\"type\":\"carpet\"}],\"table\":[{\"cells\":{\"fill\":{\"color\":\"#EBF0F8\"},\"line\":{\"color\":\"white\"}},\"header\":{\"fill\":{\"color\":\"#C8D4E3\"},\"line\":{\"color\":\"white\"}},\"type\":\"table\"}],\"barpolar\":[{\"marker\":{\"line\":{\"color\":\"#E5ECF6\",\"width\":0.5},\"pattern\":{\"fillmode\":\"overlay\",\"size\":10,\"solidity\":0.2}},\"type\":\"barpolar\"}],\"pie\":[{\"automargin\":true,\"type\":\"pie\"}]},\"layout\":{\"autotypenumbers\":\"strict\",\"colorway\":[\"#636efa\",\"#EF553B\",\"#00cc96\",\"#ab63fa\",\"#FFA15A\",\"#19d3f3\",\"#FF6692\",\"#B6E880\",\"#FF97FF\",\"#FECB52\"],\"font\":{\"color\":\"#2a3f5f\"},\"hovermode\":\"closest\",\"hoverlabel\":{\"align\":\"left\"},\"paper_bgcolor\":\"white\",\"plot_bgcolor\":\"#E5ECF6\",\"polar\":{\"bgcolor\":\"#E5ECF6\",\"angularaxis\":{\"gridcolor\":\"white\",\"linecolor\":\"white\",\"ticks\":\"\"},\"radialaxis\":{\"gridcolor\":\"white\",\"linecolor\":\"white\",\"ticks\":\"\"}},\"ternary\":{\"bgcolor\":\"#E5ECF6\",\"aaxis\":{\"gridcolor\":\"white\",\"linecolor\":\"white\",\"ticks\":\"\"},\"baxis\":{\"gridcolor\":\"white\",\"linecolor\":\"white\",\"ticks\":\"\"},\"caxis\":{\"gridcolor\":\"white\",\"linecolor\":\"white\",\"ticks\":\"\"}},\"coloraxis\":{\"colorbar\":{\"outlinewidth\":0,\"ticks\":\"\"}},\"colorscale\":{\"sequential\":[[0.0,\"#0d0887\"],[0.1111111111111111,\"#46039f\"],[0.2222222222222222,\"#7201a8\"],[0.3333333333333333,\"#9c179e\"],[0.4444444444444444,\"#bd3786\"],[0.5555555555555556,\"#d8576b\"],[0.6666666666666666,\"#ed7953\"],[0.7777777777777778,\"#fb9f3a\"],[0.8888888888888888,\"#fdca26\"],[1.0,\"#f0f921\"]],\"sequentialminus\":[[0.0,\"#0d0887\"],[0.1111111111111111,\"#46039f\"],[0.2222222222222222,\"#7201a8\"],[0.3333333333333333,\"#9c179e\"],[0.4444444444444444,\"#bd3786\"],[0.5555555555555556,\"#d8576b\"],[0.6666666666666666,\"#ed7953\"],[0.7777777777777778,\"#fb9f3a\"],[0.8888888888888888,\"#fdca26\"],[1.0,\"#f0f921\"]],\"diverging\":[[0,\"#8e0152\"],[0.1,\"#c51b7d\"],[0.2,\"#de77ae\"],[0.3,\"#f1b6da\"],[0.4,\"#fde0ef\"],[0.5,\"#f7f7f7\"],[0.6,\"#e6f5d0\"],[0.7,\"#b8e186\"],[0.8,\"#7fbc41\"],[0.9,\"#4d9221\"],[1,\"#276419\"]]},\"xaxis\":{\"gridcolor\":\"white\",\"linecolor\":\"white\",\"ticks\":\"\",\"title\":{\"standoff\":15},\"zerolinecolor\":\"white\",\"automargin\":true,\"zerolinewidth\":2},\"yaxis\":{\"gridcolor\":\"white\",\"linecolor\":\"white\",\"ticks\":\"\",\"title\":{\"standoff\":15},\"zerolinecolor\":\"white\",\"automargin\":true,\"zerolinewidth\":2},\"scene\":{\"xaxis\":{\"backgroundcolor\":\"#E5ECF6\",\"gridcolor\":\"white\",\"linecolor\":\"white\",\"showbackground\":true,\"ticks\":\"\",\"zerolinecolor\":\"white\",\"gridwidth\":2},\"yaxis\":{\"backgroundcolor\":\"#E5ECF6\",\"gridcolor\":\"white\",\"linecolor\":\"white\",\"showbackground\":true,\"ticks\":\"\",\"zerolinecolor\":\"white\",\"gridwidth\":2},\"zaxis\":{\"backgroundcolor\":\"#E5ECF6\",\"gridcolor\":\"white\",\"linecolor\":\"white\",\"showbackground\":true,\"ticks\":\"\",\"zerolinecolor\":\"white\",\"gridwidth\":2}},\"shapedefaults\":{\"line\":{\"color\":\"#2a3f5f\"}},\"annotationdefaults\":{\"arrowcolor\":\"#2a3f5f\",\"arrowhead\":0,\"arrowwidth\":1},\"geo\":{\"bgcolor\":\"white\",\"landcolor\":\"#E5ECF6\",\"subunitcolor\":\"white\",\"showland\":true,\"showlakes\":true,\"lakecolor\":\"white\"},\"title\":{\"x\":0.05},\"mapbox\":{\"style\":\"light\"}}},\"title\":{\"text\":\"Correlation Heatmap\"},\"height\":600,\"width\":800},                        {\"responsive\": true}                    ).then(function(){\n",
       "                            \n",
       "var gd = document.getElementById('c1c750f9-1528-4c93-9bf1-684f1eb82c16');\n",
       "var x = new MutationObserver(function (mutations, observer) {{\n",
       "        var display = window.getComputedStyle(gd).display;\n",
       "        if (!display || display === 'none') {{\n",
       "            console.log([gd, 'removed!']);\n",
       "            Plotly.purge(gd);\n",
       "            observer.disconnect();\n",
       "        }}\n",
       "}});\n",
       "\n",
       "// Listen for the removal of the full notebook cells\n",
       "var notebookContainer = gd.closest('#notebook-container');\n",
       "if (notebookContainer) {{\n",
       "    x.observe(notebookContainer, {childList: true});\n",
       "}}\n",
       "\n",
       "// Listen for the clearing of the current output cell\n",
       "var outputEl = gd.closest('.output');\n",
       "if (outputEl) {{\n",
       "    x.observe(outputEl, {childList: true});\n",
       "}}\n",
       "\n",
       "                        })                };                });            </script>        </div>"
      ]
     },
     "metadata": {},
     "output_type": "display_data"
    }
   ],
   "source": [
    "numeric_cols = df.select_dtypes(include=['float64', 'int64']).columns\n",
    "correlation_matrix = df[numeric_cols].corr()\n",
    "\n",
    "fig = go.Figure(data=go.Heatmap(\n",
    "                z=correlation_matrix,\n",
    "                x=correlation_matrix.columns,\n",
    "                y=correlation_matrix.columns,\n",
    "                colorscale='RdBu',\n",
    "                zmin=-1, zmax=1))\n",
    "\n",
    "fig.update_layout(title='Correlation Heatmap',\n",
    "                  height=600, width=800)\n",
    "fig.show()"
   ]
  },
  {
   "cell_type": "markdown",
   "metadata": {},
   "source": [
    "#### A bar chart to show the average salary distribution across different positions and genders."
   ]
  },
  {
   "cell_type": "code",
   "execution_count": 24,
   "metadata": {},
   "outputs": [
    {
     "data": {
      "application/vnd.plotly.v1+json": {
       "config": {
        "plotlyServerURL": "https://plot.ly"
       },
       "data": [
        {
         "alignmentgroup": "True",
         "hovertemplate": "Gender=F<br>Position=%{x}<br>Log_Salary=%{y}<extra></extra>",
         "legendgroup": "F",
         "marker": {
          "color": "#636efa",
          "pattern": {
           "shape": ""
          }
         },
         "name": "F",
         "offsetgroup": "F",
         "orientation": "v",
         "showlegend": true,
         "textposition": "auto",
         "type": "bar",
         "x": [
          "Cloud Solutions Architect",
          "Database Administrator (DBA)",
          "DevOps Engineer",
          "IT Manager",
          "IT Security Analyst",
          "IT Support Specialist",
          "Network Administrator",
          "Software Engineer",
          "Systems Administrator",
          "Systems Analyst",
          "Web Developer"
         ],
         "xaxis": "x",
         "y": [
          0.6271209628657939,
          0.1803532539901594,
          0.7601950122490125,
          0.7314522680697749,
          0.4069541936165764,
          -1.1655184019360105,
          -0.13253867491193366,
          -0.141830073819925,
          -0.2883182955702016,
          -0.06641909987677437,
          -0.5408038585921455
         ],
         "yaxis": "y"
        },
        {
         "alignmentgroup": "True",
         "hovertemplate": "Gender=M<br>Position=%{x}<br>Log_Salary=%{y}<extra></extra>",
         "legendgroup": "M",
         "marker": {
          "color": "#EF553B",
          "pattern": {
           "shape": ""
          }
         },
         "name": "M",
         "offsetgroup": "M",
         "orientation": "v",
         "showlegend": true,
         "textposition": "auto",
         "type": "bar",
         "x": [
          "Cloud Solutions Architect",
          "Database Administrator (DBA)",
          "DevOps Engineer",
          "IT Manager",
          "IT Security Analyst",
          "IT Support Specialist",
          "Network Administrator",
          "Software Engineer",
          "Systems Administrator",
          "Systems Analyst",
          "Web Developer"
         ],
         "xaxis": "x",
         "y": [
          0.6574290583637009,
          0.042942562579380665,
          0.6344181618081002,
          0.9264079309765643,
          -0.13175405206823057,
          -1.1456867127640769,
          -0.4202828241218006,
          0.1978025142971811,
          -0.5154517987151411,
          -0.04110436496954438,
          -0.5955251877169773
         ],
         "yaxis": "y"
        }
       ],
       "layout": {
        "barmode": "group",
        "height": 600,
        "legend": {
         "title": {
          "text": "Gender"
         },
         "tracegroupgap": 0
        },
        "template": {
         "data": {
          "bar": [
           {
            "error_x": {
             "color": "#2a3f5f"
            },
            "error_y": {
             "color": "#2a3f5f"
            },
            "marker": {
             "line": {
              "color": "#E5ECF6",
              "width": 0.5
             },
             "pattern": {
              "fillmode": "overlay",
              "size": 10,
              "solidity": 0.2
             }
            },
            "type": "bar"
           }
          ],
          "barpolar": [
           {
            "marker": {
             "line": {
              "color": "#E5ECF6",
              "width": 0.5
             },
             "pattern": {
              "fillmode": "overlay",
              "size": 10,
              "solidity": 0.2
             }
            },
            "type": "barpolar"
           }
          ],
          "carpet": [
           {
            "aaxis": {
             "endlinecolor": "#2a3f5f",
             "gridcolor": "white",
             "linecolor": "white",
             "minorgridcolor": "white",
             "startlinecolor": "#2a3f5f"
            },
            "baxis": {
             "endlinecolor": "#2a3f5f",
             "gridcolor": "white",
             "linecolor": "white",
             "minorgridcolor": "white",
             "startlinecolor": "#2a3f5f"
            },
            "type": "carpet"
           }
          ],
          "choropleth": [
           {
            "colorbar": {
             "outlinewidth": 0,
             "ticks": ""
            },
            "type": "choropleth"
           }
          ],
          "contour": [
           {
            "colorbar": {
             "outlinewidth": 0,
             "ticks": ""
            },
            "colorscale": [
             [
              0,
              "#0d0887"
             ],
             [
              0.1111111111111111,
              "#46039f"
             ],
             [
              0.2222222222222222,
              "#7201a8"
             ],
             [
              0.3333333333333333,
              "#9c179e"
             ],
             [
              0.4444444444444444,
              "#bd3786"
             ],
             [
              0.5555555555555556,
              "#d8576b"
             ],
             [
              0.6666666666666666,
              "#ed7953"
             ],
             [
              0.7777777777777778,
              "#fb9f3a"
             ],
             [
              0.8888888888888888,
              "#fdca26"
             ],
             [
              1,
              "#f0f921"
             ]
            ],
            "type": "contour"
           }
          ],
          "contourcarpet": [
           {
            "colorbar": {
             "outlinewidth": 0,
             "ticks": ""
            },
            "type": "contourcarpet"
           }
          ],
          "heatmap": [
           {
            "colorbar": {
             "outlinewidth": 0,
             "ticks": ""
            },
            "colorscale": [
             [
              0,
              "#0d0887"
             ],
             [
              0.1111111111111111,
              "#46039f"
             ],
             [
              0.2222222222222222,
              "#7201a8"
             ],
             [
              0.3333333333333333,
              "#9c179e"
             ],
             [
              0.4444444444444444,
              "#bd3786"
             ],
             [
              0.5555555555555556,
              "#d8576b"
             ],
             [
              0.6666666666666666,
              "#ed7953"
             ],
             [
              0.7777777777777778,
              "#fb9f3a"
             ],
             [
              0.8888888888888888,
              "#fdca26"
             ],
             [
              1,
              "#f0f921"
             ]
            ],
            "type": "heatmap"
           }
          ],
          "heatmapgl": [
           {
            "colorbar": {
             "outlinewidth": 0,
             "ticks": ""
            },
            "colorscale": [
             [
              0,
              "#0d0887"
             ],
             [
              0.1111111111111111,
              "#46039f"
             ],
             [
              0.2222222222222222,
              "#7201a8"
             ],
             [
              0.3333333333333333,
              "#9c179e"
             ],
             [
              0.4444444444444444,
              "#bd3786"
             ],
             [
              0.5555555555555556,
              "#d8576b"
             ],
             [
              0.6666666666666666,
              "#ed7953"
             ],
             [
              0.7777777777777778,
              "#fb9f3a"
             ],
             [
              0.8888888888888888,
              "#fdca26"
             ],
             [
              1,
              "#f0f921"
             ]
            ],
            "type": "heatmapgl"
           }
          ],
          "histogram": [
           {
            "marker": {
             "pattern": {
              "fillmode": "overlay",
              "size": 10,
              "solidity": 0.2
             }
            },
            "type": "histogram"
           }
          ],
          "histogram2d": [
           {
            "colorbar": {
             "outlinewidth": 0,
             "ticks": ""
            },
            "colorscale": [
             [
              0,
              "#0d0887"
             ],
             [
              0.1111111111111111,
              "#46039f"
             ],
             [
              0.2222222222222222,
              "#7201a8"
             ],
             [
              0.3333333333333333,
              "#9c179e"
             ],
             [
              0.4444444444444444,
              "#bd3786"
             ],
             [
              0.5555555555555556,
              "#d8576b"
             ],
             [
              0.6666666666666666,
              "#ed7953"
             ],
             [
              0.7777777777777778,
              "#fb9f3a"
             ],
             [
              0.8888888888888888,
              "#fdca26"
             ],
             [
              1,
              "#f0f921"
             ]
            ],
            "type": "histogram2d"
           }
          ],
          "histogram2dcontour": [
           {
            "colorbar": {
             "outlinewidth": 0,
             "ticks": ""
            },
            "colorscale": [
             [
              0,
              "#0d0887"
             ],
             [
              0.1111111111111111,
              "#46039f"
             ],
             [
              0.2222222222222222,
              "#7201a8"
             ],
             [
              0.3333333333333333,
              "#9c179e"
             ],
             [
              0.4444444444444444,
              "#bd3786"
             ],
             [
              0.5555555555555556,
              "#d8576b"
             ],
             [
              0.6666666666666666,
              "#ed7953"
             ],
             [
              0.7777777777777778,
              "#fb9f3a"
             ],
             [
              0.8888888888888888,
              "#fdca26"
             ],
             [
              1,
              "#f0f921"
             ]
            ],
            "type": "histogram2dcontour"
           }
          ],
          "mesh3d": [
           {
            "colorbar": {
             "outlinewidth": 0,
             "ticks": ""
            },
            "type": "mesh3d"
           }
          ],
          "parcoords": [
           {
            "line": {
             "colorbar": {
              "outlinewidth": 0,
              "ticks": ""
             }
            },
            "type": "parcoords"
           }
          ],
          "pie": [
           {
            "automargin": true,
            "type": "pie"
           }
          ],
          "scatter": [
           {
            "fillpattern": {
             "fillmode": "overlay",
             "size": 10,
             "solidity": 0.2
            },
            "type": "scatter"
           }
          ],
          "scatter3d": [
           {
            "line": {
             "colorbar": {
              "outlinewidth": 0,
              "ticks": ""
             }
            },
            "marker": {
             "colorbar": {
              "outlinewidth": 0,
              "ticks": ""
             }
            },
            "type": "scatter3d"
           }
          ],
          "scattercarpet": [
           {
            "marker": {
             "colorbar": {
              "outlinewidth": 0,
              "ticks": ""
             }
            },
            "type": "scattercarpet"
           }
          ],
          "scattergeo": [
           {
            "marker": {
             "colorbar": {
              "outlinewidth": 0,
              "ticks": ""
             }
            },
            "type": "scattergeo"
           }
          ],
          "scattergl": [
           {
            "marker": {
             "colorbar": {
              "outlinewidth": 0,
              "ticks": ""
             }
            },
            "type": "scattergl"
           }
          ],
          "scattermapbox": [
           {
            "marker": {
             "colorbar": {
              "outlinewidth": 0,
              "ticks": ""
             }
            },
            "type": "scattermapbox"
           }
          ],
          "scatterpolar": [
           {
            "marker": {
             "colorbar": {
              "outlinewidth": 0,
              "ticks": ""
             }
            },
            "type": "scatterpolar"
           }
          ],
          "scatterpolargl": [
           {
            "marker": {
             "colorbar": {
              "outlinewidth": 0,
              "ticks": ""
             }
            },
            "type": "scatterpolargl"
           }
          ],
          "scatterternary": [
           {
            "marker": {
             "colorbar": {
              "outlinewidth": 0,
              "ticks": ""
             }
            },
            "type": "scatterternary"
           }
          ],
          "surface": [
           {
            "colorbar": {
             "outlinewidth": 0,
             "ticks": ""
            },
            "colorscale": [
             [
              0,
              "#0d0887"
             ],
             [
              0.1111111111111111,
              "#46039f"
             ],
             [
              0.2222222222222222,
              "#7201a8"
             ],
             [
              0.3333333333333333,
              "#9c179e"
             ],
             [
              0.4444444444444444,
              "#bd3786"
             ],
             [
              0.5555555555555556,
              "#d8576b"
             ],
             [
              0.6666666666666666,
              "#ed7953"
             ],
             [
              0.7777777777777778,
              "#fb9f3a"
             ],
             [
              0.8888888888888888,
              "#fdca26"
             ],
             [
              1,
              "#f0f921"
             ]
            ],
            "type": "surface"
           }
          ],
          "table": [
           {
            "cells": {
             "fill": {
              "color": "#EBF0F8"
             },
             "line": {
              "color": "white"
             }
            },
            "header": {
             "fill": {
              "color": "#C8D4E3"
             },
             "line": {
              "color": "white"
             }
            },
            "type": "table"
           }
          ]
         },
         "layout": {
          "annotationdefaults": {
           "arrowcolor": "#2a3f5f",
           "arrowhead": 0,
           "arrowwidth": 1
          },
          "autotypenumbers": "strict",
          "coloraxis": {
           "colorbar": {
            "outlinewidth": 0,
            "ticks": ""
           }
          },
          "colorscale": {
           "diverging": [
            [
             0,
             "#8e0152"
            ],
            [
             0.1,
             "#c51b7d"
            ],
            [
             0.2,
             "#de77ae"
            ],
            [
             0.3,
             "#f1b6da"
            ],
            [
             0.4,
             "#fde0ef"
            ],
            [
             0.5,
             "#f7f7f7"
            ],
            [
             0.6,
             "#e6f5d0"
            ],
            [
             0.7,
             "#b8e186"
            ],
            [
             0.8,
             "#7fbc41"
            ],
            [
             0.9,
             "#4d9221"
            ],
            [
             1,
             "#276419"
            ]
           ],
           "sequential": [
            [
             0,
             "#0d0887"
            ],
            [
             0.1111111111111111,
             "#46039f"
            ],
            [
             0.2222222222222222,
             "#7201a8"
            ],
            [
             0.3333333333333333,
             "#9c179e"
            ],
            [
             0.4444444444444444,
             "#bd3786"
            ],
            [
             0.5555555555555556,
             "#d8576b"
            ],
            [
             0.6666666666666666,
             "#ed7953"
            ],
            [
             0.7777777777777778,
             "#fb9f3a"
            ],
            [
             0.8888888888888888,
             "#fdca26"
            ],
            [
             1,
             "#f0f921"
            ]
           ],
           "sequentialminus": [
            [
             0,
             "#0d0887"
            ],
            [
             0.1111111111111111,
             "#46039f"
            ],
            [
             0.2222222222222222,
             "#7201a8"
            ],
            [
             0.3333333333333333,
             "#9c179e"
            ],
            [
             0.4444444444444444,
             "#bd3786"
            ],
            [
             0.5555555555555556,
             "#d8576b"
            ],
            [
             0.6666666666666666,
             "#ed7953"
            ],
            [
             0.7777777777777778,
             "#fb9f3a"
            ],
            [
             0.8888888888888888,
             "#fdca26"
            ],
            [
             1,
             "#f0f921"
            ]
           ]
          },
          "colorway": [
           "#636efa",
           "#EF553B",
           "#00cc96",
           "#ab63fa",
           "#FFA15A",
           "#19d3f3",
           "#FF6692",
           "#B6E880",
           "#FF97FF",
           "#FECB52"
          ],
          "font": {
           "color": "#2a3f5f"
          },
          "geo": {
           "bgcolor": "white",
           "lakecolor": "white",
           "landcolor": "#E5ECF6",
           "showlakes": true,
           "showland": true,
           "subunitcolor": "white"
          },
          "hoverlabel": {
           "align": "left"
          },
          "hovermode": "closest",
          "mapbox": {
           "style": "light"
          },
          "paper_bgcolor": "white",
          "plot_bgcolor": "#E5ECF6",
          "polar": {
           "angularaxis": {
            "gridcolor": "white",
            "linecolor": "white",
            "ticks": ""
           },
           "bgcolor": "#E5ECF6",
           "radialaxis": {
            "gridcolor": "white",
            "linecolor": "white",
            "ticks": ""
           }
          },
          "scene": {
           "xaxis": {
            "backgroundcolor": "#E5ECF6",
            "gridcolor": "white",
            "gridwidth": 2,
            "linecolor": "white",
            "showbackground": true,
            "ticks": "",
            "zerolinecolor": "white"
           },
           "yaxis": {
            "backgroundcolor": "#E5ECF6",
            "gridcolor": "white",
            "gridwidth": 2,
            "linecolor": "white",
            "showbackground": true,
            "ticks": "",
            "zerolinecolor": "white"
           },
           "zaxis": {
            "backgroundcolor": "#E5ECF6",
            "gridcolor": "white",
            "gridwidth": 2,
            "linecolor": "white",
            "showbackground": true,
            "ticks": "",
            "zerolinecolor": "white"
           }
          },
          "shapedefaults": {
           "line": {
            "color": "#2a3f5f"
           }
          },
          "ternary": {
           "aaxis": {
            "gridcolor": "white",
            "linecolor": "white",
            "ticks": ""
           },
           "baxis": {
            "gridcolor": "white",
            "linecolor": "white",
            "ticks": ""
           },
           "bgcolor": "#E5ECF6",
           "caxis": {
            "gridcolor": "white",
            "linecolor": "white",
            "ticks": ""
           }
          },
          "title": {
           "x": 0.05
          },
          "xaxis": {
           "automargin": true,
           "gridcolor": "white",
           "linecolor": "white",
           "ticks": "",
           "title": {
            "standoff": 15
           },
           "zerolinecolor": "white",
           "zerolinewidth": 2
          },
          "yaxis": {
           "automargin": true,
           "gridcolor": "white",
           "linecolor": "white",
           "ticks": "",
           "title": {
            "standoff": 15
           },
           "zerolinecolor": "white",
           "zerolinewidth": 2
          }
         }
        },
        "title": {
         "text": "Average Salary by Position and Gender"
        },
        "width": 800,
        "xaxis": {
         "anchor": "y",
         "domain": [
          0,
          1
         ],
         "title": {
          "text": "Position"
         }
        },
        "yaxis": {
         "anchor": "x",
         "domain": [
          0,
          1
         ],
         "title": {
          "text": "Log_Salary"
         }
        }
       }
      },
      "text/html": [
       "<div>                            <div id=\"72eb09a7-410e-473c-b0de-f816db71fa5b\" class=\"plotly-graph-div\" style=\"height:600px; width:800px;\"></div>            <script type=\"text/javascript\">                require([\"plotly\"], function(Plotly) {                    window.PLOTLYENV=window.PLOTLYENV || {};                                    if (document.getElementById(\"72eb09a7-410e-473c-b0de-f816db71fa5b\")) {                    Plotly.newPlot(                        \"72eb09a7-410e-473c-b0de-f816db71fa5b\",                        [{\"alignmentgroup\":\"True\",\"hovertemplate\":\"Gender=F\\u003cbr\\u003ePosition=%{x}\\u003cbr\\u003eLog_Salary=%{y}\\u003cextra\\u003e\\u003c\\u002fextra\\u003e\",\"legendgroup\":\"F\",\"marker\":{\"color\":\"#636efa\",\"pattern\":{\"shape\":\"\"}},\"name\":\"F\",\"offsetgroup\":\"F\",\"orientation\":\"v\",\"showlegend\":true,\"textposition\":\"auto\",\"x\":[\"Cloud Solutions Architect\",\"Database Administrator (DBA)\",\"DevOps Engineer\",\"IT Manager\",\"IT Security Analyst\",\"IT Support Specialist\",\"Network Administrator\",\"Software Engineer\",\"Systems Administrator\",\"Systems Analyst\",\"Web Developer\"],\"xaxis\":\"x\",\"y\":[0.6271209628657939,0.1803532539901594,0.7601950122490125,0.7314522680697749,0.4069541936165764,-1.1655184019360105,-0.13253867491193366,-0.141830073819925,-0.2883182955702016,-0.06641909987677437,-0.5408038585921455],\"yaxis\":\"y\",\"type\":\"bar\"},{\"alignmentgroup\":\"True\",\"hovertemplate\":\"Gender=M\\u003cbr\\u003ePosition=%{x}\\u003cbr\\u003eLog_Salary=%{y}\\u003cextra\\u003e\\u003c\\u002fextra\\u003e\",\"legendgroup\":\"M\",\"marker\":{\"color\":\"#EF553B\",\"pattern\":{\"shape\":\"\"}},\"name\":\"M\",\"offsetgroup\":\"M\",\"orientation\":\"v\",\"showlegend\":true,\"textposition\":\"auto\",\"x\":[\"Cloud Solutions Architect\",\"Database Administrator (DBA)\",\"DevOps Engineer\",\"IT Manager\",\"IT Security Analyst\",\"IT Support Specialist\",\"Network Administrator\",\"Software Engineer\",\"Systems Administrator\",\"Systems Analyst\",\"Web Developer\"],\"xaxis\":\"x\",\"y\":[0.6574290583637009,0.042942562579380665,0.6344181618081002,0.9264079309765643,-0.13175405206823057,-1.1456867127640769,-0.4202828241218006,0.1978025142971811,-0.5154517987151411,-0.04110436496954438,-0.5955251877169773],\"yaxis\":\"y\",\"type\":\"bar\"}],                        {\"template\":{\"data\":{\"histogram2dcontour\":[{\"type\":\"histogram2dcontour\",\"colorbar\":{\"outlinewidth\":0,\"ticks\":\"\"},\"colorscale\":[[0.0,\"#0d0887\"],[0.1111111111111111,\"#46039f\"],[0.2222222222222222,\"#7201a8\"],[0.3333333333333333,\"#9c179e\"],[0.4444444444444444,\"#bd3786\"],[0.5555555555555556,\"#d8576b\"],[0.6666666666666666,\"#ed7953\"],[0.7777777777777778,\"#fb9f3a\"],[0.8888888888888888,\"#fdca26\"],[1.0,\"#f0f921\"]]}],\"choropleth\":[{\"type\":\"choropleth\",\"colorbar\":{\"outlinewidth\":0,\"ticks\":\"\"}}],\"histogram2d\":[{\"type\":\"histogram2d\",\"colorbar\":{\"outlinewidth\":0,\"ticks\":\"\"},\"colorscale\":[[0.0,\"#0d0887\"],[0.1111111111111111,\"#46039f\"],[0.2222222222222222,\"#7201a8\"],[0.3333333333333333,\"#9c179e\"],[0.4444444444444444,\"#bd3786\"],[0.5555555555555556,\"#d8576b\"],[0.6666666666666666,\"#ed7953\"],[0.7777777777777778,\"#fb9f3a\"],[0.8888888888888888,\"#fdca26\"],[1.0,\"#f0f921\"]]}],\"heatmap\":[{\"type\":\"heatmap\",\"colorbar\":{\"outlinewidth\":0,\"ticks\":\"\"},\"colorscale\":[[0.0,\"#0d0887\"],[0.1111111111111111,\"#46039f\"],[0.2222222222222222,\"#7201a8\"],[0.3333333333333333,\"#9c179e\"],[0.4444444444444444,\"#bd3786\"],[0.5555555555555556,\"#d8576b\"],[0.6666666666666666,\"#ed7953\"],[0.7777777777777778,\"#fb9f3a\"],[0.8888888888888888,\"#fdca26\"],[1.0,\"#f0f921\"]]}],\"heatmapgl\":[{\"type\":\"heatmapgl\",\"colorbar\":{\"outlinewidth\":0,\"ticks\":\"\"},\"colorscale\":[[0.0,\"#0d0887\"],[0.1111111111111111,\"#46039f\"],[0.2222222222222222,\"#7201a8\"],[0.3333333333333333,\"#9c179e\"],[0.4444444444444444,\"#bd3786\"],[0.5555555555555556,\"#d8576b\"],[0.6666666666666666,\"#ed7953\"],[0.7777777777777778,\"#fb9f3a\"],[0.8888888888888888,\"#fdca26\"],[1.0,\"#f0f921\"]]}],\"contourcarpet\":[{\"type\":\"contourcarpet\",\"colorbar\":{\"outlinewidth\":0,\"ticks\":\"\"}}],\"contour\":[{\"type\":\"contour\",\"colorbar\":{\"outlinewidth\":0,\"ticks\":\"\"},\"colorscale\":[[0.0,\"#0d0887\"],[0.1111111111111111,\"#46039f\"],[0.2222222222222222,\"#7201a8\"],[0.3333333333333333,\"#9c179e\"],[0.4444444444444444,\"#bd3786\"],[0.5555555555555556,\"#d8576b\"],[0.6666666666666666,\"#ed7953\"],[0.7777777777777778,\"#fb9f3a\"],[0.8888888888888888,\"#fdca26\"],[1.0,\"#f0f921\"]]}],\"surface\":[{\"type\":\"surface\",\"colorbar\":{\"outlinewidth\":0,\"ticks\":\"\"},\"colorscale\":[[0.0,\"#0d0887\"],[0.1111111111111111,\"#46039f\"],[0.2222222222222222,\"#7201a8\"],[0.3333333333333333,\"#9c179e\"],[0.4444444444444444,\"#bd3786\"],[0.5555555555555556,\"#d8576b\"],[0.6666666666666666,\"#ed7953\"],[0.7777777777777778,\"#fb9f3a\"],[0.8888888888888888,\"#fdca26\"],[1.0,\"#f0f921\"]]}],\"mesh3d\":[{\"type\":\"mesh3d\",\"colorbar\":{\"outlinewidth\":0,\"ticks\":\"\"}}],\"scatter\":[{\"fillpattern\":{\"fillmode\":\"overlay\",\"size\":10,\"solidity\":0.2},\"type\":\"scatter\"}],\"parcoords\":[{\"type\":\"parcoords\",\"line\":{\"colorbar\":{\"outlinewidth\":0,\"ticks\":\"\"}}}],\"scatterpolargl\":[{\"type\":\"scatterpolargl\",\"marker\":{\"colorbar\":{\"outlinewidth\":0,\"ticks\":\"\"}}}],\"bar\":[{\"error_x\":{\"color\":\"#2a3f5f\"},\"error_y\":{\"color\":\"#2a3f5f\"},\"marker\":{\"line\":{\"color\":\"#E5ECF6\",\"width\":0.5},\"pattern\":{\"fillmode\":\"overlay\",\"size\":10,\"solidity\":0.2}},\"type\":\"bar\"}],\"scattergeo\":[{\"type\":\"scattergeo\",\"marker\":{\"colorbar\":{\"outlinewidth\":0,\"ticks\":\"\"}}}],\"scatterpolar\":[{\"type\":\"scatterpolar\",\"marker\":{\"colorbar\":{\"outlinewidth\":0,\"ticks\":\"\"}}}],\"histogram\":[{\"marker\":{\"pattern\":{\"fillmode\":\"overlay\",\"size\":10,\"solidity\":0.2}},\"type\":\"histogram\"}],\"scattergl\":[{\"type\":\"scattergl\",\"marker\":{\"colorbar\":{\"outlinewidth\":0,\"ticks\":\"\"}}}],\"scatter3d\":[{\"type\":\"scatter3d\",\"line\":{\"colorbar\":{\"outlinewidth\":0,\"ticks\":\"\"}},\"marker\":{\"colorbar\":{\"outlinewidth\":0,\"ticks\":\"\"}}}],\"scattermapbox\":[{\"type\":\"scattermapbox\",\"marker\":{\"colorbar\":{\"outlinewidth\":0,\"ticks\":\"\"}}}],\"scatterternary\":[{\"type\":\"scatterternary\",\"marker\":{\"colorbar\":{\"outlinewidth\":0,\"ticks\":\"\"}}}],\"scattercarpet\":[{\"type\":\"scattercarpet\",\"marker\":{\"colorbar\":{\"outlinewidth\":0,\"ticks\":\"\"}}}],\"carpet\":[{\"aaxis\":{\"endlinecolor\":\"#2a3f5f\",\"gridcolor\":\"white\",\"linecolor\":\"white\",\"minorgridcolor\":\"white\",\"startlinecolor\":\"#2a3f5f\"},\"baxis\":{\"endlinecolor\":\"#2a3f5f\",\"gridcolor\":\"white\",\"linecolor\":\"white\",\"minorgridcolor\":\"white\",\"startlinecolor\":\"#2a3f5f\"},\"type\":\"carpet\"}],\"table\":[{\"cells\":{\"fill\":{\"color\":\"#EBF0F8\"},\"line\":{\"color\":\"white\"}},\"header\":{\"fill\":{\"color\":\"#C8D4E3\"},\"line\":{\"color\":\"white\"}},\"type\":\"table\"}],\"barpolar\":[{\"marker\":{\"line\":{\"color\":\"#E5ECF6\",\"width\":0.5},\"pattern\":{\"fillmode\":\"overlay\",\"size\":10,\"solidity\":0.2}},\"type\":\"barpolar\"}],\"pie\":[{\"automargin\":true,\"type\":\"pie\"}]},\"layout\":{\"autotypenumbers\":\"strict\",\"colorway\":[\"#636efa\",\"#EF553B\",\"#00cc96\",\"#ab63fa\",\"#FFA15A\",\"#19d3f3\",\"#FF6692\",\"#B6E880\",\"#FF97FF\",\"#FECB52\"],\"font\":{\"color\":\"#2a3f5f\"},\"hovermode\":\"closest\",\"hoverlabel\":{\"align\":\"left\"},\"paper_bgcolor\":\"white\",\"plot_bgcolor\":\"#E5ECF6\",\"polar\":{\"bgcolor\":\"#E5ECF6\",\"angularaxis\":{\"gridcolor\":\"white\",\"linecolor\":\"white\",\"ticks\":\"\"},\"radialaxis\":{\"gridcolor\":\"white\",\"linecolor\":\"white\",\"ticks\":\"\"}},\"ternary\":{\"bgcolor\":\"#E5ECF6\",\"aaxis\":{\"gridcolor\":\"white\",\"linecolor\":\"white\",\"ticks\":\"\"},\"baxis\":{\"gridcolor\":\"white\",\"linecolor\":\"white\",\"ticks\":\"\"},\"caxis\":{\"gridcolor\":\"white\",\"linecolor\":\"white\",\"ticks\":\"\"}},\"coloraxis\":{\"colorbar\":{\"outlinewidth\":0,\"ticks\":\"\"}},\"colorscale\":{\"sequential\":[[0.0,\"#0d0887\"],[0.1111111111111111,\"#46039f\"],[0.2222222222222222,\"#7201a8\"],[0.3333333333333333,\"#9c179e\"],[0.4444444444444444,\"#bd3786\"],[0.5555555555555556,\"#d8576b\"],[0.6666666666666666,\"#ed7953\"],[0.7777777777777778,\"#fb9f3a\"],[0.8888888888888888,\"#fdca26\"],[1.0,\"#f0f921\"]],\"sequentialminus\":[[0.0,\"#0d0887\"],[0.1111111111111111,\"#46039f\"],[0.2222222222222222,\"#7201a8\"],[0.3333333333333333,\"#9c179e\"],[0.4444444444444444,\"#bd3786\"],[0.5555555555555556,\"#d8576b\"],[0.6666666666666666,\"#ed7953\"],[0.7777777777777778,\"#fb9f3a\"],[0.8888888888888888,\"#fdca26\"],[1.0,\"#f0f921\"]],\"diverging\":[[0,\"#8e0152\"],[0.1,\"#c51b7d\"],[0.2,\"#de77ae\"],[0.3,\"#f1b6da\"],[0.4,\"#fde0ef\"],[0.5,\"#f7f7f7\"],[0.6,\"#e6f5d0\"],[0.7,\"#b8e186\"],[0.8,\"#7fbc41\"],[0.9,\"#4d9221\"],[1,\"#276419\"]]},\"xaxis\":{\"gridcolor\":\"white\",\"linecolor\":\"white\",\"ticks\":\"\",\"title\":{\"standoff\":15},\"zerolinecolor\":\"white\",\"automargin\":true,\"zerolinewidth\":2},\"yaxis\":{\"gridcolor\":\"white\",\"linecolor\":\"white\",\"ticks\":\"\",\"title\":{\"standoff\":15},\"zerolinecolor\":\"white\",\"automargin\":true,\"zerolinewidth\":2},\"scene\":{\"xaxis\":{\"backgroundcolor\":\"#E5ECF6\",\"gridcolor\":\"white\",\"linecolor\":\"white\",\"showbackground\":true,\"ticks\":\"\",\"zerolinecolor\":\"white\",\"gridwidth\":2},\"yaxis\":{\"backgroundcolor\":\"#E5ECF6\",\"gridcolor\":\"white\",\"linecolor\":\"white\",\"showbackground\":true,\"ticks\":\"\",\"zerolinecolor\":\"white\",\"gridwidth\":2},\"zaxis\":{\"backgroundcolor\":\"#E5ECF6\",\"gridcolor\":\"white\",\"linecolor\":\"white\",\"showbackground\":true,\"ticks\":\"\",\"zerolinecolor\":\"white\",\"gridwidth\":2}},\"shapedefaults\":{\"line\":{\"color\":\"#2a3f5f\"}},\"annotationdefaults\":{\"arrowcolor\":\"#2a3f5f\",\"arrowhead\":0,\"arrowwidth\":1},\"geo\":{\"bgcolor\":\"white\",\"landcolor\":\"#E5ECF6\",\"subunitcolor\":\"white\",\"showland\":true,\"showlakes\":true,\"lakecolor\":\"white\"},\"title\":{\"x\":0.05},\"mapbox\":{\"style\":\"light\"}}},\"xaxis\":{\"anchor\":\"y\",\"domain\":[0.0,1.0],\"title\":{\"text\":\"Position\"}},\"yaxis\":{\"anchor\":\"x\",\"domain\":[0.0,1.0],\"title\":{\"text\":\"Log_Salary\"}},\"legend\":{\"title\":{\"text\":\"Gender\"},\"tracegroupgap\":0},\"title\":{\"text\":\"Average Salary by Position and Gender\"},\"barmode\":\"group\",\"height\":600,\"width\":800},                        {\"responsive\": true}                    ).then(function(){\n",
       "                            \n",
       "var gd = document.getElementById('72eb09a7-410e-473c-b0de-f816db71fa5b');\n",
       "var x = new MutationObserver(function (mutations, observer) {{\n",
       "        var display = window.getComputedStyle(gd).display;\n",
       "        if (!display || display === 'none') {{\n",
       "            console.log([gd, 'removed!']);\n",
       "            Plotly.purge(gd);\n",
       "            observer.disconnect();\n",
       "        }}\n",
       "}});\n",
       "\n",
       "// Listen for the removal of the full notebook cells\n",
       "var notebookContainer = gd.closest('#notebook-container');\n",
       "if (notebookContainer) {{\n",
       "    x.observe(notebookContainer, {childList: true});\n",
       "}}\n",
       "\n",
       "// Listen for the clearing of the current output cell\n",
       "var outputEl = gd.closest('.output');\n",
       "if (outputEl) {{\n",
       "    x.observe(outputEl, {childList: true});\n",
       "}}\n",
       "\n",
       "                        })                };                });            </script>        </div>"
      ]
     },
     "metadata": {},
     "output_type": "display_data"
    }
   ],
   "source": [
    "avg_salary = df.groupby(['Position', 'Gender'])['Log_Salary'].mean().reset_index()\n",
    "\n",
    "fig = px.bar(avg_salary, x='Position', y='Log_Salary', color='Gender',\n",
    "             barmode='group',\n",
    "             title='Average Salary by Position and Gender')\n",
    "fig.update_layout(height=600, width=800)\n",
    "fig.show()\n"
   ]
  },
  {
   "cell_type": "markdown",
   "metadata": {},
   "source": [
    "#### To show the distribution of a numerical feature, such as Salary."
   ]
  },
  {
   "cell_type": "code",
   "execution_count": 25,
   "metadata": {},
   "outputs": [
    {
     "data": {
      "application/vnd.plotly.v1+json": {
       "config": {
        "plotlyServerURL": "https://plot.ly"
       },
       "data": [
        {
         "alignmentgroup": "True",
         "bingroup": "x",
         "hovertemplate": "Log_Salary=%{x}<br>count=%{y}<extra></extra>",
         "legendgroup": "",
         "marker": {
          "color": "#636efa",
          "pattern": {
           "shape": ""
          }
         },
         "name": "",
         "nbinsx": 50,
         "offsetgroup": "",
         "orientation": "v",
         "showlegend": false,
         "type": "histogram",
         "x": [
          -0.36761709076186533,
          -0.10839570613433153,
          1.1055543153598433,
          -1.397859768138992,
          0.5937573667340736,
          -0.23602827484591316,
          -1.2209070634630255,
          -0.3272185148265362,
          -0.4883070220055694,
          0.7866530798923423,
          0.7160830386460577,
          -0.5339673605226344,
          0.29408885507543203,
          0.32405585037704226,
          0.5526508491079464,
          -0.21814439041905484,
          -0.3361659125878417,
          1.2231353664064075,
          0.10724881354329087,
          -1.1496834063385146,
          0.33878879621836466,
          1.8445328724428083,
          -1.6480288031242674,
          1.8730203823719438,
          -1.64840122758669,
          0.4808376523842501,
          0.7160644874751803,
          0.7078906213593535,
          -0.1860731975978039,
          0.8907138841521145,
          0.4704717097194461,
          0.241016421023216,
          -0.10805216732267603,
          -0.7303271821122551,
          -0.6154045667229182,
          -1.0288887302446486,
          0.9382857780564865,
          0.29136889072713373,
          -1.0346963713734993,
          0.31660855439698654,
          0.5281162188104614,
          -0.05684907303840489,
          0.534081595473689,
          -1.8881948600320015,
          -0.3015074776081569,
          0.2685467768526663,
          -0.2574266777924602,
          -1.079935822661515,
          0.12802224512888383,
          1.11221113788083,
          -0.23083076577605982,
          0.5637677525004146,
          1.3379175229135989,
          0.2863721826585316,
          0.4146787691066053,
          1.2540693425600482,
          1.0966985726416818,
          0.5881441916853105,
          -0.33367485489450716,
          -1.4663457128408492,
          -0.4989624367593149,
          2.1747263205898304,
          -1.560623721243561,
          0.6721245937688874,
          -2.7675336892433395,
          0.9796784873360941,
          1.1847454481498294,
          0.03722289080413461,
          -1.3384818005925037,
          -1.088547416244925,
          1.7609996940087607,
          -0.3583868456157684,
          0.9603101371505828,
          -1.8299664259219461,
          0.3963953282968101,
          0.3776856359090244,
          0.21707440917748722,
          0.17587217225309876,
          1.0344014872504157,
          -1.4158554481530348,
          -0.16173449088868969,
          -0.3784358243303446,
          1.3595001555234052,
          0.18523856548586495,
          -1.9529152520927378,
          -0.3647245129804658,
          -2.4236517959752866,
          -1.6595959031863683,
          0.6631290142543962,
          0.47240676889479355,
          -2.275206363477812,
          0.34681121600090287,
          -0.7360605670126725,
          0.09387563855777632,
          0.5640607650859855,
          -0.5669549973279374,
          1.5035689581521798,
          -0.6104246748615058,
          0.6946529782161456,
          0.15186460528010448,
          -2.0469086297056958,
          -0.03661436573804461,
          -0.9567354251694856,
          0.7630492294104916,
          0.6203611451464421,
          -1.08461440047752,
          0.2379851938357892,
          1.4759037994366464,
          -0.40539984584882255,
          -0.02893661738233339,
          0.492908693241368,
          -3.091226556063907,
          0.781069250081386,
          0.8120093684575201,
          -0.1935404737091964,
          2.278674887205842,
          1.5980921778262551,
          -2.358429979473999,
          1.1540466954774542,
          1.8190354951214065,
          2.265808803076531,
          0.4644770615543843,
          -0.6297505043038858,
          1.608416118459329,
          -0.6635379696872046,
          -0.24902368470217887,
          -1.0013164547225222,
          -0.9454991378935209,
          -0.10707084847309642,
          -0.7794972711480531,
          0.6439906599355878,
          -0.5549946033687431,
          -2.2613661034802397,
          0.5385575683759838,
          -2.1955139790327842,
          -0.3689035927940118,
          -1.118265400577752,
          -0.9395391062873077,
          0.05995458654975942,
          0.2473522930802477,
          -2.0931283828147187,
          -1.197412006045779,
          -1.810664086883904,
          -0.2786955830354418,
          1.6409623801731994,
          0.19599205563739175,
          1.095263522098292,
          -2.701310798891322,
          1.068012111454657,
          0.09119370571731168,
          1.5037251648403251,
          1.1039284165274335,
          1.2880451628756808,
          0.4578830086083096,
          0.5344367667030632,
          0.3778520987032574,
          -0.4196839786621601,
          -1.7129573116079366,
          0.2582719692220046,
          -0.9694276703681756,
          0.7289109994638122,
          1.9862114492806235,
          -1.7882743987388892,
          0.22107096189397193,
          0.3487871464806839,
          -0.10633507372011929,
          0.04471090210496683,
          -0.3776828652964721,
          1.0045272292933254,
          0.21920511454843059,
          1.1112865766313744,
          0.5490405871286651,
          0.20946158843322837,
          -1.213114046612104,
          0.45226846820054095,
          -0.44122710317275277,
          -1.392049927855349,
          -0.17423001725002354,
          -0.10800309361860115,
          -0.4062142195453754,
          0.16694532233149834,
          -0.044120079097271114,
          0.6115134701624505,
          -0.39767449926189063,
          -0.7685165230806503,
          0.9890276775798736,
          -0.23607952746034627,
          -1.0644166199187424,
          0.6175811163719913,
          -0.20125463957166234,
          0.6352328164781357,
          0.17413355757905088,
          -0.19705360579989528,
          -0.9472275206700309,
          0.2337274908364521,
          1.0646352833039936,
          1.7376136877206625,
          -0.47249297457449574,
          0.2699068539929098,
          0.09435675287078478,
          0.6968945062151198,
          1.339944807975679,
          0.5603862333418774,
          0.5089335185461611,
          0.6330583641443894,
          -0.12730288507085644,
          0.38616327257166255,
          0.5423577913762611,
          0.4195448299708022,
          -0.8564859192423631,
          -1.7843714658750578,
          -1.3798221948135956,
          0.07419734736291551,
          -0.34737519061367517,
          -1.1198906305334346,
          -0.2460394329528202,
          1.1391872841897537,
          0.7826838465374499,
          0.5464478893057871,
          -0.8053103478084103,
          -0.6470818943961087,
          -0.5571941896028395,
          0.10610817594420408,
          0.16690062007244272,
          0.593892725103526,
          0.2991152490569932,
          1.652271882755463,
          1.1856156137740614,
          1.2553055347945268,
          -1.641044224765747,
          -0.7993477030067789,
          1.4611017138500644,
          0.26597602838642126,
          -0.7403451307495285,
          0.5591929798983243,
          -1.690749286893959,
          -0.8345836654376916,
          0.5476463134626944,
          -0.7079556554167591,
          -0.9102727575336879,
          -1.573384777189904,
          1.0557877848347965,
          -2.0423168148952926,
          -0.3939410697473991,
          -0.8109735981179884,
          -1.6156839421017681,
          1.037796484840136,
          0.7007384914612051,
          -0.6830076728060821,
          0.135396300457379,
          -0.1006023265967335,
          -1.8224498082486358,
          0.994771510828342,
          0.3701433383179251,
          -0.1888712092830549,
          -0.844080911638918,
          0.5098289741071208,
          1.0075031134102,
          0.520077463807377,
          2.086978289412227,
          -0.9348252211332713,
          1.3478753498159868,
          1.0897451176070332,
          -0.8640238324767641,
          -0.33964100878167564,
          0.9519653962011695,
          0.6765275005270918,
          0.6885735975074911,
          0.19145155271722802,
          -1.673378022920395,
          -0.22924517486738313,
          -1.3075024726143498,
          0.7725098284727508,
          0.17725341669573952,
          -0.19591580236272746,
          0.224229233388989,
          0.8475643265136501,
          -0.6451675002432423,
          -0.5739016875362275,
          0.022001730121128354,
          -0.8986342813665069,
          -1.3264738790599793,
          -0.2922465904119332,
          0.12537122241842122,
          0.20379422282701629,
          1.0886009599783482,
          1.2466412796410002,
          0.08469652779076495,
          -0.457674911961247,
          -0.7279945527733495,
          -1.6741711010816287,
          1.2023203495226993,
          0.15980672698683873,
          -0.41995673046038,
          0.5012612562248266,
          -1.5079146057348485,
          -1.1917357408402702,
          0.3225933374542003,
          -0.24203088772197975,
          0.01638519920994578,
          0.8161007188290834,
          -0.07897248029089297,
          -0.8771502627659037,
          1.4008444156118212,
          1.0608420351590055,
          0.27773128443893635,
          -1.929331655275962,
          -0.01029212976314771,
          0.021837381291718846,
          0.6041232735374431,
          1.1132326840087967,
          0.5156328840563099,
          1.1396532788102416,
          -0.7162383734504684,
          0.5627517499178857,
          -0.14807271651926304,
          1.486564015172683,
          1.9663977918935502,
          0.08375405144952583,
          1.295918331467592,
          -0.8843580772440496,
          0.12664038554768545,
          -0.47046667566197387,
          -0.24274996881551797,
          -0.3319270717919878,
          -0.5394728604765154,
          1.5612531382803807,
          0.8903991597834795,
          0.7304067332660028,
          1.2274741790458152,
          -0.3307095326374285,
          1.5999894423102279,
          1.4735949721613462,
          0.5304880131533918,
          -1.0287545848056128,
          0.16488831627637718,
          -1.1438192656217299,
          -0.9914982847020771,
          -0.6777039284955547,
          0.39273326964831223,
          0.052133457739741366,
          -1.2473345991038132,
          -0.3010882778809925,
          -0.24133765422925235,
          0.06886437545502178,
          -0.43069591599067514,
          0.5042129572586006,
          1.9665312959258576,
          -0.2163365011031876,
          -0.8358712325230935,
          1.7996414161007723,
          0.8037195513914728,
          0.678914361248283,
          0.6270416539545766,
          -0.2700503406928258,
          0.8764124956871,
          1.3572624344561737,
          0.9999651014411606,
          -1.4563643207230277,
          -0.8106932913481844,
          0.9928468845954135,
          1.5623113027442435,
          -0.6291062161340752,
          1.3981816576465693,
          -0.3391632717302819,
          -1.363471841593969,
          -1.243256141239518,
          -0.1406451927339677,
          0.6996940207513623,
          0.7323076199658703,
          -2.0754238867496126,
          0.1077277497143897,
          0.7821396993710893,
          -0.18602280732922657,
          0.8663812223476125,
          -0.4825896955561618,
          -0.5290664772675849,
          0.7361609949027036,
          1.258455479878166,
          0.5328776412086726,
          -0.3486528844102252,
          -0.4828683323398659,
          -0.9082761625542225,
          -0.07031150350408243,
          -0.4075176857365692,
          -0.7014962517067247,
          -0.5781293795938898,
          -0.542570675689458,
          -0.5648627188751477,
          -0.436231067492371,
          -1.8689545795311362,
          0.7348340852794457,
          -1.3301119816288114,
          -0.9248372277734712,
          -2.412957889487348,
          1.8831504164185764,
          1.1293359658121687,
          -1.1077748671354242,
          0.1252352082302301,
          0.8995125479404844
         ],
         "xaxis": "x",
         "yaxis": "y"
        }
       ],
       "layout": {
        "barmode": "relative",
        "height": 600,
        "legend": {
         "tracegroupgap": 0
        },
        "template": {
         "data": {
          "bar": [
           {
            "error_x": {
             "color": "#2a3f5f"
            },
            "error_y": {
             "color": "#2a3f5f"
            },
            "marker": {
             "line": {
              "color": "#E5ECF6",
              "width": 0.5
             },
             "pattern": {
              "fillmode": "overlay",
              "size": 10,
              "solidity": 0.2
             }
            },
            "type": "bar"
           }
          ],
          "barpolar": [
           {
            "marker": {
             "line": {
              "color": "#E5ECF6",
              "width": 0.5
             },
             "pattern": {
              "fillmode": "overlay",
              "size": 10,
              "solidity": 0.2
             }
            },
            "type": "barpolar"
           }
          ],
          "carpet": [
           {
            "aaxis": {
             "endlinecolor": "#2a3f5f",
             "gridcolor": "white",
             "linecolor": "white",
             "minorgridcolor": "white",
             "startlinecolor": "#2a3f5f"
            },
            "baxis": {
             "endlinecolor": "#2a3f5f",
             "gridcolor": "white",
             "linecolor": "white",
             "minorgridcolor": "white",
             "startlinecolor": "#2a3f5f"
            },
            "type": "carpet"
           }
          ],
          "choropleth": [
           {
            "colorbar": {
             "outlinewidth": 0,
             "ticks": ""
            },
            "type": "choropleth"
           }
          ],
          "contour": [
           {
            "colorbar": {
             "outlinewidth": 0,
             "ticks": ""
            },
            "colorscale": [
             [
              0,
              "#0d0887"
             ],
             [
              0.1111111111111111,
              "#46039f"
             ],
             [
              0.2222222222222222,
              "#7201a8"
             ],
             [
              0.3333333333333333,
              "#9c179e"
             ],
             [
              0.4444444444444444,
              "#bd3786"
             ],
             [
              0.5555555555555556,
              "#d8576b"
             ],
             [
              0.6666666666666666,
              "#ed7953"
             ],
             [
              0.7777777777777778,
              "#fb9f3a"
             ],
             [
              0.8888888888888888,
              "#fdca26"
             ],
             [
              1,
              "#f0f921"
             ]
            ],
            "type": "contour"
           }
          ],
          "contourcarpet": [
           {
            "colorbar": {
             "outlinewidth": 0,
             "ticks": ""
            },
            "type": "contourcarpet"
           }
          ],
          "heatmap": [
           {
            "colorbar": {
             "outlinewidth": 0,
             "ticks": ""
            },
            "colorscale": [
             [
              0,
              "#0d0887"
             ],
             [
              0.1111111111111111,
              "#46039f"
             ],
             [
              0.2222222222222222,
              "#7201a8"
             ],
             [
              0.3333333333333333,
              "#9c179e"
             ],
             [
              0.4444444444444444,
              "#bd3786"
             ],
             [
              0.5555555555555556,
              "#d8576b"
             ],
             [
              0.6666666666666666,
              "#ed7953"
             ],
             [
              0.7777777777777778,
              "#fb9f3a"
             ],
             [
              0.8888888888888888,
              "#fdca26"
             ],
             [
              1,
              "#f0f921"
             ]
            ],
            "type": "heatmap"
           }
          ],
          "heatmapgl": [
           {
            "colorbar": {
             "outlinewidth": 0,
             "ticks": ""
            },
            "colorscale": [
             [
              0,
              "#0d0887"
             ],
             [
              0.1111111111111111,
              "#46039f"
             ],
             [
              0.2222222222222222,
              "#7201a8"
             ],
             [
              0.3333333333333333,
              "#9c179e"
             ],
             [
              0.4444444444444444,
              "#bd3786"
             ],
             [
              0.5555555555555556,
              "#d8576b"
             ],
             [
              0.6666666666666666,
              "#ed7953"
             ],
             [
              0.7777777777777778,
              "#fb9f3a"
             ],
             [
              0.8888888888888888,
              "#fdca26"
             ],
             [
              1,
              "#f0f921"
             ]
            ],
            "type": "heatmapgl"
           }
          ],
          "histogram": [
           {
            "marker": {
             "pattern": {
              "fillmode": "overlay",
              "size": 10,
              "solidity": 0.2
             }
            },
            "type": "histogram"
           }
          ],
          "histogram2d": [
           {
            "colorbar": {
             "outlinewidth": 0,
             "ticks": ""
            },
            "colorscale": [
             [
              0,
              "#0d0887"
             ],
             [
              0.1111111111111111,
              "#46039f"
             ],
             [
              0.2222222222222222,
              "#7201a8"
             ],
             [
              0.3333333333333333,
              "#9c179e"
             ],
             [
              0.4444444444444444,
              "#bd3786"
             ],
             [
              0.5555555555555556,
              "#d8576b"
             ],
             [
              0.6666666666666666,
              "#ed7953"
             ],
             [
              0.7777777777777778,
              "#fb9f3a"
             ],
             [
              0.8888888888888888,
              "#fdca26"
             ],
             [
              1,
              "#f0f921"
             ]
            ],
            "type": "histogram2d"
           }
          ],
          "histogram2dcontour": [
           {
            "colorbar": {
             "outlinewidth": 0,
             "ticks": ""
            },
            "colorscale": [
             [
              0,
              "#0d0887"
             ],
             [
              0.1111111111111111,
              "#46039f"
             ],
             [
              0.2222222222222222,
              "#7201a8"
             ],
             [
              0.3333333333333333,
              "#9c179e"
             ],
             [
              0.4444444444444444,
              "#bd3786"
             ],
             [
              0.5555555555555556,
              "#d8576b"
             ],
             [
              0.6666666666666666,
              "#ed7953"
             ],
             [
              0.7777777777777778,
              "#fb9f3a"
             ],
             [
              0.8888888888888888,
              "#fdca26"
             ],
             [
              1,
              "#f0f921"
             ]
            ],
            "type": "histogram2dcontour"
           }
          ],
          "mesh3d": [
           {
            "colorbar": {
             "outlinewidth": 0,
             "ticks": ""
            },
            "type": "mesh3d"
           }
          ],
          "parcoords": [
           {
            "line": {
             "colorbar": {
              "outlinewidth": 0,
              "ticks": ""
             }
            },
            "type": "parcoords"
           }
          ],
          "pie": [
           {
            "automargin": true,
            "type": "pie"
           }
          ],
          "scatter": [
           {
            "fillpattern": {
             "fillmode": "overlay",
             "size": 10,
             "solidity": 0.2
            },
            "type": "scatter"
           }
          ],
          "scatter3d": [
           {
            "line": {
             "colorbar": {
              "outlinewidth": 0,
              "ticks": ""
             }
            },
            "marker": {
             "colorbar": {
              "outlinewidth": 0,
              "ticks": ""
             }
            },
            "type": "scatter3d"
           }
          ],
          "scattercarpet": [
           {
            "marker": {
             "colorbar": {
              "outlinewidth": 0,
              "ticks": ""
             }
            },
            "type": "scattercarpet"
           }
          ],
          "scattergeo": [
           {
            "marker": {
             "colorbar": {
              "outlinewidth": 0,
              "ticks": ""
             }
            },
            "type": "scattergeo"
           }
          ],
          "scattergl": [
           {
            "marker": {
             "colorbar": {
              "outlinewidth": 0,
              "ticks": ""
             }
            },
            "type": "scattergl"
           }
          ],
          "scattermapbox": [
           {
            "marker": {
             "colorbar": {
              "outlinewidth": 0,
              "ticks": ""
             }
            },
            "type": "scattermapbox"
           }
          ],
          "scatterpolar": [
           {
            "marker": {
             "colorbar": {
              "outlinewidth": 0,
              "ticks": ""
             }
            },
            "type": "scatterpolar"
           }
          ],
          "scatterpolargl": [
           {
            "marker": {
             "colorbar": {
              "outlinewidth": 0,
              "ticks": ""
             }
            },
            "type": "scatterpolargl"
           }
          ],
          "scatterternary": [
           {
            "marker": {
             "colorbar": {
              "outlinewidth": 0,
              "ticks": ""
             }
            },
            "type": "scatterternary"
           }
          ],
          "surface": [
           {
            "colorbar": {
             "outlinewidth": 0,
             "ticks": ""
            },
            "colorscale": [
             [
              0,
              "#0d0887"
             ],
             [
              0.1111111111111111,
              "#46039f"
             ],
             [
              0.2222222222222222,
              "#7201a8"
             ],
             [
              0.3333333333333333,
              "#9c179e"
             ],
             [
              0.4444444444444444,
              "#bd3786"
             ],
             [
              0.5555555555555556,
              "#d8576b"
             ],
             [
              0.6666666666666666,
              "#ed7953"
             ],
             [
              0.7777777777777778,
              "#fb9f3a"
             ],
             [
              0.8888888888888888,
              "#fdca26"
             ],
             [
              1,
              "#f0f921"
             ]
            ],
            "type": "surface"
           }
          ],
          "table": [
           {
            "cells": {
             "fill": {
              "color": "#EBF0F8"
             },
             "line": {
              "color": "white"
             }
            },
            "header": {
             "fill": {
              "color": "#C8D4E3"
             },
             "line": {
              "color": "white"
             }
            },
            "type": "table"
           }
          ]
         },
         "layout": {
          "annotationdefaults": {
           "arrowcolor": "#2a3f5f",
           "arrowhead": 0,
           "arrowwidth": 1
          },
          "autotypenumbers": "strict",
          "coloraxis": {
           "colorbar": {
            "outlinewidth": 0,
            "ticks": ""
           }
          },
          "colorscale": {
           "diverging": [
            [
             0,
             "#8e0152"
            ],
            [
             0.1,
             "#c51b7d"
            ],
            [
             0.2,
             "#de77ae"
            ],
            [
             0.3,
             "#f1b6da"
            ],
            [
             0.4,
             "#fde0ef"
            ],
            [
             0.5,
             "#f7f7f7"
            ],
            [
             0.6,
             "#e6f5d0"
            ],
            [
             0.7,
             "#b8e186"
            ],
            [
             0.8,
             "#7fbc41"
            ],
            [
             0.9,
             "#4d9221"
            ],
            [
             1,
             "#276419"
            ]
           ],
           "sequential": [
            [
             0,
             "#0d0887"
            ],
            [
             0.1111111111111111,
             "#46039f"
            ],
            [
             0.2222222222222222,
             "#7201a8"
            ],
            [
             0.3333333333333333,
             "#9c179e"
            ],
            [
             0.4444444444444444,
             "#bd3786"
            ],
            [
             0.5555555555555556,
             "#d8576b"
            ],
            [
             0.6666666666666666,
             "#ed7953"
            ],
            [
             0.7777777777777778,
             "#fb9f3a"
            ],
            [
             0.8888888888888888,
             "#fdca26"
            ],
            [
             1,
             "#f0f921"
            ]
           ],
           "sequentialminus": [
            [
             0,
             "#0d0887"
            ],
            [
             0.1111111111111111,
             "#46039f"
            ],
            [
             0.2222222222222222,
             "#7201a8"
            ],
            [
             0.3333333333333333,
             "#9c179e"
            ],
            [
             0.4444444444444444,
             "#bd3786"
            ],
            [
             0.5555555555555556,
             "#d8576b"
            ],
            [
             0.6666666666666666,
             "#ed7953"
            ],
            [
             0.7777777777777778,
             "#fb9f3a"
            ],
            [
             0.8888888888888888,
             "#fdca26"
            ],
            [
             1,
             "#f0f921"
            ]
           ]
          },
          "colorway": [
           "#636efa",
           "#EF553B",
           "#00cc96",
           "#ab63fa",
           "#FFA15A",
           "#19d3f3",
           "#FF6692",
           "#B6E880",
           "#FF97FF",
           "#FECB52"
          ],
          "font": {
           "color": "#2a3f5f"
          },
          "geo": {
           "bgcolor": "white",
           "lakecolor": "white",
           "landcolor": "#E5ECF6",
           "showlakes": true,
           "showland": true,
           "subunitcolor": "white"
          },
          "hoverlabel": {
           "align": "left"
          },
          "hovermode": "closest",
          "mapbox": {
           "style": "light"
          },
          "paper_bgcolor": "white",
          "plot_bgcolor": "#E5ECF6",
          "polar": {
           "angularaxis": {
            "gridcolor": "white",
            "linecolor": "white",
            "ticks": ""
           },
           "bgcolor": "#E5ECF6",
           "radialaxis": {
            "gridcolor": "white",
            "linecolor": "white",
            "ticks": ""
           }
          },
          "scene": {
           "xaxis": {
            "backgroundcolor": "#E5ECF6",
            "gridcolor": "white",
            "gridwidth": 2,
            "linecolor": "white",
            "showbackground": true,
            "ticks": "",
            "zerolinecolor": "white"
           },
           "yaxis": {
            "backgroundcolor": "#E5ECF6",
            "gridcolor": "white",
            "gridwidth": 2,
            "linecolor": "white",
            "showbackground": true,
            "ticks": "",
            "zerolinecolor": "white"
           },
           "zaxis": {
            "backgroundcolor": "#E5ECF6",
            "gridcolor": "white",
            "gridwidth": 2,
            "linecolor": "white",
            "showbackground": true,
            "ticks": "",
            "zerolinecolor": "white"
           }
          },
          "shapedefaults": {
           "line": {
            "color": "#2a3f5f"
           }
          },
          "ternary": {
           "aaxis": {
            "gridcolor": "white",
            "linecolor": "white",
            "ticks": ""
           },
           "baxis": {
            "gridcolor": "white",
            "linecolor": "white",
            "ticks": ""
           },
           "bgcolor": "#E5ECF6",
           "caxis": {
            "gridcolor": "white",
            "linecolor": "white",
            "ticks": ""
           }
          },
          "title": {
           "x": 0.05
          },
          "xaxis": {
           "automargin": true,
           "gridcolor": "white",
           "linecolor": "white",
           "ticks": "",
           "title": {
            "standoff": 15
           },
           "zerolinecolor": "white",
           "zerolinewidth": 2
          },
          "yaxis": {
           "automargin": true,
           "gridcolor": "white",
           "linecolor": "white",
           "ticks": "",
           "title": {
            "standoff": 15
           },
           "zerolinecolor": "white",
           "zerolinewidth": 2
          }
         }
        },
        "title": {
         "text": "Salary Distribution"
        },
        "width": 800,
        "xaxis": {
         "anchor": "y",
         "domain": [
          0,
          1
         ],
         "title": {
          "text": "Log_Salary"
         }
        },
        "yaxis": {
         "anchor": "x",
         "domain": [
          0,
          1
         ],
         "title": {
          "text": "count"
         }
        }
       }
      },
      "text/html": [
       "<div>                            <div id=\"9973c2ea-315f-4eff-a97f-8354ea077177\" class=\"plotly-graph-div\" style=\"height:600px; width:800px;\"></div>            <script type=\"text/javascript\">                require([\"plotly\"], function(Plotly) {                    window.PLOTLYENV=window.PLOTLYENV || {};                                    if (document.getElementById(\"9973c2ea-315f-4eff-a97f-8354ea077177\")) {                    Plotly.newPlot(                        \"9973c2ea-315f-4eff-a97f-8354ea077177\",                        [{\"alignmentgroup\":\"True\",\"bingroup\":\"x\",\"hovertemplate\":\"Log_Salary=%{x}\\u003cbr\\u003ecount=%{y}\\u003cextra\\u003e\\u003c\\u002fextra\\u003e\",\"legendgroup\":\"\",\"marker\":{\"color\":\"#636efa\",\"pattern\":{\"shape\":\"\"}},\"name\":\"\",\"nbinsx\":50,\"offsetgroup\":\"\",\"orientation\":\"v\",\"showlegend\":false,\"x\":[-0.36761709076186533,-0.10839570613433153,1.1055543153598433,-1.397859768138992,0.5937573667340736,-0.23602827484591316,-1.2209070634630255,-0.3272185148265362,-0.4883070220055694,0.7866530798923423,0.7160830386460577,-0.5339673605226344,0.29408885507543203,0.32405585037704226,0.5526508491079464,-0.21814439041905484,-0.3361659125878417,1.2231353664064075,0.10724881354329087,-1.1496834063385146,0.33878879621836466,1.8445328724428083,-1.6480288031242674,1.8730203823719438,-1.64840122758669,0.4808376523842501,0.7160644874751803,0.7078906213593535,-0.1860731975978039,0.8907138841521145,0.4704717097194461,0.241016421023216,-0.10805216732267603,-0.7303271821122551,-0.6154045667229182,-1.0288887302446486,0.9382857780564865,0.29136889072713373,-1.0346963713734993,0.31660855439698654,0.5281162188104614,-0.05684907303840489,0.534081595473689,-1.8881948600320015,-0.3015074776081569,0.2685467768526663,-0.2574266777924602,-1.079935822661515,0.12802224512888383,1.11221113788083,-0.23083076577605982,0.5637677525004146,1.3379175229135989,0.2863721826585316,0.4146787691066053,1.2540693425600482,1.0966985726416818,0.5881441916853105,-0.33367485489450716,-1.4663457128408492,-0.4989624367593149,2.1747263205898304,-1.560623721243561,0.6721245937688874,-2.7675336892433395,0.9796784873360941,1.1847454481498294,0.03722289080413461,-1.3384818005925037,-1.088547416244925,1.7609996940087607,-0.3583868456157684,0.9603101371505828,-1.8299664259219461,0.3963953282968101,0.3776856359090244,0.21707440917748722,0.17587217225309876,1.0344014872504157,-1.4158554481530348,-0.16173449088868969,-0.3784358243303446,1.3595001555234052,0.18523856548586495,-1.9529152520927378,-0.3647245129804658,-2.4236517959752866,-1.6595959031863683,0.6631290142543962,0.47240676889479355,-2.275206363477812,0.34681121600090287,-0.7360605670126725,0.09387563855777632,0.5640607650859855,-0.5669549973279374,1.5035689581521798,-0.6104246748615058,0.6946529782161456,0.15186460528010448,-2.0469086297056958,-0.03661436573804461,-0.9567354251694856,0.7630492294104916,0.6203611451464421,-1.08461440047752,0.2379851938357892,1.4759037994366464,-0.40539984584882255,-0.02893661738233339,0.492908693241368,-3.091226556063907,0.781069250081386,0.8120093684575201,-0.1935404737091964,2.278674887205842,1.5980921778262551,-2.358429979473999,1.1540466954774542,1.8190354951214065,2.265808803076531,0.4644770615543843,-0.6297505043038858,1.608416118459329,-0.6635379696872046,-0.24902368470217887,-1.0013164547225222,-0.9454991378935209,-0.10707084847309642,-0.7794972711480531,0.6439906599355878,-0.5549946033687431,-2.2613661034802397,0.5385575683759838,-2.1955139790327842,-0.3689035927940118,-1.118265400577752,-0.9395391062873077,0.05995458654975942,0.2473522930802477,-2.0931283828147187,-1.197412006045779,-1.810664086883904,-0.2786955830354418,1.6409623801731994,0.19599205563739175,1.095263522098292,-2.701310798891322,1.068012111454657,0.09119370571731168,1.5037251648403251,1.1039284165274335,1.2880451628756808,0.4578830086083096,0.5344367667030632,0.3778520987032574,-0.4196839786621601,-1.7129573116079366,0.2582719692220046,-0.9694276703681756,0.7289109994638122,1.9862114492806235,-1.7882743987388892,0.22107096189397193,0.3487871464806839,-0.10633507372011929,0.04471090210496683,-0.3776828652964721,1.0045272292933254,0.21920511454843059,1.1112865766313744,0.5490405871286651,0.20946158843322837,-1.213114046612104,0.45226846820054095,-0.44122710317275277,-1.392049927855349,-0.17423001725002354,-0.10800309361860115,-0.4062142195453754,0.16694532233149834,-0.044120079097271114,0.6115134701624505,-0.39767449926189063,-0.7685165230806503,0.9890276775798736,-0.23607952746034627,-1.0644166199187424,0.6175811163719913,-0.20125463957166234,0.6352328164781357,0.17413355757905088,-0.19705360579989528,-0.9472275206700309,0.2337274908364521,1.0646352833039936,1.7376136877206625,-0.47249297457449574,0.2699068539929098,0.09435675287078478,0.6968945062151198,1.339944807975679,0.5603862333418774,0.5089335185461611,0.6330583641443894,-0.12730288507085644,0.38616327257166255,0.5423577913762611,0.4195448299708022,-0.8564859192423631,-1.7843714658750578,-1.3798221948135956,0.07419734736291551,-0.34737519061367517,-1.1198906305334346,-0.2460394329528202,1.1391872841897537,0.7826838465374499,0.5464478893057871,-0.8053103478084103,-0.6470818943961087,-0.5571941896028395,0.10610817594420408,0.16690062007244272,0.593892725103526,0.2991152490569932,1.652271882755463,1.1856156137740614,1.2553055347945268,-1.641044224765747,-0.7993477030067789,1.4611017138500644,0.26597602838642126,-0.7403451307495285,0.5591929798983243,-1.690749286893959,-0.8345836654376916,0.5476463134626944,-0.7079556554167591,-0.9102727575336879,-1.573384777189904,1.0557877848347965,-2.0423168148952926,-0.3939410697473991,-0.8109735981179884,-1.6156839421017681,1.037796484840136,0.7007384914612051,-0.6830076728060821,0.135396300457379,-0.1006023265967335,-1.8224498082486358,0.994771510828342,0.3701433383179251,-0.1888712092830549,-0.844080911638918,0.5098289741071208,1.0075031134102,0.520077463807377,2.086978289412227,-0.9348252211332713,1.3478753498159868,1.0897451176070332,-0.8640238324767641,-0.33964100878167564,0.9519653962011695,0.6765275005270918,0.6885735975074911,0.19145155271722802,-1.673378022920395,-0.22924517486738313,-1.3075024726143498,0.7725098284727508,0.17725341669573952,-0.19591580236272746,0.224229233388989,0.8475643265136501,-0.6451675002432423,-0.5739016875362275,0.022001730121128354,-0.8986342813665069,-1.3264738790599793,-0.2922465904119332,0.12537122241842122,0.20379422282701629,1.0886009599783482,1.2466412796410002,0.08469652779076495,-0.457674911961247,-0.7279945527733495,-1.6741711010816287,1.2023203495226993,0.15980672698683873,-0.41995673046038,0.5012612562248266,-1.5079146057348485,-1.1917357408402702,0.3225933374542003,-0.24203088772197975,0.01638519920994578,0.8161007188290834,-0.07897248029089297,-0.8771502627659037,1.4008444156118212,1.0608420351590055,0.27773128443893635,-1.929331655275962,-0.01029212976314771,0.021837381291718846,0.6041232735374431,1.1132326840087967,0.5156328840563099,1.1396532788102416,-0.7162383734504684,0.5627517499178857,-0.14807271651926304,1.486564015172683,1.9663977918935502,0.08375405144952583,1.295918331467592,-0.8843580772440496,0.12664038554768545,-0.47046667566197387,-0.24274996881551797,-0.3319270717919878,-0.5394728604765154,1.5612531382803807,0.8903991597834795,0.7304067332660028,1.2274741790458152,-0.3307095326374285,1.5999894423102279,1.4735949721613462,0.5304880131533918,-1.0287545848056128,0.16488831627637718,-1.1438192656217299,-0.9914982847020771,-0.6777039284955547,0.39273326964831223,0.052133457739741366,-1.2473345991038132,-0.3010882778809925,-0.24133765422925235,0.06886437545502178,-0.43069591599067514,0.5042129572586006,1.9665312959258576,-0.2163365011031876,-0.8358712325230935,1.7996414161007723,0.8037195513914728,0.678914361248283,0.6270416539545766,-0.2700503406928258,0.8764124956871,1.3572624344561737,0.9999651014411606,-1.4563643207230277,-0.8106932913481844,0.9928468845954135,1.5623113027442435,-0.6291062161340752,1.3981816576465693,-0.3391632717302819,-1.363471841593969,-1.243256141239518,-0.1406451927339677,0.6996940207513623,0.7323076199658703,-2.0754238867496126,0.1077277497143897,0.7821396993710893,-0.18602280732922657,0.8663812223476125,-0.4825896955561618,-0.5290664772675849,0.7361609949027036,1.258455479878166,0.5328776412086726,-0.3486528844102252,-0.4828683323398659,-0.9082761625542225,-0.07031150350408243,-0.4075176857365692,-0.7014962517067247,-0.5781293795938898,-0.542570675689458,-0.5648627188751477,-0.436231067492371,-1.8689545795311362,0.7348340852794457,-1.3301119816288114,-0.9248372277734712,-2.412957889487348,1.8831504164185764,1.1293359658121687,-1.1077748671354242,0.1252352082302301,0.8995125479404844],\"xaxis\":\"x\",\"yaxis\":\"y\",\"type\":\"histogram\"}],                        {\"template\":{\"data\":{\"histogram2dcontour\":[{\"type\":\"histogram2dcontour\",\"colorbar\":{\"outlinewidth\":0,\"ticks\":\"\"},\"colorscale\":[[0.0,\"#0d0887\"],[0.1111111111111111,\"#46039f\"],[0.2222222222222222,\"#7201a8\"],[0.3333333333333333,\"#9c179e\"],[0.4444444444444444,\"#bd3786\"],[0.5555555555555556,\"#d8576b\"],[0.6666666666666666,\"#ed7953\"],[0.7777777777777778,\"#fb9f3a\"],[0.8888888888888888,\"#fdca26\"],[1.0,\"#f0f921\"]]}],\"choropleth\":[{\"type\":\"choropleth\",\"colorbar\":{\"outlinewidth\":0,\"ticks\":\"\"}}],\"histogram2d\":[{\"type\":\"histogram2d\",\"colorbar\":{\"outlinewidth\":0,\"ticks\":\"\"},\"colorscale\":[[0.0,\"#0d0887\"],[0.1111111111111111,\"#46039f\"],[0.2222222222222222,\"#7201a8\"],[0.3333333333333333,\"#9c179e\"],[0.4444444444444444,\"#bd3786\"],[0.5555555555555556,\"#d8576b\"],[0.6666666666666666,\"#ed7953\"],[0.7777777777777778,\"#fb9f3a\"],[0.8888888888888888,\"#fdca26\"],[1.0,\"#f0f921\"]]}],\"heatmap\":[{\"type\":\"heatmap\",\"colorbar\":{\"outlinewidth\":0,\"ticks\":\"\"},\"colorscale\":[[0.0,\"#0d0887\"],[0.1111111111111111,\"#46039f\"],[0.2222222222222222,\"#7201a8\"],[0.3333333333333333,\"#9c179e\"],[0.4444444444444444,\"#bd3786\"],[0.5555555555555556,\"#d8576b\"],[0.6666666666666666,\"#ed7953\"],[0.7777777777777778,\"#fb9f3a\"],[0.8888888888888888,\"#fdca26\"],[1.0,\"#f0f921\"]]}],\"heatmapgl\":[{\"type\":\"heatmapgl\",\"colorbar\":{\"outlinewidth\":0,\"ticks\":\"\"},\"colorscale\":[[0.0,\"#0d0887\"],[0.1111111111111111,\"#46039f\"],[0.2222222222222222,\"#7201a8\"],[0.3333333333333333,\"#9c179e\"],[0.4444444444444444,\"#bd3786\"],[0.5555555555555556,\"#d8576b\"],[0.6666666666666666,\"#ed7953\"],[0.7777777777777778,\"#fb9f3a\"],[0.8888888888888888,\"#fdca26\"],[1.0,\"#f0f921\"]]}],\"contourcarpet\":[{\"type\":\"contourcarpet\",\"colorbar\":{\"outlinewidth\":0,\"ticks\":\"\"}}],\"contour\":[{\"type\":\"contour\",\"colorbar\":{\"outlinewidth\":0,\"ticks\":\"\"},\"colorscale\":[[0.0,\"#0d0887\"],[0.1111111111111111,\"#46039f\"],[0.2222222222222222,\"#7201a8\"],[0.3333333333333333,\"#9c179e\"],[0.4444444444444444,\"#bd3786\"],[0.5555555555555556,\"#d8576b\"],[0.6666666666666666,\"#ed7953\"],[0.7777777777777778,\"#fb9f3a\"],[0.8888888888888888,\"#fdca26\"],[1.0,\"#f0f921\"]]}],\"surface\":[{\"type\":\"surface\",\"colorbar\":{\"outlinewidth\":0,\"ticks\":\"\"},\"colorscale\":[[0.0,\"#0d0887\"],[0.1111111111111111,\"#46039f\"],[0.2222222222222222,\"#7201a8\"],[0.3333333333333333,\"#9c179e\"],[0.4444444444444444,\"#bd3786\"],[0.5555555555555556,\"#d8576b\"],[0.6666666666666666,\"#ed7953\"],[0.7777777777777778,\"#fb9f3a\"],[0.8888888888888888,\"#fdca26\"],[1.0,\"#f0f921\"]]}],\"mesh3d\":[{\"type\":\"mesh3d\",\"colorbar\":{\"outlinewidth\":0,\"ticks\":\"\"}}],\"scatter\":[{\"fillpattern\":{\"fillmode\":\"overlay\",\"size\":10,\"solidity\":0.2},\"type\":\"scatter\"}],\"parcoords\":[{\"type\":\"parcoords\",\"line\":{\"colorbar\":{\"outlinewidth\":0,\"ticks\":\"\"}}}],\"scatterpolargl\":[{\"type\":\"scatterpolargl\",\"marker\":{\"colorbar\":{\"outlinewidth\":0,\"ticks\":\"\"}}}],\"bar\":[{\"error_x\":{\"color\":\"#2a3f5f\"},\"error_y\":{\"color\":\"#2a3f5f\"},\"marker\":{\"line\":{\"color\":\"#E5ECF6\",\"width\":0.5},\"pattern\":{\"fillmode\":\"overlay\",\"size\":10,\"solidity\":0.2}},\"type\":\"bar\"}],\"scattergeo\":[{\"type\":\"scattergeo\",\"marker\":{\"colorbar\":{\"outlinewidth\":0,\"ticks\":\"\"}}}],\"scatterpolar\":[{\"type\":\"scatterpolar\",\"marker\":{\"colorbar\":{\"outlinewidth\":0,\"ticks\":\"\"}}}],\"histogram\":[{\"marker\":{\"pattern\":{\"fillmode\":\"overlay\",\"size\":10,\"solidity\":0.2}},\"type\":\"histogram\"}],\"scattergl\":[{\"type\":\"scattergl\",\"marker\":{\"colorbar\":{\"outlinewidth\":0,\"ticks\":\"\"}}}],\"scatter3d\":[{\"type\":\"scatter3d\",\"line\":{\"colorbar\":{\"outlinewidth\":0,\"ticks\":\"\"}},\"marker\":{\"colorbar\":{\"outlinewidth\":0,\"ticks\":\"\"}}}],\"scattermapbox\":[{\"type\":\"scattermapbox\",\"marker\":{\"colorbar\":{\"outlinewidth\":0,\"ticks\":\"\"}}}],\"scatterternary\":[{\"type\":\"scatterternary\",\"marker\":{\"colorbar\":{\"outlinewidth\":0,\"ticks\":\"\"}}}],\"scattercarpet\":[{\"type\":\"scattercarpet\",\"marker\":{\"colorbar\":{\"outlinewidth\":0,\"ticks\":\"\"}}}],\"carpet\":[{\"aaxis\":{\"endlinecolor\":\"#2a3f5f\",\"gridcolor\":\"white\",\"linecolor\":\"white\",\"minorgridcolor\":\"white\",\"startlinecolor\":\"#2a3f5f\"},\"baxis\":{\"endlinecolor\":\"#2a3f5f\",\"gridcolor\":\"white\",\"linecolor\":\"white\",\"minorgridcolor\":\"white\",\"startlinecolor\":\"#2a3f5f\"},\"type\":\"carpet\"}],\"table\":[{\"cells\":{\"fill\":{\"color\":\"#EBF0F8\"},\"line\":{\"color\":\"white\"}},\"header\":{\"fill\":{\"color\":\"#C8D4E3\"},\"line\":{\"color\":\"white\"}},\"type\":\"table\"}],\"barpolar\":[{\"marker\":{\"line\":{\"color\":\"#E5ECF6\",\"width\":0.5},\"pattern\":{\"fillmode\":\"overlay\",\"size\":10,\"solidity\":0.2}},\"type\":\"barpolar\"}],\"pie\":[{\"automargin\":true,\"type\":\"pie\"}]},\"layout\":{\"autotypenumbers\":\"strict\",\"colorway\":[\"#636efa\",\"#EF553B\",\"#00cc96\",\"#ab63fa\",\"#FFA15A\",\"#19d3f3\",\"#FF6692\",\"#B6E880\",\"#FF97FF\",\"#FECB52\"],\"font\":{\"color\":\"#2a3f5f\"},\"hovermode\":\"closest\",\"hoverlabel\":{\"align\":\"left\"},\"paper_bgcolor\":\"white\",\"plot_bgcolor\":\"#E5ECF6\",\"polar\":{\"bgcolor\":\"#E5ECF6\",\"angularaxis\":{\"gridcolor\":\"white\",\"linecolor\":\"white\",\"ticks\":\"\"},\"radialaxis\":{\"gridcolor\":\"white\",\"linecolor\":\"white\",\"ticks\":\"\"}},\"ternary\":{\"bgcolor\":\"#E5ECF6\",\"aaxis\":{\"gridcolor\":\"white\",\"linecolor\":\"white\",\"ticks\":\"\"},\"baxis\":{\"gridcolor\":\"white\",\"linecolor\":\"white\",\"ticks\":\"\"},\"caxis\":{\"gridcolor\":\"white\",\"linecolor\":\"white\",\"ticks\":\"\"}},\"coloraxis\":{\"colorbar\":{\"outlinewidth\":0,\"ticks\":\"\"}},\"colorscale\":{\"sequential\":[[0.0,\"#0d0887\"],[0.1111111111111111,\"#46039f\"],[0.2222222222222222,\"#7201a8\"],[0.3333333333333333,\"#9c179e\"],[0.4444444444444444,\"#bd3786\"],[0.5555555555555556,\"#d8576b\"],[0.6666666666666666,\"#ed7953\"],[0.7777777777777778,\"#fb9f3a\"],[0.8888888888888888,\"#fdca26\"],[1.0,\"#f0f921\"]],\"sequentialminus\":[[0.0,\"#0d0887\"],[0.1111111111111111,\"#46039f\"],[0.2222222222222222,\"#7201a8\"],[0.3333333333333333,\"#9c179e\"],[0.4444444444444444,\"#bd3786\"],[0.5555555555555556,\"#d8576b\"],[0.6666666666666666,\"#ed7953\"],[0.7777777777777778,\"#fb9f3a\"],[0.8888888888888888,\"#fdca26\"],[1.0,\"#f0f921\"]],\"diverging\":[[0,\"#8e0152\"],[0.1,\"#c51b7d\"],[0.2,\"#de77ae\"],[0.3,\"#f1b6da\"],[0.4,\"#fde0ef\"],[0.5,\"#f7f7f7\"],[0.6,\"#e6f5d0\"],[0.7,\"#b8e186\"],[0.8,\"#7fbc41\"],[0.9,\"#4d9221\"],[1,\"#276419\"]]},\"xaxis\":{\"gridcolor\":\"white\",\"linecolor\":\"white\",\"ticks\":\"\",\"title\":{\"standoff\":15},\"zerolinecolor\":\"white\",\"automargin\":true,\"zerolinewidth\":2},\"yaxis\":{\"gridcolor\":\"white\",\"linecolor\":\"white\",\"ticks\":\"\",\"title\":{\"standoff\":15},\"zerolinecolor\":\"white\",\"automargin\":true,\"zerolinewidth\":2},\"scene\":{\"xaxis\":{\"backgroundcolor\":\"#E5ECF6\",\"gridcolor\":\"white\",\"linecolor\":\"white\",\"showbackground\":true,\"ticks\":\"\",\"zerolinecolor\":\"white\",\"gridwidth\":2},\"yaxis\":{\"backgroundcolor\":\"#E5ECF6\",\"gridcolor\":\"white\",\"linecolor\":\"white\",\"showbackground\":true,\"ticks\":\"\",\"zerolinecolor\":\"white\",\"gridwidth\":2},\"zaxis\":{\"backgroundcolor\":\"#E5ECF6\",\"gridcolor\":\"white\",\"linecolor\":\"white\",\"showbackground\":true,\"ticks\":\"\",\"zerolinecolor\":\"white\",\"gridwidth\":2}},\"shapedefaults\":{\"line\":{\"color\":\"#2a3f5f\"}},\"annotationdefaults\":{\"arrowcolor\":\"#2a3f5f\",\"arrowhead\":0,\"arrowwidth\":1},\"geo\":{\"bgcolor\":\"white\",\"landcolor\":\"#E5ECF6\",\"subunitcolor\":\"white\",\"showland\":true,\"showlakes\":true,\"lakecolor\":\"white\"},\"title\":{\"x\":0.05},\"mapbox\":{\"style\":\"light\"}}},\"xaxis\":{\"anchor\":\"y\",\"domain\":[0.0,1.0],\"title\":{\"text\":\"Log_Salary\"}},\"yaxis\":{\"anchor\":\"x\",\"domain\":[0.0,1.0],\"title\":{\"text\":\"count\"}},\"legend\":{\"tracegroupgap\":0},\"title\":{\"text\":\"Salary Distribution\"},\"barmode\":\"relative\",\"height\":600,\"width\":800},                        {\"responsive\": true}                    ).then(function(){\n",
       "                            \n",
       "var gd = document.getElementById('9973c2ea-315f-4eff-a97f-8354ea077177');\n",
       "var x = new MutationObserver(function (mutations, observer) {{\n",
       "        var display = window.getComputedStyle(gd).display;\n",
       "        if (!display || display === 'none') {{\n",
       "            console.log([gd, 'removed!']);\n",
       "            Plotly.purge(gd);\n",
       "            observer.disconnect();\n",
       "        }}\n",
       "}});\n",
       "\n",
       "// Listen for the removal of the full notebook cells\n",
       "var notebookContainer = gd.closest('#notebook-container');\n",
       "if (notebookContainer) {{\n",
       "    x.observe(notebookContainer, {childList: true});\n",
       "}}\n",
       "\n",
       "// Listen for the clearing of the current output cell\n",
       "var outputEl = gd.closest('.output');\n",
       "if (outputEl) {{\n",
       "    x.observe(outputEl, {childList: true});\n",
       "}}\n",
       "\n",
       "                        })                };                });            </script>        </div>"
      ]
     },
     "metadata": {},
     "output_type": "display_data"
    }
   ],
   "source": [
    "fig = px.histogram(df, x='Log_Salary', nbins=50, title='Salary Distribution')\n",
    "fig.update_layout(height=600, width=800)\n",
    "fig.show()"
   ]
  },
  {
   "cell_type": "markdown",
   "metadata": {},
   "source": [
    "#### To compare the distribution of Salary across different categories, such as Position and Gender."
   ]
  },
  {
   "cell_type": "code",
   "execution_count": 26,
   "metadata": {},
   "outputs": [
    {
     "data": {
      "application/vnd.plotly.v1+json": {
       "config": {
        "plotlyServerURL": "https://plot.ly"
       },
       "data": [
        {
         "alignmentgroup": "True",
         "hovertemplate": "Gender=F<br>Position=%{x}<br>Log_Salary=%{y}<extra></extra>",
         "legendgroup": "F",
         "marker": {
          "color": "#636efa"
         },
         "name": "F",
         "notched": false,
         "offsetgroup": "F",
         "orientation": "v",
         "showlegend": true,
         "type": "box",
         "x": [
          "DevOps Engineer",
          "Systems Administrator",
          "Web Developer",
          "Systems Administrator",
          "DevOps Engineer",
          "IT Manager",
          "Network Administrator",
          "Database Administrator (DBA)",
          "IT Manager",
          "Database Administrator (DBA)",
          "IT Security Analyst",
          "Network Administrator",
          "IT Security Analyst",
          "Software Engineer",
          "IT Manager",
          "Web Developer",
          "IT Manager",
          "IT Manager",
          "IT Security Analyst",
          "Systems Analyst",
          "IT Support Specialist",
          "Database Administrator (DBA)",
          "Network Administrator",
          "IT Manager",
          "Network Administrator",
          "Software Engineer",
          "Software Engineer",
          "Network Administrator",
          "Systems Administrator",
          "IT Manager",
          "IT Manager",
          "IT Security Analyst",
          "Network Administrator",
          "Cloud Solutions Architect",
          "Cloud Solutions Architect",
          "Cloud Solutions Architect",
          "DevOps Engineer",
          "Software Engineer",
          "Database Administrator (DBA)",
          "Cloud Solutions Architect",
          "Web Developer",
          "Web Developer",
          "Software Engineer",
          "Cloud Solutions Architect",
          "Systems Administrator",
          "Web Developer",
          "IT Support Specialist",
          "IT Security Analyst",
          "Database Administrator (DBA)",
          "IT Security Analyst",
          "IT Manager",
          "IT Support Specialist",
          "IT Support Specialist",
          "Systems Analyst",
          "IT Support Specialist",
          "Software Engineer",
          "Systems Analyst",
          "Systems Administrator",
          "Database Administrator (DBA)",
          "DevOps Engineer",
          "IT Manager",
          "Systems Analyst",
          "Software Engineer",
          "IT Support Specialist",
          "Systems Analyst",
          "IT Support Specialist",
          "Web Developer",
          "Database Administrator (DBA)",
          "Systems Analyst",
          "Cloud Solutions Architect",
          "Network Administrator",
          "IT Manager",
          "IT Support Specialist",
          "DevOps Engineer",
          "Systems Analyst",
          "Software Engineer",
          "IT Manager",
          "Systems Analyst",
          "IT Security Analyst",
          "Cloud Solutions Architect",
          "Web Developer",
          "Systems Administrator",
          "IT Support Specialist",
          "Cloud Solutions Architect",
          "Cloud Solutions Architect",
          "Software Engineer",
          "Cloud Solutions Architect",
          "Database Administrator (DBA)",
          "Systems Administrator",
          "Systems Analyst",
          "Systems Analyst",
          "DevOps Engineer",
          "IT Security Analyst",
          "Systems Analyst",
          "Software Engineer",
          "IT Security Analyst",
          "Systems Administrator",
          "Cloud Solutions Architect",
          "IT Security Analyst",
          "Cloud Solutions Architect",
          "Web Developer",
          "IT Security Analyst",
          "IT Security Analyst",
          "IT Manager",
          "Web Developer",
          "Web Developer",
          "IT Support Specialist",
          "Web Developer",
          "IT Security Analyst",
          "Software Engineer",
          "Systems Administrator",
          "Systems Analyst",
          "Software Engineer",
          "IT Support Specialist",
          "Web Developer",
          "Systems Administrator",
          "Database Administrator (DBA)",
          "IT Support Specialist",
          "Systems Administrator",
          "Web Developer",
          "Systems Analyst",
          "IT Manager",
          "Systems Administrator",
          "Network Administrator",
          "Systems Administrator",
          "Software Engineer",
          "Software Engineer",
          "DevOps Engineer",
          "Database Administrator (DBA)",
          "Cloud Solutions Architect",
          "Software Engineer",
          "IT Manager",
          "Web Developer",
          "IT Manager",
          "Systems Analyst",
          "Systems Administrator",
          "Web Developer",
          "DevOps Engineer",
          "IT Manager",
          "Database Administrator (DBA)",
          "IT Support Specialist",
          "Database Administrator (DBA)",
          "Web Developer",
          "DevOps Engineer",
          "IT Support Specialist",
          "Systems Analyst",
          "Database Administrator (DBA)",
          "Web Developer",
          "IT Manager",
          "Software Engineer",
          "Database Administrator (DBA)",
          "Network Administrator",
          "Systems Analyst",
          "Software Engineer",
          "Systems Analyst",
          "IT Manager",
          "Systems Administrator",
          "Database Administrator (DBA)",
          "Systems Analyst",
          "DevOps Engineer",
          "Web Developer",
          "DevOps Engineer",
          "DevOps Engineer",
          "IT Support Specialist",
          "IT Support Specialist",
          "Cloud Solutions Architect",
          "Software Engineer",
          "Systems Administrator",
          "Web Developer",
          "DevOps Engineer",
          "Database Administrator (DBA)",
          "Systems Analyst",
          "DevOps Engineer",
          "Cloud Solutions Architect",
          "Network Administrator",
          "DevOps Engineer",
          "IT Support Specialist",
          "DevOps Engineer",
          "IT Security Analyst",
          "Web Developer",
          "DevOps Engineer",
          "Systems Analyst",
          "Systems Analyst",
          "IT Security Analyst",
          "IT Manager",
          "Network Administrator",
          "Systems Administrator",
          "Systems Analyst",
          "Web Developer",
          "Network Administrator",
          "Systems Administrator",
          "IT Security Analyst",
          "Cloud Solutions Architect",
          "Network Administrator",
          "Cloud Solutions Architect",
          "Web Developer",
          "Network Administrator",
          "IT Security Analyst"
         ],
         "x0": " ",
         "xaxis": "x",
         "y": [
          -0.36761709076186533,
          0.5937573667340736,
          -0.23602827484591316,
          -1.2209070634630255,
          -0.4883070220055694,
          0.7866530798923423,
          0.7160830386460577,
          0.29408885507543203,
          0.5526508491079464,
          1.2231353664064075,
          0.10724881354329087,
          0.33878879621836466,
          1.8445328724428083,
          -1.6480288031242674,
          1.8730203823719438,
          -1.64840122758669,
          0.4808376523842501,
          0.7160644874751803,
          0.8907138841521145,
          0.29136889072713373,
          -1.0346963713734993,
          0.31660855439698654,
          0.534081595473689,
          -0.3015074776081569,
          0.2685467768526663,
          -0.2574266777924602,
          -1.079935822661515,
          -0.23083076577605982,
          0.5637677525004146,
          0.4146787691066053,
          1.0966985726416818,
          0.5881441916853105,
          -1.560623721243561,
          0.6721245937688874,
          1.7609996940087607,
          -0.3583868456157684,
          0.9603101371505828,
          -1.8299664259219461,
          0.3963953282968101,
          0.3776856359090244,
          -1.4158554481530348,
          -0.16173449088868969,
          -0.3784358243303446,
          1.3595001555234052,
          0.18523856548586495,
          -1.9529152520927378,
          -2.4236517959752866,
          -1.6595959031863683,
          0.47240676889479355,
          0.5640607650859855,
          1.5035689581521798,
          -0.6104246748615058,
          -0.9567354251694856,
          0.6203611451464421,
          -3.091226556063907,
          0.8120093684575201,
          -0.1935404737091964,
          -2.358429979473999,
          1.1540466954774542,
          1.8190354951214065,
          2.265808803076531,
          -0.6297505043038858,
          -0.6635379696872046,
          -0.24902368470217887,
          -0.10707084847309642,
          -0.7794972711480531,
          -2.1955139790327842,
          -0.3689035927940118,
          -1.118265400577752,
          0.05995458654975942,
          -0.2786955830354418,
          0.19599205563739175,
          -2.701310798891322,
          0.2582719692220046,
          -0.9694276703681756,
          0.7289109994638122,
          -0.10633507372011929,
          0.04471090210496683,
          1.0045272292933254,
          0.21920511454843059,
          0.5490405871286651,
          0.20946158843322837,
          -1.213114046612104,
          0.45226846820054095,
          -0.44122710317275277,
          0.16694532233149834,
          0.6115134701624505,
          -0.39767449926189063,
          -0.7685165230806503,
          0.9890276775798736,
          -1.0644166199187424,
          0.6352328164781357,
          -0.19705360579989528,
          0.2337274908364521,
          1.0646352833039936,
          1.7376136877206625,
          -0.47249297457449574,
          0.2699068539929098,
          0.6968945062151198,
          0.5603862333418774,
          0.5089335185461611,
          0.6330583641443894,
          0.38616327257166255,
          0.5423577913762611,
          0.4195448299708022,
          -1.7843714658750578,
          -1.3798221948135956,
          0.7826838465374499,
          0.5464478893057871,
          -0.5571941896028395,
          0.2991152490569932,
          1.1856156137740614,
          1.2553055347945268,
          0.26597602838642126,
          -0.7403451307495285,
          -0.8345836654376916,
          -0.7079556554167591,
          -0.9102727575336879,
          1.0557877848347965,
          -2.0423168148952926,
          -1.6156839421017681,
          0.7007384914612051,
          0.135396300457379,
          -0.1006023265967335,
          -1.8224498082486358,
          0.3701433383179251,
          1.0075031134102,
          0.520077463807377,
          -0.9348252211332713,
          1.0897451176070332,
          -0.8640238324767641,
          0.6765275005270918,
          -1.673378022920395,
          -0.22924517486738313,
          -0.5739016875362275,
          0.022001730121128354,
          -0.2922465904119332,
          0.12537122241842122,
          1.2466412796410002,
          0.08469652779076495,
          -0.457674911961247,
          1.2023203495226993,
          0.15980672698683873,
          0.5012612562248266,
          -1.5079146057348485,
          -1.1917357408402702,
          -0.07897248029089297,
          -0.8771502627659037,
          1.4008444156118212,
          0.27773128443893635,
          0.021837381291718846,
          0.5156328840563099,
          1.1396532788102416,
          -0.7162383734504684,
          1.486564015172683,
          1.295918331467592,
          0.12664038554768545,
          -0.47046667566197387,
          -0.3319270717919878,
          1.5612531382803807,
          0.8903991597834795,
          0.7304067332660028,
          0.16488831627637718,
          -1.1438192656217299,
          -0.9914982847020771,
          0.052133457739741366,
          -0.24133765422925235,
          0.06886437545502178,
          0.5042129572586006,
          1.9665312959258576,
          0.678914361248283,
          -0.2700503406928258,
          0.8764124956871,
          1.3572624344561737,
          0.9928468845954135,
          1.5623113027442435,
          -0.6291062161340752,
          1.3981816576465693,
          -0.3391632717302819,
          -1.243256141239518,
          0.6996940207513623,
          0.7821396993710893,
          0.5328776412086726,
          -0.3486528844102252,
          -0.4828683323398659,
          -0.07031150350408243,
          -0.4075176857365692,
          -0.7014962517067247,
          -0.5781293795938898,
          -0.542570675689458,
          -0.5648627188751477,
          -0.436231067492371,
          0.7348340852794457,
          -1.3301119816288114,
          1.8831504164185764,
          1.1293359658121687,
          -1.1077748671354242,
          0.8995125479404844
         ],
         "y0": " ",
         "yaxis": "y"
        },
        {
         "alignmentgroup": "True",
         "hovertemplate": "Gender=M<br>Position=%{x}<br>Log_Salary=%{y}<extra></extra>",
         "legendgroup": "M",
         "marker": {
          "color": "#EF553B"
         },
         "name": "M",
         "notched": false,
         "offsetgroup": "M",
         "orientation": "v",
         "showlegend": true,
         "type": "box",
         "x": [
          "DevOps Engineer",
          "Web Developer",
          "Systems Administrator",
          "DevOps Engineer",
          "DevOps Engineer",
          "DevOps Engineer",
          "IT Security Analyst",
          "IT Security Analyst",
          "Software Engineer",
          "Database Administrator (DBA)",
          "Network Administrator",
          "IT Security Analyst",
          "DevOps Engineer",
          "IT Support Specialist",
          "IT Security Analyst",
          "Network Administrator",
          "IT Manager",
          "Software Engineer",
          "IT Security Analyst",
          "Database Administrator (DBA)",
          "Systems Administrator",
          "IT Support Specialist",
          "IT Manager",
          "IT Manager",
          "Network Administrator",
          "Systems Administrator",
          "IT Manager",
          "Systems Analyst",
          "Database Administrator (DBA)",
          "IT Manager",
          "IT Support Specialist",
          "DevOps Engineer",
          "IT Manager",
          "Systems Analyst",
          "IT Security Analyst",
          "Network Administrator",
          "Software Engineer",
          "DevOps Engineer",
          "Cloud Solutions Architect",
          "Cloud Solutions Architect",
          "Database Administrator (DBA)",
          "Web Developer",
          "Systems Administrator",
          "IT Security Analyst",
          "IT Security Analyst",
          "Systems Administrator",
          "IT Manager",
          "Cloud Solutions Architect",
          "IT Support Specialist",
          "DevOps Engineer",
          "Cloud Solutions Architect",
          "Database Administrator (DBA)",
          "IT Security Analyst",
          "IT Manager",
          "Software Engineer",
          "Database Administrator (DBA)",
          "Systems Analyst",
          "IT Manager",
          "IT Manager",
          "DevOps Engineer",
          "Network Administrator",
          "Software Engineer",
          "Systems Analyst",
          "IT Support Specialist",
          "Systems Analyst",
          "IT Support Specialist",
          "Web Developer",
          "Web Developer",
          "IT Support Specialist",
          "Database Administrator (DBA)",
          "Systems Administrator",
          "IT Security Analyst",
          "Database Administrator (DBA)",
          "Cloud Solutions Architect",
          "Software Engineer",
          "Systems Analyst",
          "Software Engineer",
          "IT Security Analyst",
          "DevOps Engineer",
          "Database Administrator (DBA)",
          "Software Engineer",
          "Software Engineer",
          "Systems Analyst",
          "IT Security Analyst",
          "IT Support Specialist",
          "IT Manager",
          "Network Administrator",
          "Database Administrator (DBA)",
          "Network Administrator",
          "Cloud Solutions Architect",
          "Network Administrator",
          "IT Security Analyst",
          "Web Developer",
          "IT Security Analyst",
          "Systems Administrator",
          "IT Support Specialist",
          "IT Security Analyst",
          "IT Manager",
          "Web Developer",
          "Database Administrator (DBA)",
          "Web Developer",
          "DevOps Engineer",
          "DevOps Engineer",
          "Web Developer",
          "Database Administrator (DBA)",
          "Systems Administrator",
          "IT Support Specialist",
          "Network Administrator",
          "Web Developer",
          "IT Security Analyst",
          "Database Administrator (DBA)",
          "Software Engineer",
          "Systems Administrator",
          "Systems Administrator",
          "Web Developer",
          "DevOps Engineer",
          "Systems Administrator",
          "Web Developer",
          "IT Manager",
          "DevOps Engineer",
          "IT Support Specialist",
          "Software Engineer",
          "Systems Administrator",
          "Systems Administrator",
          "Web Developer",
          "DevOps Engineer",
          "Systems Administrator",
          "Software Engineer",
          "Database Administrator (DBA)",
          "Systems Analyst",
          "IT Security Analyst",
          "Cloud Solutions Architect",
          "DevOps Engineer",
          "Network Administrator",
          "IT Manager",
          "DevOps Engineer",
          "Systems Analyst",
          "Systems Analyst",
          "Software Engineer",
          "Database Administrator (DBA)",
          "Systems Administrator",
          "Network Administrator",
          "Database Administrator (DBA)",
          "Web Developer",
          "Network Administrator",
          "Systems Analyst",
          "Software Engineer",
          "DevOps Engineer",
          "IT Support Specialist",
          "IT Security Analyst",
          "Database Administrator (DBA)",
          "Database Administrator (DBA)",
          "Web Developer",
          "IT Security Analyst",
          "IT Manager",
          "Systems Analyst",
          "Web Developer",
          "DevOps Engineer",
          "IT Security Analyst",
          "Software Engineer",
          "IT Manager",
          "Web Developer",
          "Cloud Solutions Architect",
          "Web Developer",
          "Cloud Solutions Architect",
          "IT Security Analyst",
          "IT Manager",
          "Systems Analyst",
          "Network Administrator",
          "Database Administrator (DBA)",
          "DevOps Engineer",
          "Systems Analyst",
          "Web Developer",
          "Systems Administrator",
          "Cloud Solutions Architect",
          "Web Developer",
          "Systems Analyst",
          "Software Engineer",
          "Systems Administrator",
          "Web Developer",
          "Cloud Solutions Architect",
          "Database Administrator (DBA)",
          "IT Security Analyst",
          "IT Manager",
          "Software Engineer",
          "Network Administrator",
          "Systems Administrator",
          "Network Administrator",
          "Systems Administrator",
          "Network Administrator",
          "Systems Administrator",
          "Network Administrator",
          "Cloud Solutions Architect",
          "Database Administrator (DBA)",
          "Cloud Solutions Architect",
          "IT Manager",
          "IT Manager",
          "Web Developer",
          "IT Support Specialist",
          "Software Engineer",
          "IT Support Specialist",
          "Database Administrator (DBA)"
         ],
         "x0": " ",
         "xaxis": "x",
         "y": [
          -0.10839570613433153,
          1.1055543153598433,
          -1.397859768138992,
          -0.3272185148265362,
          -0.5339673605226344,
          0.32405585037704226,
          -0.21814439041905484,
          -0.3361659125878417,
          -1.1496834063385146,
          0.7078906213593535,
          -0.1860731975978039,
          0.4704717097194461,
          0.241016421023216,
          -0.10805216732267603,
          -0.7303271821122551,
          -0.6154045667229182,
          -1.0288887302446486,
          0.9382857780564865,
          0.5281162188104614,
          -0.05684907303840489,
          -1.8881948600320015,
          0.12802224512888383,
          1.11221113788083,
          1.3379175229135989,
          0.2863721826585316,
          1.2540693425600482,
          -0.33367485489450716,
          -1.4663457128408492,
          -0.4989624367593149,
          2.1747263205898304,
          -2.7675336892433395,
          0.9796784873360941,
          1.1847454481498294,
          0.03722289080413461,
          -1.3384818005925037,
          -1.088547416244925,
          0.21707440917748722,
          0.17587217225309876,
          1.0344014872504157,
          -0.3647245129804658,
          0.6631290142543962,
          -2.275206363477812,
          0.34681121600090287,
          -0.7360605670126725,
          0.09387563855777632,
          -0.5669549973279374,
          0.6946529782161456,
          0.15186460528010448,
          -2.0469086297056958,
          -0.03661436573804461,
          0.7630492294104916,
          -1.08461440047752,
          0.2379851938357892,
          1.4759037994366464,
          -0.40539984584882255,
          -0.02893661738233339,
          0.492908693241368,
          0.781069250081386,
          2.278674887205842,
          1.5980921778262551,
          0.4644770615543843,
          1.608416118459329,
          -1.0013164547225222,
          -0.9454991378935209,
          0.6439906599355878,
          -0.5549946033687431,
          -2.2613661034802397,
          0.5385575683759838,
          -0.9395391062873077,
          0.2473522930802477,
          -2.0931283828147187,
          -1.197412006045779,
          -1.810664086883904,
          1.6409623801731994,
          1.095263522098292,
          1.068012111454657,
          0.09119370571731168,
          1.5037251648403251,
          1.1039284165274335,
          1.2880451628756808,
          0.4578830086083096,
          0.5344367667030632,
          0.3778520987032574,
          -0.4196839786621601,
          -1.7129573116079366,
          1.9862114492806235,
          -1.7882743987388892,
          0.22107096189397193,
          0.3487871464806839,
          -0.3776828652964721,
          1.1112865766313744,
          -1.392049927855349,
          -0.17423001725002354,
          -0.10800309361860115,
          -0.4062142195453754,
          -0.044120079097271114,
          -0.23607952746034627,
          0.6175811163719913,
          -0.20125463957166234,
          0.17413355757905088,
          -0.9472275206700309,
          0.09435675287078478,
          1.339944807975679,
          -0.12730288507085644,
          -0.8564859192423631,
          0.07419734736291551,
          -0.34737519061367517,
          -1.1198906305334346,
          -0.2460394329528202,
          1.1391872841897537,
          -0.8053103478084103,
          -0.6470818943961087,
          0.10610817594420408,
          0.16690062007244272,
          0.593892725103526,
          1.652271882755463,
          -1.641044224765747,
          -0.7993477030067789,
          1.4611017138500644,
          0.5591929798983243,
          -1.690749286893959,
          0.5476463134626944,
          -1.573384777189904,
          -0.3939410697473991,
          -0.8109735981179884,
          1.037796484840136,
          -0.6830076728060821,
          0.994771510828342,
          -0.1888712092830549,
          -0.844080911638918,
          0.5098289741071208,
          2.086978289412227,
          1.3478753498159868,
          -0.33964100878167564,
          0.9519653962011695,
          0.6885735975074911,
          0.19145155271722802,
          -1.3075024726143498,
          0.7725098284727508,
          0.17725341669573952,
          -0.19591580236272746,
          0.224229233388989,
          0.8475643265136501,
          -0.6451675002432423,
          -0.8986342813665069,
          -1.3264738790599793,
          0.20379422282701629,
          1.0886009599783482,
          -0.7279945527733495,
          -1.6741711010816287,
          -0.41995673046038,
          0.3225933374542003,
          -0.24203088772197975,
          0.01638519920994578,
          0.8161007188290834,
          1.0608420351590055,
          -1.929331655275962,
          -0.01029212976314771,
          0.6041232735374431,
          1.1132326840087967,
          0.5627517499178857,
          -0.14807271651926304,
          1.9663977918935502,
          0.08375405144952583,
          -0.8843580772440496,
          -0.24274996881551797,
          -0.5394728604765154,
          1.2274741790458152,
          -0.3307095326374285,
          1.5999894423102279,
          1.4735949721613462,
          0.5304880131533918,
          -1.0287545848056128,
          -0.6777039284955547,
          0.39273326964831223,
          -1.2473345991038132,
          -0.3010882778809925,
          -0.43069591599067514,
          -0.2163365011031876,
          -0.8358712325230935,
          1.7996414161007723,
          0.8037195513914728,
          0.6270416539545766,
          0.9999651014411606,
          -1.4563643207230277,
          -0.8106932913481844,
          -1.363471841593969,
          -0.1406451927339677,
          0.7323076199658703,
          -2.0754238867496126,
          0.1077277497143897,
          -0.18602280732922657,
          0.8663812223476125,
          -0.4825896955561618,
          -0.5290664772675849,
          0.7361609949027036,
          1.258455479878166,
          -0.9082761625542225,
          -1.8689545795311362,
          -0.9248372277734712,
          -2.412957889487348,
          0.1252352082302301
         ],
         "y0": " ",
         "yaxis": "y"
        }
       ],
       "layout": {
        "boxmode": "group",
        "height": 600,
        "legend": {
         "title": {
          "text": "Gender"
         },
         "tracegroupgap": 0
        },
        "template": {
         "data": {
          "bar": [
           {
            "error_x": {
             "color": "#2a3f5f"
            },
            "error_y": {
             "color": "#2a3f5f"
            },
            "marker": {
             "line": {
              "color": "#E5ECF6",
              "width": 0.5
             },
             "pattern": {
              "fillmode": "overlay",
              "size": 10,
              "solidity": 0.2
             }
            },
            "type": "bar"
           }
          ],
          "barpolar": [
           {
            "marker": {
             "line": {
              "color": "#E5ECF6",
              "width": 0.5
             },
             "pattern": {
              "fillmode": "overlay",
              "size": 10,
              "solidity": 0.2
             }
            },
            "type": "barpolar"
           }
          ],
          "carpet": [
           {
            "aaxis": {
             "endlinecolor": "#2a3f5f",
             "gridcolor": "white",
             "linecolor": "white",
             "minorgridcolor": "white",
             "startlinecolor": "#2a3f5f"
            },
            "baxis": {
             "endlinecolor": "#2a3f5f",
             "gridcolor": "white",
             "linecolor": "white",
             "minorgridcolor": "white",
             "startlinecolor": "#2a3f5f"
            },
            "type": "carpet"
           }
          ],
          "choropleth": [
           {
            "colorbar": {
             "outlinewidth": 0,
             "ticks": ""
            },
            "type": "choropleth"
           }
          ],
          "contour": [
           {
            "colorbar": {
             "outlinewidth": 0,
             "ticks": ""
            },
            "colorscale": [
             [
              0,
              "#0d0887"
             ],
             [
              0.1111111111111111,
              "#46039f"
             ],
             [
              0.2222222222222222,
              "#7201a8"
             ],
             [
              0.3333333333333333,
              "#9c179e"
             ],
             [
              0.4444444444444444,
              "#bd3786"
             ],
             [
              0.5555555555555556,
              "#d8576b"
             ],
             [
              0.6666666666666666,
              "#ed7953"
             ],
             [
              0.7777777777777778,
              "#fb9f3a"
             ],
             [
              0.8888888888888888,
              "#fdca26"
             ],
             [
              1,
              "#f0f921"
             ]
            ],
            "type": "contour"
           }
          ],
          "contourcarpet": [
           {
            "colorbar": {
             "outlinewidth": 0,
             "ticks": ""
            },
            "type": "contourcarpet"
           }
          ],
          "heatmap": [
           {
            "colorbar": {
             "outlinewidth": 0,
             "ticks": ""
            },
            "colorscale": [
             [
              0,
              "#0d0887"
             ],
             [
              0.1111111111111111,
              "#46039f"
             ],
             [
              0.2222222222222222,
              "#7201a8"
             ],
             [
              0.3333333333333333,
              "#9c179e"
             ],
             [
              0.4444444444444444,
              "#bd3786"
             ],
             [
              0.5555555555555556,
              "#d8576b"
             ],
             [
              0.6666666666666666,
              "#ed7953"
             ],
             [
              0.7777777777777778,
              "#fb9f3a"
             ],
             [
              0.8888888888888888,
              "#fdca26"
             ],
             [
              1,
              "#f0f921"
             ]
            ],
            "type": "heatmap"
           }
          ],
          "heatmapgl": [
           {
            "colorbar": {
             "outlinewidth": 0,
             "ticks": ""
            },
            "colorscale": [
             [
              0,
              "#0d0887"
             ],
             [
              0.1111111111111111,
              "#46039f"
             ],
             [
              0.2222222222222222,
              "#7201a8"
             ],
             [
              0.3333333333333333,
              "#9c179e"
             ],
             [
              0.4444444444444444,
              "#bd3786"
             ],
             [
              0.5555555555555556,
              "#d8576b"
             ],
             [
              0.6666666666666666,
              "#ed7953"
             ],
             [
              0.7777777777777778,
              "#fb9f3a"
             ],
             [
              0.8888888888888888,
              "#fdca26"
             ],
             [
              1,
              "#f0f921"
             ]
            ],
            "type": "heatmapgl"
           }
          ],
          "histogram": [
           {
            "marker": {
             "pattern": {
              "fillmode": "overlay",
              "size": 10,
              "solidity": 0.2
             }
            },
            "type": "histogram"
           }
          ],
          "histogram2d": [
           {
            "colorbar": {
             "outlinewidth": 0,
             "ticks": ""
            },
            "colorscale": [
             [
              0,
              "#0d0887"
             ],
             [
              0.1111111111111111,
              "#46039f"
             ],
             [
              0.2222222222222222,
              "#7201a8"
             ],
             [
              0.3333333333333333,
              "#9c179e"
             ],
             [
              0.4444444444444444,
              "#bd3786"
             ],
             [
              0.5555555555555556,
              "#d8576b"
             ],
             [
              0.6666666666666666,
              "#ed7953"
             ],
             [
              0.7777777777777778,
              "#fb9f3a"
             ],
             [
              0.8888888888888888,
              "#fdca26"
             ],
             [
              1,
              "#f0f921"
             ]
            ],
            "type": "histogram2d"
           }
          ],
          "histogram2dcontour": [
           {
            "colorbar": {
             "outlinewidth": 0,
             "ticks": ""
            },
            "colorscale": [
             [
              0,
              "#0d0887"
             ],
             [
              0.1111111111111111,
              "#46039f"
             ],
             [
              0.2222222222222222,
              "#7201a8"
             ],
             [
              0.3333333333333333,
              "#9c179e"
             ],
             [
              0.4444444444444444,
              "#bd3786"
             ],
             [
              0.5555555555555556,
              "#d8576b"
             ],
             [
              0.6666666666666666,
              "#ed7953"
             ],
             [
              0.7777777777777778,
              "#fb9f3a"
             ],
             [
              0.8888888888888888,
              "#fdca26"
             ],
             [
              1,
              "#f0f921"
             ]
            ],
            "type": "histogram2dcontour"
           }
          ],
          "mesh3d": [
           {
            "colorbar": {
             "outlinewidth": 0,
             "ticks": ""
            },
            "type": "mesh3d"
           }
          ],
          "parcoords": [
           {
            "line": {
             "colorbar": {
              "outlinewidth": 0,
              "ticks": ""
             }
            },
            "type": "parcoords"
           }
          ],
          "pie": [
           {
            "automargin": true,
            "type": "pie"
           }
          ],
          "scatter": [
           {
            "fillpattern": {
             "fillmode": "overlay",
             "size": 10,
             "solidity": 0.2
            },
            "type": "scatter"
           }
          ],
          "scatter3d": [
           {
            "line": {
             "colorbar": {
              "outlinewidth": 0,
              "ticks": ""
             }
            },
            "marker": {
             "colorbar": {
              "outlinewidth": 0,
              "ticks": ""
             }
            },
            "type": "scatter3d"
           }
          ],
          "scattercarpet": [
           {
            "marker": {
             "colorbar": {
              "outlinewidth": 0,
              "ticks": ""
             }
            },
            "type": "scattercarpet"
           }
          ],
          "scattergeo": [
           {
            "marker": {
             "colorbar": {
              "outlinewidth": 0,
              "ticks": ""
             }
            },
            "type": "scattergeo"
           }
          ],
          "scattergl": [
           {
            "marker": {
             "colorbar": {
              "outlinewidth": 0,
              "ticks": ""
             }
            },
            "type": "scattergl"
           }
          ],
          "scattermapbox": [
           {
            "marker": {
             "colorbar": {
              "outlinewidth": 0,
              "ticks": ""
             }
            },
            "type": "scattermapbox"
           }
          ],
          "scatterpolar": [
           {
            "marker": {
             "colorbar": {
              "outlinewidth": 0,
              "ticks": ""
             }
            },
            "type": "scatterpolar"
           }
          ],
          "scatterpolargl": [
           {
            "marker": {
             "colorbar": {
              "outlinewidth": 0,
              "ticks": ""
             }
            },
            "type": "scatterpolargl"
           }
          ],
          "scatterternary": [
           {
            "marker": {
             "colorbar": {
              "outlinewidth": 0,
              "ticks": ""
             }
            },
            "type": "scatterternary"
           }
          ],
          "surface": [
           {
            "colorbar": {
             "outlinewidth": 0,
             "ticks": ""
            },
            "colorscale": [
             [
              0,
              "#0d0887"
             ],
             [
              0.1111111111111111,
              "#46039f"
             ],
             [
              0.2222222222222222,
              "#7201a8"
             ],
             [
              0.3333333333333333,
              "#9c179e"
             ],
             [
              0.4444444444444444,
              "#bd3786"
             ],
             [
              0.5555555555555556,
              "#d8576b"
             ],
             [
              0.6666666666666666,
              "#ed7953"
             ],
             [
              0.7777777777777778,
              "#fb9f3a"
             ],
             [
              0.8888888888888888,
              "#fdca26"
             ],
             [
              1,
              "#f0f921"
             ]
            ],
            "type": "surface"
           }
          ],
          "table": [
           {
            "cells": {
             "fill": {
              "color": "#EBF0F8"
             },
             "line": {
              "color": "white"
             }
            },
            "header": {
             "fill": {
              "color": "#C8D4E3"
             },
             "line": {
              "color": "white"
             }
            },
            "type": "table"
           }
          ]
         },
         "layout": {
          "annotationdefaults": {
           "arrowcolor": "#2a3f5f",
           "arrowhead": 0,
           "arrowwidth": 1
          },
          "autotypenumbers": "strict",
          "coloraxis": {
           "colorbar": {
            "outlinewidth": 0,
            "ticks": ""
           }
          },
          "colorscale": {
           "diverging": [
            [
             0,
             "#8e0152"
            ],
            [
             0.1,
             "#c51b7d"
            ],
            [
             0.2,
             "#de77ae"
            ],
            [
             0.3,
             "#f1b6da"
            ],
            [
             0.4,
             "#fde0ef"
            ],
            [
             0.5,
             "#f7f7f7"
            ],
            [
             0.6,
             "#e6f5d0"
            ],
            [
             0.7,
             "#b8e186"
            ],
            [
             0.8,
             "#7fbc41"
            ],
            [
             0.9,
             "#4d9221"
            ],
            [
             1,
             "#276419"
            ]
           ],
           "sequential": [
            [
             0,
             "#0d0887"
            ],
            [
             0.1111111111111111,
             "#46039f"
            ],
            [
             0.2222222222222222,
             "#7201a8"
            ],
            [
             0.3333333333333333,
             "#9c179e"
            ],
            [
             0.4444444444444444,
             "#bd3786"
            ],
            [
             0.5555555555555556,
             "#d8576b"
            ],
            [
             0.6666666666666666,
             "#ed7953"
            ],
            [
             0.7777777777777778,
             "#fb9f3a"
            ],
            [
             0.8888888888888888,
             "#fdca26"
            ],
            [
             1,
             "#f0f921"
            ]
           ],
           "sequentialminus": [
            [
             0,
             "#0d0887"
            ],
            [
             0.1111111111111111,
             "#46039f"
            ],
            [
             0.2222222222222222,
             "#7201a8"
            ],
            [
             0.3333333333333333,
             "#9c179e"
            ],
            [
             0.4444444444444444,
             "#bd3786"
            ],
            [
             0.5555555555555556,
             "#d8576b"
            ],
            [
             0.6666666666666666,
             "#ed7953"
            ],
            [
             0.7777777777777778,
             "#fb9f3a"
            ],
            [
             0.8888888888888888,
             "#fdca26"
            ],
            [
             1,
             "#f0f921"
            ]
           ]
          },
          "colorway": [
           "#636efa",
           "#EF553B",
           "#00cc96",
           "#ab63fa",
           "#FFA15A",
           "#19d3f3",
           "#FF6692",
           "#B6E880",
           "#FF97FF",
           "#FECB52"
          ],
          "font": {
           "color": "#2a3f5f"
          },
          "geo": {
           "bgcolor": "white",
           "lakecolor": "white",
           "landcolor": "#E5ECF6",
           "showlakes": true,
           "showland": true,
           "subunitcolor": "white"
          },
          "hoverlabel": {
           "align": "left"
          },
          "hovermode": "closest",
          "mapbox": {
           "style": "light"
          },
          "paper_bgcolor": "white",
          "plot_bgcolor": "#E5ECF6",
          "polar": {
           "angularaxis": {
            "gridcolor": "white",
            "linecolor": "white",
            "ticks": ""
           },
           "bgcolor": "#E5ECF6",
           "radialaxis": {
            "gridcolor": "white",
            "linecolor": "white",
            "ticks": ""
           }
          },
          "scene": {
           "xaxis": {
            "backgroundcolor": "#E5ECF6",
            "gridcolor": "white",
            "gridwidth": 2,
            "linecolor": "white",
            "showbackground": true,
            "ticks": "",
            "zerolinecolor": "white"
           },
           "yaxis": {
            "backgroundcolor": "#E5ECF6",
            "gridcolor": "white",
            "gridwidth": 2,
            "linecolor": "white",
            "showbackground": true,
            "ticks": "",
            "zerolinecolor": "white"
           },
           "zaxis": {
            "backgroundcolor": "#E5ECF6",
            "gridcolor": "white",
            "gridwidth": 2,
            "linecolor": "white",
            "showbackground": true,
            "ticks": "",
            "zerolinecolor": "white"
           }
          },
          "shapedefaults": {
           "line": {
            "color": "#2a3f5f"
           }
          },
          "ternary": {
           "aaxis": {
            "gridcolor": "white",
            "linecolor": "white",
            "ticks": ""
           },
           "baxis": {
            "gridcolor": "white",
            "linecolor": "white",
            "ticks": ""
           },
           "bgcolor": "#E5ECF6",
           "caxis": {
            "gridcolor": "white",
            "linecolor": "white",
            "ticks": ""
           }
          },
          "title": {
           "x": 0.05
          },
          "xaxis": {
           "automargin": true,
           "gridcolor": "white",
           "linecolor": "white",
           "ticks": "",
           "title": {
            "standoff": 15
           },
           "zerolinecolor": "white",
           "zerolinewidth": 2
          },
          "yaxis": {
           "automargin": true,
           "gridcolor": "white",
           "linecolor": "white",
           "ticks": "",
           "title": {
            "standoff": 15
           },
           "zerolinecolor": "white",
           "zerolinewidth": 2
          }
         }
        },
        "title": {
         "text": "Salary Distribution by Position and Gender"
        },
        "width": 800,
        "xaxis": {
         "anchor": "y",
         "domain": [
          0,
          1
         ],
         "title": {
          "text": "Position"
         }
        },
        "yaxis": {
         "anchor": "x",
         "domain": [
          0,
          1
         ],
         "title": {
          "text": "Log_Salary"
         }
        }
       }
      },
      "text/html": [
       "<div>                            <div id=\"b4839544-aee9-43af-aa58-8081f3c63308\" class=\"plotly-graph-div\" style=\"height:600px; width:800px;\"></div>            <script type=\"text/javascript\">                require([\"plotly\"], function(Plotly) {                    window.PLOTLYENV=window.PLOTLYENV || {};                                    if (document.getElementById(\"b4839544-aee9-43af-aa58-8081f3c63308\")) {                    Plotly.newPlot(                        \"b4839544-aee9-43af-aa58-8081f3c63308\",                        [{\"alignmentgroup\":\"True\",\"hovertemplate\":\"Gender=F\\u003cbr\\u003ePosition=%{x}\\u003cbr\\u003eLog_Salary=%{y}\\u003cextra\\u003e\\u003c\\u002fextra\\u003e\",\"legendgroup\":\"F\",\"marker\":{\"color\":\"#636efa\"},\"name\":\"F\",\"notched\":false,\"offsetgroup\":\"F\",\"orientation\":\"v\",\"showlegend\":true,\"x\":[\"DevOps Engineer\",\"Systems Administrator\",\"Web Developer\",\"Systems Administrator\",\"DevOps Engineer\",\"IT Manager\",\"Network Administrator\",\"Database Administrator (DBA)\",\"IT Manager\",\"Database Administrator (DBA)\",\"IT Security Analyst\",\"Network Administrator\",\"IT Security Analyst\",\"Software Engineer\",\"IT Manager\",\"Web Developer\",\"IT Manager\",\"IT Manager\",\"IT Security Analyst\",\"Systems Analyst\",\"IT Support Specialist\",\"Database Administrator (DBA)\",\"Network Administrator\",\"IT Manager\",\"Network Administrator\",\"Software Engineer\",\"Software Engineer\",\"Network Administrator\",\"Systems Administrator\",\"IT Manager\",\"IT Manager\",\"IT Security Analyst\",\"Network Administrator\",\"Cloud Solutions Architect\",\"Cloud Solutions Architect\",\"Cloud Solutions Architect\",\"DevOps Engineer\",\"Software Engineer\",\"Database Administrator (DBA)\",\"Cloud Solutions Architect\",\"Web Developer\",\"Web Developer\",\"Software Engineer\",\"Cloud Solutions Architect\",\"Systems Administrator\",\"Web Developer\",\"IT Support Specialist\",\"IT Security Analyst\",\"Database Administrator (DBA)\",\"IT Security Analyst\",\"IT Manager\",\"IT Support Specialist\",\"IT Support Specialist\",\"Systems Analyst\",\"IT Support Specialist\",\"Software Engineer\",\"Systems Analyst\",\"Systems Administrator\",\"Database Administrator (DBA)\",\"DevOps Engineer\",\"IT Manager\",\"Systems Analyst\",\"Software Engineer\",\"IT Support Specialist\",\"Systems Analyst\",\"IT Support Specialist\",\"Web Developer\",\"Database Administrator (DBA)\",\"Systems Analyst\",\"Cloud Solutions Architect\",\"Network Administrator\",\"IT Manager\",\"IT Support Specialist\",\"DevOps Engineer\",\"Systems Analyst\",\"Software Engineer\",\"IT Manager\",\"Systems Analyst\",\"IT Security Analyst\",\"Cloud Solutions Architect\",\"Web Developer\",\"Systems Administrator\",\"IT Support Specialist\",\"Cloud Solutions Architect\",\"Cloud Solutions Architect\",\"Software Engineer\",\"Cloud Solutions Architect\",\"Database Administrator (DBA)\",\"Systems Administrator\",\"Systems Analyst\",\"Systems Analyst\",\"DevOps Engineer\",\"IT Security Analyst\",\"Systems Analyst\",\"Software Engineer\",\"IT Security Analyst\",\"Systems Administrator\",\"Cloud Solutions Architect\",\"IT Security Analyst\",\"Cloud Solutions Architect\",\"Web Developer\",\"IT Security Analyst\",\"IT Security Analyst\",\"IT Manager\",\"Web Developer\",\"Web Developer\",\"IT Support Specialist\",\"Web Developer\",\"IT Security Analyst\",\"Software Engineer\",\"Systems Administrator\",\"Systems Analyst\",\"Software Engineer\",\"IT Support Specialist\",\"Web Developer\",\"Systems Administrator\",\"Database Administrator (DBA)\",\"IT Support Specialist\",\"Systems Administrator\",\"Web Developer\",\"Systems Analyst\",\"IT Manager\",\"Systems Administrator\",\"Network Administrator\",\"Systems Administrator\",\"Software Engineer\",\"Software Engineer\",\"DevOps Engineer\",\"Database Administrator (DBA)\",\"Cloud Solutions Architect\",\"Software Engineer\",\"IT Manager\",\"Web Developer\",\"IT Manager\",\"Systems Analyst\",\"Systems Administrator\",\"Web Developer\",\"DevOps Engineer\",\"IT Manager\",\"Database Administrator (DBA)\",\"IT Support Specialist\",\"Database Administrator (DBA)\",\"Web Developer\",\"DevOps Engineer\",\"IT Support Specialist\",\"Systems Analyst\",\"Database Administrator (DBA)\",\"Web Developer\",\"IT Manager\",\"Software Engineer\",\"Database Administrator (DBA)\",\"Network Administrator\",\"Systems Analyst\",\"Software Engineer\",\"Systems Analyst\",\"IT Manager\",\"Systems Administrator\",\"Database Administrator (DBA)\",\"Systems Analyst\",\"DevOps Engineer\",\"Web Developer\",\"DevOps Engineer\",\"DevOps Engineer\",\"IT Support Specialist\",\"IT Support Specialist\",\"Cloud Solutions Architect\",\"Software Engineer\",\"Systems Administrator\",\"Web Developer\",\"DevOps Engineer\",\"Database Administrator (DBA)\",\"Systems Analyst\",\"DevOps Engineer\",\"Cloud Solutions Architect\",\"Network Administrator\",\"DevOps Engineer\",\"IT Support Specialist\",\"DevOps Engineer\",\"IT Security Analyst\",\"Web Developer\",\"DevOps Engineer\",\"Systems Analyst\",\"Systems Analyst\",\"IT Security Analyst\",\"IT Manager\",\"Network Administrator\",\"Systems Administrator\",\"Systems Analyst\",\"Web Developer\",\"Network Administrator\",\"Systems Administrator\",\"IT Security Analyst\",\"Cloud Solutions Architect\",\"Network Administrator\",\"Cloud Solutions Architect\",\"Web Developer\",\"Network Administrator\",\"IT Security Analyst\"],\"x0\":\" \",\"xaxis\":\"x\",\"y\":[-0.36761709076186533,0.5937573667340736,-0.23602827484591316,-1.2209070634630255,-0.4883070220055694,0.7866530798923423,0.7160830386460577,0.29408885507543203,0.5526508491079464,1.2231353664064075,0.10724881354329087,0.33878879621836466,1.8445328724428083,-1.6480288031242674,1.8730203823719438,-1.64840122758669,0.4808376523842501,0.7160644874751803,0.8907138841521145,0.29136889072713373,-1.0346963713734993,0.31660855439698654,0.534081595473689,-0.3015074776081569,0.2685467768526663,-0.2574266777924602,-1.079935822661515,-0.23083076577605982,0.5637677525004146,0.4146787691066053,1.0966985726416818,0.5881441916853105,-1.560623721243561,0.6721245937688874,1.7609996940087607,-0.3583868456157684,0.9603101371505828,-1.8299664259219461,0.3963953282968101,0.3776856359090244,-1.4158554481530348,-0.16173449088868969,-0.3784358243303446,1.3595001555234052,0.18523856548586495,-1.9529152520927378,-2.4236517959752866,-1.6595959031863683,0.47240676889479355,0.5640607650859855,1.5035689581521798,-0.6104246748615058,-0.9567354251694856,0.6203611451464421,-3.091226556063907,0.8120093684575201,-0.1935404737091964,-2.358429979473999,1.1540466954774542,1.8190354951214065,2.265808803076531,-0.6297505043038858,-0.6635379696872046,-0.24902368470217887,-0.10707084847309642,-0.7794972711480531,-2.1955139790327842,-0.3689035927940118,-1.118265400577752,0.05995458654975942,-0.2786955830354418,0.19599205563739175,-2.701310798891322,0.2582719692220046,-0.9694276703681756,0.7289109994638122,-0.10633507372011929,0.04471090210496683,1.0045272292933254,0.21920511454843059,0.5490405871286651,0.20946158843322837,-1.213114046612104,0.45226846820054095,-0.44122710317275277,0.16694532233149834,0.6115134701624505,-0.39767449926189063,-0.7685165230806503,0.9890276775798736,-1.0644166199187424,0.6352328164781357,-0.19705360579989528,0.2337274908364521,1.0646352833039936,1.7376136877206625,-0.47249297457449574,0.2699068539929098,0.6968945062151198,0.5603862333418774,0.5089335185461611,0.6330583641443894,0.38616327257166255,0.5423577913762611,0.4195448299708022,-1.7843714658750578,-1.3798221948135956,0.7826838465374499,0.5464478893057871,-0.5571941896028395,0.2991152490569932,1.1856156137740614,1.2553055347945268,0.26597602838642126,-0.7403451307495285,-0.8345836654376916,-0.7079556554167591,-0.9102727575336879,1.0557877848347965,-2.0423168148952926,-1.6156839421017681,0.7007384914612051,0.135396300457379,-0.1006023265967335,-1.8224498082486358,0.3701433383179251,1.0075031134102,0.520077463807377,-0.9348252211332713,1.0897451176070332,-0.8640238324767641,0.6765275005270918,-1.673378022920395,-0.22924517486738313,-0.5739016875362275,0.022001730121128354,-0.2922465904119332,0.12537122241842122,1.2466412796410002,0.08469652779076495,-0.457674911961247,1.2023203495226993,0.15980672698683873,0.5012612562248266,-1.5079146057348485,-1.1917357408402702,-0.07897248029089297,-0.8771502627659037,1.4008444156118212,0.27773128443893635,0.021837381291718846,0.5156328840563099,1.1396532788102416,-0.7162383734504684,1.486564015172683,1.295918331467592,0.12664038554768545,-0.47046667566197387,-0.3319270717919878,1.5612531382803807,0.8903991597834795,0.7304067332660028,0.16488831627637718,-1.1438192656217299,-0.9914982847020771,0.052133457739741366,-0.24133765422925235,0.06886437545502178,0.5042129572586006,1.9665312959258576,0.678914361248283,-0.2700503406928258,0.8764124956871,1.3572624344561737,0.9928468845954135,1.5623113027442435,-0.6291062161340752,1.3981816576465693,-0.3391632717302819,-1.243256141239518,0.6996940207513623,0.7821396993710893,0.5328776412086726,-0.3486528844102252,-0.4828683323398659,-0.07031150350408243,-0.4075176857365692,-0.7014962517067247,-0.5781293795938898,-0.542570675689458,-0.5648627188751477,-0.436231067492371,0.7348340852794457,-1.3301119816288114,1.8831504164185764,1.1293359658121687,-1.1077748671354242,0.8995125479404844],\"y0\":\" \",\"yaxis\":\"y\",\"type\":\"box\"},{\"alignmentgroup\":\"True\",\"hovertemplate\":\"Gender=M\\u003cbr\\u003ePosition=%{x}\\u003cbr\\u003eLog_Salary=%{y}\\u003cextra\\u003e\\u003c\\u002fextra\\u003e\",\"legendgroup\":\"M\",\"marker\":{\"color\":\"#EF553B\"},\"name\":\"M\",\"notched\":false,\"offsetgroup\":\"M\",\"orientation\":\"v\",\"showlegend\":true,\"x\":[\"DevOps Engineer\",\"Web Developer\",\"Systems Administrator\",\"DevOps Engineer\",\"DevOps Engineer\",\"DevOps Engineer\",\"IT Security Analyst\",\"IT Security Analyst\",\"Software Engineer\",\"Database Administrator (DBA)\",\"Network Administrator\",\"IT Security Analyst\",\"DevOps Engineer\",\"IT Support Specialist\",\"IT Security Analyst\",\"Network Administrator\",\"IT Manager\",\"Software Engineer\",\"IT Security Analyst\",\"Database Administrator (DBA)\",\"Systems Administrator\",\"IT Support Specialist\",\"IT Manager\",\"IT Manager\",\"Network Administrator\",\"Systems Administrator\",\"IT Manager\",\"Systems Analyst\",\"Database Administrator (DBA)\",\"IT Manager\",\"IT Support Specialist\",\"DevOps Engineer\",\"IT Manager\",\"Systems Analyst\",\"IT Security Analyst\",\"Network Administrator\",\"Software Engineer\",\"DevOps Engineer\",\"Cloud Solutions Architect\",\"Cloud Solutions Architect\",\"Database Administrator (DBA)\",\"Web Developer\",\"Systems Administrator\",\"IT Security Analyst\",\"IT Security Analyst\",\"Systems Administrator\",\"IT Manager\",\"Cloud Solutions Architect\",\"IT Support Specialist\",\"DevOps Engineer\",\"Cloud Solutions Architect\",\"Database Administrator (DBA)\",\"IT Security Analyst\",\"IT Manager\",\"Software Engineer\",\"Database Administrator (DBA)\",\"Systems Analyst\",\"IT Manager\",\"IT Manager\",\"DevOps Engineer\",\"Network Administrator\",\"Software Engineer\",\"Systems Analyst\",\"IT Support Specialist\",\"Systems Analyst\",\"IT Support Specialist\",\"Web Developer\",\"Web Developer\",\"IT Support Specialist\",\"Database Administrator (DBA)\",\"Systems Administrator\",\"IT Security Analyst\",\"Database Administrator (DBA)\",\"Cloud Solutions Architect\",\"Software Engineer\",\"Systems Analyst\",\"Software Engineer\",\"IT Security Analyst\",\"DevOps Engineer\",\"Database Administrator (DBA)\",\"Software Engineer\",\"Software Engineer\",\"Systems Analyst\",\"IT Security Analyst\",\"IT Support Specialist\",\"IT Manager\",\"Network Administrator\",\"Database Administrator (DBA)\",\"Network Administrator\",\"Cloud Solutions Architect\",\"Network Administrator\",\"IT Security Analyst\",\"Web Developer\",\"IT Security Analyst\",\"Systems Administrator\",\"IT Support Specialist\",\"IT Security Analyst\",\"IT Manager\",\"Web Developer\",\"Database Administrator (DBA)\",\"Web Developer\",\"DevOps Engineer\",\"DevOps Engineer\",\"Web Developer\",\"Database Administrator (DBA)\",\"Systems Administrator\",\"IT Support Specialist\",\"Network Administrator\",\"Web Developer\",\"IT Security Analyst\",\"Database Administrator (DBA)\",\"Software Engineer\",\"Systems Administrator\",\"Systems Administrator\",\"Web Developer\",\"DevOps Engineer\",\"Systems Administrator\",\"Web Developer\",\"IT Manager\",\"DevOps Engineer\",\"IT Support Specialist\",\"Software Engineer\",\"Systems Administrator\",\"Systems Administrator\",\"Web Developer\",\"DevOps Engineer\",\"Systems Administrator\",\"Software Engineer\",\"Database Administrator (DBA)\",\"Systems Analyst\",\"IT Security Analyst\",\"Cloud Solutions Architect\",\"DevOps Engineer\",\"Network Administrator\",\"IT Manager\",\"DevOps Engineer\",\"Systems Analyst\",\"Systems Analyst\",\"Software Engineer\",\"Database Administrator (DBA)\",\"Systems Administrator\",\"Network Administrator\",\"Database Administrator (DBA)\",\"Web Developer\",\"Network Administrator\",\"Systems Analyst\",\"Software Engineer\",\"DevOps Engineer\",\"IT Support Specialist\",\"IT Security Analyst\",\"Database Administrator (DBA)\",\"Database Administrator (DBA)\",\"Web Developer\",\"IT Security Analyst\",\"IT Manager\",\"Systems Analyst\",\"Web Developer\",\"DevOps Engineer\",\"IT Security Analyst\",\"Software Engineer\",\"IT Manager\",\"Web Developer\",\"Cloud Solutions Architect\",\"Web Developer\",\"Cloud Solutions Architect\",\"IT Security Analyst\",\"IT Manager\",\"Systems Analyst\",\"Network Administrator\",\"Database Administrator (DBA)\",\"DevOps Engineer\",\"Systems Analyst\",\"Web Developer\",\"Systems Administrator\",\"Cloud Solutions Architect\",\"Web Developer\",\"Systems Analyst\",\"Software Engineer\",\"Systems Administrator\",\"Web Developer\",\"Cloud Solutions Architect\",\"Database Administrator (DBA)\",\"IT Security Analyst\",\"IT Manager\",\"Software Engineer\",\"Network Administrator\",\"Systems Administrator\",\"Network Administrator\",\"Systems Administrator\",\"Network Administrator\",\"Systems Administrator\",\"Network Administrator\",\"Cloud Solutions Architect\",\"Database Administrator (DBA)\",\"Cloud Solutions Architect\",\"IT Manager\",\"IT Manager\",\"Web Developer\",\"IT Support Specialist\",\"Software Engineer\",\"IT Support Specialist\",\"Database Administrator (DBA)\"],\"x0\":\" \",\"xaxis\":\"x\",\"y\":[-0.10839570613433153,1.1055543153598433,-1.397859768138992,-0.3272185148265362,-0.5339673605226344,0.32405585037704226,-0.21814439041905484,-0.3361659125878417,-1.1496834063385146,0.7078906213593535,-0.1860731975978039,0.4704717097194461,0.241016421023216,-0.10805216732267603,-0.7303271821122551,-0.6154045667229182,-1.0288887302446486,0.9382857780564865,0.5281162188104614,-0.05684907303840489,-1.8881948600320015,0.12802224512888383,1.11221113788083,1.3379175229135989,0.2863721826585316,1.2540693425600482,-0.33367485489450716,-1.4663457128408492,-0.4989624367593149,2.1747263205898304,-2.7675336892433395,0.9796784873360941,1.1847454481498294,0.03722289080413461,-1.3384818005925037,-1.088547416244925,0.21707440917748722,0.17587217225309876,1.0344014872504157,-0.3647245129804658,0.6631290142543962,-2.275206363477812,0.34681121600090287,-0.7360605670126725,0.09387563855777632,-0.5669549973279374,0.6946529782161456,0.15186460528010448,-2.0469086297056958,-0.03661436573804461,0.7630492294104916,-1.08461440047752,0.2379851938357892,1.4759037994366464,-0.40539984584882255,-0.02893661738233339,0.492908693241368,0.781069250081386,2.278674887205842,1.5980921778262551,0.4644770615543843,1.608416118459329,-1.0013164547225222,-0.9454991378935209,0.6439906599355878,-0.5549946033687431,-2.2613661034802397,0.5385575683759838,-0.9395391062873077,0.2473522930802477,-2.0931283828147187,-1.197412006045779,-1.810664086883904,1.6409623801731994,1.095263522098292,1.068012111454657,0.09119370571731168,1.5037251648403251,1.1039284165274335,1.2880451628756808,0.4578830086083096,0.5344367667030632,0.3778520987032574,-0.4196839786621601,-1.7129573116079366,1.9862114492806235,-1.7882743987388892,0.22107096189397193,0.3487871464806839,-0.3776828652964721,1.1112865766313744,-1.392049927855349,-0.17423001725002354,-0.10800309361860115,-0.4062142195453754,-0.044120079097271114,-0.23607952746034627,0.6175811163719913,-0.20125463957166234,0.17413355757905088,-0.9472275206700309,0.09435675287078478,1.339944807975679,-0.12730288507085644,-0.8564859192423631,0.07419734736291551,-0.34737519061367517,-1.1198906305334346,-0.2460394329528202,1.1391872841897537,-0.8053103478084103,-0.6470818943961087,0.10610817594420408,0.16690062007244272,0.593892725103526,1.652271882755463,-1.641044224765747,-0.7993477030067789,1.4611017138500644,0.5591929798983243,-1.690749286893959,0.5476463134626944,-1.573384777189904,-0.3939410697473991,-0.8109735981179884,1.037796484840136,-0.6830076728060821,0.994771510828342,-0.1888712092830549,-0.844080911638918,0.5098289741071208,2.086978289412227,1.3478753498159868,-0.33964100878167564,0.9519653962011695,0.6885735975074911,0.19145155271722802,-1.3075024726143498,0.7725098284727508,0.17725341669573952,-0.19591580236272746,0.224229233388989,0.8475643265136501,-0.6451675002432423,-0.8986342813665069,-1.3264738790599793,0.20379422282701629,1.0886009599783482,-0.7279945527733495,-1.6741711010816287,-0.41995673046038,0.3225933374542003,-0.24203088772197975,0.01638519920994578,0.8161007188290834,1.0608420351590055,-1.929331655275962,-0.01029212976314771,0.6041232735374431,1.1132326840087967,0.5627517499178857,-0.14807271651926304,1.9663977918935502,0.08375405144952583,-0.8843580772440496,-0.24274996881551797,-0.5394728604765154,1.2274741790458152,-0.3307095326374285,1.5999894423102279,1.4735949721613462,0.5304880131533918,-1.0287545848056128,-0.6777039284955547,0.39273326964831223,-1.2473345991038132,-0.3010882778809925,-0.43069591599067514,-0.2163365011031876,-0.8358712325230935,1.7996414161007723,0.8037195513914728,0.6270416539545766,0.9999651014411606,-1.4563643207230277,-0.8106932913481844,-1.363471841593969,-0.1406451927339677,0.7323076199658703,-2.0754238867496126,0.1077277497143897,-0.18602280732922657,0.8663812223476125,-0.4825896955561618,-0.5290664772675849,0.7361609949027036,1.258455479878166,-0.9082761625542225,-1.8689545795311362,-0.9248372277734712,-2.412957889487348,0.1252352082302301],\"y0\":\" \",\"yaxis\":\"y\",\"type\":\"box\"}],                        {\"template\":{\"data\":{\"histogram2dcontour\":[{\"type\":\"histogram2dcontour\",\"colorbar\":{\"outlinewidth\":0,\"ticks\":\"\"},\"colorscale\":[[0.0,\"#0d0887\"],[0.1111111111111111,\"#46039f\"],[0.2222222222222222,\"#7201a8\"],[0.3333333333333333,\"#9c179e\"],[0.4444444444444444,\"#bd3786\"],[0.5555555555555556,\"#d8576b\"],[0.6666666666666666,\"#ed7953\"],[0.7777777777777778,\"#fb9f3a\"],[0.8888888888888888,\"#fdca26\"],[1.0,\"#f0f921\"]]}],\"choropleth\":[{\"type\":\"choropleth\",\"colorbar\":{\"outlinewidth\":0,\"ticks\":\"\"}}],\"histogram2d\":[{\"type\":\"histogram2d\",\"colorbar\":{\"outlinewidth\":0,\"ticks\":\"\"},\"colorscale\":[[0.0,\"#0d0887\"],[0.1111111111111111,\"#46039f\"],[0.2222222222222222,\"#7201a8\"],[0.3333333333333333,\"#9c179e\"],[0.4444444444444444,\"#bd3786\"],[0.5555555555555556,\"#d8576b\"],[0.6666666666666666,\"#ed7953\"],[0.7777777777777778,\"#fb9f3a\"],[0.8888888888888888,\"#fdca26\"],[1.0,\"#f0f921\"]]}],\"heatmap\":[{\"type\":\"heatmap\",\"colorbar\":{\"outlinewidth\":0,\"ticks\":\"\"},\"colorscale\":[[0.0,\"#0d0887\"],[0.1111111111111111,\"#46039f\"],[0.2222222222222222,\"#7201a8\"],[0.3333333333333333,\"#9c179e\"],[0.4444444444444444,\"#bd3786\"],[0.5555555555555556,\"#d8576b\"],[0.6666666666666666,\"#ed7953\"],[0.7777777777777778,\"#fb9f3a\"],[0.8888888888888888,\"#fdca26\"],[1.0,\"#f0f921\"]]}],\"heatmapgl\":[{\"type\":\"heatmapgl\",\"colorbar\":{\"outlinewidth\":0,\"ticks\":\"\"},\"colorscale\":[[0.0,\"#0d0887\"],[0.1111111111111111,\"#46039f\"],[0.2222222222222222,\"#7201a8\"],[0.3333333333333333,\"#9c179e\"],[0.4444444444444444,\"#bd3786\"],[0.5555555555555556,\"#d8576b\"],[0.6666666666666666,\"#ed7953\"],[0.7777777777777778,\"#fb9f3a\"],[0.8888888888888888,\"#fdca26\"],[1.0,\"#f0f921\"]]}],\"contourcarpet\":[{\"type\":\"contourcarpet\",\"colorbar\":{\"outlinewidth\":0,\"ticks\":\"\"}}],\"contour\":[{\"type\":\"contour\",\"colorbar\":{\"outlinewidth\":0,\"ticks\":\"\"},\"colorscale\":[[0.0,\"#0d0887\"],[0.1111111111111111,\"#46039f\"],[0.2222222222222222,\"#7201a8\"],[0.3333333333333333,\"#9c179e\"],[0.4444444444444444,\"#bd3786\"],[0.5555555555555556,\"#d8576b\"],[0.6666666666666666,\"#ed7953\"],[0.7777777777777778,\"#fb9f3a\"],[0.8888888888888888,\"#fdca26\"],[1.0,\"#f0f921\"]]}],\"surface\":[{\"type\":\"surface\",\"colorbar\":{\"outlinewidth\":0,\"ticks\":\"\"},\"colorscale\":[[0.0,\"#0d0887\"],[0.1111111111111111,\"#46039f\"],[0.2222222222222222,\"#7201a8\"],[0.3333333333333333,\"#9c179e\"],[0.4444444444444444,\"#bd3786\"],[0.5555555555555556,\"#d8576b\"],[0.6666666666666666,\"#ed7953\"],[0.7777777777777778,\"#fb9f3a\"],[0.8888888888888888,\"#fdca26\"],[1.0,\"#f0f921\"]]}],\"mesh3d\":[{\"type\":\"mesh3d\",\"colorbar\":{\"outlinewidth\":0,\"ticks\":\"\"}}],\"scatter\":[{\"fillpattern\":{\"fillmode\":\"overlay\",\"size\":10,\"solidity\":0.2},\"type\":\"scatter\"}],\"parcoords\":[{\"type\":\"parcoords\",\"line\":{\"colorbar\":{\"outlinewidth\":0,\"ticks\":\"\"}}}],\"scatterpolargl\":[{\"type\":\"scatterpolargl\",\"marker\":{\"colorbar\":{\"outlinewidth\":0,\"ticks\":\"\"}}}],\"bar\":[{\"error_x\":{\"color\":\"#2a3f5f\"},\"error_y\":{\"color\":\"#2a3f5f\"},\"marker\":{\"line\":{\"color\":\"#E5ECF6\",\"width\":0.5},\"pattern\":{\"fillmode\":\"overlay\",\"size\":10,\"solidity\":0.2}},\"type\":\"bar\"}],\"scattergeo\":[{\"type\":\"scattergeo\",\"marker\":{\"colorbar\":{\"outlinewidth\":0,\"ticks\":\"\"}}}],\"scatterpolar\":[{\"type\":\"scatterpolar\",\"marker\":{\"colorbar\":{\"outlinewidth\":0,\"ticks\":\"\"}}}],\"histogram\":[{\"marker\":{\"pattern\":{\"fillmode\":\"overlay\",\"size\":10,\"solidity\":0.2}},\"type\":\"histogram\"}],\"scattergl\":[{\"type\":\"scattergl\",\"marker\":{\"colorbar\":{\"outlinewidth\":0,\"ticks\":\"\"}}}],\"scatter3d\":[{\"type\":\"scatter3d\",\"line\":{\"colorbar\":{\"outlinewidth\":0,\"ticks\":\"\"}},\"marker\":{\"colorbar\":{\"outlinewidth\":0,\"ticks\":\"\"}}}],\"scattermapbox\":[{\"type\":\"scattermapbox\",\"marker\":{\"colorbar\":{\"outlinewidth\":0,\"ticks\":\"\"}}}],\"scatterternary\":[{\"type\":\"scatterternary\",\"marker\":{\"colorbar\":{\"outlinewidth\":0,\"ticks\":\"\"}}}],\"scattercarpet\":[{\"type\":\"scattercarpet\",\"marker\":{\"colorbar\":{\"outlinewidth\":0,\"ticks\":\"\"}}}],\"carpet\":[{\"aaxis\":{\"endlinecolor\":\"#2a3f5f\",\"gridcolor\":\"white\",\"linecolor\":\"white\",\"minorgridcolor\":\"white\",\"startlinecolor\":\"#2a3f5f\"},\"baxis\":{\"endlinecolor\":\"#2a3f5f\",\"gridcolor\":\"white\",\"linecolor\":\"white\",\"minorgridcolor\":\"white\",\"startlinecolor\":\"#2a3f5f\"},\"type\":\"carpet\"}],\"table\":[{\"cells\":{\"fill\":{\"color\":\"#EBF0F8\"},\"line\":{\"color\":\"white\"}},\"header\":{\"fill\":{\"color\":\"#C8D4E3\"},\"line\":{\"color\":\"white\"}},\"type\":\"table\"}],\"barpolar\":[{\"marker\":{\"line\":{\"color\":\"#E5ECF6\",\"width\":0.5},\"pattern\":{\"fillmode\":\"overlay\",\"size\":10,\"solidity\":0.2}},\"type\":\"barpolar\"}],\"pie\":[{\"automargin\":true,\"type\":\"pie\"}]},\"layout\":{\"autotypenumbers\":\"strict\",\"colorway\":[\"#636efa\",\"#EF553B\",\"#00cc96\",\"#ab63fa\",\"#FFA15A\",\"#19d3f3\",\"#FF6692\",\"#B6E880\",\"#FF97FF\",\"#FECB52\"],\"font\":{\"color\":\"#2a3f5f\"},\"hovermode\":\"closest\",\"hoverlabel\":{\"align\":\"left\"},\"paper_bgcolor\":\"white\",\"plot_bgcolor\":\"#E5ECF6\",\"polar\":{\"bgcolor\":\"#E5ECF6\",\"angularaxis\":{\"gridcolor\":\"white\",\"linecolor\":\"white\",\"ticks\":\"\"},\"radialaxis\":{\"gridcolor\":\"white\",\"linecolor\":\"white\",\"ticks\":\"\"}},\"ternary\":{\"bgcolor\":\"#E5ECF6\",\"aaxis\":{\"gridcolor\":\"white\",\"linecolor\":\"white\",\"ticks\":\"\"},\"baxis\":{\"gridcolor\":\"white\",\"linecolor\":\"white\",\"ticks\":\"\"},\"caxis\":{\"gridcolor\":\"white\",\"linecolor\":\"white\",\"ticks\":\"\"}},\"coloraxis\":{\"colorbar\":{\"outlinewidth\":0,\"ticks\":\"\"}},\"colorscale\":{\"sequential\":[[0.0,\"#0d0887\"],[0.1111111111111111,\"#46039f\"],[0.2222222222222222,\"#7201a8\"],[0.3333333333333333,\"#9c179e\"],[0.4444444444444444,\"#bd3786\"],[0.5555555555555556,\"#d8576b\"],[0.6666666666666666,\"#ed7953\"],[0.7777777777777778,\"#fb9f3a\"],[0.8888888888888888,\"#fdca26\"],[1.0,\"#f0f921\"]],\"sequentialminus\":[[0.0,\"#0d0887\"],[0.1111111111111111,\"#46039f\"],[0.2222222222222222,\"#7201a8\"],[0.3333333333333333,\"#9c179e\"],[0.4444444444444444,\"#bd3786\"],[0.5555555555555556,\"#d8576b\"],[0.6666666666666666,\"#ed7953\"],[0.7777777777777778,\"#fb9f3a\"],[0.8888888888888888,\"#fdca26\"],[1.0,\"#f0f921\"]],\"diverging\":[[0,\"#8e0152\"],[0.1,\"#c51b7d\"],[0.2,\"#de77ae\"],[0.3,\"#f1b6da\"],[0.4,\"#fde0ef\"],[0.5,\"#f7f7f7\"],[0.6,\"#e6f5d0\"],[0.7,\"#b8e186\"],[0.8,\"#7fbc41\"],[0.9,\"#4d9221\"],[1,\"#276419\"]]},\"xaxis\":{\"gridcolor\":\"white\",\"linecolor\":\"white\",\"ticks\":\"\",\"title\":{\"standoff\":15},\"zerolinecolor\":\"white\",\"automargin\":true,\"zerolinewidth\":2},\"yaxis\":{\"gridcolor\":\"white\",\"linecolor\":\"white\",\"ticks\":\"\",\"title\":{\"standoff\":15},\"zerolinecolor\":\"white\",\"automargin\":true,\"zerolinewidth\":2},\"scene\":{\"xaxis\":{\"backgroundcolor\":\"#E5ECF6\",\"gridcolor\":\"white\",\"linecolor\":\"white\",\"showbackground\":true,\"ticks\":\"\",\"zerolinecolor\":\"white\",\"gridwidth\":2},\"yaxis\":{\"backgroundcolor\":\"#E5ECF6\",\"gridcolor\":\"white\",\"linecolor\":\"white\",\"showbackground\":true,\"ticks\":\"\",\"zerolinecolor\":\"white\",\"gridwidth\":2},\"zaxis\":{\"backgroundcolor\":\"#E5ECF6\",\"gridcolor\":\"white\",\"linecolor\":\"white\",\"showbackground\":true,\"ticks\":\"\",\"zerolinecolor\":\"white\",\"gridwidth\":2}},\"shapedefaults\":{\"line\":{\"color\":\"#2a3f5f\"}},\"annotationdefaults\":{\"arrowcolor\":\"#2a3f5f\",\"arrowhead\":0,\"arrowwidth\":1},\"geo\":{\"bgcolor\":\"white\",\"landcolor\":\"#E5ECF6\",\"subunitcolor\":\"white\",\"showland\":true,\"showlakes\":true,\"lakecolor\":\"white\"},\"title\":{\"x\":0.05},\"mapbox\":{\"style\":\"light\"}}},\"xaxis\":{\"anchor\":\"y\",\"domain\":[0.0,1.0],\"title\":{\"text\":\"Position\"}},\"yaxis\":{\"anchor\":\"x\",\"domain\":[0.0,1.0],\"title\":{\"text\":\"Log_Salary\"}},\"legend\":{\"title\":{\"text\":\"Gender\"},\"tracegroupgap\":0},\"title\":{\"text\":\"Salary Distribution by Position and Gender\"},\"boxmode\":\"group\",\"height\":600,\"width\":800},                        {\"responsive\": true}                    ).then(function(){\n",
       "                            \n",
       "var gd = document.getElementById('b4839544-aee9-43af-aa58-8081f3c63308');\n",
       "var x = new MutationObserver(function (mutations, observer) {{\n",
       "        var display = window.getComputedStyle(gd).display;\n",
       "        if (!display || display === 'none') {{\n",
       "            console.log([gd, 'removed!']);\n",
       "            Plotly.purge(gd);\n",
       "            observer.disconnect();\n",
       "        }}\n",
       "}});\n",
       "\n",
       "// Listen for the removal of the full notebook cells\n",
       "var notebookContainer = gd.closest('#notebook-container');\n",
       "if (notebookContainer) {{\n",
       "    x.observe(notebookContainer, {childList: true});\n",
       "}}\n",
       "\n",
       "// Listen for the clearing of the current output cell\n",
       "var outputEl = gd.closest('.output');\n",
       "if (outputEl) {{\n",
       "    x.observe(outputEl, {childList: true});\n",
       "}}\n",
       "\n",
       "                        })                };                });            </script>        </div>"
      ]
     },
     "metadata": {},
     "output_type": "display_data"
    }
   ],
   "source": [
    "fig = px.box(df, x='Position', y='Log_Salary', color='Gender', \n",
    "             title='Salary Distribution by Position and Gender')\n",
    "fig.update_layout(height=600, width=800)\n",
    "fig.show()"
   ]
  },
  {
   "cell_type": "markdown",
   "metadata": {},
   "source": [
    "#### To show the relationship between two numerical features, such as Experience and Salary, with a trend line."
   ]
  },
  {
   "cell_type": "code",
   "execution_count": 27,
   "metadata": {},
   "outputs": [
    {
     "data": {
      "application/vnd.plotly.v1+json": {
       "config": {
        "plotlyServerURL": "https://plot.ly"
       },
       "data": [
        {
         "hovertemplate": "Gender=F<br>Experience (Years)=%{x}<br>Log_Salary=%{y}<extra></extra>",
         "legendgroup": "F",
         "marker": {
          "color": "#636efa",
          "symbol": "circle"
         },
         "mode": "markers",
         "name": "F",
         "orientation": "v",
         "showlegend": true,
         "type": "scatter",
         "x": [
          -0.9304325872265634,
          0.5464445353552834,
          0.5464445353552834,
          0.21824961922598404,
          -0.6022376710972642,
          -0.6022376710972642,
          1.5310292837431811,
          1.0387369095492323,
          -0.4381402130326145,
          1.0387369095492323,
          -0.7663351291619138,
          1.6951267418078309,
          1.5310292837431811,
          -1.5868224194851621,
          0.5464445353552834,
          -1.094530045291213,
          0.054152161161334395,
          -0.7663351291619138,
          1.6951267418078309,
          -0.4381402130326145,
          -1.2586275033558627,
          -0.9304325872265634,
          1.5310292837431811,
          -1.4227249614205124,
          0.054152161161334395,
          -1.4227249614205124,
          -1.4227249614205124,
          0.5464445353552834,
          0.38234707729063366,
          0.38234707729063366,
          0.054152161161334395,
          1.0387369095492323,
          -0.10994529690331525,
          -0.6022376710972642,
          1.5310292837431811,
          -0.7663351291619138,
          1.5310292837431811,
          -1.4227249614205124,
          1.5310292837431811,
          -1.2586275033558627,
          -0.4381402130326145,
          0.38234707729063366,
          -1.5868224194851621,
          0.054152161161334395,
          1.6951267418078309,
          -0.7663351291619138,
          -1.5868224194851621,
          -1.4227249614205124,
          0.5464445353552834,
          -0.2740427549679649,
          0.38234707729063366,
          0.054152161161334395,
          -1.094530045291213,
          1.0387369095492323,
          -1.4227249614205124,
          1.3669318256785314,
          -0.9304325872265634,
          -1.2586275033558627,
          0.5464445353552834,
          1.202834367613882,
          1.3669318256785314,
          0.38234707729063366,
          0.054152161161334395,
          1.3669318256785314,
          0.21824961922598404,
          0.710541993419933,
          -1.4227249614205124,
          -1.094530045291213,
          -1.2586275033558627,
          -1.094530045291213,
          -0.10994529690331525,
          -1.4227249614205124,
          -1.4227249614205124,
          0.8746394514845827,
          -1.2586275033558627,
          -0.2740427549679649,
          -0.4381402130326145,
          0.5464445353552834,
          1.202834367613882,
          0.21824961922598404,
          0.21824961922598404,
          -0.10994529690331525,
          0.710541993419933,
          -0.7663351291619138,
          -0.6022376710972642,
          1.202834367613882,
          0.38234707729063366,
          -0.9304325872265634,
          0.710541993419933,
          0.38234707729063366,
          -1.4227249614205124,
          1.3669318256785314,
          0.8746394514845827,
          1.5310292837431811,
          0.38234707729063366,
          1.3669318256785314,
          1.0387369095492323,
          -1.2586275033558627,
          -0.4381402130326145,
          0.21824961922598404,
          0.710541993419933,
          1.5310292837431811,
          -0.10994529690331525,
          -1.5868224194851621,
          0.054152161161334395,
          -0.9304325872265634,
          -0.6022376710972642,
          0.710541993419933,
          0.21824961922598404,
          -1.5868224194851621,
          -0.10994529690331525,
          0.710541993419933,
          1.3669318256785314,
          1.5310292837431811,
          -0.9304325872265634,
          -0.7663351291619138,
          0.21824961922598404,
          0.710541993419933,
          1.5310292837431811,
          -1.5868224194851621,
          -1.2586275033558627,
          -1.094530045291213,
          1.5310292837431811,
          -0.4381402130326145,
          -1.2586275033558627,
          -0.9304325872265634,
          1.202834367613882,
          -1.094530045291213,
          -1.5868224194851621,
          1.0387369095492323,
          -0.6022376710972642,
          -1.094530045291213,
          -0.7663351291619138,
          -0.4381402130326145,
          -1.5868224194851621,
          0.710541993419933,
          0.38234707729063366,
          0.054152161161334395,
          1.6951267418078309,
          0.054152161161334395,
          -0.4381402130326145,
          0.8746394514845827,
          -0.2740427549679649,
          -0.4381402130326145,
          -0.9304325872265634,
          -1.094530045291213,
          1.5310292837431811,
          -0.2740427549679649,
          0.054152161161334395,
          -0.6022376710972642,
          -0.4381402130326145,
          1.3669318256785314,
          1.0387369095492323,
          -1.4227249614205124,
          1.6951267418078309,
          0.054152161161334395,
          1.3669318256785314,
          0.8746394514845827,
          0.21824961922598404,
          0.8746394514845827,
          0.710541993419933,
          -0.10994529690331525,
          -1.094530045291213,
          -0.6022376710972642,
          1.0387369095492323,
          -0.10994529690331525,
          -0.6022376710972642,
          1.202834367613882,
          0.38234707729063366,
          1.5310292837431811,
          0.38234707729063366,
          1.202834367613882,
          -0.10994529690331525,
          0.054152161161334395,
          1.6951267418078309,
          1.3669318256785314,
          0.5464445353552834,
          0.38234707729063366,
          -1.2586275033558627,
          0.054152161161334395,
          1.0387369095492323,
          0.5464445353552834,
          1.0387369095492323,
          -1.4227249614205124,
          -1.5868224194851621,
          0.710541993419933,
          0.710541993419933,
          -1.094530045291213,
          -1.094530045291213,
          -1.4227249614205124,
          -0.9304325872265634,
          -0.10994529690331525,
          -1.094530045291213,
          -1.4227249614205124,
          1.5310292837431811,
          1.6951267418078309,
          -0.10994529690331525,
          0.21824961922598404
         ],
         "xaxis": "x",
         "y": [
          -0.36761709076186533,
          0.5937573667340736,
          -0.23602827484591316,
          -1.2209070634630255,
          -0.4883070220055694,
          0.7866530798923423,
          0.7160830386460577,
          0.29408885507543203,
          0.5526508491079464,
          1.2231353664064075,
          0.10724881354329087,
          0.33878879621836466,
          1.8445328724428083,
          -1.6480288031242674,
          1.8730203823719438,
          -1.64840122758669,
          0.4808376523842501,
          0.7160644874751803,
          0.8907138841521145,
          0.29136889072713373,
          -1.0346963713734993,
          0.31660855439698654,
          0.534081595473689,
          -0.3015074776081569,
          0.2685467768526663,
          -0.2574266777924602,
          -1.079935822661515,
          -0.23083076577605982,
          0.5637677525004146,
          0.4146787691066053,
          1.0966985726416818,
          0.5881441916853105,
          -1.560623721243561,
          0.6721245937688874,
          1.7609996940087607,
          -0.3583868456157684,
          0.9603101371505828,
          -1.8299664259219461,
          0.3963953282968101,
          0.3776856359090244,
          -1.4158554481530348,
          -0.16173449088868969,
          -0.3784358243303446,
          1.3595001555234052,
          0.18523856548586495,
          -1.9529152520927378,
          -2.4236517959752866,
          -1.6595959031863683,
          0.47240676889479355,
          0.5640607650859855,
          1.5035689581521798,
          -0.6104246748615058,
          -0.9567354251694856,
          0.6203611451464421,
          -3.091226556063907,
          0.8120093684575201,
          -0.1935404737091964,
          -2.358429979473999,
          1.1540466954774542,
          1.8190354951214065,
          2.265808803076531,
          -0.6297505043038858,
          -0.6635379696872046,
          -0.24902368470217887,
          -0.10707084847309642,
          -0.7794972711480531,
          -2.1955139790327842,
          -0.3689035927940118,
          -1.118265400577752,
          0.05995458654975942,
          -0.2786955830354418,
          0.19599205563739175,
          -2.701310798891322,
          0.2582719692220046,
          -0.9694276703681756,
          0.7289109994638122,
          -0.10633507372011929,
          0.04471090210496683,
          1.0045272292933254,
          0.21920511454843059,
          0.5490405871286651,
          0.20946158843322837,
          -1.213114046612104,
          0.45226846820054095,
          -0.44122710317275277,
          0.16694532233149834,
          0.6115134701624505,
          -0.39767449926189063,
          -0.7685165230806503,
          0.9890276775798736,
          -1.0644166199187424,
          0.6352328164781357,
          -0.19705360579989528,
          0.2337274908364521,
          1.0646352833039936,
          1.7376136877206625,
          -0.47249297457449574,
          0.2699068539929098,
          0.6968945062151198,
          0.5603862333418774,
          0.5089335185461611,
          0.6330583641443894,
          0.38616327257166255,
          0.5423577913762611,
          0.4195448299708022,
          -1.7843714658750578,
          -1.3798221948135956,
          0.7826838465374499,
          0.5464478893057871,
          -0.5571941896028395,
          0.2991152490569932,
          1.1856156137740614,
          1.2553055347945268,
          0.26597602838642126,
          -0.7403451307495285,
          -0.8345836654376916,
          -0.7079556554167591,
          -0.9102727575336879,
          1.0557877848347965,
          -2.0423168148952926,
          -1.6156839421017681,
          0.7007384914612051,
          0.135396300457379,
          -0.1006023265967335,
          -1.8224498082486358,
          0.3701433383179251,
          1.0075031134102,
          0.520077463807377,
          -0.9348252211332713,
          1.0897451176070332,
          -0.8640238324767641,
          0.6765275005270918,
          -1.673378022920395,
          -0.22924517486738313,
          -0.5739016875362275,
          0.022001730121128354,
          -0.2922465904119332,
          0.12537122241842122,
          1.2466412796410002,
          0.08469652779076495,
          -0.457674911961247,
          1.2023203495226993,
          0.15980672698683873,
          0.5012612562248266,
          -1.5079146057348485,
          -1.1917357408402702,
          -0.07897248029089297,
          -0.8771502627659037,
          1.4008444156118212,
          0.27773128443893635,
          0.021837381291718846,
          0.5156328840563099,
          1.1396532788102416,
          -0.7162383734504684,
          1.486564015172683,
          1.295918331467592,
          0.12664038554768545,
          -0.47046667566197387,
          -0.3319270717919878,
          1.5612531382803807,
          0.8903991597834795,
          0.7304067332660028,
          0.16488831627637718,
          -1.1438192656217299,
          -0.9914982847020771,
          0.052133457739741366,
          -0.24133765422925235,
          0.06886437545502178,
          0.5042129572586006,
          1.9665312959258576,
          0.678914361248283,
          -0.2700503406928258,
          0.8764124956871,
          1.3572624344561737,
          0.9928468845954135,
          1.5623113027442435,
          -0.6291062161340752,
          1.3981816576465693,
          -0.3391632717302819,
          -1.243256141239518,
          0.6996940207513623,
          0.7821396993710893,
          0.5328776412086726,
          -0.3486528844102252,
          -0.4828683323398659,
          -0.07031150350408243,
          -0.4075176857365692,
          -0.7014962517067247,
          -0.5781293795938898,
          -0.542570675689458,
          -0.5648627188751477,
          -0.436231067492371,
          0.7348340852794457,
          -1.3301119816288114,
          1.8831504164185764,
          1.1293359658121687,
          -1.1077748671354242,
          0.8995125479404844
         ],
         "yaxis": "y"
        },
        {
         "hovertemplate": "<b>OLS trendline</b><br>Log_Salary = 0.585507 * Experience (Years) + 0.017112<br>R<sup>2</sup>=0.355749<br><br>Gender=F<br>Experience (Years)=%{x}<br>Log_Salary=%{y} <b>(trend)</b><extra></extra>",
         "legendgroup": "F",
         "marker": {
          "color": "#636efa",
          "symbol": "circle"
         },
         "mode": "lines",
         "name": "F",
         "showlegend": false,
         "type": "scatter",
         "x": [
          -1.5868224194851621,
          -1.5868224194851621,
          -1.5868224194851621,
          -1.5868224194851621,
          -1.5868224194851621,
          -1.5868224194851621,
          -1.5868224194851621,
          -1.5868224194851621,
          -1.5868224194851621,
          -1.4227249614205124,
          -1.4227249614205124,
          -1.4227249614205124,
          -1.4227249614205124,
          -1.4227249614205124,
          -1.4227249614205124,
          -1.4227249614205124,
          -1.4227249614205124,
          -1.4227249614205124,
          -1.4227249614205124,
          -1.4227249614205124,
          -1.4227249614205124,
          -1.4227249614205124,
          -1.4227249614205124,
          -1.2586275033558627,
          -1.2586275033558627,
          -1.2586275033558627,
          -1.2586275033558627,
          -1.2586275033558627,
          -1.2586275033558627,
          -1.2586275033558627,
          -1.2586275033558627,
          -1.2586275033558627,
          -1.094530045291213,
          -1.094530045291213,
          -1.094530045291213,
          -1.094530045291213,
          -1.094530045291213,
          -1.094530045291213,
          -1.094530045291213,
          -1.094530045291213,
          -1.094530045291213,
          -1.094530045291213,
          -1.094530045291213,
          -1.094530045291213,
          -0.9304325872265634,
          -0.9304325872265634,
          -0.9304325872265634,
          -0.9304325872265634,
          -0.9304325872265634,
          -0.9304325872265634,
          -0.9304325872265634,
          -0.9304325872265634,
          -0.9304325872265634,
          -0.7663351291619138,
          -0.7663351291619138,
          -0.7663351291619138,
          -0.7663351291619138,
          -0.7663351291619138,
          -0.7663351291619138,
          -0.7663351291619138,
          -0.6022376710972642,
          -0.6022376710972642,
          -0.6022376710972642,
          -0.6022376710972642,
          -0.6022376710972642,
          -0.6022376710972642,
          -0.6022376710972642,
          -0.6022376710972642,
          -0.6022376710972642,
          -0.4381402130326145,
          -0.4381402130326145,
          -0.4381402130326145,
          -0.4381402130326145,
          -0.4381402130326145,
          -0.4381402130326145,
          -0.4381402130326145,
          -0.4381402130326145,
          -0.4381402130326145,
          -0.4381402130326145,
          -0.2740427549679649,
          -0.2740427549679649,
          -0.2740427549679649,
          -0.2740427549679649,
          -0.10994529690331525,
          -0.10994529690331525,
          -0.10994529690331525,
          -0.10994529690331525,
          -0.10994529690331525,
          -0.10994529690331525,
          -0.10994529690331525,
          -0.10994529690331525,
          -0.10994529690331525,
          -0.10994529690331525,
          0.054152161161334395,
          0.054152161161334395,
          0.054152161161334395,
          0.054152161161334395,
          0.054152161161334395,
          0.054152161161334395,
          0.054152161161334395,
          0.054152161161334395,
          0.054152161161334395,
          0.054152161161334395,
          0.054152161161334395,
          0.054152161161334395,
          0.054152161161334395,
          0.21824961922598404,
          0.21824961922598404,
          0.21824961922598404,
          0.21824961922598404,
          0.21824961922598404,
          0.21824961922598404,
          0.21824961922598404,
          0.21824961922598404,
          0.21824961922598404,
          0.38234707729063366,
          0.38234707729063366,
          0.38234707729063366,
          0.38234707729063366,
          0.38234707729063366,
          0.38234707729063366,
          0.38234707729063366,
          0.38234707729063366,
          0.38234707729063366,
          0.38234707729063366,
          0.38234707729063366,
          0.38234707729063366,
          0.5464445353552834,
          0.5464445353552834,
          0.5464445353552834,
          0.5464445353552834,
          0.5464445353552834,
          0.5464445353552834,
          0.5464445353552834,
          0.5464445353552834,
          0.5464445353552834,
          0.710541993419933,
          0.710541993419933,
          0.710541993419933,
          0.710541993419933,
          0.710541993419933,
          0.710541993419933,
          0.710541993419933,
          0.710541993419933,
          0.710541993419933,
          0.710541993419933,
          0.710541993419933,
          0.8746394514845827,
          0.8746394514845827,
          0.8746394514845827,
          0.8746394514845827,
          0.8746394514845827,
          1.0387369095492323,
          1.0387369095492323,
          1.0387369095492323,
          1.0387369095492323,
          1.0387369095492323,
          1.0387369095492323,
          1.0387369095492323,
          1.0387369095492323,
          1.0387369095492323,
          1.0387369095492323,
          1.202834367613882,
          1.202834367613882,
          1.202834367613882,
          1.202834367613882,
          1.202834367613882,
          1.202834367613882,
          1.3669318256785314,
          1.3669318256785314,
          1.3669318256785314,
          1.3669318256785314,
          1.3669318256785314,
          1.3669318256785314,
          1.3669318256785314,
          1.3669318256785314,
          1.3669318256785314,
          1.5310292837431811,
          1.5310292837431811,
          1.5310292837431811,
          1.5310292837431811,
          1.5310292837431811,
          1.5310292837431811,
          1.5310292837431811,
          1.5310292837431811,
          1.5310292837431811,
          1.5310292837431811,
          1.5310292837431811,
          1.5310292837431811,
          1.5310292837431811,
          1.5310292837431811,
          1.6951267418078309,
          1.6951267418078309,
          1.6951267418078309,
          1.6951267418078309,
          1.6951267418078309,
          1.6951267418078309,
          1.6951267418078309
         ],
         "xaxis": "x",
         "y": [
          -0.9119830425281835,
          -0.9119830425281835,
          -0.9119830425281835,
          -0.9119830425281835,
          -0.9119830425281835,
          -0.9119830425281835,
          -0.9119830425281835,
          -0.9119830425281835,
          -0.9119830425281835,
          -0.8159028963558804,
          -0.8159028963558804,
          -0.8159028963558804,
          -0.8159028963558804,
          -0.8159028963558804,
          -0.8159028963558804,
          -0.8159028963558804,
          -0.8159028963558804,
          -0.8159028963558804,
          -0.8159028963558804,
          -0.8159028963558804,
          -0.8159028963558804,
          -0.8159028963558804,
          -0.8159028963558804,
          -0.7198227501835773,
          -0.7198227501835773,
          -0.7198227501835773,
          -0.7198227501835773,
          -0.7198227501835773,
          -0.7198227501835773,
          -0.7198227501835773,
          -0.7198227501835773,
          -0.7198227501835773,
          -0.6237426040112742,
          -0.6237426040112742,
          -0.6237426040112742,
          -0.6237426040112742,
          -0.6237426040112742,
          -0.6237426040112742,
          -0.6237426040112742,
          -0.6237426040112742,
          -0.6237426040112742,
          -0.6237426040112742,
          -0.6237426040112742,
          -0.6237426040112742,
          -0.5276624578389713,
          -0.5276624578389713,
          -0.5276624578389713,
          -0.5276624578389713,
          -0.5276624578389713,
          -0.5276624578389713,
          -0.5276624578389713,
          -0.5276624578389713,
          -0.5276624578389713,
          -0.4315823116666682,
          -0.4315823116666682,
          -0.4315823116666682,
          -0.4315823116666682,
          -0.4315823116666682,
          -0.4315823116666682,
          -0.4315823116666682,
          -0.3355021654943652,
          -0.3355021654943652,
          -0.3355021654943652,
          -0.3355021654943652,
          -0.3355021654943652,
          -0.3355021654943652,
          -0.3355021654943652,
          -0.3355021654943652,
          -0.3355021654943652,
          -0.23942201932206214,
          -0.23942201932206214,
          -0.23942201932206214,
          -0.23942201932206214,
          -0.23942201932206214,
          -0.23942201932206214,
          -0.23942201932206214,
          -0.23942201932206214,
          -0.23942201932206214,
          -0.23942201932206214,
          -0.14334187314975907,
          -0.14334187314975907,
          -0.14334187314975907,
          -0.14334187314975907,
          -0.04726172697745605,
          -0.04726172697745605,
          -0.04726172697745605,
          -0.04726172697745605,
          -0.04726172697745605,
          -0.04726172697745605,
          -0.04726172697745605,
          -0.04726172697745605,
          -0.04726172697745605,
          -0.04726172697745605,
          0.048818419194847,
          0.048818419194847,
          0.048818419194847,
          0.048818419194847,
          0.048818419194847,
          0.048818419194847,
          0.048818419194847,
          0.048818419194847,
          0.048818419194847,
          0.048818419194847,
          0.048818419194847,
          0.048818419194847,
          0.048818419194847,
          0.14489856536715007,
          0.14489856536715007,
          0.14489856536715007,
          0.14489856536715007,
          0.14489856536715007,
          0.14489856536715007,
          0.14489856536715007,
          0.14489856536715007,
          0.14489856536715007,
          0.2409787115394531,
          0.2409787115394531,
          0.2409787115394531,
          0.2409787115394531,
          0.2409787115394531,
          0.2409787115394531,
          0.2409787115394531,
          0.2409787115394531,
          0.2409787115394531,
          0.2409787115394531,
          0.2409787115394531,
          0.2409787115394531,
          0.3370588577117562,
          0.3370588577117562,
          0.3370588577117562,
          0.3370588577117562,
          0.3370588577117562,
          0.3370588577117562,
          0.3370588577117562,
          0.3370588577117562,
          0.3370588577117562,
          0.4331390038840592,
          0.4331390038840592,
          0.4331390038840592,
          0.4331390038840592,
          0.4331390038840592,
          0.4331390038840592,
          0.4331390038840592,
          0.4331390038840592,
          0.4331390038840592,
          0.4331390038840592,
          0.4331390038840592,
          0.5292191500563622,
          0.5292191500563622,
          0.5292191500563622,
          0.5292191500563622,
          0.5292191500563622,
          0.6252992962286653,
          0.6252992962286653,
          0.6252992962286653,
          0.6252992962286653,
          0.6252992962286653,
          0.6252992962286653,
          0.6252992962286653,
          0.6252992962286653,
          0.6252992962286653,
          0.6252992962286653,
          0.7213794424009684,
          0.7213794424009684,
          0.7213794424009684,
          0.7213794424009684,
          0.7213794424009684,
          0.7213794424009684,
          0.8174595885732713,
          0.8174595885732713,
          0.8174595885732713,
          0.8174595885732713,
          0.8174595885732713,
          0.8174595885732713,
          0.8174595885732713,
          0.8174595885732713,
          0.8174595885732713,
          0.9135397347455744,
          0.9135397347455744,
          0.9135397347455744,
          0.9135397347455744,
          0.9135397347455744,
          0.9135397347455744,
          0.9135397347455744,
          0.9135397347455744,
          0.9135397347455744,
          0.9135397347455744,
          0.9135397347455744,
          0.9135397347455744,
          0.9135397347455744,
          0.9135397347455744,
          1.0096198809178774,
          1.0096198809178774,
          1.0096198809178774,
          1.0096198809178774,
          1.0096198809178774,
          1.0096198809178774,
          1.0096198809178774
         ],
         "yaxis": "y"
        },
        {
         "hovertemplate": "Gender=M<br>Experience (Years)=%{x}<br>Log_Salary=%{y}<extra></extra>",
         "legendgroup": "M",
         "marker": {
          "color": "#EF553B",
          "symbol": "circle"
         },
         "mode": "markers",
         "name": "M",
         "orientation": "v",
         "showlegend": true,
         "type": "scatter",
         "x": [
          -0.6022376710972642,
          1.202834367613882,
          -0.4381402130326145,
          -1.2586275033558627,
          -1.2586275033558627,
          -0.10994529690331525,
          0.5464445353552834,
          -0.9304325872265634,
          -0.7663351291619138,
          1.202834367613882,
          1.6951267418078309,
          -0.2740427549679649,
          -0.4381402130326145,
          0.8746394514845827,
          -1.094530045291213,
          0.5464445353552834,
          -1.4227249614205124,
          0.710541993419933,
          0.21824961922598404,
          -1.4227249614205124,
          -0.9304325872265634,
          0.8746394514845827,
          -0.6022376710972642,
          1.202834367613882,
          0.710541993419933,
          1.6951267418078309,
          -1.5868224194851621,
          -1.2586275033558627,
          -0.4381402130326145,
          1.202834367613882,
          -1.2586275033558627,
          1.202834367613882,
          -0.10994529690331525,
          -1.094530045291213,
          -1.2586275033558627,
          -1.4227249614205124,
          0.8746394514845827,
          -1.2586275033558627,
          0.38234707729063366,
          -1.094530045291213,
          0.21824961922598404,
          -1.094530045291213,
          0.8746394514845827,
          -1.2586275033558627,
          1.0387369095492323,
          -1.4227249614205124,
          -1.094530045291213,
          -0.9304325872265634,
          -0.9304325872265634,
          -1.4227249614205124,
          -0.10994529690331525,
          -1.094530045291213,
          -0.6022376710972642,
          0.710541993419933,
          -1.2586275033558627,
          0.710541993419933,
          -0.10994529690331525,
          -1.2586275033558627,
          1.3669318256785314,
          1.0387369095492323,
          0.5464445353552834,
          1.3669318256785314,
          -0.7663351291619138,
          0.054152161161334395,
          1.0387369095492323,
          -0.6022376710972642,
          -1.094530045291213,
          0.710541993419933,
          0.8746394514845827,
          0.054152161161334395,
          -1.094530045291213,
          -0.7663351291619138,
          -1.5868224194851621,
          0.38234707729063366,
          1.5310292837431811,
          1.5310292837431811,
          -0.4381402130326145,
          1.0387369095492323,
          1.5310292837431811,
          0.5464445353552834,
          -0.2740427549679649,
          -0.2740427549679649,
          -0.2740427549679649,
          -1.5868224194851621,
          -0.2740427549679649,
          1.202834367613882,
          -0.7663351291619138,
          0.5464445353552834,
          0.710541993419933,
          -1.094530045291213,
          1.6951267418078309,
          -0.7663351291619138,
          1.0387369095492323,
          1.6951267418078309,
          0.5464445353552834,
          0.38234707729063366,
          -1.2586275033558627,
          0.21824961922598404,
          0.21824961922598404,
          -0.4381402130326145,
          -0.4381402130326145,
          -0.2740427549679649,
          0.21824961922598404,
          1.5310292837431811,
          0.21824961922598404,
          -0.6022376710972642,
          -0.2740427549679649,
          -0.10994529690331525,
          0.21824961922598404,
          0.710541993419933,
          -0.9304325872265634,
          -1.094530045291213,
          -0.10994529690331525,
          -0.2740427549679649,
          1.3669318256785314,
          1.6951267418078309,
          -1.5868224194851621,
          -1.094530045291213,
          0.710541993419933,
          -0.2740427549679649,
          -1.5868224194851621,
          1.202834367613882,
          -0.7663351291619138,
          -1.094530045291213,
          0.5464445353552834,
          1.202834367613882,
          0.054152161161334395,
          1.0387369095492323,
          -0.6022376710972642,
          -1.4227249614205124,
          -0.10994529690331525,
          0.710541993419933,
          0.21824961922598404,
          0.054152161161334395,
          1.0387369095492323,
          -0.7663351291619138,
          -0.10994529690331525,
          -1.4227249614205124,
          0.5464445353552834,
          1.5310292837431811,
          1.5310292837431811,
          0.5464445353552834,
          0.054152161161334395,
          0.21824961922598404,
          -0.7663351291619138,
          -1.2586275033558627,
          -0.6022376710972642,
          0.21824961922598404,
          -0.4381402130326145,
          -1.5868224194851621,
          0.5464445353552834,
          1.3669318256785314,
          1.0387369095492323,
          -0.9304325872265634,
          0.054152161161334395,
          0.8746394514845827,
          -1.5868224194851621,
          0.8746394514845827,
          0.38234707729063366,
          1.0387369095492323,
          0.054152161161334395,
          -0.7663351291619138,
          1.3669318256785314,
          0.054152161161334395,
          -1.2586275033558627,
          -1.5868224194851621,
          -1.2586275033558627,
          1.202834367613882,
          1.5310292837431811,
          1.6951267418078309,
          1.6951267418078309,
          1.6951267418078309,
          -1.2586275033558627,
          -0.9304325872265634,
          0.21824961922598404,
          0.38234707729063366,
          1.202834367613882,
          -0.9304325872265634,
          -0.10994529690331525,
          1.0387369095492323,
          1.5310292837431811,
          1.202834367613882,
          -0.6022376710972642,
          1.0387369095492323,
          -0.7663351291619138,
          -0.9304325872265634,
          -1.4227249614205124,
          0.8746394514845827,
          0.5464445353552834,
          -1.4227249614205124,
          -0.6022376710972642,
          0.38234707729063366,
          0.5464445353552834,
          -1.094530045291213,
          -1.4227249614205124,
          0.21824961922598404,
          1.6951267418078309,
          0.054152161161334395,
          0.21824961922598404,
          -1.2586275033558627,
          -1.094530045291213,
          1.3669318256785314
         ],
         "xaxis": "x",
         "y": [
          -0.10839570613433153,
          1.1055543153598433,
          -1.397859768138992,
          -0.3272185148265362,
          -0.5339673605226344,
          0.32405585037704226,
          -0.21814439041905484,
          -0.3361659125878417,
          -1.1496834063385146,
          0.7078906213593535,
          -0.1860731975978039,
          0.4704717097194461,
          0.241016421023216,
          -0.10805216732267603,
          -0.7303271821122551,
          -0.6154045667229182,
          -1.0288887302446486,
          0.9382857780564865,
          0.5281162188104614,
          -0.05684907303840489,
          -1.8881948600320015,
          0.12802224512888383,
          1.11221113788083,
          1.3379175229135989,
          0.2863721826585316,
          1.2540693425600482,
          -0.33367485489450716,
          -1.4663457128408492,
          -0.4989624367593149,
          2.1747263205898304,
          -2.7675336892433395,
          0.9796784873360941,
          1.1847454481498294,
          0.03722289080413461,
          -1.3384818005925037,
          -1.088547416244925,
          0.21707440917748722,
          0.17587217225309876,
          1.0344014872504157,
          -0.3647245129804658,
          0.6631290142543962,
          -2.275206363477812,
          0.34681121600090287,
          -0.7360605670126725,
          0.09387563855777632,
          -0.5669549973279374,
          0.6946529782161456,
          0.15186460528010448,
          -2.0469086297056958,
          -0.03661436573804461,
          0.7630492294104916,
          -1.08461440047752,
          0.2379851938357892,
          1.4759037994366464,
          -0.40539984584882255,
          -0.02893661738233339,
          0.492908693241368,
          0.781069250081386,
          2.278674887205842,
          1.5980921778262551,
          0.4644770615543843,
          1.608416118459329,
          -1.0013164547225222,
          -0.9454991378935209,
          0.6439906599355878,
          -0.5549946033687431,
          -2.2613661034802397,
          0.5385575683759838,
          -0.9395391062873077,
          0.2473522930802477,
          -2.0931283828147187,
          -1.197412006045779,
          -1.810664086883904,
          1.6409623801731994,
          1.095263522098292,
          1.068012111454657,
          0.09119370571731168,
          1.5037251648403251,
          1.1039284165274335,
          1.2880451628756808,
          0.4578830086083096,
          0.5344367667030632,
          0.3778520987032574,
          -0.4196839786621601,
          -1.7129573116079366,
          1.9862114492806235,
          -1.7882743987388892,
          0.22107096189397193,
          0.3487871464806839,
          -0.3776828652964721,
          1.1112865766313744,
          -1.392049927855349,
          -0.17423001725002354,
          -0.10800309361860115,
          -0.4062142195453754,
          -0.044120079097271114,
          -0.23607952746034627,
          0.6175811163719913,
          -0.20125463957166234,
          0.17413355757905088,
          -0.9472275206700309,
          0.09435675287078478,
          1.339944807975679,
          -0.12730288507085644,
          -0.8564859192423631,
          0.07419734736291551,
          -0.34737519061367517,
          -1.1198906305334346,
          -0.2460394329528202,
          1.1391872841897537,
          -0.8053103478084103,
          -0.6470818943961087,
          0.10610817594420408,
          0.16690062007244272,
          0.593892725103526,
          1.652271882755463,
          -1.641044224765747,
          -0.7993477030067789,
          1.4611017138500644,
          0.5591929798983243,
          -1.690749286893959,
          0.5476463134626944,
          -1.573384777189904,
          -0.3939410697473991,
          -0.8109735981179884,
          1.037796484840136,
          -0.6830076728060821,
          0.994771510828342,
          -0.1888712092830549,
          -0.844080911638918,
          0.5098289741071208,
          2.086978289412227,
          1.3478753498159868,
          -0.33964100878167564,
          0.9519653962011695,
          0.6885735975074911,
          0.19145155271722802,
          -1.3075024726143498,
          0.7725098284727508,
          0.17725341669573952,
          -0.19591580236272746,
          0.224229233388989,
          0.8475643265136501,
          -0.6451675002432423,
          -0.8986342813665069,
          -1.3264738790599793,
          0.20379422282701629,
          1.0886009599783482,
          -0.7279945527733495,
          -1.6741711010816287,
          -0.41995673046038,
          0.3225933374542003,
          -0.24203088772197975,
          0.01638519920994578,
          0.8161007188290834,
          1.0608420351590055,
          -1.929331655275962,
          -0.01029212976314771,
          0.6041232735374431,
          1.1132326840087967,
          0.5627517499178857,
          -0.14807271651926304,
          1.9663977918935502,
          0.08375405144952583,
          -0.8843580772440496,
          -0.24274996881551797,
          -0.5394728604765154,
          1.2274741790458152,
          -0.3307095326374285,
          1.5999894423102279,
          1.4735949721613462,
          0.5304880131533918,
          -1.0287545848056128,
          -0.6777039284955547,
          0.39273326964831223,
          -1.2473345991038132,
          -0.3010882778809925,
          -0.43069591599067514,
          -0.2163365011031876,
          -0.8358712325230935,
          1.7996414161007723,
          0.8037195513914728,
          0.6270416539545766,
          0.9999651014411606,
          -1.4563643207230277,
          -0.8106932913481844,
          -1.363471841593969,
          -0.1406451927339677,
          0.7323076199658703,
          -2.0754238867496126,
          0.1077277497143897,
          -0.18602280732922657,
          0.8663812223476125,
          -0.4825896955561618,
          -0.5290664772675849,
          0.7361609949027036,
          1.258455479878166,
          -0.9082761625542225,
          -1.8689545795311362,
          -0.9248372277734712,
          -2.412957889487348,
          0.1252352082302301
         ],
         "yaxis": "y"
        },
        {
         "hovertemplate": "<b>OLS trendline</b><br>Log_Salary = 0.660618 * Experience (Years) + -0.015593<br>R<sup>2</sup>=0.421370<br><br>Gender=M<br>Experience (Years)=%{x}<br>Log_Salary=%{y} <b>(trend)</b><extra></extra>",
         "legendgroup": "M",
         "marker": {
          "color": "#EF553B",
          "symbol": "circle"
         },
         "mode": "lines",
         "name": "M",
         "showlegend": false,
         "type": "scatter",
         "x": [
          -1.5868224194851621,
          -1.5868224194851621,
          -1.5868224194851621,
          -1.5868224194851621,
          -1.5868224194851621,
          -1.5868224194851621,
          -1.5868224194851621,
          -1.5868224194851621,
          -1.4227249614205124,
          -1.4227249614205124,
          -1.4227249614205124,
          -1.4227249614205124,
          -1.4227249614205124,
          -1.4227249614205124,
          -1.4227249614205124,
          -1.4227249614205124,
          -1.4227249614205124,
          -1.4227249614205124,
          -1.2586275033558627,
          -1.2586275033558627,
          -1.2586275033558627,
          -1.2586275033558627,
          -1.2586275033558627,
          -1.2586275033558627,
          -1.2586275033558627,
          -1.2586275033558627,
          -1.2586275033558627,
          -1.2586275033558627,
          -1.2586275033558627,
          -1.2586275033558627,
          -1.2586275033558627,
          -1.2586275033558627,
          -1.2586275033558627,
          -1.094530045291213,
          -1.094530045291213,
          -1.094530045291213,
          -1.094530045291213,
          -1.094530045291213,
          -1.094530045291213,
          -1.094530045291213,
          -1.094530045291213,
          -1.094530045291213,
          -1.094530045291213,
          -1.094530045291213,
          -1.094530045291213,
          -1.094530045291213,
          -1.094530045291213,
          -0.9304325872265634,
          -0.9304325872265634,
          -0.9304325872265634,
          -0.9304325872265634,
          -0.9304325872265634,
          -0.9304325872265634,
          -0.9304325872265634,
          -0.9304325872265634,
          -0.9304325872265634,
          -0.7663351291619138,
          -0.7663351291619138,
          -0.7663351291619138,
          -0.7663351291619138,
          -0.7663351291619138,
          -0.7663351291619138,
          -0.7663351291619138,
          -0.7663351291619138,
          -0.7663351291619138,
          -0.7663351291619138,
          -0.6022376710972642,
          -0.6022376710972642,
          -0.6022376710972642,
          -0.6022376710972642,
          -0.6022376710972642,
          -0.6022376710972642,
          -0.6022376710972642,
          -0.6022376710972642,
          -0.6022376710972642,
          -0.4381402130326145,
          -0.4381402130326145,
          -0.4381402130326145,
          -0.4381402130326145,
          -0.4381402130326145,
          -0.4381402130326145,
          -0.4381402130326145,
          -0.2740427549679649,
          -0.2740427549679649,
          -0.2740427549679649,
          -0.2740427549679649,
          -0.2740427549679649,
          -0.2740427549679649,
          -0.2740427549679649,
          -0.2740427549679649,
          -0.2740427549679649,
          -0.10994529690331525,
          -0.10994529690331525,
          -0.10994529690331525,
          -0.10994529690331525,
          -0.10994529690331525,
          -0.10994529690331525,
          -0.10994529690331525,
          -0.10994529690331525,
          -0.10994529690331525,
          0.054152161161334395,
          0.054152161161334395,
          0.054152161161334395,
          0.054152161161334395,
          0.054152161161334395,
          0.054152161161334395,
          0.054152161161334395,
          0.054152161161334395,
          0.054152161161334395,
          0.21824961922598404,
          0.21824961922598404,
          0.21824961922598404,
          0.21824961922598404,
          0.21824961922598404,
          0.21824961922598404,
          0.21824961922598404,
          0.21824961922598404,
          0.21824961922598404,
          0.21824961922598404,
          0.21824961922598404,
          0.21824961922598404,
          0.21824961922598404,
          0.38234707729063366,
          0.38234707729063366,
          0.38234707729063366,
          0.38234707729063366,
          0.38234707729063366,
          0.38234707729063366,
          0.5464445353552834,
          0.5464445353552834,
          0.5464445353552834,
          0.5464445353552834,
          0.5464445353552834,
          0.5464445353552834,
          0.5464445353552834,
          0.5464445353552834,
          0.5464445353552834,
          0.5464445353552834,
          0.5464445353552834,
          0.5464445353552834,
          0.710541993419933,
          0.710541993419933,
          0.710541993419933,
          0.710541993419933,
          0.710541993419933,
          0.710541993419933,
          0.710541993419933,
          0.710541993419933,
          0.710541993419933,
          0.8746394514845827,
          0.8746394514845827,
          0.8746394514845827,
          0.8746394514845827,
          0.8746394514845827,
          0.8746394514845827,
          0.8746394514845827,
          0.8746394514845827,
          1.0387369095492323,
          1.0387369095492323,
          1.0387369095492323,
          1.0387369095492323,
          1.0387369095492323,
          1.0387369095492323,
          1.0387369095492323,
          1.0387369095492323,
          1.0387369095492323,
          1.0387369095492323,
          1.0387369095492323,
          1.202834367613882,
          1.202834367613882,
          1.202834367613882,
          1.202834367613882,
          1.202834367613882,
          1.202834367613882,
          1.202834367613882,
          1.202834367613882,
          1.202834367613882,
          1.202834367613882,
          1.202834367613882,
          1.3669318256785314,
          1.3669318256785314,
          1.3669318256785314,
          1.3669318256785314,
          1.3669318256785314,
          1.3669318256785314,
          1.5310292837431811,
          1.5310292837431811,
          1.5310292837431811,
          1.5310292837431811,
          1.5310292837431811,
          1.5310292837431811,
          1.5310292837431811,
          1.5310292837431811,
          1.6951267418078309,
          1.6951267418078309,
          1.6951267418078309,
          1.6951267418078309,
          1.6951267418078309,
          1.6951267418078309,
          1.6951267418078309,
          1.6951267418078309,
          1.6951267418078309
         ],
         "xaxis": "x",
         "y": [
          -1.0638770027889723,
          -1.0638770027889723,
          -1.0638770027889723,
          -1.0638770027889723,
          -1.0638770027889723,
          -1.0638770027889723,
          -1.0638770027889723,
          -1.0638770027889723,
          -0.9554712146365845,
          -0.9554712146365845,
          -0.9554712146365845,
          -0.9554712146365845,
          -0.9554712146365845,
          -0.9554712146365845,
          -0.9554712146365845,
          -0.9554712146365845,
          -0.9554712146365845,
          -0.9554712146365845,
          -0.8470654264841966,
          -0.8470654264841966,
          -0.8470654264841966,
          -0.8470654264841966,
          -0.8470654264841966,
          -0.8470654264841966,
          -0.8470654264841966,
          -0.8470654264841966,
          -0.8470654264841966,
          -0.8470654264841966,
          -0.8470654264841966,
          -0.8470654264841966,
          -0.8470654264841966,
          -0.8470654264841966,
          -0.8470654264841966,
          -0.7386596383318087,
          -0.7386596383318087,
          -0.7386596383318087,
          -0.7386596383318087,
          -0.7386596383318087,
          -0.7386596383318087,
          -0.7386596383318087,
          -0.7386596383318087,
          -0.7386596383318087,
          -0.7386596383318087,
          -0.7386596383318087,
          -0.7386596383318087,
          -0.7386596383318087,
          -0.7386596383318087,
          -0.6302538501794208,
          -0.6302538501794208,
          -0.6302538501794208,
          -0.6302538501794208,
          -0.6302538501794208,
          -0.6302538501794208,
          -0.6302538501794208,
          -0.6302538501794208,
          -0.6302538501794208,
          -0.5218480620270329,
          -0.5218480620270329,
          -0.5218480620270329,
          -0.5218480620270329,
          -0.5218480620270329,
          -0.5218480620270329,
          -0.5218480620270329,
          -0.5218480620270329,
          -0.5218480620270329,
          -0.5218480620270329,
          -0.41344227387464505,
          -0.41344227387464505,
          -0.41344227387464505,
          -0.41344227387464505,
          -0.41344227387464505,
          -0.41344227387464505,
          -0.41344227387464505,
          -0.41344227387464505,
          -0.41344227387464505,
          -0.30503648572225717,
          -0.30503648572225717,
          -0.30503648572225717,
          -0.30503648572225717,
          -0.30503648572225717,
          -0.30503648572225717,
          -0.30503648572225717,
          -0.19663069756986928,
          -0.19663069756986928,
          -0.19663069756986928,
          -0.19663069756986928,
          -0.19663069756986928,
          -0.19663069756986928,
          -0.19663069756986928,
          -0.19663069756986928,
          -0.19663069756986928,
          -0.08822490941748143,
          -0.08822490941748143,
          -0.08822490941748143,
          -0.08822490941748143,
          -0.08822490941748143,
          -0.08822490941748143,
          -0.08822490941748143,
          -0.08822490941748143,
          -0.08822490941748143,
          0.02018087873490646,
          0.02018087873490646,
          0.02018087873490646,
          0.02018087873490646,
          0.02018087873490646,
          0.02018087873490646,
          0.02018087873490646,
          0.02018087873490646,
          0.02018087873490646,
          0.12858666688729437,
          0.12858666688729437,
          0.12858666688729437,
          0.12858666688729437,
          0.12858666688729437,
          0.12858666688729437,
          0.12858666688729437,
          0.12858666688729437,
          0.12858666688729437,
          0.12858666688729437,
          0.12858666688729437,
          0.12858666688729437,
          0.12858666688729437,
          0.2369924550396822,
          0.2369924550396822,
          0.2369924550396822,
          0.2369924550396822,
          0.2369924550396822,
          0.2369924550396822,
          0.34539824319207013,
          0.34539824319207013,
          0.34539824319207013,
          0.34539824319207013,
          0.34539824319207013,
          0.34539824319207013,
          0.34539824319207013,
          0.34539824319207013,
          0.34539824319207013,
          0.34539824319207013,
          0.34539824319207013,
          0.34539824319207013,
          0.45380403134445796,
          0.45380403134445796,
          0.45380403134445796,
          0.45380403134445796,
          0.45380403134445796,
          0.45380403134445796,
          0.45380403134445796,
          0.45380403134445796,
          0.45380403134445796,
          0.5622098194968459,
          0.5622098194968459,
          0.5622098194968459,
          0.5622098194968459,
          0.5622098194968459,
          0.5622098194968459,
          0.5622098194968459,
          0.5622098194968459,
          0.6706156076492337,
          0.6706156076492337,
          0.6706156076492337,
          0.6706156076492337,
          0.6706156076492337,
          0.6706156076492337,
          0.6706156076492337,
          0.6706156076492337,
          0.6706156076492337,
          0.6706156076492337,
          0.6706156076492337,
          0.7790213958016217,
          0.7790213958016217,
          0.7790213958016217,
          0.7790213958016217,
          0.7790213958016217,
          0.7790213958016217,
          0.7790213958016217,
          0.7790213958016217,
          0.7790213958016217,
          0.7790213958016217,
          0.7790213958016217,
          0.8874271839540094,
          0.8874271839540094,
          0.8874271839540094,
          0.8874271839540094,
          0.8874271839540094,
          0.8874271839540094,
          0.9958329721063972,
          0.9958329721063972,
          0.9958329721063972,
          0.9958329721063972,
          0.9958329721063972,
          0.9958329721063972,
          0.9958329721063972,
          0.9958329721063972,
          1.1042387602587853,
          1.1042387602587853,
          1.1042387602587853,
          1.1042387602587853,
          1.1042387602587853,
          1.1042387602587853,
          1.1042387602587853,
          1.1042387602587853,
          1.1042387602587853
         ],
         "yaxis": "y"
        }
       ],
       "layout": {
        "height": 600,
        "legend": {
         "title": {
          "text": "Gender"
         },
         "tracegroupgap": 0
        },
        "template": {
         "data": {
          "bar": [
           {
            "error_x": {
             "color": "#2a3f5f"
            },
            "error_y": {
             "color": "#2a3f5f"
            },
            "marker": {
             "line": {
              "color": "#E5ECF6",
              "width": 0.5
             },
             "pattern": {
              "fillmode": "overlay",
              "size": 10,
              "solidity": 0.2
             }
            },
            "type": "bar"
           }
          ],
          "barpolar": [
           {
            "marker": {
             "line": {
              "color": "#E5ECF6",
              "width": 0.5
             },
             "pattern": {
              "fillmode": "overlay",
              "size": 10,
              "solidity": 0.2
             }
            },
            "type": "barpolar"
           }
          ],
          "carpet": [
           {
            "aaxis": {
             "endlinecolor": "#2a3f5f",
             "gridcolor": "white",
             "linecolor": "white",
             "minorgridcolor": "white",
             "startlinecolor": "#2a3f5f"
            },
            "baxis": {
             "endlinecolor": "#2a3f5f",
             "gridcolor": "white",
             "linecolor": "white",
             "minorgridcolor": "white",
             "startlinecolor": "#2a3f5f"
            },
            "type": "carpet"
           }
          ],
          "choropleth": [
           {
            "colorbar": {
             "outlinewidth": 0,
             "ticks": ""
            },
            "type": "choropleth"
           }
          ],
          "contour": [
           {
            "colorbar": {
             "outlinewidth": 0,
             "ticks": ""
            },
            "colorscale": [
             [
              0,
              "#0d0887"
             ],
             [
              0.1111111111111111,
              "#46039f"
             ],
             [
              0.2222222222222222,
              "#7201a8"
             ],
             [
              0.3333333333333333,
              "#9c179e"
             ],
             [
              0.4444444444444444,
              "#bd3786"
             ],
             [
              0.5555555555555556,
              "#d8576b"
             ],
             [
              0.6666666666666666,
              "#ed7953"
             ],
             [
              0.7777777777777778,
              "#fb9f3a"
             ],
             [
              0.8888888888888888,
              "#fdca26"
             ],
             [
              1,
              "#f0f921"
             ]
            ],
            "type": "contour"
           }
          ],
          "contourcarpet": [
           {
            "colorbar": {
             "outlinewidth": 0,
             "ticks": ""
            },
            "type": "contourcarpet"
           }
          ],
          "heatmap": [
           {
            "colorbar": {
             "outlinewidth": 0,
             "ticks": ""
            },
            "colorscale": [
             [
              0,
              "#0d0887"
             ],
             [
              0.1111111111111111,
              "#46039f"
             ],
             [
              0.2222222222222222,
              "#7201a8"
             ],
             [
              0.3333333333333333,
              "#9c179e"
             ],
             [
              0.4444444444444444,
              "#bd3786"
             ],
             [
              0.5555555555555556,
              "#d8576b"
             ],
             [
              0.6666666666666666,
              "#ed7953"
             ],
             [
              0.7777777777777778,
              "#fb9f3a"
             ],
             [
              0.8888888888888888,
              "#fdca26"
             ],
             [
              1,
              "#f0f921"
             ]
            ],
            "type": "heatmap"
           }
          ],
          "heatmapgl": [
           {
            "colorbar": {
             "outlinewidth": 0,
             "ticks": ""
            },
            "colorscale": [
             [
              0,
              "#0d0887"
             ],
             [
              0.1111111111111111,
              "#46039f"
             ],
             [
              0.2222222222222222,
              "#7201a8"
             ],
             [
              0.3333333333333333,
              "#9c179e"
             ],
             [
              0.4444444444444444,
              "#bd3786"
             ],
             [
              0.5555555555555556,
              "#d8576b"
             ],
             [
              0.6666666666666666,
              "#ed7953"
             ],
             [
              0.7777777777777778,
              "#fb9f3a"
             ],
             [
              0.8888888888888888,
              "#fdca26"
             ],
             [
              1,
              "#f0f921"
             ]
            ],
            "type": "heatmapgl"
           }
          ],
          "histogram": [
           {
            "marker": {
             "pattern": {
              "fillmode": "overlay",
              "size": 10,
              "solidity": 0.2
             }
            },
            "type": "histogram"
           }
          ],
          "histogram2d": [
           {
            "colorbar": {
             "outlinewidth": 0,
             "ticks": ""
            },
            "colorscale": [
             [
              0,
              "#0d0887"
             ],
             [
              0.1111111111111111,
              "#46039f"
             ],
             [
              0.2222222222222222,
              "#7201a8"
             ],
             [
              0.3333333333333333,
              "#9c179e"
             ],
             [
              0.4444444444444444,
              "#bd3786"
             ],
             [
              0.5555555555555556,
              "#d8576b"
             ],
             [
              0.6666666666666666,
              "#ed7953"
             ],
             [
              0.7777777777777778,
              "#fb9f3a"
             ],
             [
              0.8888888888888888,
              "#fdca26"
             ],
             [
              1,
              "#f0f921"
             ]
            ],
            "type": "histogram2d"
           }
          ],
          "histogram2dcontour": [
           {
            "colorbar": {
             "outlinewidth": 0,
             "ticks": ""
            },
            "colorscale": [
             [
              0,
              "#0d0887"
             ],
             [
              0.1111111111111111,
              "#46039f"
             ],
             [
              0.2222222222222222,
              "#7201a8"
             ],
             [
              0.3333333333333333,
              "#9c179e"
             ],
             [
              0.4444444444444444,
              "#bd3786"
             ],
             [
              0.5555555555555556,
              "#d8576b"
             ],
             [
              0.6666666666666666,
              "#ed7953"
             ],
             [
              0.7777777777777778,
              "#fb9f3a"
             ],
             [
              0.8888888888888888,
              "#fdca26"
             ],
             [
              1,
              "#f0f921"
             ]
            ],
            "type": "histogram2dcontour"
           }
          ],
          "mesh3d": [
           {
            "colorbar": {
             "outlinewidth": 0,
             "ticks": ""
            },
            "type": "mesh3d"
           }
          ],
          "parcoords": [
           {
            "line": {
             "colorbar": {
              "outlinewidth": 0,
              "ticks": ""
             }
            },
            "type": "parcoords"
           }
          ],
          "pie": [
           {
            "automargin": true,
            "type": "pie"
           }
          ],
          "scatter": [
           {
            "fillpattern": {
             "fillmode": "overlay",
             "size": 10,
             "solidity": 0.2
            },
            "type": "scatter"
           }
          ],
          "scatter3d": [
           {
            "line": {
             "colorbar": {
              "outlinewidth": 0,
              "ticks": ""
             }
            },
            "marker": {
             "colorbar": {
              "outlinewidth": 0,
              "ticks": ""
             }
            },
            "type": "scatter3d"
           }
          ],
          "scattercarpet": [
           {
            "marker": {
             "colorbar": {
              "outlinewidth": 0,
              "ticks": ""
             }
            },
            "type": "scattercarpet"
           }
          ],
          "scattergeo": [
           {
            "marker": {
             "colorbar": {
              "outlinewidth": 0,
              "ticks": ""
             }
            },
            "type": "scattergeo"
           }
          ],
          "scattergl": [
           {
            "marker": {
             "colorbar": {
              "outlinewidth": 0,
              "ticks": ""
             }
            },
            "type": "scattergl"
           }
          ],
          "scattermapbox": [
           {
            "marker": {
             "colorbar": {
              "outlinewidth": 0,
              "ticks": ""
             }
            },
            "type": "scattermapbox"
           }
          ],
          "scatterpolar": [
           {
            "marker": {
             "colorbar": {
              "outlinewidth": 0,
              "ticks": ""
             }
            },
            "type": "scatterpolar"
           }
          ],
          "scatterpolargl": [
           {
            "marker": {
             "colorbar": {
              "outlinewidth": 0,
              "ticks": ""
             }
            },
            "type": "scatterpolargl"
           }
          ],
          "scatterternary": [
           {
            "marker": {
             "colorbar": {
              "outlinewidth": 0,
              "ticks": ""
             }
            },
            "type": "scatterternary"
           }
          ],
          "surface": [
           {
            "colorbar": {
             "outlinewidth": 0,
             "ticks": ""
            },
            "colorscale": [
             [
              0,
              "#0d0887"
             ],
             [
              0.1111111111111111,
              "#46039f"
             ],
             [
              0.2222222222222222,
              "#7201a8"
             ],
             [
              0.3333333333333333,
              "#9c179e"
             ],
             [
              0.4444444444444444,
              "#bd3786"
             ],
             [
              0.5555555555555556,
              "#d8576b"
             ],
             [
              0.6666666666666666,
              "#ed7953"
             ],
             [
              0.7777777777777778,
              "#fb9f3a"
             ],
             [
              0.8888888888888888,
              "#fdca26"
             ],
             [
              1,
              "#f0f921"
             ]
            ],
            "type": "surface"
           }
          ],
          "table": [
           {
            "cells": {
             "fill": {
              "color": "#EBF0F8"
             },
             "line": {
              "color": "white"
             }
            },
            "header": {
             "fill": {
              "color": "#C8D4E3"
             },
             "line": {
              "color": "white"
             }
            },
            "type": "table"
           }
          ]
         },
         "layout": {
          "annotationdefaults": {
           "arrowcolor": "#2a3f5f",
           "arrowhead": 0,
           "arrowwidth": 1
          },
          "autotypenumbers": "strict",
          "coloraxis": {
           "colorbar": {
            "outlinewidth": 0,
            "ticks": ""
           }
          },
          "colorscale": {
           "diverging": [
            [
             0,
             "#8e0152"
            ],
            [
             0.1,
             "#c51b7d"
            ],
            [
             0.2,
             "#de77ae"
            ],
            [
             0.3,
             "#f1b6da"
            ],
            [
             0.4,
             "#fde0ef"
            ],
            [
             0.5,
             "#f7f7f7"
            ],
            [
             0.6,
             "#e6f5d0"
            ],
            [
             0.7,
             "#b8e186"
            ],
            [
             0.8,
             "#7fbc41"
            ],
            [
             0.9,
             "#4d9221"
            ],
            [
             1,
             "#276419"
            ]
           ],
           "sequential": [
            [
             0,
             "#0d0887"
            ],
            [
             0.1111111111111111,
             "#46039f"
            ],
            [
             0.2222222222222222,
             "#7201a8"
            ],
            [
             0.3333333333333333,
             "#9c179e"
            ],
            [
             0.4444444444444444,
             "#bd3786"
            ],
            [
             0.5555555555555556,
             "#d8576b"
            ],
            [
             0.6666666666666666,
             "#ed7953"
            ],
            [
             0.7777777777777778,
             "#fb9f3a"
            ],
            [
             0.8888888888888888,
             "#fdca26"
            ],
            [
             1,
             "#f0f921"
            ]
           ],
           "sequentialminus": [
            [
             0,
             "#0d0887"
            ],
            [
             0.1111111111111111,
             "#46039f"
            ],
            [
             0.2222222222222222,
             "#7201a8"
            ],
            [
             0.3333333333333333,
             "#9c179e"
            ],
            [
             0.4444444444444444,
             "#bd3786"
            ],
            [
             0.5555555555555556,
             "#d8576b"
            ],
            [
             0.6666666666666666,
             "#ed7953"
            ],
            [
             0.7777777777777778,
             "#fb9f3a"
            ],
            [
             0.8888888888888888,
             "#fdca26"
            ],
            [
             1,
             "#f0f921"
            ]
           ]
          },
          "colorway": [
           "#636efa",
           "#EF553B",
           "#00cc96",
           "#ab63fa",
           "#FFA15A",
           "#19d3f3",
           "#FF6692",
           "#B6E880",
           "#FF97FF",
           "#FECB52"
          ],
          "font": {
           "color": "#2a3f5f"
          },
          "geo": {
           "bgcolor": "white",
           "lakecolor": "white",
           "landcolor": "#E5ECF6",
           "showlakes": true,
           "showland": true,
           "subunitcolor": "white"
          },
          "hoverlabel": {
           "align": "left"
          },
          "hovermode": "closest",
          "mapbox": {
           "style": "light"
          },
          "paper_bgcolor": "white",
          "plot_bgcolor": "#E5ECF6",
          "polar": {
           "angularaxis": {
            "gridcolor": "white",
            "linecolor": "white",
            "ticks": ""
           },
           "bgcolor": "#E5ECF6",
           "radialaxis": {
            "gridcolor": "white",
            "linecolor": "white",
            "ticks": ""
           }
          },
          "scene": {
           "xaxis": {
            "backgroundcolor": "#E5ECF6",
            "gridcolor": "white",
            "gridwidth": 2,
            "linecolor": "white",
            "showbackground": true,
            "ticks": "",
            "zerolinecolor": "white"
           },
           "yaxis": {
            "backgroundcolor": "#E5ECF6",
            "gridcolor": "white",
            "gridwidth": 2,
            "linecolor": "white",
            "showbackground": true,
            "ticks": "",
            "zerolinecolor": "white"
           },
           "zaxis": {
            "backgroundcolor": "#E5ECF6",
            "gridcolor": "white",
            "gridwidth": 2,
            "linecolor": "white",
            "showbackground": true,
            "ticks": "",
            "zerolinecolor": "white"
           }
          },
          "shapedefaults": {
           "line": {
            "color": "#2a3f5f"
           }
          },
          "ternary": {
           "aaxis": {
            "gridcolor": "white",
            "linecolor": "white",
            "ticks": ""
           },
           "baxis": {
            "gridcolor": "white",
            "linecolor": "white",
            "ticks": ""
           },
           "bgcolor": "#E5ECF6",
           "caxis": {
            "gridcolor": "white",
            "linecolor": "white",
            "ticks": ""
           }
          },
          "title": {
           "x": 0.05
          },
          "xaxis": {
           "automargin": true,
           "gridcolor": "white",
           "linecolor": "white",
           "ticks": "",
           "title": {
            "standoff": 15
           },
           "zerolinecolor": "white",
           "zerolinewidth": 2
          },
          "yaxis": {
           "automargin": true,
           "gridcolor": "white",
           "linecolor": "white",
           "ticks": "",
           "title": {
            "standoff": 15
           },
           "zerolinecolor": "white",
           "zerolinewidth": 2
          }
         }
        },
        "title": {
         "text": "Experience vs Salary with Trend Line"
        },
        "width": 800,
        "xaxis": {
         "anchor": "y",
         "domain": [
          0,
          1
         ],
         "title": {
          "text": "Experience (Years)"
         }
        },
        "yaxis": {
         "anchor": "x",
         "domain": [
          0,
          1
         ],
         "title": {
          "text": "Log_Salary"
         }
        }
       }
      },
      "text/html": [
       "<div>                            <div id=\"2c4ef30e-33fc-4a71-9a67-0fa661bda612\" class=\"plotly-graph-div\" style=\"height:600px; width:800px;\"></div>            <script type=\"text/javascript\">                require([\"plotly\"], function(Plotly) {                    window.PLOTLYENV=window.PLOTLYENV || {};                                    if (document.getElementById(\"2c4ef30e-33fc-4a71-9a67-0fa661bda612\")) {                    Plotly.newPlot(                        \"2c4ef30e-33fc-4a71-9a67-0fa661bda612\",                        [{\"hovertemplate\":\"Gender=F\\u003cbr\\u003eExperience (Years)=%{x}\\u003cbr\\u003eLog_Salary=%{y}\\u003cextra\\u003e\\u003c\\u002fextra\\u003e\",\"legendgroup\":\"F\",\"marker\":{\"color\":\"#636efa\",\"symbol\":\"circle\"},\"mode\":\"markers\",\"name\":\"F\",\"orientation\":\"v\",\"showlegend\":true,\"x\":[-0.9304325872265634,0.5464445353552834,0.5464445353552834,0.21824961922598404,-0.6022376710972642,-0.6022376710972642,1.5310292837431811,1.0387369095492323,-0.4381402130326145,1.0387369095492323,-0.7663351291619138,1.6951267418078309,1.5310292837431811,-1.5868224194851621,0.5464445353552834,-1.094530045291213,0.054152161161334395,-0.7663351291619138,1.6951267418078309,-0.4381402130326145,-1.2586275033558627,-0.9304325872265634,1.5310292837431811,-1.4227249614205124,0.054152161161334395,-1.4227249614205124,-1.4227249614205124,0.5464445353552834,0.38234707729063366,0.38234707729063366,0.054152161161334395,1.0387369095492323,-0.10994529690331525,-0.6022376710972642,1.5310292837431811,-0.7663351291619138,1.5310292837431811,-1.4227249614205124,1.5310292837431811,-1.2586275033558627,-0.4381402130326145,0.38234707729063366,-1.5868224194851621,0.054152161161334395,1.6951267418078309,-0.7663351291619138,-1.5868224194851621,-1.4227249614205124,0.5464445353552834,-0.2740427549679649,0.38234707729063366,0.054152161161334395,-1.094530045291213,1.0387369095492323,-1.4227249614205124,1.3669318256785314,-0.9304325872265634,-1.2586275033558627,0.5464445353552834,1.202834367613882,1.3669318256785314,0.38234707729063366,0.054152161161334395,1.3669318256785314,0.21824961922598404,0.710541993419933,-1.4227249614205124,-1.094530045291213,-1.2586275033558627,-1.094530045291213,-0.10994529690331525,-1.4227249614205124,-1.4227249614205124,0.8746394514845827,-1.2586275033558627,-0.2740427549679649,-0.4381402130326145,0.5464445353552834,1.202834367613882,0.21824961922598404,0.21824961922598404,-0.10994529690331525,0.710541993419933,-0.7663351291619138,-0.6022376710972642,1.202834367613882,0.38234707729063366,-0.9304325872265634,0.710541993419933,0.38234707729063366,-1.4227249614205124,1.3669318256785314,0.8746394514845827,1.5310292837431811,0.38234707729063366,1.3669318256785314,1.0387369095492323,-1.2586275033558627,-0.4381402130326145,0.21824961922598404,0.710541993419933,1.5310292837431811,-0.10994529690331525,-1.5868224194851621,0.054152161161334395,-0.9304325872265634,-0.6022376710972642,0.710541993419933,0.21824961922598404,-1.5868224194851621,-0.10994529690331525,0.710541993419933,1.3669318256785314,1.5310292837431811,-0.9304325872265634,-0.7663351291619138,0.21824961922598404,0.710541993419933,1.5310292837431811,-1.5868224194851621,-1.2586275033558627,-1.094530045291213,1.5310292837431811,-0.4381402130326145,-1.2586275033558627,-0.9304325872265634,1.202834367613882,-1.094530045291213,-1.5868224194851621,1.0387369095492323,-0.6022376710972642,-1.094530045291213,-0.7663351291619138,-0.4381402130326145,-1.5868224194851621,0.710541993419933,0.38234707729063366,0.054152161161334395,1.6951267418078309,0.054152161161334395,-0.4381402130326145,0.8746394514845827,-0.2740427549679649,-0.4381402130326145,-0.9304325872265634,-1.094530045291213,1.5310292837431811,-0.2740427549679649,0.054152161161334395,-0.6022376710972642,-0.4381402130326145,1.3669318256785314,1.0387369095492323,-1.4227249614205124,1.6951267418078309,0.054152161161334395,1.3669318256785314,0.8746394514845827,0.21824961922598404,0.8746394514845827,0.710541993419933,-0.10994529690331525,-1.094530045291213,-0.6022376710972642,1.0387369095492323,-0.10994529690331525,-0.6022376710972642,1.202834367613882,0.38234707729063366,1.5310292837431811,0.38234707729063366,1.202834367613882,-0.10994529690331525,0.054152161161334395,1.6951267418078309,1.3669318256785314,0.5464445353552834,0.38234707729063366,-1.2586275033558627,0.054152161161334395,1.0387369095492323,0.5464445353552834,1.0387369095492323,-1.4227249614205124,-1.5868224194851621,0.710541993419933,0.710541993419933,-1.094530045291213,-1.094530045291213,-1.4227249614205124,-0.9304325872265634,-0.10994529690331525,-1.094530045291213,-1.4227249614205124,1.5310292837431811,1.6951267418078309,-0.10994529690331525,0.21824961922598404],\"xaxis\":\"x\",\"y\":[-0.36761709076186533,0.5937573667340736,-0.23602827484591316,-1.2209070634630255,-0.4883070220055694,0.7866530798923423,0.7160830386460577,0.29408885507543203,0.5526508491079464,1.2231353664064075,0.10724881354329087,0.33878879621836466,1.8445328724428083,-1.6480288031242674,1.8730203823719438,-1.64840122758669,0.4808376523842501,0.7160644874751803,0.8907138841521145,0.29136889072713373,-1.0346963713734993,0.31660855439698654,0.534081595473689,-0.3015074776081569,0.2685467768526663,-0.2574266777924602,-1.079935822661515,-0.23083076577605982,0.5637677525004146,0.4146787691066053,1.0966985726416818,0.5881441916853105,-1.560623721243561,0.6721245937688874,1.7609996940087607,-0.3583868456157684,0.9603101371505828,-1.8299664259219461,0.3963953282968101,0.3776856359090244,-1.4158554481530348,-0.16173449088868969,-0.3784358243303446,1.3595001555234052,0.18523856548586495,-1.9529152520927378,-2.4236517959752866,-1.6595959031863683,0.47240676889479355,0.5640607650859855,1.5035689581521798,-0.6104246748615058,-0.9567354251694856,0.6203611451464421,-3.091226556063907,0.8120093684575201,-0.1935404737091964,-2.358429979473999,1.1540466954774542,1.8190354951214065,2.265808803076531,-0.6297505043038858,-0.6635379696872046,-0.24902368470217887,-0.10707084847309642,-0.7794972711480531,-2.1955139790327842,-0.3689035927940118,-1.118265400577752,0.05995458654975942,-0.2786955830354418,0.19599205563739175,-2.701310798891322,0.2582719692220046,-0.9694276703681756,0.7289109994638122,-0.10633507372011929,0.04471090210496683,1.0045272292933254,0.21920511454843059,0.5490405871286651,0.20946158843322837,-1.213114046612104,0.45226846820054095,-0.44122710317275277,0.16694532233149834,0.6115134701624505,-0.39767449926189063,-0.7685165230806503,0.9890276775798736,-1.0644166199187424,0.6352328164781357,-0.19705360579989528,0.2337274908364521,1.0646352833039936,1.7376136877206625,-0.47249297457449574,0.2699068539929098,0.6968945062151198,0.5603862333418774,0.5089335185461611,0.6330583641443894,0.38616327257166255,0.5423577913762611,0.4195448299708022,-1.7843714658750578,-1.3798221948135956,0.7826838465374499,0.5464478893057871,-0.5571941896028395,0.2991152490569932,1.1856156137740614,1.2553055347945268,0.26597602838642126,-0.7403451307495285,-0.8345836654376916,-0.7079556554167591,-0.9102727575336879,1.0557877848347965,-2.0423168148952926,-1.6156839421017681,0.7007384914612051,0.135396300457379,-0.1006023265967335,-1.8224498082486358,0.3701433383179251,1.0075031134102,0.520077463807377,-0.9348252211332713,1.0897451176070332,-0.8640238324767641,0.6765275005270918,-1.673378022920395,-0.22924517486738313,-0.5739016875362275,0.022001730121128354,-0.2922465904119332,0.12537122241842122,1.2466412796410002,0.08469652779076495,-0.457674911961247,1.2023203495226993,0.15980672698683873,0.5012612562248266,-1.5079146057348485,-1.1917357408402702,-0.07897248029089297,-0.8771502627659037,1.4008444156118212,0.27773128443893635,0.021837381291718846,0.5156328840563099,1.1396532788102416,-0.7162383734504684,1.486564015172683,1.295918331467592,0.12664038554768545,-0.47046667566197387,-0.3319270717919878,1.5612531382803807,0.8903991597834795,0.7304067332660028,0.16488831627637718,-1.1438192656217299,-0.9914982847020771,0.052133457739741366,-0.24133765422925235,0.06886437545502178,0.5042129572586006,1.9665312959258576,0.678914361248283,-0.2700503406928258,0.8764124956871,1.3572624344561737,0.9928468845954135,1.5623113027442435,-0.6291062161340752,1.3981816576465693,-0.3391632717302819,-1.243256141239518,0.6996940207513623,0.7821396993710893,0.5328776412086726,-0.3486528844102252,-0.4828683323398659,-0.07031150350408243,-0.4075176857365692,-0.7014962517067247,-0.5781293795938898,-0.542570675689458,-0.5648627188751477,-0.436231067492371,0.7348340852794457,-1.3301119816288114,1.8831504164185764,1.1293359658121687,-1.1077748671354242,0.8995125479404844],\"yaxis\":\"y\",\"type\":\"scatter\"},{\"hovertemplate\":\"\\u003cb\\u003eOLS trendline\\u003c\\u002fb\\u003e\\u003cbr\\u003eLog_Salary = 0.585507 * Experience (Years) + 0.017112\\u003cbr\\u003eR\\u003csup\\u003e2\\u003c\\u002fsup\\u003e=0.355749\\u003cbr\\u003e\\u003cbr\\u003eGender=F\\u003cbr\\u003eExperience (Years)=%{x}\\u003cbr\\u003eLog_Salary=%{y} \\u003cb\\u003e(trend)\\u003c\\u002fb\\u003e\\u003cextra\\u003e\\u003c\\u002fextra\\u003e\",\"legendgroup\":\"F\",\"marker\":{\"color\":\"#636efa\",\"symbol\":\"circle\"},\"mode\":\"lines\",\"name\":\"F\",\"showlegend\":false,\"x\":[-1.5868224194851621,-1.5868224194851621,-1.5868224194851621,-1.5868224194851621,-1.5868224194851621,-1.5868224194851621,-1.5868224194851621,-1.5868224194851621,-1.5868224194851621,-1.4227249614205124,-1.4227249614205124,-1.4227249614205124,-1.4227249614205124,-1.4227249614205124,-1.4227249614205124,-1.4227249614205124,-1.4227249614205124,-1.4227249614205124,-1.4227249614205124,-1.4227249614205124,-1.4227249614205124,-1.4227249614205124,-1.4227249614205124,-1.2586275033558627,-1.2586275033558627,-1.2586275033558627,-1.2586275033558627,-1.2586275033558627,-1.2586275033558627,-1.2586275033558627,-1.2586275033558627,-1.2586275033558627,-1.094530045291213,-1.094530045291213,-1.094530045291213,-1.094530045291213,-1.094530045291213,-1.094530045291213,-1.094530045291213,-1.094530045291213,-1.094530045291213,-1.094530045291213,-1.094530045291213,-1.094530045291213,-0.9304325872265634,-0.9304325872265634,-0.9304325872265634,-0.9304325872265634,-0.9304325872265634,-0.9304325872265634,-0.9304325872265634,-0.9304325872265634,-0.9304325872265634,-0.7663351291619138,-0.7663351291619138,-0.7663351291619138,-0.7663351291619138,-0.7663351291619138,-0.7663351291619138,-0.7663351291619138,-0.6022376710972642,-0.6022376710972642,-0.6022376710972642,-0.6022376710972642,-0.6022376710972642,-0.6022376710972642,-0.6022376710972642,-0.6022376710972642,-0.6022376710972642,-0.4381402130326145,-0.4381402130326145,-0.4381402130326145,-0.4381402130326145,-0.4381402130326145,-0.4381402130326145,-0.4381402130326145,-0.4381402130326145,-0.4381402130326145,-0.4381402130326145,-0.2740427549679649,-0.2740427549679649,-0.2740427549679649,-0.2740427549679649,-0.10994529690331525,-0.10994529690331525,-0.10994529690331525,-0.10994529690331525,-0.10994529690331525,-0.10994529690331525,-0.10994529690331525,-0.10994529690331525,-0.10994529690331525,-0.10994529690331525,0.054152161161334395,0.054152161161334395,0.054152161161334395,0.054152161161334395,0.054152161161334395,0.054152161161334395,0.054152161161334395,0.054152161161334395,0.054152161161334395,0.054152161161334395,0.054152161161334395,0.054152161161334395,0.054152161161334395,0.21824961922598404,0.21824961922598404,0.21824961922598404,0.21824961922598404,0.21824961922598404,0.21824961922598404,0.21824961922598404,0.21824961922598404,0.21824961922598404,0.38234707729063366,0.38234707729063366,0.38234707729063366,0.38234707729063366,0.38234707729063366,0.38234707729063366,0.38234707729063366,0.38234707729063366,0.38234707729063366,0.38234707729063366,0.38234707729063366,0.38234707729063366,0.5464445353552834,0.5464445353552834,0.5464445353552834,0.5464445353552834,0.5464445353552834,0.5464445353552834,0.5464445353552834,0.5464445353552834,0.5464445353552834,0.710541993419933,0.710541993419933,0.710541993419933,0.710541993419933,0.710541993419933,0.710541993419933,0.710541993419933,0.710541993419933,0.710541993419933,0.710541993419933,0.710541993419933,0.8746394514845827,0.8746394514845827,0.8746394514845827,0.8746394514845827,0.8746394514845827,1.0387369095492323,1.0387369095492323,1.0387369095492323,1.0387369095492323,1.0387369095492323,1.0387369095492323,1.0387369095492323,1.0387369095492323,1.0387369095492323,1.0387369095492323,1.202834367613882,1.202834367613882,1.202834367613882,1.202834367613882,1.202834367613882,1.202834367613882,1.3669318256785314,1.3669318256785314,1.3669318256785314,1.3669318256785314,1.3669318256785314,1.3669318256785314,1.3669318256785314,1.3669318256785314,1.3669318256785314,1.5310292837431811,1.5310292837431811,1.5310292837431811,1.5310292837431811,1.5310292837431811,1.5310292837431811,1.5310292837431811,1.5310292837431811,1.5310292837431811,1.5310292837431811,1.5310292837431811,1.5310292837431811,1.5310292837431811,1.5310292837431811,1.6951267418078309,1.6951267418078309,1.6951267418078309,1.6951267418078309,1.6951267418078309,1.6951267418078309,1.6951267418078309],\"xaxis\":\"x\",\"y\":[-0.9119830425281835,-0.9119830425281835,-0.9119830425281835,-0.9119830425281835,-0.9119830425281835,-0.9119830425281835,-0.9119830425281835,-0.9119830425281835,-0.9119830425281835,-0.8159028963558804,-0.8159028963558804,-0.8159028963558804,-0.8159028963558804,-0.8159028963558804,-0.8159028963558804,-0.8159028963558804,-0.8159028963558804,-0.8159028963558804,-0.8159028963558804,-0.8159028963558804,-0.8159028963558804,-0.8159028963558804,-0.8159028963558804,-0.7198227501835773,-0.7198227501835773,-0.7198227501835773,-0.7198227501835773,-0.7198227501835773,-0.7198227501835773,-0.7198227501835773,-0.7198227501835773,-0.7198227501835773,-0.6237426040112742,-0.6237426040112742,-0.6237426040112742,-0.6237426040112742,-0.6237426040112742,-0.6237426040112742,-0.6237426040112742,-0.6237426040112742,-0.6237426040112742,-0.6237426040112742,-0.6237426040112742,-0.6237426040112742,-0.5276624578389713,-0.5276624578389713,-0.5276624578389713,-0.5276624578389713,-0.5276624578389713,-0.5276624578389713,-0.5276624578389713,-0.5276624578389713,-0.5276624578389713,-0.4315823116666682,-0.4315823116666682,-0.4315823116666682,-0.4315823116666682,-0.4315823116666682,-0.4315823116666682,-0.4315823116666682,-0.3355021654943652,-0.3355021654943652,-0.3355021654943652,-0.3355021654943652,-0.3355021654943652,-0.3355021654943652,-0.3355021654943652,-0.3355021654943652,-0.3355021654943652,-0.23942201932206214,-0.23942201932206214,-0.23942201932206214,-0.23942201932206214,-0.23942201932206214,-0.23942201932206214,-0.23942201932206214,-0.23942201932206214,-0.23942201932206214,-0.23942201932206214,-0.14334187314975907,-0.14334187314975907,-0.14334187314975907,-0.14334187314975907,-0.04726172697745605,-0.04726172697745605,-0.04726172697745605,-0.04726172697745605,-0.04726172697745605,-0.04726172697745605,-0.04726172697745605,-0.04726172697745605,-0.04726172697745605,-0.04726172697745605,0.048818419194847,0.048818419194847,0.048818419194847,0.048818419194847,0.048818419194847,0.048818419194847,0.048818419194847,0.048818419194847,0.048818419194847,0.048818419194847,0.048818419194847,0.048818419194847,0.048818419194847,0.14489856536715007,0.14489856536715007,0.14489856536715007,0.14489856536715007,0.14489856536715007,0.14489856536715007,0.14489856536715007,0.14489856536715007,0.14489856536715007,0.2409787115394531,0.2409787115394531,0.2409787115394531,0.2409787115394531,0.2409787115394531,0.2409787115394531,0.2409787115394531,0.2409787115394531,0.2409787115394531,0.2409787115394531,0.2409787115394531,0.2409787115394531,0.3370588577117562,0.3370588577117562,0.3370588577117562,0.3370588577117562,0.3370588577117562,0.3370588577117562,0.3370588577117562,0.3370588577117562,0.3370588577117562,0.4331390038840592,0.4331390038840592,0.4331390038840592,0.4331390038840592,0.4331390038840592,0.4331390038840592,0.4331390038840592,0.4331390038840592,0.4331390038840592,0.4331390038840592,0.4331390038840592,0.5292191500563622,0.5292191500563622,0.5292191500563622,0.5292191500563622,0.5292191500563622,0.6252992962286653,0.6252992962286653,0.6252992962286653,0.6252992962286653,0.6252992962286653,0.6252992962286653,0.6252992962286653,0.6252992962286653,0.6252992962286653,0.6252992962286653,0.7213794424009684,0.7213794424009684,0.7213794424009684,0.7213794424009684,0.7213794424009684,0.7213794424009684,0.8174595885732713,0.8174595885732713,0.8174595885732713,0.8174595885732713,0.8174595885732713,0.8174595885732713,0.8174595885732713,0.8174595885732713,0.8174595885732713,0.9135397347455744,0.9135397347455744,0.9135397347455744,0.9135397347455744,0.9135397347455744,0.9135397347455744,0.9135397347455744,0.9135397347455744,0.9135397347455744,0.9135397347455744,0.9135397347455744,0.9135397347455744,0.9135397347455744,0.9135397347455744,1.0096198809178774,1.0096198809178774,1.0096198809178774,1.0096198809178774,1.0096198809178774,1.0096198809178774,1.0096198809178774],\"yaxis\":\"y\",\"type\":\"scatter\"},{\"hovertemplate\":\"Gender=M\\u003cbr\\u003eExperience (Years)=%{x}\\u003cbr\\u003eLog_Salary=%{y}\\u003cextra\\u003e\\u003c\\u002fextra\\u003e\",\"legendgroup\":\"M\",\"marker\":{\"color\":\"#EF553B\",\"symbol\":\"circle\"},\"mode\":\"markers\",\"name\":\"M\",\"orientation\":\"v\",\"showlegend\":true,\"x\":[-0.6022376710972642,1.202834367613882,-0.4381402130326145,-1.2586275033558627,-1.2586275033558627,-0.10994529690331525,0.5464445353552834,-0.9304325872265634,-0.7663351291619138,1.202834367613882,1.6951267418078309,-0.2740427549679649,-0.4381402130326145,0.8746394514845827,-1.094530045291213,0.5464445353552834,-1.4227249614205124,0.710541993419933,0.21824961922598404,-1.4227249614205124,-0.9304325872265634,0.8746394514845827,-0.6022376710972642,1.202834367613882,0.710541993419933,1.6951267418078309,-1.5868224194851621,-1.2586275033558627,-0.4381402130326145,1.202834367613882,-1.2586275033558627,1.202834367613882,-0.10994529690331525,-1.094530045291213,-1.2586275033558627,-1.4227249614205124,0.8746394514845827,-1.2586275033558627,0.38234707729063366,-1.094530045291213,0.21824961922598404,-1.094530045291213,0.8746394514845827,-1.2586275033558627,1.0387369095492323,-1.4227249614205124,-1.094530045291213,-0.9304325872265634,-0.9304325872265634,-1.4227249614205124,-0.10994529690331525,-1.094530045291213,-0.6022376710972642,0.710541993419933,-1.2586275033558627,0.710541993419933,-0.10994529690331525,-1.2586275033558627,1.3669318256785314,1.0387369095492323,0.5464445353552834,1.3669318256785314,-0.7663351291619138,0.054152161161334395,1.0387369095492323,-0.6022376710972642,-1.094530045291213,0.710541993419933,0.8746394514845827,0.054152161161334395,-1.094530045291213,-0.7663351291619138,-1.5868224194851621,0.38234707729063366,1.5310292837431811,1.5310292837431811,-0.4381402130326145,1.0387369095492323,1.5310292837431811,0.5464445353552834,-0.2740427549679649,-0.2740427549679649,-0.2740427549679649,-1.5868224194851621,-0.2740427549679649,1.202834367613882,-0.7663351291619138,0.5464445353552834,0.710541993419933,-1.094530045291213,1.6951267418078309,-0.7663351291619138,1.0387369095492323,1.6951267418078309,0.5464445353552834,0.38234707729063366,-1.2586275033558627,0.21824961922598404,0.21824961922598404,-0.4381402130326145,-0.4381402130326145,-0.2740427549679649,0.21824961922598404,1.5310292837431811,0.21824961922598404,-0.6022376710972642,-0.2740427549679649,-0.10994529690331525,0.21824961922598404,0.710541993419933,-0.9304325872265634,-1.094530045291213,-0.10994529690331525,-0.2740427549679649,1.3669318256785314,1.6951267418078309,-1.5868224194851621,-1.094530045291213,0.710541993419933,-0.2740427549679649,-1.5868224194851621,1.202834367613882,-0.7663351291619138,-1.094530045291213,0.5464445353552834,1.202834367613882,0.054152161161334395,1.0387369095492323,-0.6022376710972642,-1.4227249614205124,-0.10994529690331525,0.710541993419933,0.21824961922598404,0.054152161161334395,1.0387369095492323,-0.7663351291619138,-0.10994529690331525,-1.4227249614205124,0.5464445353552834,1.5310292837431811,1.5310292837431811,0.5464445353552834,0.054152161161334395,0.21824961922598404,-0.7663351291619138,-1.2586275033558627,-0.6022376710972642,0.21824961922598404,-0.4381402130326145,-1.5868224194851621,0.5464445353552834,1.3669318256785314,1.0387369095492323,-0.9304325872265634,0.054152161161334395,0.8746394514845827,-1.5868224194851621,0.8746394514845827,0.38234707729063366,1.0387369095492323,0.054152161161334395,-0.7663351291619138,1.3669318256785314,0.054152161161334395,-1.2586275033558627,-1.5868224194851621,-1.2586275033558627,1.202834367613882,1.5310292837431811,1.6951267418078309,1.6951267418078309,1.6951267418078309,-1.2586275033558627,-0.9304325872265634,0.21824961922598404,0.38234707729063366,1.202834367613882,-0.9304325872265634,-0.10994529690331525,1.0387369095492323,1.5310292837431811,1.202834367613882,-0.6022376710972642,1.0387369095492323,-0.7663351291619138,-0.9304325872265634,-1.4227249614205124,0.8746394514845827,0.5464445353552834,-1.4227249614205124,-0.6022376710972642,0.38234707729063366,0.5464445353552834,-1.094530045291213,-1.4227249614205124,0.21824961922598404,1.6951267418078309,0.054152161161334395,0.21824961922598404,-1.2586275033558627,-1.094530045291213,1.3669318256785314],\"xaxis\":\"x\",\"y\":[-0.10839570613433153,1.1055543153598433,-1.397859768138992,-0.3272185148265362,-0.5339673605226344,0.32405585037704226,-0.21814439041905484,-0.3361659125878417,-1.1496834063385146,0.7078906213593535,-0.1860731975978039,0.4704717097194461,0.241016421023216,-0.10805216732267603,-0.7303271821122551,-0.6154045667229182,-1.0288887302446486,0.9382857780564865,0.5281162188104614,-0.05684907303840489,-1.8881948600320015,0.12802224512888383,1.11221113788083,1.3379175229135989,0.2863721826585316,1.2540693425600482,-0.33367485489450716,-1.4663457128408492,-0.4989624367593149,2.1747263205898304,-2.7675336892433395,0.9796784873360941,1.1847454481498294,0.03722289080413461,-1.3384818005925037,-1.088547416244925,0.21707440917748722,0.17587217225309876,1.0344014872504157,-0.3647245129804658,0.6631290142543962,-2.275206363477812,0.34681121600090287,-0.7360605670126725,0.09387563855777632,-0.5669549973279374,0.6946529782161456,0.15186460528010448,-2.0469086297056958,-0.03661436573804461,0.7630492294104916,-1.08461440047752,0.2379851938357892,1.4759037994366464,-0.40539984584882255,-0.02893661738233339,0.492908693241368,0.781069250081386,2.278674887205842,1.5980921778262551,0.4644770615543843,1.608416118459329,-1.0013164547225222,-0.9454991378935209,0.6439906599355878,-0.5549946033687431,-2.2613661034802397,0.5385575683759838,-0.9395391062873077,0.2473522930802477,-2.0931283828147187,-1.197412006045779,-1.810664086883904,1.6409623801731994,1.095263522098292,1.068012111454657,0.09119370571731168,1.5037251648403251,1.1039284165274335,1.2880451628756808,0.4578830086083096,0.5344367667030632,0.3778520987032574,-0.4196839786621601,-1.7129573116079366,1.9862114492806235,-1.7882743987388892,0.22107096189397193,0.3487871464806839,-0.3776828652964721,1.1112865766313744,-1.392049927855349,-0.17423001725002354,-0.10800309361860115,-0.4062142195453754,-0.044120079097271114,-0.23607952746034627,0.6175811163719913,-0.20125463957166234,0.17413355757905088,-0.9472275206700309,0.09435675287078478,1.339944807975679,-0.12730288507085644,-0.8564859192423631,0.07419734736291551,-0.34737519061367517,-1.1198906305334346,-0.2460394329528202,1.1391872841897537,-0.8053103478084103,-0.6470818943961087,0.10610817594420408,0.16690062007244272,0.593892725103526,1.652271882755463,-1.641044224765747,-0.7993477030067789,1.4611017138500644,0.5591929798983243,-1.690749286893959,0.5476463134626944,-1.573384777189904,-0.3939410697473991,-0.8109735981179884,1.037796484840136,-0.6830076728060821,0.994771510828342,-0.1888712092830549,-0.844080911638918,0.5098289741071208,2.086978289412227,1.3478753498159868,-0.33964100878167564,0.9519653962011695,0.6885735975074911,0.19145155271722802,-1.3075024726143498,0.7725098284727508,0.17725341669573952,-0.19591580236272746,0.224229233388989,0.8475643265136501,-0.6451675002432423,-0.8986342813665069,-1.3264738790599793,0.20379422282701629,1.0886009599783482,-0.7279945527733495,-1.6741711010816287,-0.41995673046038,0.3225933374542003,-0.24203088772197975,0.01638519920994578,0.8161007188290834,1.0608420351590055,-1.929331655275962,-0.01029212976314771,0.6041232735374431,1.1132326840087967,0.5627517499178857,-0.14807271651926304,1.9663977918935502,0.08375405144952583,-0.8843580772440496,-0.24274996881551797,-0.5394728604765154,1.2274741790458152,-0.3307095326374285,1.5999894423102279,1.4735949721613462,0.5304880131533918,-1.0287545848056128,-0.6777039284955547,0.39273326964831223,-1.2473345991038132,-0.3010882778809925,-0.43069591599067514,-0.2163365011031876,-0.8358712325230935,1.7996414161007723,0.8037195513914728,0.6270416539545766,0.9999651014411606,-1.4563643207230277,-0.8106932913481844,-1.363471841593969,-0.1406451927339677,0.7323076199658703,-2.0754238867496126,0.1077277497143897,-0.18602280732922657,0.8663812223476125,-0.4825896955561618,-0.5290664772675849,0.7361609949027036,1.258455479878166,-0.9082761625542225,-1.8689545795311362,-0.9248372277734712,-2.412957889487348,0.1252352082302301],\"yaxis\":\"y\",\"type\":\"scatter\"},{\"hovertemplate\":\"\\u003cb\\u003eOLS trendline\\u003c\\u002fb\\u003e\\u003cbr\\u003eLog_Salary = 0.660618 * Experience (Years) + -0.015593\\u003cbr\\u003eR\\u003csup\\u003e2\\u003c\\u002fsup\\u003e=0.421370\\u003cbr\\u003e\\u003cbr\\u003eGender=M\\u003cbr\\u003eExperience (Years)=%{x}\\u003cbr\\u003eLog_Salary=%{y} \\u003cb\\u003e(trend)\\u003c\\u002fb\\u003e\\u003cextra\\u003e\\u003c\\u002fextra\\u003e\",\"legendgroup\":\"M\",\"marker\":{\"color\":\"#EF553B\",\"symbol\":\"circle\"},\"mode\":\"lines\",\"name\":\"M\",\"showlegend\":false,\"x\":[-1.5868224194851621,-1.5868224194851621,-1.5868224194851621,-1.5868224194851621,-1.5868224194851621,-1.5868224194851621,-1.5868224194851621,-1.5868224194851621,-1.4227249614205124,-1.4227249614205124,-1.4227249614205124,-1.4227249614205124,-1.4227249614205124,-1.4227249614205124,-1.4227249614205124,-1.4227249614205124,-1.4227249614205124,-1.4227249614205124,-1.2586275033558627,-1.2586275033558627,-1.2586275033558627,-1.2586275033558627,-1.2586275033558627,-1.2586275033558627,-1.2586275033558627,-1.2586275033558627,-1.2586275033558627,-1.2586275033558627,-1.2586275033558627,-1.2586275033558627,-1.2586275033558627,-1.2586275033558627,-1.2586275033558627,-1.094530045291213,-1.094530045291213,-1.094530045291213,-1.094530045291213,-1.094530045291213,-1.094530045291213,-1.094530045291213,-1.094530045291213,-1.094530045291213,-1.094530045291213,-1.094530045291213,-1.094530045291213,-1.094530045291213,-1.094530045291213,-0.9304325872265634,-0.9304325872265634,-0.9304325872265634,-0.9304325872265634,-0.9304325872265634,-0.9304325872265634,-0.9304325872265634,-0.9304325872265634,-0.9304325872265634,-0.7663351291619138,-0.7663351291619138,-0.7663351291619138,-0.7663351291619138,-0.7663351291619138,-0.7663351291619138,-0.7663351291619138,-0.7663351291619138,-0.7663351291619138,-0.7663351291619138,-0.6022376710972642,-0.6022376710972642,-0.6022376710972642,-0.6022376710972642,-0.6022376710972642,-0.6022376710972642,-0.6022376710972642,-0.6022376710972642,-0.6022376710972642,-0.4381402130326145,-0.4381402130326145,-0.4381402130326145,-0.4381402130326145,-0.4381402130326145,-0.4381402130326145,-0.4381402130326145,-0.2740427549679649,-0.2740427549679649,-0.2740427549679649,-0.2740427549679649,-0.2740427549679649,-0.2740427549679649,-0.2740427549679649,-0.2740427549679649,-0.2740427549679649,-0.10994529690331525,-0.10994529690331525,-0.10994529690331525,-0.10994529690331525,-0.10994529690331525,-0.10994529690331525,-0.10994529690331525,-0.10994529690331525,-0.10994529690331525,0.054152161161334395,0.054152161161334395,0.054152161161334395,0.054152161161334395,0.054152161161334395,0.054152161161334395,0.054152161161334395,0.054152161161334395,0.054152161161334395,0.21824961922598404,0.21824961922598404,0.21824961922598404,0.21824961922598404,0.21824961922598404,0.21824961922598404,0.21824961922598404,0.21824961922598404,0.21824961922598404,0.21824961922598404,0.21824961922598404,0.21824961922598404,0.21824961922598404,0.38234707729063366,0.38234707729063366,0.38234707729063366,0.38234707729063366,0.38234707729063366,0.38234707729063366,0.5464445353552834,0.5464445353552834,0.5464445353552834,0.5464445353552834,0.5464445353552834,0.5464445353552834,0.5464445353552834,0.5464445353552834,0.5464445353552834,0.5464445353552834,0.5464445353552834,0.5464445353552834,0.710541993419933,0.710541993419933,0.710541993419933,0.710541993419933,0.710541993419933,0.710541993419933,0.710541993419933,0.710541993419933,0.710541993419933,0.8746394514845827,0.8746394514845827,0.8746394514845827,0.8746394514845827,0.8746394514845827,0.8746394514845827,0.8746394514845827,0.8746394514845827,1.0387369095492323,1.0387369095492323,1.0387369095492323,1.0387369095492323,1.0387369095492323,1.0387369095492323,1.0387369095492323,1.0387369095492323,1.0387369095492323,1.0387369095492323,1.0387369095492323,1.202834367613882,1.202834367613882,1.202834367613882,1.202834367613882,1.202834367613882,1.202834367613882,1.202834367613882,1.202834367613882,1.202834367613882,1.202834367613882,1.202834367613882,1.3669318256785314,1.3669318256785314,1.3669318256785314,1.3669318256785314,1.3669318256785314,1.3669318256785314,1.5310292837431811,1.5310292837431811,1.5310292837431811,1.5310292837431811,1.5310292837431811,1.5310292837431811,1.5310292837431811,1.5310292837431811,1.6951267418078309,1.6951267418078309,1.6951267418078309,1.6951267418078309,1.6951267418078309,1.6951267418078309,1.6951267418078309,1.6951267418078309,1.6951267418078309],\"xaxis\":\"x\",\"y\":[-1.0638770027889723,-1.0638770027889723,-1.0638770027889723,-1.0638770027889723,-1.0638770027889723,-1.0638770027889723,-1.0638770027889723,-1.0638770027889723,-0.9554712146365845,-0.9554712146365845,-0.9554712146365845,-0.9554712146365845,-0.9554712146365845,-0.9554712146365845,-0.9554712146365845,-0.9554712146365845,-0.9554712146365845,-0.9554712146365845,-0.8470654264841966,-0.8470654264841966,-0.8470654264841966,-0.8470654264841966,-0.8470654264841966,-0.8470654264841966,-0.8470654264841966,-0.8470654264841966,-0.8470654264841966,-0.8470654264841966,-0.8470654264841966,-0.8470654264841966,-0.8470654264841966,-0.8470654264841966,-0.8470654264841966,-0.7386596383318087,-0.7386596383318087,-0.7386596383318087,-0.7386596383318087,-0.7386596383318087,-0.7386596383318087,-0.7386596383318087,-0.7386596383318087,-0.7386596383318087,-0.7386596383318087,-0.7386596383318087,-0.7386596383318087,-0.7386596383318087,-0.7386596383318087,-0.6302538501794208,-0.6302538501794208,-0.6302538501794208,-0.6302538501794208,-0.6302538501794208,-0.6302538501794208,-0.6302538501794208,-0.6302538501794208,-0.6302538501794208,-0.5218480620270329,-0.5218480620270329,-0.5218480620270329,-0.5218480620270329,-0.5218480620270329,-0.5218480620270329,-0.5218480620270329,-0.5218480620270329,-0.5218480620270329,-0.5218480620270329,-0.41344227387464505,-0.41344227387464505,-0.41344227387464505,-0.41344227387464505,-0.41344227387464505,-0.41344227387464505,-0.41344227387464505,-0.41344227387464505,-0.41344227387464505,-0.30503648572225717,-0.30503648572225717,-0.30503648572225717,-0.30503648572225717,-0.30503648572225717,-0.30503648572225717,-0.30503648572225717,-0.19663069756986928,-0.19663069756986928,-0.19663069756986928,-0.19663069756986928,-0.19663069756986928,-0.19663069756986928,-0.19663069756986928,-0.19663069756986928,-0.19663069756986928,-0.08822490941748143,-0.08822490941748143,-0.08822490941748143,-0.08822490941748143,-0.08822490941748143,-0.08822490941748143,-0.08822490941748143,-0.08822490941748143,-0.08822490941748143,0.02018087873490646,0.02018087873490646,0.02018087873490646,0.02018087873490646,0.02018087873490646,0.02018087873490646,0.02018087873490646,0.02018087873490646,0.02018087873490646,0.12858666688729437,0.12858666688729437,0.12858666688729437,0.12858666688729437,0.12858666688729437,0.12858666688729437,0.12858666688729437,0.12858666688729437,0.12858666688729437,0.12858666688729437,0.12858666688729437,0.12858666688729437,0.12858666688729437,0.2369924550396822,0.2369924550396822,0.2369924550396822,0.2369924550396822,0.2369924550396822,0.2369924550396822,0.34539824319207013,0.34539824319207013,0.34539824319207013,0.34539824319207013,0.34539824319207013,0.34539824319207013,0.34539824319207013,0.34539824319207013,0.34539824319207013,0.34539824319207013,0.34539824319207013,0.34539824319207013,0.45380403134445796,0.45380403134445796,0.45380403134445796,0.45380403134445796,0.45380403134445796,0.45380403134445796,0.45380403134445796,0.45380403134445796,0.45380403134445796,0.5622098194968459,0.5622098194968459,0.5622098194968459,0.5622098194968459,0.5622098194968459,0.5622098194968459,0.5622098194968459,0.5622098194968459,0.6706156076492337,0.6706156076492337,0.6706156076492337,0.6706156076492337,0.6706156076492337,0.6706156076492337,0.6706156076492337,0.6706156076492337,0.6706156076492337,0.6706156076492337,0.6706156076492337,0.7790213958016217,0.7790213958016217,0.7790213958016217,0.7790213958016217,0.7790213958016217,0.7790213958016217,0.7790213958016217,0.7790213958016217,0.7790213958016217,0.7790213958016217,0.7790213958016217,0.8874271839540094,0.8874271839540094,0.8874271839540094,0.8874271839540094,0.8874271839540094,0.8874271839540094,0.9958329721063972,0.9958329721063972,0.9958329721063972,0.9958329721063972,0.9958329721063972,0.9958329721063972,0.9958329721063972,0.9958329721063972,1.1042387602587853,1.1042387602587853,1.1042387602587853,1.1042387602587853,1.1042387602587853,1.1042387602587853,1.1042387602587853,1.1042387602587853,1.1042387602587853],\"yaxis\":\"y\",\"type\":\"scatter\"}],                        {\"template\":{\"data\":{\"histogram2dcontour\":[{\"type\":\"histogram2dcontour\",\"colorbar\":{\"outlinewidth\":0,\"ticks\":\"\"},\"colorscale\":[[0.0,\"#0d0887\"],[0.1111111111111111,\"#46039f\"],[0.2222222222222222,\"#7201a8\"],[0.3333333333333333,\"#9c179e\"],[0.4444444444444444,\"#bd3786\"],[0.5555555555555556,\"#d8576b\"],[0.6666666666666666,\"#ed7953\"],[0.7777777777777778,\"#fb9f3a\"],[0.8888888888888888,\"#fdca26\"],[1.0,\"#f0f921\"]]}],\"choropleth\":[{\"type\":\"choropleth\",\"colorbar\":{\"outlinewidth\":0,\"ticks\":\"\"}}],\"histogram2d\":[{\"type\":\"histogram2d\",\"colorbar\":{\"outlinewidth\":0,\"ticks\":\"\"},\"colorscale\":[[0.0,\"#0d0887\"],[0.1111111111111111,\"#46039f\"],[0.2222222222222222,\"#7201a8\"],[0.3333333333333333,\"#9c179e\"],[0.4444444444444444,\"#bd3786\"],[0.5555555555555556,\"#d8576b\"],[0.6666666666666666,\"#ed7953\"],[0.7777777777777778,\"#fb9f3a\"],[0.8888888888888888,\"#fdca26\"],[1.0,\"#f0f921\"]]}],\"heatmap\":[{\"type\":\"heatmap\",\"colorbar\":{\"outlinewidth\":0,\"ticks\":\"\"},\"colorscale\":[[0.0,\"#0d0887\"],[0.1111111111111111,\"#46039f\"],[0.2222222222222222,\"#7201a8\"],[0.3333333333333333,\"#9c179e\"],[0.4444444444444444,\"#bd3786\"],[0.5555555555555556,\"#d8576b\"],[0.6666666666666666,\"#ed7953\"],[0.7777777777777778,\"#fb9f3a\"],[0.8888888888888888,\"#fdca26\"],[1.0,\"#f0f921\"]]}],\"heatmapgl\":[{\"type\":\"heatmapgl\",\"colorbar\":{\"outlinewidth\":0,\"ticks\":\"\"},\"colorscale\":[[0.0,\"#0d0887\"],[0.1111111111111111,\"#46039f\"],[0.2222222222222222,\"#7201a8\"],[0.3333333333333333,\"#9c179e\"],[0.4444444444444444,\"#bd3786\"],[0.5555555555555556,\"#d8576b\"],[0.6666666666666666,\"#ed7953\"],[0.7777777777777778,\"#fb9f3a\"],[0.8888888888888888,\"#fdca26\"],[1.0,\"#f0f921\"]]}],\"contourcarpet\":[{\"type\":\"contourcarpet\",\"colorbar\":{\"outlinewidth\":0,\"ticks\":\"\"}}],\"contour\":[{\"type\":\"contour\",\"colorbar\":{\"outlinewidth\":0,\"ticks\":\"\"},\"colorscale\":[[0.0,\"#0d0887\"],[0.1111111111111111,\"#46039f\"],[0.2222222222222222,\"#7201a8\"],[0.3333333333333333,\"#9c179e\"],[0.4444444444444444,\"#bd3786\"],[0.5555555555555556,\"#d8576b\"],[0.6666666666666666,\"#ed7953\"],[0.7777777777777778,\"#fb9f3a\"],[0.8888888888888888,\"#fdca26\"],[1.0,\"#f0f921\"]]}],\"surface\":[{\"type\":\"surface\",\"colorbar\":{\"outlinewidth\":0,\"ticks\":\"\"},\"colorscale\":[[0.0,\"#0d0887\"],[0.1111111111111111,\"#46039f\"],[0.2222222222222222,\"#7201a8\"],[0.3333333333333333,\"#9c179e\"],[0.4444444444444444,\"#bd3786\"],[0.5555555555555556,\"#d8576b\"],[0.6666666666666666,\"#ed7953\"],[0.7777777777777778,\"#fb9f3a\"],[0.8888888888888888,\"#fdca26\"],[1.0,\"#f0f921\"]]}],\"mesh3d\":[{\"type\":\"mesh3d\",\"colorbar\":{\"outlinewidth\":0,\"ticks\":\"\"}}],\"scatter\":[{\"fillpattern\":{\"fillmode\":\"overlay\",\"size\":10,\"solidity\":0.2},\"type\":\"scatter\"}],\"parcoords\":[{\"type\":\"parcoords\",\"line\":{\"colorbar\":{\"outlinewidth\":0,\"ticks\":\"\"}}}],\"scatterpolargl\":[{\"type\":\"scatterpolargl\",\"marker\":{\"colorbar\":{\"outlinewidth\":0,\"ticks\":\"\"}}}],\"bar\":[{\"error_x\":{\"color\":\"#2a3f5f\"},\"error_y\":{\"color\":\"#2a3f5f\"},\"marker\":{\"line\":{\"color\":\"#E5ECF6\",\"width\":0.5},\"pattern\":{\"fillmode\":\"overlay\",\"size\":10,\"solidity\":0.2}},\"type\":\"bar\"}],\"scattergeo\":[{\"type\":\"scattergeo\",\"marker\":{\"colorbar\":{\"outlinewidth\":0,\"ticks\":\"\"}}}],\"scatterpolar\":[{\"type\":\"scatterpolar\",\"marker\":{\"colorbar\":{\"outlinewidth\":0,\"ticks\":\"\"}}}],\"histogram\":[{\"marker\":{\"pattern\":{\"fillmode\":\"overlay\",\"size\":10,\"solidity\":0.2}},\"type\":\"histogram\"}],\"scattergl\":[{\"type\":\"scattergl\",\"marker\":{\"colorbar\":{\"outlinewidth\":0,\"ticks\":\"\"}}}],\"scatter3d\":[{\"type\":\"scatter3d\",\"line\":{\"colorbar\":{\"outlinewidth\":0,\"ticks\":\"\"}},\"marker\":{\"colorbar\":{\"outlinewidth\":0,\"ticks\":\"\"}}}],\"scattermapbox\":[{\"type\":\"scattermapbox\",\"marker\":{\"colorbar\":{\"outlinewidth\":0,\"ticks\":\"\"}}}],\"scatterternary\":[{\"type\":\"scatterternary\",\"marker\":{\"colorbar\":{\"outlinewidth\":0,\"ticks\":\"\"}}}],\"scattercarpet\":[{\"type\":\"scattercarpet\",\"marker\":{\"colorbar\":{\"outlinewidth\":0,\"ticks\":\"\"}}}],\"carpet\":[{\"aaxis\":{\"endlinecolor\":\"#2a3f5f\",\"gridcolor\":\"white\",\"linecolor\":\"white\",\"minorgridcolor\":\"white\",\"startlinecolor\":\"#2a3f5f\"},\"baxis\":{\"endlinecolor\":\"#2a3f5f\",\"gridcolor\":\"white\",\"linecolor\":\"white\",\"minorgridcolor\":\"white\",\"startlinecolor\":\"#2a3f5f\"},\"type\":\"carpet\"}],\"table\":[{\"cells\":{\"fill\":{\"color\":\"#EBF0F8\"},\"line\":{\"color\":\"white\"}},\"header\":{\"fill\":{\"color\":\"#C8D4E3\"},\"line\":{\"color\":\"white\"}},\"type\":\"table\"}],\"barpolar\":[{\"marker\":{\"line\":{\"color\":\"#E5ECF6\",\"width\":0.5},\"pattern\":{\"fillmode\":\"overlay\",\"size\":10,\"solidity\":0.2}},\"type\":\"barpolar\"}],\"pie\":[{\"automargin\":true,\"type\":\"pie\"}]},\"layout\":{\"autotypenumbers\":\"strict\",\"colorway\":[\"#636efa\",\"#EF553B\",\"#00cc96\",\"#ab63fa\",\"#FFA15A\",\"#19d3f3\",\"#FF6692\",\"#B6E880\",\"#FF97FF\",\"#FECB52\"],\"font\":{\"color\":\"#2a3f5f\"},\"hovermode\":\"closest\",\"hoverlabel\":{\"align\":\"left\"},\"paper_bgcolor\":\"white\",\"plot_bgcolor\":\"#E5ECF6\",\"polar\":{\"bgcolor\":\"#E5ECF6\",\"angularaxis\":{\"gridcolor\":\"white\",\"linecolor\":\"white\",\"ticks\":\"\"},\"radialaxis\":{\"gridcolor\":\"white\",\"linecolor\":\"white\",\"ticks\":\"\"}},\"ternary\":{\"bgcolor\":\"#E5ECF6\",\"aaxis\":{\"gridcolor\":\"white\",\"linecolor\":\"white\",\"ticks\":\"\"},\"baxis\":{\"gridcolor\":\"white\",\"linecolor\":\"white\",\"ticks\":\"\"},\"caxis\":{\"gridcolor\":\"white\",\"linecolor\":\"white\",\"ticks\":\"\"}},\"coloraxis\":{\"colorbar\":{\"outlinewidth\":0,\"ticks\":\"\"}},\"colorscale\":{\"sequential\":[[0.0,\"#0d0887\"],[0.1111111111111111,\"#46039f\"],[0.2222222222222222,\"#7201a8\"],[0.3333333333333333,\"#9c179e\"],[0.4444444444444444,\"#bd3786\"],[0.5555555555555556,\"#d8576b\"],[0.6666666666666666,\"#ed7953\"],[0.7777777777777778,\"#fb9f3a\"],[0.8888888888888888,\"#fdca26\"],[1.0,\"#f0f921\"]],\"sequentialminus\":[[0.0,\"#0d0887\"],[0.1111111111111111,\"#46039f\"],[0.2222222222222222,\"#7201a8\"],[0.3333333333333333,\"#9c179e\"],[0.4444444444444444,\"#bd3786\"],[0.5555555555555556,\"#d8576b\"],[0.6666666666666666,\"#ed7953\"],[0.7777777777777778,\"#fb9f3a\"],[0.8888888888888888,\"#fdca26\"],[1.0,\"#f0f921\"]],\"diverging\":[[0,\"#8e0152\"],[0.1,\"#c51b7d\"],[0.2,\"#de77ae\"],[0.3,\"#f1b6da\"],[0.4,\"#fde0ef\"],[0.5,\"#f7f7f7\"],[0.6,\"#e6f5d0\"],[0.7,\"#b8e186\"],[0.8,\"#7fbc41\"],[0.9,\"#4d9221\"],[1,\"#276419\"]]},\"xaxis\":{\"gridcolor\":\"white\",\"linecolor\":\"white\",\"ticks\":\"\",\"title\":{\"standoff\":15},\"zerolinecolor\":\"white\",\"automargin\":true,\"zerolinewidth\":2},\"yaxis\":{\"gridcolor\":\"white\",\"linecolor\":\"white\",\"ticks\":\"\",\"title\":{\"standoff\":15},\"zerolinecolor\":\"white\",\"automargin\":true,\"zerolinewidth\":2},\"scene\":{\"xaxis\":{\"backgroundcolor\":\"#E5ECF6\",\"gridcolor\":\"white\",\"linecolor\":\"white\",\"showbackground\":true,\"ticks\":\"\",\"zerolinecolor\":\"white\",\"gridwidth\":2},\"yaxis\":{\"backgroundcolor\":\"#E5ECF6\",\"gridcolor\":\"white\",\"linecolor\":\"white\",\"showbackground\":true,\"ticks\":\"\",\"zerolinecolor\":\"white\",\"gridwidth\":2},\"zaxis\":{\"backgroundcolor\":\"#E5ECF6\",\"gridcolor\":\"white\",\"linecolor\":\"white\",\"showbackground\":true,\"ticks\":\"\",\"zerolinecolor\":\"white\",\"gridwidth\":2}},\"shapedefaults\":{\"line\":{\"color\":\"#2a3f5f\"}},\"annotationdefaults\":{\"arrowcolor\":\"#2a3f5f\",\"arrowhead\":0,\"arrowwidth\":1},\"geo\":{\"bgcolor\":\"white\",\"landcolor\":\"#E5ECF6\",\"subunitcolor\":\"white\",\"showland\":true,\"showlakes\":true,\"lakecolor\":\"white\"},\"title\":{\"x\":0.05},\"mapbox\":{\"style\":\"light\"}}},\"xaxis\":{\"anchor\":\"y\",\"domain\":[0.0,1.0],\"title\":{\"text\":\"Experience (Years)\"}},\"yaxis\":{\"anchor\":\"x\",\"domain\":[0.0,1.0],\"title\":{\"text\":\"Log_Salary\"}},\"legend\":{\"title\":{\"text\":\"Gender\"},\"tracegroupgap\":0},\"title\":{\"text\":\"Experience vs Salary with Trend Line\"},\"height\":600,\"width\":800},                        {\"responsive\": true}                    ).then(function(){\n",
       "                            \n",
       "var gd = document.getElementById('2c4ef30e-33fc-4a71-9a67-0fa661bda612');\n",
       "var x = new MutationObserver(function (mutations, observer) {{\n",
       "        var display = window.getComputedStyle(gd).display;\n",
       "        if (!display || display === 'none') {{\n",
       "            console.log([gd, 'removed!']);\n",
       "            Plotly.purge(gd);\n",
       "            observer.disconnect();\n",
       "        }}\n",
       "}});\n",
       "\n",
       "// Listen for the removal of the full notebook cells\n",
       "var notebookContainer = gd.closest('#notebook-container');\n",
       "if (notebookContainer) {{\n",
       "    x.observe(notebookContainer, {childList: true});\n",
       "}}\n",
       "\n",
       "// Listen for the clearing of the current output cell\n",
       "var outputEl = gd.closest('.output');\n",
       "if (outputEl) {{\n",
       "    x.observe(outputEl, {childList: true});\n",
       "}}\n",
       "\n",
       "                        })                };                });            </script>        </div>"
      ]
     },
     "metadata": {},
     "output_type": "display_data"
    }
   ],
   "source": [
    "fig = px.scatter(df, x='Experience (Years)', y='Log_Salary', color='Gender',\n",
    "                 trendline='ols', title='Experience vs Salary with Trend Line')\n",
    "fig.update_layout(height=600, width=800)\n",
    "fig.show()"
   ]
  },
  {
   "cell_type": "markdown",
   "metadata": {},
   "source": [
    "#### To visualize the distribution of Salary across different groups with additional detail."
   ]
  },
  {
   "cell_type": "code",
   "execution_count": 28,
   "metadata": {},
   "outputs": [
    {
     "data": {
      "application/vnd.plotly.v1+json": {
       "config": {
        "plotlyServerURL": "https://plot.ly"
       },
       "data": [
        {
         "alignmentgroup": "True",
         "box": {
          "visible": true
         },
         "hovertemplate": "Gender=F<br>Position=%{x}<br>Log_Salary=%{y}<extra></extra>",
         "legendgroup": "F",
         "marker": {
          "color": "#636efa"
         },
         "name": "F",
         "offsetgroup": "F",
         "orientation": "v",
         "points": "all",
         "scalegroup": "True",
         "showlegend": true,
         "type": "violin",
         "x": [
          "DevOps Engineer",
          "Systems Administrator",
          "Web Developer",
          "Systems Administrator",
          "DevOps Engineer",
          "IT Manager",
          "Network Administrator",
          "Database Administrator (DBA)",
          "IT Manager",
          "Database Administrator (DBA)",
          "IT Security Analyst",
          "Network Administrator",
          "IT Security Analyst",
          "Software Engineer",
          "IT Manager",
          "Web Developer",
          "IT Manager",
          "IT Manager",
          "IT Security Analyst",
          "Systems Analyst",
          "IT Support Specialist",
          "Database Administrator (DBA)",
          "Network Administrator",
          "IT Manager",
          "Network Administrator",
          "Software Engineer",
          "Software Engineer",
          "Network Administrator",
          "Systems Administrator",
          "IT Manager",
          "IT Manager",
          "IT Security Analyst",
          "Network Administrator",
          "Cloud Solutions Architect",
          "Cloud Solutions Architect",
          "Cloud Solutions Architect",
          "DevOps Engineer",
          "Software Engineer",
          "Database Administrator (DBA)",
          "Cloud Solutions Architect",
          "Web Developer",
          "Web Developer",
          "Software Engineer",
          "Cloud Solutions Architect",
          "Systems Administrator",
          "Web Developer",
          "IT Support Specialist",
          "IT Security Analyst",
          "Database Administrator (DBA)",
          "IT Security Analyst",
          "IT Manager",
          "IT Support Specialist",
          "IT Support Specialist",
          "Systems Analyst",
          "IT Support Specialist",
          "Software Engineer",
          "Systems Analyst",
          "Systems Administrator",
          "Database Administrator (DBA)",
          "DevOps Engineer",
          "IT Manager",
          "Systems Analyst",
          "Software Engineer",
          "IT Support Specialist",
          "Systems Analyst",
          "IT Support Specialist",
          "Web Developer",
          "Database Administrator (DBA)",
          "Systems Analyst",
          "Cloud Solutions Architect",
          "Network Administrator",
          "IT Manager",
          "IT Support Specialist",
          "DevOps Engineer",
          "Systems Analyst",
          "Software Engineer",
          "IT Manager",
          "Systems Analyst",
          "IT Security Analyst",
          "Cloud Solutions Architect",
          "Web Developer",
          "Systems Administrator",
          "IT Support Specialist",
          "Cloud Solutions Architect",
          "Cloud Solutions Architect",
          "Software Engineer",
          "Cloud Solutions Architect",
          "Database Administrator (DBA)",
          "Systems Administrator",
          "Systems Analyst",
          "Systems Analyst",
          "DevOps Engineer",
          "IT Security Analyst",
          "Systems Analyst",
          "Software Engineer",
          "IT Security Analyst",
          "Systems Administrator",
          "Cloud Solutions Architect",
          "IT Security Analyst",
          "Cloud Solutions Architect",
          "Web Developer",
          "IT Security Analyst",
          "IT Security Analyst",
          "IT Manager",
          "Web Developer",
          "Web Developer",
          "IT Support Specialist",
          "Web Developer",
          "IT Security Analyst",
          "Software Engineer",
          "Systems Administrator",
          "Systems Analyst",
          "Software Engineer",
          "IT Support Specialist",
          "Web Developer",
          "Systems Administrator",
          "Database Administrator (DBA)",
          "IT Support Specialist",
          "Systems Administrator",
          "Web Developer",
          "Systems Analyst",
          "IT Manager",
          "Systems Administrator",
          "Network Administrator",
          "Systems Administrator",
          "Software Engineer",
          "Software Engineer",
          "DevOps Engineer",
          "Database Administrator (DBA)",
          "Cloud Solutions Architect",
          "Software Engineer",
          "IT Manager",
          "Web Developer",
          "IT Manager",
          "Systems Analyst",
          "Systems Administrator",
          "Web Developer",
          "DevOps Engineer",
          "IT Manager",
          "Database Administrator (DBA)",
          "IT Support Specialist",
          "Database Administrator (DBA)",
          "Web Developer",
          "DevOps Engineer",
          "IT Support Specialist",
          "Systems Analyst",
          "Database Administrator (DBA)",
          "Web Developer",
          "IT Manager",
          "Software Engineer",
          "Database Administrator (DBA)",
          "Network Administrator",
          "Systems Analyst",
          "Software Engineer",
          "Systems Analyst",
          "IT Manager",
          "Systems Administrator",
          "Database Administrator (DBA)",
          "Systems Analyst",
          "DevOps Engineer",
          "Web Developer",
          "DevOps Engineer",
          "DevOps Engineer",
          "IT Support Specialist",
          "IT Support Specialist",
          "Cloud Solutions Architect",
          "Software Engineer",
          "Systems Administrator",
          "Web Developer",
          "DevOps Engineer",
          "Database Administrator (DBA)",
          "Systems Analyst",
          "DevOps Engineer",
          "Cloud Solutions Architect",
          "Network Administrator",
          "DevOps Engineer",
          "IT Support Specialist",
          "DevOps Engineer",
          "IT Security Analyst",
          "Web Developer",
          "DevOps Engineer",
          "Systems Analyst",
          "Systems Analyst",
          "IT Security Analyst",
          "IT Manager",
          "Network Administrator",
          "Systems Administrator",
          "Systems Analyst",
          "Web Developer",
          "Network Administrator",
          "Systems Administrator",
          "IT Security Analyst",
          "Cloud Solutions Architect",
          "Network Administrator",
          "Cloud Solutions Architect",
          "Web Developer",
          "Network Administrator",
          "IT Security Analyst"
         ],
         "x0": " ",
         "xaxis": "x",
         "y": [
          -0.36761709076186533,
          0.5937573667340736,
          -0.23602827484591316,
          -1.2209070634630255,
          -0.4883070220055694,
          0.7866530798923423,
          0.7160830386460577,
          0.29408885507543203,
          0.5526508491079464,
          1.2231353664064075,
          0.10724881354329087,
          0.33878879621836466,
          1.8445328724428083,
          -1.6480288031242674,
          1.8730203823719438,
          -1.64840122758669,
          0.4808376523842501,
          0.7160644874751803,
          0.8907138841521145,
          0.29136889072713373,
          -1.0346963713734993,
          0.31660855439698654,
          0.534081595473689,
          -0.3015074776081569,
          0.2685467768526663,
          -0.2574266777924602,
          -1.079935822661515,
          -0.23083076577605982,
          0.5637677525004146,
          0.4146787691066053,
          1.0966985726416818,
          0.5881441916853105,
          -1.560623721243561,
          0.6721245937688874,
          1.7609996940087607,
          -0.3583868456157684,
          0.9603101371505828,
          -1.8299664259219461,
          0.3963953282968101,
          0.3776856359090244,
          -1.4158554481530348,
          -0.16173449088868969,
          -0.3784358243303446,
          1.3595001555234052,
          0.18523856548586495,
          -1.9529152520927378,
          -2.4236517959752866,
          -1.6595959031863683,
          0.47240676889479355,
          0.5640607650859855,
          1.5035689581521798,
          -0.6104246748615058,
          -0.9567354251694856,
          0.6203611451464421,
          -3.091226556063907,
          0.8120093684575201,
          -0.1935404737091964,
          -2.358429979473999,
          1.1540466954774542,
          1.8190354951214065,
          2.265808803076531,
          -0.6297505043038858,
          -0.6635379696872046,
          -0.24902368470217887,
          -0.10707084847309642,
          -0.7794972711480531,
          -2.1955139790327842,
          -0.3689035927940118,
          -1.118265400577752,
          0.05995458654975942,
          -0.2786955830354418,
          0.19599205563739175,
          -2.701310798891322,
          0.2582719692220046,
          -0.9694276703681756,
          0.7289109994638122,
          -0.10633507372011929,
          0.04471090210496683,
          1.0045272292933254,
          0.21920511454843059,
          0.5490405871286651,
          0.20946158843322837,
          -1.213114046612104,
          0.45226846820054095,
          -0.44122710317275277,
          0.16694532233149834,
          0.6115134701624505,
          -0.39767449926189063,
          -0.7685165230806503,
          0.9890276775798736,
          -1.0644166199187424,
          0.6352328164781357,
          -0.19705360579989528,
          0.2337274908364521,
          1.0646352833039936,
          1.7376136877206625,
          -0.47249297457449574,
          0.2699068539929098,
          0.6968945062151198,
          0.5603862333418774,
          0.5089335185461611,
          0.6330583641443894,
          0.38616327257166255,
          0.5423577913762611,
          0.4195448299708022,
          -1.7843714658750578,
          -1.3798221948135956,
          0.7826838465374499,
          0.5464478893057871,
          -0.5571941896028395,
          0.2991152490569932,
          1.1856156137740614,
          1.2553055347945268,
          0.26597602838642126,
          -0.7403451307495285,
          -0.8345836654376916,
          -0.7079556554167591,
          -0.9102727575336879,
          1.0557877848347965,
          -2.0423168148952926,
          -1.6156839421017681,
          0.7007384914612051,
          0.135396300457379,
          -0.1006023265967335,
          -1.8224498082486358,
          0.3701433383179251,
          1.0075031134102,
          0.520077463807377,
          -0.9348252211332713,
          1.0897451176070332,
          -0.8640238324767641,
          0.6765275005270918,
          -1.673378022920395,
          -0.22924517486738313,
          -0.5739016875362275,
          0.022001730121128354,
          -0.2922465904119332,
          0.12537122241842122,
          1.2466412796410002,
          0.08469652779076495,
          -0.457674911961247,
          1.2023203495226993,
          0.15980672698683873,
          0.5012612562248266,
          -1.5079146057348485,
          -1.1917357408402702,
          -0.07897248029089297,
          -0.8771502627659037,
          1.4008444156118212,
          0.27773128443893635,
          0.021837381291718846,
          0.5156328840563099,
          1.1396532788102416,
          -0.7162383734504684,
          1.486564015172683,
          1.295918331467592,
          0.12664038554768545,
          -0.47046667566197387,
          -0.3319270717919878,
          1.5612531382803807,
          0.8903991597834795,
          0.7304067332660028,
          0.16488831627637718,
          -1.1438192656217299,
          -0.9914982847020771,
          0.052133457739741366,
          -0.24133765422925235,
          0.06886437545502178,
          0.5042129572586006,
          1.9665312959258576,
          0.678914361248283,
          -0.2700503406928258,
          0.8764124956871,
          1.3572624344561737,
          0.9928468845954135,
          1.5623113027442435,
          -0.6291062161340752,
          1.3981816576465693,
          -0.3391632717302819,
          -1.243256141239518,
          0.6996940207513623,
          0.7821396993710893,
          0.5328776412086726,
          -0.3486528844102252,
          -0.4828683323398659,
          -0.07031150350408243,
          -0.4075176857365692,
          -0.7014962517067247,
          -0.5781293795938898,
          -0.542570675689458,
          -0.5648627188751477,
          -0.436231067492371,
          0.7348340852794457,
          -1.3301119816288114,
          1.8831504164185764,
          1.1293359658121687,
          -1.1077748671354242,
          0.8995125479404844
         ],
         "y0": " ",
         "yaxis": "y"
        },
        {
         "alignmentgroup": "True",
         "box": {
          "visible": true
         },
         "hovertemplate": "Gender=M<br>Position=%{x}<br>Log_Salary=%{y}<extra></extra>",
         "legendgroup": "M",
         "marker": {
          "color": "#EF553B"
         },
         "name": "M",
         "offsetgroup": "M",
         "orientation": "v",
         "points": "all",
         "scalegroup": "True",
         "showlegend": true,
         "type": "violin",
         "x": [
          "DevOps Engineer",
          "Web Developer",
          "Systems Administrator",
          "DevOps Engineer",
          "DevOps Engineer",
          "DevOps Engineer",
          "IT Security Analyst",
          "IT Security Analyst",
          "Software Engineer",
          "Database Administrator (DBA)",
          "Network Administrator",
          "IT Security Analyst",
          "DevOps Engineer",
          "IT Support Specialist",
          "IT Security Analyst",
          "Network Administrator",
          "IT Manager",
          "Software Engineer",
          "IT Security Analyst",
          "Database Administrator (DBA)",
          "Systems Administrator",
          "IT Support Specialist",
          "IT Manager",
          "IT Manager",
          "Network Administrator",
          "Systems Administrator",
          "IT Manager",
          "Systems Analyst",
          "Database Administrator (DBA)",
          "IT Manager",
          "IT Support Specialist",
          "DevOps Engineer",
          "IT Manager",
          "Systems Analyst",
          "IT Security Analyst",
          "Network Administrator",
          "Software Engineer",
          "DevOps Engineer",
          "Cloud Solutions Architect",
          "Cloud Solutions Architect",
          "Database Administrator (DBA)",
          "Web Developer",
          "Systems Administrator",
          "IT Security Analyst",
          "IT Security Analyst",
          "Systems Administrator",
          "IT Manager",
          "Cloud Solutions Architect",
          "IT Support Specialist",
          "DevOps Engineer",
          "Cloud Solutions Architect",
          "Database Administrator (DBA)",
          "IT Security Analyst",
          "IT Manager",
          "Software Engineer",
          "Database Administrator (DBA)",
          "Systems Analyst",
          "IT Manager",
          "IT Manager",
          "DevOps Engineer",
          "Network Administrator",
          "Software Engineer",
          "Systems Analyst",
          "IT Support Specialist",
          "Systems Analyst",
          "IT Support Specialist",
          "Web Developer",
          "Web Developer",
          "IT Support Specialist",
          "Database Administrator (DBA)",
          "Systems Administrator",
          "IT Security Analyst",
          "Database Administrator (DBA)",
          "Cloud Solutions Architect",
          "Software Engineer",
          "Systems Analyst",
          "Software Engineer",
          "IT Security Analyst",
          "DevOps Engineer",
          "Database Administrator (DBA)",
          "Software Engineer",
          "Software Engineer",
          "Systems Analyst",
          "IT Security Analyst",
          "IT Support Specialist",
          "IT Manager",
          "Network Administrator",
          "Database Administrator (DBA)",
          "Network Administrator",
          "Cloud Solutions Architect",
          "Network Administrator",
          "IT Security Analyst",
          "Web Developer",
          "IT Security Analyst",
          "Systems Administrator",
          "IT Support Specialist",
          "IT Security Analyst",
          "IT Manager",
          "Web Developer",
          "Database Administrator (DBA)",
          "Web Developer",
          "DevOps Engineer",
          "DevOps Engineer",
          "Web Developer",
          "Database Administrator (DBA)",
          "Systems Administrator",
          "IT Support Specialist",
          "Network Administrator",
          "Web Developer",
          "IT Security Analyst",
          "Database Administrator (DBA)",
          "Software Engineer",
          "Systems Administrator",
          "Systems Administrator",
          "Web Developer",
          "DevOps Engineer",
          "Systems Administrator",
          "Web Developer",
          "IT Manager",
          "DevOps Engineer",
          "IT Support Specialist",
          "Software Engineer",
          "Systems Administrator",
          "Systems Administrator",
          "Web Developer",
          "DevOps Engineer",
          "Systems Administrator",
          "Software Engineer",
          "Database Administrator (DBA)",
          "Systems Analyst",
          "IT Security Analyst",
          "Cloud Solutions Architect",
          "DevOps Engineer",
          "Network Administrator",
          "IT Manager",
          "DevOps Engineer",
          "Systems Analyst",
          "Systems Analyst",
          "Software Engineer",
          "Database Administrator (DBA)",
          "Systems Administrator",
          "Network Administrator",
          "Database Administrator (DBA)",
          "Web Developer",
          "Network Administrator",
          "Systems Analyst",
          "Software Engineer",
          "DevOps Engineer",
          "IT Support Specialist",
          "IT Security Analyst",
          "Database Administrator (DBA)",
          "Database Administrator (DBA)",
          "Web Developer",
          "IT Security Analyst",
          "IT Manager",
          "Systems Analyst",
          "Web Developer",
          "DevOps Engineer",
          "IT Security Analyst",
          "Software Engineer",
          "IT Manager",
          "Web Developer",
          "Cloud Solutions Architect",
          "Web Developer",
          "Cloud Solutions Architect",
          "IT Security Analyst",
          "IT Manager",
          "Systems Analyst",
          "Network Administrator",
          "Database Administrator (DBA)",
          "DevOps Engineer",
          "Systems Analyst",
          "Web Developer",
          "Systems Administrator",
          "Cloud Solutions Architect",
          "Web Developer",
          "Systems Analyst",
          "Software Engineer",
          "Systems Administrator",
          "Web Developer",
          "Cloud Solutions Architect",
          "Database Administrator (DBA)",
          "IT Security Analyst",
          "IT Manager",
          "Software Engineer",
          "Network Administrator",
          "Systems Administrator",
          "Network Administrator",
          "Systems Administrator",
          "Network Administrator",
          "Systems Administrator",
          "Network Administrator",
          "Cloud Solutions Architect",
          "Database Administrator (DBA)",
          "Cloud Solutions Architect",
          "IT Manager",
          "IT Manager",
          "Web Developer",
          "IT Support Specialist",
          "Software Engineer",
          "IT Support Specialist",
          "Database Administrator (DBA)"
         ],
         "x0": " ",
         "xaxis": "x",
         "y": [
          -0.10839570613433153,
          1.1055543153598433,
          -1.397859768138992,
          -0.3272185148265362,
          -0.5339673605226344,
          0.32405585037704226,
          -0.21814439041905484,
          -0.3361659125878417,
          -1.1496834063385146,
          0.7078906213593535,
          -0.1860731975978039,
          0.4704717097194461,
          0.241016421023216,
          -0.10805216732267603,
          -0.7303271821122551,
          -0.6154045667229182,
          -1.0288887302446486,
          0.9382857780564865,
          0.5281162188104614,
          -0.05684907303840489,
          -1.8881948600320015,
          0.12802224512888383,
          1.11221113788083,
          1.3379175229135989,
          0.2863721826585316,
          1.2540693425600482,
          -0.33367485489450716,
          -1.4663457128408492,
          -0.4989624367593149,
          2.1747263205898304,
          -2.7675336892433395,
          0.9796784873360941,
          1.1847454481498294,
          0.03722289080413461,
          -1.3384818005925037,
          -1.088547416244925,
          0.21707440917748722,
          0.17587217225309876,
          1.0344014872504157,
          -0.3647245129804658,
          0.6631290142543962,
          -2.275206363477812,
          0.34681121600090287,
          -0.7360605670126725,
          0.09387563855777632,
          -0.5669549973279374,
          0.6946529782161456,
          0.15186460528010448,
          -2.0469086297056958,
          -0.03661436573804461,
          0.7630492294104916,
          -1.08461440047752,
          0.2379851938357892,
          1.4759037994366464,
          -0.40539984584882255,
          -0.02893661738233339,
          0.492908693241368,
          0.781069250081386,
          2.278674887205842,
          1.5980921778262551,
          0.4644770615543843,
          1.608416118459329,
          -1.0013164547225222,
          -0.9454991378935209,
          0.6439906599355878,
          -0.5549946033687431,
          -2.2613661034802397,
          0.5385575683759838,
          -0.9395391062873077,
          0.2473522930802477,
          -2.0931283828147187,
          -1.197412006045779,
          -1.810664086883904,
          1.6409623801731994,
          1.095263522098292,
          1.068012111454657,
          0.09119370571731168,
          1.5037251648403251,
          1.1039284165274335,
          1.2880451628756808,
          0.4578830086083096,
          0.5344367667030632,
          0.3778520987032574,
          -0.4196839786621601,
          -1.7129573116079366,
          1.9862114492806235,
          -1.7882743987388892,
          0.22107096189397193,
          0.3487871464806839,
          -0.3776828652964721,
          1.1112865766313744,
          -1.392049927855349,
          -0.17423001725002354,
          -0.10800309361860115,
          -0.4062142195453754,
          -0.044120079097271114,
          -0.23607952746034627,
          0.6175811163719913,
          -0.20125463957166234,
          0.17413355757905088,
          -0.9472275206700309,
          0.09435675287078478,
          1.339944807975679,
          -0.12730288507085644,
          -0.8564859192423631,
          0.07419734736291551,
          -0.34737519061367517,
          -1.1198906305334346,
          -0.2460394329528202,
          1.1391872841897537,
          -0.8053103478084103,
          -0.6470818943961087,
          0.10610817594420408,
          0.16690062007244272,
          0.593892725103526,
          1.652271882755463,
          -1.641044224765747,
          -0.7993477030067789,
          1.4611017138500644,
          0.5591929798983243,
          -1.690749286893959,
          0.5476463134626944,
          -1.573384777189904,
          -0.3939410697473991,
          -0.8109735981179884,
          1.037796484840136,
          -0.6830076728060821,
          0.994771510828342,
          -0.1888712092830549,
          -0.844080911638918,
          0.5098289741071208,
          2.086978289412227,
          1.3478753498159868,
          -0.33964100878167564,
          0.9519653962011695,
          0.6885735975074911,
          0.19145155271722802,
          -1.3075024726143498,
          0.7725098284727508,
          0.17725341669573952,
          -0.19591580236272746,
          0.224229233388989,
          0.8475643265136501,
          -0.6451675002432423,
          -0.8986342813665069,
          -1.3264738790599793,
          0.20379422282701629,
          1.0886009599783482,
          -0.7279945527733495,
          -1.6741711010816287,
          -0.41995673046038,
          0.3225933374542003,
          -0.24203088772197975,
          0.01638519920994578,
          0.8161007188290834,
          1.0608420351590055,
          -1.929331655275962,
          -0.01029212976314771,
          0.6041232735374431,
          1.1132326840087967,
          0.5627517499178857,
          -0.14807271651926304,
          1.9663977918935502,
          0.08375405144952583,
          -0.8843580772440496,
          -0.24274996881551797,
          -0.5394728604765154,
          1.2274741790458152,
          -0.3307095326374285,
          1.5999894423102279,
          1.4735949721613462,
          0.5304880131533918,
          -1.0287545848056128,
          -0.6777039284955547,
          0.39273326964831223,
          -1.2473345991038132,
          -0.3010882778809925,
          -0.43069591599067514,
          -0.2163365011031876,
          -0.8358712325230935,
          1.7996414161007723,
          0.8037195513914728,
          0.6270416539545766,
          0.9999651014411606,
          -1.4563643207230277,
          -0.8106932913481844,
          -1.363471841593969,
          -0.1406451927339677,
          0.7323076199658703,
          -2.0754238867496126,
          0.1077277497143897,
          -0.18602280732922657,
          0.8663812223476125,
          -0.4825896955561618,
          -0.5290664772675849,
          0.7361609949027036,
          1.258455479878166,
          -0.9082761625542225,
          -1.8689545795311362,
          -0.9248372277734712,
          -2.412957889487348,
          0.1252352082302301
         ],
         "y0": " ",
         "yaxis": "y"
        }
       ],
       "layout": {
        "height": 600,
        "legend": {
         "title": {
          "text": "Gender"
         },
         "tracegroupgap": 0
        },
        "template": {
         "data": {
          "bar": [
           {
            "error_x": {
             "color": "#2a3f5f"
            },
            "error_y": {
             "color": "#2a3f5f"
            },
            "marker": {
             "line": {
              "color": "#E5ECF6",
              "width": 0.5
             },
             "pattern": {
              "fillmode": "overlay",
              "size": 10,
              "solidity": 0.2
             }
            },
            "type": "bar"
           }
          ],
          "barpolar": [
           {
            "marker": {
             "line": {
              "color": "#E5ECF6",
              "width": 0.5
             },
             "pattern": {
              "fillmode": "overlay",
              "size": 10,
              "solidity": 0.2
             }
            },
            "type": "barpolar"
           }
          ],
          "carpet": [
           {
            "aaxis": {
             "endlinecolor": "#2a3f5f",
             "gridcolor": "white",
             "linecolor": "white",
             "minorgridcolor": "white",
             "startlinecolor": "#2a3f5f"
            },
            "baxis": {
             "endlinecolor": "#2a3f5f",
             "gridcolor": "white",
             "linecolor": "white",
             "minorgridcolor": "white",
             "startlinecolor": "#2a3f5f"
            },
            "type": "carpet"
           }
          ],
          "choropleth": [
           {
            "colorbar": {
             "outlinewidth": 0,
             "ticks": ""
            },
            "type": "choropleth"
           }
          ],
          "contour": [
           {
            "colorbar": {
             "outlinewidth": 0,
             "ticks": ""
            },
            "colorscale": [
             [
              0,
              "#0d0887"
             ],
             [
              0.1111111111111111,
              "#46039f"
             ],
             [
              0.2222222222222222,
              "#7201a8"
             ],
             [
              0.3333333333333333,
              "#9c179e"
             ],
             [
              0.4444444444444444,
              "#bd3786"
             ],
             [
              0.5555555555555556,
              "#d8576b"
             ],
             [
              0.6666666666666666,
              "#ed7953"
             ],
             [
              0.7777777777777778,
              "#fb9f3a"
             ],
             [
              0.8888888888888888,
              "#fdca26"
             ],
             [
              1,
              "#f0f921"
             ]
            ],
            "type": "contour"
           }
          ],
          "contourcarpet": [
           {
            "colorbar": {
             "outlinewidth": 0,
             "ticks": ""
            },
            "type": "contourcarpet"
           }
          ],
          "heatmap": [
           {
            "colorbar": {
             "outlinewidth": 0,
             "ticks": ""
            },
            "colorscale": [
             [
              0,
              "#0d0887"
             ],
             [
              0.1111111111111111,
              "#46039f"
             ],
             [
              0.2222222222222222,
              "#7201a8"
             ],
             [
              0.3333333333333333,
              "#9c179e"
             ],
             [
              0.4444444444444444,
              "#bd3786"
             ],
             [
              0.5555555555555556,
              "#d8576b"
             ],
             [
              0.6666666666666666,
              "#ed7953"
             ],
             [
              0.7777777777777778,
              "#fb9f3a"
             ],
             [
              0.8888888888888888,
              "#fdca26"
             ],
             [
              1,
              "#f0f921"
             ]
            ],
            "type": "heatmap"
           }
          ],
          "heatmapgl": [
           {
            "colorbar": {
             "outlinewidth": 0,
             "ticks": ""
            },
            "colorscale": [
             [
              0,
              "#0d0887"
             ],
             [
              0.1111111111111111,
              "#46039f"
             ],
             [
              0.2222222222222222,
              "#7201a8"
             ],
             [
              0.3333333333333333,
              "#9c179e"
             ],
             [
              0.4444444444444444,
              "#bd3786"
             ],
             [
              0.5555555555555556,
              "#d8576b"
             ],
             [
              0.6666666666666666,
              "#ed7953"
             ],
             [
              0.7777777777777778,
              "#fb9f3a"
             ],
             [
              0.8888888888888888,
              "#fdca26"
             ],
             [
              1,
              "#f0f921"
             ]
            ],
            "type": "heatmapgl"
           }
          ],
          "histogram": [
           {
            "marker": {
             "pattern": {
              "fillmode": "overlay",
              "size": 10,
              "solidity": 0.2
             }
            },
            "type": "histogram"
           }
          ],
          "histogram2d": [
           {
            "colorbar": {
             "outlinewidth": 0,
             "ticks": ""
            },
            "colorscale": [
             [
              0,
              "#0d0887"
             ],
             [
              0.1111111111111111,
              "#46039f"
             ],
             [
              0.2222222222222222,
              "#7201a8"
             ],
             [
              0.3333333333333333,
              "#9c179e"
             ],
             [
              0.4444444444444444,
              "#bd3786"
             ],
             [
              0.5555555555555556,
              "#d8576b"
             ],
             [
              0.6666666666666666,
              "#ed7953"
             ],
             [
              0.7777777777777778,
              "#fb9f3a"
             ],
             [
              0.8888888888888888,
              "#fdca26"
             ],
             [
              1,
              "#f0f921"
             ]
            ],
            "type": "histogram2d"
           }
          ],
          "histogram2dcontour": [
           {
            "colorbar": {
             "outlinewidth": 0,
             "ticks": ""
            },
            "colorscale": [
             [
              0,
              "#0d0887"
             ],
             [
              0.1111111111111111,
              "#46039f"
             ],
             [
              0.2222222222222222,
              "#7201a8"
             ],
             [
              0.3333333333333333,
              "#9c179e"
             ],
             [
              0.4444444444444444,
              "#bd3786"
             ],
             [
              0.5555555555555556,
              "#d8576b"
             ],
             [
              0.6666666666666666,
              "#ed7953"
             ],
             [
              0.7777777777777778,
              "#fb9f3a"
             ],
             [
              0.8888888888888888,
              "#fdca26"
             ],
             [
              1,
              "#f0f921"
             ]
            ],
            "type": "histogram2dcontour"
           }
          ],
          "mesh3d": [
           {
            "colorbar": {
             "outlinewidth": 0,
             "ticks": ""
            },
            "type": "mesh3d"
           }
          ],
          "parcoords": [
           {
            "line": {
             "colorbar": {
              "outlinewidth": 0,
              "ticks": ""
             }
            },
            "type": "parcoords"
           }
          ],
          "pie": [
           {
            "automargin": true,
            "type": "pie"
           }
          ],
          "scatter": [
           {
            "fillpattern": {
             "fillmode": "overlay",
             "size": 10,
             "solidity": 0.2
            },
            "type": "scatter"
           }
          ],
          "scatter3d": [
           {
            "line": {
             "colorbar": {
              "outlinewidth": 0,
              "ticks": ""
             }
            },
            "marker": {
             "colorbar": {
              "outlinewidth": 0,
              "ticks": ""
             }
            },
            "type": "scatter3d"
           }
          ],
          "scattercarpet": [
           {
            "marker": {
             "colorbar": {
              "outlinewidth": 0,
              "ticks": ""
             }
            },
            "type": "scattercarpet"
           }
          ],
          "scattergeo": [
           {
            "marker": {
             "colorbar": {
              "outlinewidth": 0,
              "ticks": ""
             }
            },
            "type": "scattergeo"
           }
          ],
          "scattergl": [
           {
            "marker": {
             "colorbar": {
              "outlinewidth": 0,
              "ticks": ""
             }
            },
            "type": "scattergl"
           }
          ],
          "scattermapbox": [
           {
            "marker": {
             "colorbar": {
              "outlinewidth": 0,
              "ticks": ""
             }
            },
            "type": "scattermapbox"
           }
          ],
          "scatterpolar": [
           {
            "marker": {
             "colorbar": {
              "outlinewidth": 0,
              "ticks": ""
             }
            },
            "type": "scatterpolar"
           }
          ],
          "scatterpolargl": [
           {
            "marker": {
             "colorbar": {
              "outlinewidth": 0,
              "ticks": ""
             }
            },
            "type": "scatterpolargl"
           }
          ],
          "scatterternary": [
           {
            "marker": {
             "colorbar": {
              "outlinewidth": 0,
              "ticks": ""
             }
            },
            "type": "scatterternary"
           }
          ],
          "surface": [
           {
            "colorbar": {
             "outlinewidth": 0,
             "ticks": ""
            },
            "colorscale": [
             [
              0,
              "#0d0887"
             ],
             [
              0.1111111111111111,
              "#46039f"
             ],
             [
              0.2222222222222222,
              "#7201a8"
             ],
             [
              0.3333333333333333,
              "#9c179e"
             ],
             [
              0.4444444444444444,
              "#bd3786"
             ],
             [
              0.5555555555555556,
              "#d8576b"
             ],
             [
              0.6666666666666666,
              "#ed7953"
             ],
             [
              0.7777777777777778,
              "#fb9f3a"
             ],
             [
              0.8888888888888888,
              "#fdca26"
             ],
             [
              1,
              "#f0f921"
             ]
            ],
            "type": "surface"
           }
          ],
          "table": [
           {
            "cells": {
             "fill": {
              "color": "#EBF0F8"
             },
             "line": {
              "color": "white"
             }
            },
            "header": {
             "fill": {
              "color": "#C8D4E3"
             },
             "line": {
              "color": "white"
             }
            },
            "type": "table"
           }
          ]
         },
         "layout": {
          "annotationdefaults": {
           "arrowcolor": "#2a3f5f",
           "arrowhead": 0,
           "arrowwidth": 1
          },
          "autotypenumbers": "strict",
          "coloraxis": {
           "colorbar": {
            "outlinewidth": 0,
            "ticks": ""
           }
          },
          "colorscale": {
           "diverging": [
            [
             0,
             "#8e0152"
            ],
            [
             0.1,
             "#c51b7d"
            ],
            [
             0.2,
             "#de77ae"
            ],
            [
             0.3,
             "#f1b6da"
            ],
            [
             0.4,
             "#fde0ef"
            ],
            [
             0.5,
             "#f7f7f7"
            ],
            [
             0.6,
             "#e6f5d0"
            ],
            [
             0.7,
             "#b8e186"
            ],
            [
             0.8,
             "#7fbc41"
            ],
            [
             0.9,
             "#4d9221"
            ],
            [
             1,
             "#276419"
            ]
           ],
           "sequential": [
            [
             0,
             "#0d0887"
            ],
            [
             0.1111111111111111,
             "#46039f"
            ],
            [
             0.2222222222222222,
             "#7201a8"
            ],
            [
             0.3333333333333333,
             "#9c179e"
            ],
            [
             0.4444444444444444,
             "#bd3786"
            ],
            [
             0.5555555555555556,
             "#d8576b"
            ],
            [
             0.6666666666666666,
             "#ed7953"
            ],
            [
             0.7777777777777778,
             "#fb9f3a"
            ],
            [
             0.8888888888888888,
             "#fdca26"
            ],
            [
             1,
             "#f0f921"
            ]
           ],
           "sequentialminus": [
            [
             0,
             "#0d0887"
            ],
            [
             0.1111111111111111,
             "#46039f"
            ],
            [
             0.2222222222222222,
             "#7201a8"
            ],
            [
             0.3333333333333333,
             "#9c179e"
            ],
            [
             0.4444444444444444,
             "#bd3786"
            ],
            [
             0.5555555555555556,
             "#d8576b"
            ],
            [
             0.6666666666666666,
             "#ed7953"
            ],
            [
             0.7777777777777778,
             "#fb9f3a"
            ],
            [
             0.8888888888888888,
             "#fdca26"
            ],
            [
             1,
             "#f0f921"
            ]
           ]
          },
          "colorway": [
           "#636efa",
           "#EF553B",
           "#00cc96",
           "#ab63fa",
           "#FFA15A",
           "#19d3f3",
           "#FF6692",
           "#B6E880",
           "#FF97FF",
           "#FECB52"
          ],
          "font": {
           "color": "#2a3f5f"
          },
          "geo": {
           "bgcolor": "white",
           "lakecolor": "white",
           "landcolor": "#E5ECF6",
           "showlakes": true,
           "showland": true,
           "subunitcolor": "white"
          },
          "hoverlabel": {
           "align": "left"
          },
          "hovermode": "closest",
          "mapbox": {
           "style": "light"
          },
          "paper_bgcolor": "white",
          "plot_bgcolor": "#E5ECF6",
          "polar": {
           "angularaxis": {
            "gridcolor": "white",
            "linecolor": "white",
            "ticks": ""
           },
           "bgcolor": "#E5ECF6",
           "radialaxis": {
            "gridcolor": "white",
            "linecolor": "white",
            "ticks": ""
           }
          },
          "scene": {
           "xaxis": {
            "backgroundcolor": "#E5ECF6",
            "gridcolor": "white",
            "gridwidth": 2,
            "linecolor": "white",
            "showbackground": true,
            "ticks": "",
            "zerolinecolor": "white"
           },
           "yaxis": {
            "backgroundcolor": "#E5ECF6",
            "gridcolor": "white",
            "gridwidth": 2,
            "linecolor": "white",
            "showbackground": true,
            "ticks": "",
            "zerolinecolor": "white"
           },
           "zaxis": {
            "backgroundcolor": "#E5ECF6",
            "gridcolor": "white",
            "gridwidth": 2,
            "linecolor": "white",
            "showbackground": true,
            "ticks": "",
            "zerolinecolor": "white"
           }
          },
          "shapedefaults": {
           "line": {
            "color": "#2a3f5f"
           }
          },
          "ternary": {
           "aaxis": {
            "gridcolor": "white",
            "linecolor": "white",
            "ticks": ""
           },
           "baxis": {
            "gridcolor": "white",
            "linecolor": "white",
            "ticks": ""
           },
           "bgcolor": "#E5ECF6",
           "caxis": {
            "gridcolor": "white",
            "linecolor": "white",
            "ticks": ""
           }
          },
          "title": {
           "x": 0.05
          },
          "xaxis": {
           "automargin": true,
           "gridcolor": "white",
           "linecolor": "white",
           "ticks": "",
           "title": {
            "standoff": 15
           },
           "zerolinecolor": "white",
           "zerolinewidth": 2
          },
          "yaxis": {
           "automargin": true,
           "gridcolor": "white",
           "linecolor": "white",
           "ticks": "",
           "title": {
            "standoff": 15
           },
           "zerolinecolor": "white",
           "zerolinewidth": 2
          }
         }
        },
        "title": {
         "text": "Salary Distribution by Position and Gender (Violin Plot)"
        },
        "violinmode": "group",
        "width": 800,
        "xaxis": {
         "anchor": "y",
         "domain": [
          0,
          1
         ],
         "title": {
          "text": "Position"
         }
        },
        "yaxis": {
         "anchor": "x",
         "domain": [
          0,
          1
         ],
         "title": {
          "text": "Log_Salary"
         }
        }
       }
      },
      "text/html": [
       "<div>                            <div id=\"8a0e4447-8c7e-42d0-aeac-deb8c3bd1a16\" class=\"plotly-graph-div\" style=\"height:600px; width:800px;\"></div>            <script type=\"text/javascript\">                require([\"plotly\"], function(Plotly) {                    window.PLOTLYENV=window.PLOTLYENV || {};                                    if (document.getElementById(\"8a0e4447-8c7e-42d0-aeac-deb8c3bd1a16\")) {                    Plotly.newPlot(                        \"8a0e4447-8c7e-42d0-aeac-deb8c3bd1a16\",                        [{\"alignmentgroup\":\"True\",\"box\":{\"visible\":true},\"hovertemplate\":\"Gender=F\\u003cbr\\u003ePosition=%{x}\\u003cbr\\u003eLog_Salary=%{y}\\u003cextra\\u003e\\u003c\\u002fextra\\u003e\",\"legendgroup\":\"F\",\"marker\":{\"color\":\"#636efa\"},\"name\":\"F\",\"offsetgroup\":\"F\",\"orientation\":\"v\",\"points\":\"all\",\"scalegroup\":\"True\",\"showlegend\":true,\"x\":[\"DevOps Engineer\",\"Systems Administrator\",\"Web Developer\",\"Systems Administrator\",\"DevOps Engineer\",\"IT Manager\",\"Network Administrator\",\"Database Administrator (DBA)\",\"IT Manager\",\"Database Administrator (DBA)\",\"IT Security Analyst\",\"Network Administrator\",\"IT Security Analyst\",\"Software Engineer\",\"IT Manager\",\"Web Developer\",\"IT Manager\",\"IT Manager\",\"IT Security Analyst\",\"Systems Analyst\",\"IT Support Specialist\",\"Database Administrator (DBA)\",\"Network Administrator\",\"IT Manager\",\"Network Administrator\",\"Software Engineer\",\"Software Engineer\",\"Network Administrator\",\"Systems Administrator\",\"IT Manager\",\"IT Manager\",\"IT Security Analyst\",\"Network Administrator\",\"Cloud Solutions Architect\",\"Cloud Solutions Architect\",\"Cloud Solutions Architect\",\"DevOps Engineer\",\"Software Engineer\",\"Database Administrator (DBA)\",\"Cloud Solutions Architect\",\"Web Developer\",\"Web Developer\",\"Software Engineer\",\"Cloud Solutions Architect\",\"Systems Administrator\",\"Web Developer\",\"IT Support Specialist\",\"IT Security Analyst\",\"Database Administrator (DBA)\",\"IT Security Analyst\",\"IT Manager\",\"IT Support Specialist\",\"IT Support Specialist\",\"Systems Analyst\",\"IT Support Specialist\",\"Software Engineer\",\"Systems Analyst\",\"Systems Administrator\",\"Database Administrator (DBA)\",\"DevOps Engineer\",\"IT Manager\",\"Systems Analyst\",\"Software Engineer\",\"IT Support Specialist\",\"Systems Analyst\",\"IT Support Specialist\",\"Web Developer\",\"Database Administrator (DBA)\",\"Systems Analyst\",\"Cloud Solutions Architect\",\"Network Administrator\",\"IT Manager\",\"IT Support Specialist\",\"DevOps Engineer\",\"Systems Analyst\",\"Software Engineer\",\"IT Manager\",\"Systems Analyst\",\"IT Security Analyst\",\"Cloud Solutions Architect\",\"Web Developer\",\"Systems Administrator\",\"IT Support Specialist\",\"Cloud Solutions Architect\",\"Cloud Solutions Architect\",\"Software Engineer\",\"Cloud Solutions Architect\",\"Database Administrator (DBA)\",\"Systems Administrator\",\"Systems Analyst\",\"Systems Analyst\",\"DevOps Engineer\",\"IT Security Analyst\",\"Systems Analyst\",\"Software Engineer\",\"IT Security Analyst\",\"Systems Administrator\",\"Cloud Solutions Architect\",\"IT Security Analyst\",\"Cloud Solutions Architect\",\"Web Developer\",\"IT Security Analyst\",\"IT Security Analyst\",\"IT Manager\",\"Web Developer\",\"Web Developer\",\"IT Support Specialist\",\"Web Developer\",\"IT Security Analyst\",\"Software Engineer\",\"Systems Administrator\",\"Systems Analyst\",\"Software Engineer\",\"IT Support Specialist\",\"Web Developer\",\"Systems Administrator\",\"Database Administrator (DBA)\",\"IT Support Specialist\",\"Systems Administrator\",\"Web Developer\",\"Systems Analyst\",\"IT Manager\",\"Systems Administrator\",\"Network Administrator\",\"Systems Administrator\",\"Software Engineer\",\"Software Engineer\",\"DevOps Engineer\",\"Database Administrator (DBA)\",\"Cloud Solutions Architect\",\"Software Engineer\",\"IT Manager\",\"Web Developer\",\"IT Manager\",\"Systems Analyst\",\"Systems Administrator\",\"Web Developer\",\"DevOps Engineer\",\"IT Manager\",\"Database Administrator (DBA)\",\"IT Support Specialist\",\"Database Administrator (DBA)\",\"Web Developer\",\"DevOps Engineer\",\"IT Support Specialist\",\"Systems Analyst\",\"Database Administrator (DBA)\",\"Web Developer\",\"IT Manager\",\"Software Engineer\",\"Database Administrator (DBA)\",\"Network Administrator\",\"Systems Analyst\",\"Software Engineer\",\"Systems Analyst\",\"IT Manager\",\"Systems Administrator\",\"Database Administrator (DBA)\",\"Systems Analyst\",\"DevOps Engineer\",\"Web Developer\",\"DevOps Engineer\",\"DevOps Engineer\",\"IT Support Specialist\",\"IT Support Specialist\",\"Cloud Solutions Architect\",\"Software Engineer\",\"Systems Administrator\",\"Web Developer\",\"DevOps Engineer\",\"Database Administrator (DBA)\",\"Systems Analyst\",\"DevOps Engineer\",\"Cloud Solutions Architect\",\"Network Administrator\",\"DevOps Engineer\",\"IT Support Specialist\",\"DevOps Engineer\",\"IT Security Analyst\",\"Web Developer\",\"DevOps Engineer\",\"Systems Analyst\",\"Systems Analyst\",\"IT Security Analyst\",\"IT Manager\",\"Network Administrator\",\"Systems Administrator\",\"Systems Analyst\",\"Web Developer\",\"Network Administrator\",\"Systems Administrator\",\"IT Security Analyst\",\"Cloud Solutions Architect\",\"Network Administrator\",\"Cloud Solutions Architect\",\"Web Developer\",\"Network Administrator\",\"IT Security Analyst\"],\"x0\":\" \",\"xaxis\":\"x\",\"y\":[-0.36761709076186533,0.5937573667340736,-0.23602827484591316,-1.2209070634630255,-0.4883070220055694,0.7866530798923423,0.7160830386460577,0.29408885507543203,0.5526508491079464,1.2231353664064075,0.10724881354329087,0.33878879621836466,1.8445328724428083,-1.6480288031242674,1.8730203823719438,-1.64840122758669,0.4808376523842501,0.7160644874751803,0.8907138841521145,0.29136889072713373,-1.0346963713734993,0.31660855439698654,0.534081595473689,-0.3015074776081569,0.2685467768526663,-0.2574266777924602,-1.079935822661515,-0.23083076577605982,0.5637677525004146,0.4146787691066053,1.0966985726416818,0.5881441916853105,-1.560623721243561,0.6721245937688874,1.7609996940087607,-0.3583868456157684,0.9603101371505828,-1.8299664259219461,0.3963953282968101,0.3776856359090244,-1.4158554481530348,-0.16173449088868969,-0.3784358243303446,1.3595001555234052,0.18523856548586495,-1.9529152520927378,-2.4236517959752866,-1.6595959031863683,0.47240676889479355,0.5640607650859855,1.5035689581521798,-0.6104246748615058,-0.9567354251694856,0.6203611451464421,-3.091226556063907,0.8120093684575201,-0.1935404737091964,-2.358429979473999,1.1540466954774542,1.8190354951214065,2.265808803076531,-0.6297505043038858,-0.6635379696872046,-0.24902368470217887,-0.10707084847309642,-0.7794972711480531,-2.1955139790327842,-0.3689035927940118,-1.118265400577752,0.05995458654975942,-0.2786955830354418,0.19599205563739175,-2.701310798891322,0.2582719692220046,-0.9694276703681756,0.7289109994638122,-0.10633507372011929,0.04471090210496683,1.0045272292933254,0.21920511454843059,0.5490405871286651,0.20946158843322837,-1.213114046612104,0.45226846820054095,-0.44122710317275277,0.16694532233149834,0.6115134701624505,-0.39767449926189063,-0.7685165230806503,0.9890276775798736,-1.0644166199187424,0.6352328164781357,-0.19705360579989528,0.2337274908364521,1.0646352833039936,1.7376136877206625,-0.47249297457449574,0.2699068539929098,0.6968945062151198,0.5603862333418774,0.5089335185461611,0.6330583641443894,0.38616327257166255,0.5423577913762611,0.4195448299708022,-1.7843714658750578,-1.3798221948135956,0.7826838465374499,0.5464478893057871,-0.5571941896028395,0.2991152490569932,1.1856156137740614,1.2553055347945268,0.26597602838642126,-0.7403451307495285,-0.8345836654376916,-0.7079556554167591,-0.9102727575336879,1.0557877848347965,-2.0423168148952926,-1.6156839421017681,0.7007384914612051,0.135396300457379,-0.1006023265967335,-1.8224498082486358,0.3701433383179251,1.0075031134102,0.520077463807377,-0.9348252211332713,1.0897451176070332,-0.8640238324767641,0.6765275005270918,-1.673378022920395,-0.22924517486738313,-0.5739016875362275,0.022001730121128354,-0.2922465904119332,0.12537122241842122,1.2466412796410002,0.08469652779076495,-0.457674911961247,1.2023203495226993,0.15980672698683873,0.5012612562248266,-1.5079146057348485,-1.1917357408402702,-0.07897248029089297,-0.8771502627659037,1.4008444156118212,0.27773128443893635,0.021837381291718846,0.5156328840563099,1.1396532788102416,-0.7162383734504684,1.486564015172683,1.295918331467592,0.12664038554768545,-0.47046667566197387,-0.3319270717919878,1.5612531382803807,0.8903991597834795,0.7304067332660028,0.16488831627637718,-1.1438192656217299,-0.9914982847020771,0.052133457739741366,-0.24133765422925235,0.06886437545502178,0.5042129572586006,1.9665312959258576,0.678914361248283,-0.2700503406928258,0.8764124956871,1.3572624344561737,0.9928468845954135,1.5623113027442435,-0.6291062161340752,1.3981816576465693,-0.3391632717302819,-1.243256141239518,0.6996940207513623,0.7821396993710893,0.5328776412086726,-0.3486528844102252,-0.4828683323398659,-0.07031150350408243,-0.4075176857365692,-0.7014962517067247,-0.5781293795938898,-0.542570675689458,-0.5648627188751477,-0.436231067492371,0.7348340852794457,-1.3301119816288114,1.8831504164185764,1.1293359658121687,-1.1077748671354242,0.8995125479404844],\"y0\":\" \",\"yaxis\":\"y\",\"type\":\"violin\"},{\"alignmentgroup\":\"True\",\"box\":{\"visible\":true},\"hovertemplate\":\"Gender=M\\u003cbr\\u003ePosition=%{x}\\u003cbr\\u003eLog_Salary=%{y}\\u003cextra\\u003e\\u003c\\u002fextra\\u003e\",\"legendgroup\":\"M\",\"marker\":{\"color\":\"#EF553B\"},\"name\":\"M\",\"offsetgroup\":\"M\",\"orientation\":\"v\",\"points\":\"all\",\"scalegroup\":\"True\",\"showlegend\":true,\"x\":[\"DevOps Engineer\",\"Web Developer\",\"Systems Administrator\",\"DevOps Engineer\",\"DevOps Engineer\",\"DevOps Engineer\",\"IT Security Analyst\",\"IT Security Analyst\",\"Software Engineer\",\"Database Administrator (DBA)\",\"Network Administrator\",\"IT Security Analyst\",\"DevOps Engineer\",\"IT Support Specialist\",\"IT Security Analyst\",\"Network Administrator\",\"IT Manager\",\"Software Engineer\",\"IT Security Analyst\",\"Database Administrator (DBA)\",\"Systems Administrator\",\"IT Support Specialist\",\"IT Manager\",\"IT Manager\",\"Network Administrator\",\"Systems Administrator\",\"IT Manager\",\"Systems Analyst\",\"Database Administrator (DBA)\",\"IT Manager\",\"IT Support Specialist\",\"DevOps Engineer\",\"IT Manager\",\"Systems Analyst\",\"IT Security Analyst\",\"Network Administrator\",\"Software Engineer\",\"DevOps Engineer\",\"Cloud Solutions Architect\",\"Cloud Solutions Architect\",\"Database Administrator (DBA)\",\"Web Developer\",\"Systems Administrator\",\"IT Security Analyst\",\"IT Security Analyst\",\"Systems Administrator\",\"IT Manager\",\"Cloud Solutions Architect\",\"IT Support Specialist\",\"DevOps Engineer\",\"Cloud Solutions Architect\",\"Database Administrator (DBA)\",\"IT Security Analyst\",\"IT Manager\",\"Software Engineer\",\"Database Administrator (DBA)\",\"Systems Analyst\",\"IT Manager\",\"IT Manager\",\"DevOps Engineer\",\"Network Administrator\",\"Software Engineer\",\"Systems Analyst\",\"IT Support Specialist\",\"Systems Analyst\",\"IT Support Specialist\",\"Web Developer\",\"Web Developer\",\"IT Support Specialist\",\"Database Administrator (DBA)\",\"Systems Administrator\",\"IT Security Analyst\",\"Database Administrator (DBA)\",\"Cloud Solutions Architect\",\"Software Engineer\",\"Systems Analyst\",\"Software Engineer\",\"IT Security Analyst\",\"DevOps Engineer\",\"Database Administrator (DBA)\",\"Software Engineer\",\"Software Engineer\",\"Systems Analyst\",\"IT Security Analyst\",\"IT Support Specialist\",\"IT Manager\",\"Network Administrator\",\"Database Administrator (DBA)\",\"Network Administrator\",\"Cloud Solutions Architect\",\"Network Administrator\",\"IT Security Analyst\",\"Web Developer\",\"IT Security Analyst\",\"Systems Administrator\",\"IT Support Specialist\",\"IT Security Analyst\",\"IT Manager\",\"Web Developer\",\"Database Administrator (DBA)\",\"Web Developer\",\"DevOps Engineer\",\"DevOps Engineer\",\"Web Developer\",\"Database Administrator (DBA)\",\"Systems Administrator\",\"IT Support Specialist\",\"Network Administrator\",\"Web Developer\",\"IT Security Analyst\",\"Database Administrator (DBA)\",\"Software Engineer\",\"Systems Administrator\",\"Systems Administrator\",\"Web Developer\",\"DevOps Engineer\",\"Systems Administrator\",\"Web Developer\",\"IT Manager\",\"DevOps Engineer\",\"IT Support Specialist\",\"Software Engineer\",\"Systems Administrator\",\"Systems Administrator\",\"Web Developer\",\"DevOps Engineer\",\"Systems Administrator\",\"Software Engineer\",\"Database Administrator (DBA)\",\"Systems Analyst\",\"IT Security Analyst\",\"Cloud Solutions Architect\",\"DevOps Engineer\",\"Network Administrator\",\"IT Manager\",\"DevOps Engineer\",\"Systems Analyst\",\"Systems Analyst\",\"Software Engineer\",\"Database Administrator (DBA)\",\"Systems Administrator\",\"Network Administrator\",\"Database Administrator (DBA)\",\"Web Developer\",\"Network Administrator\",\"Systems Analyst\",\"Software Engineer\",\"DevOps Engineer\",\"IT Support Specialist\",\"IT Security Analyst\",\"Database Administrator (DBA)\",\"Database Administrator (DBA)\",\"Web Developer\",\"IT Security Analyst\",\"IT Manager\",\"Systems Analyst\",\"Web Developer\",\"DevOps Engineer\",\"IT Security Analyst\",\"Software Engineer\",\"IT Manager\",\"Web Developer\",\"Cloud Solutions Architect\",\"Web Developer\",\"Cloud Solutions Architect\",\"IT Security Analyst\",\"IT Manager\",\"Systems Analyst\",\"Network Administrator\",\"Database Administrator (DBA)\",\"DevOps Engineer\",\"Systems Analyst\",\"Web Developer\",\"Systems Administrator\",\"Cloud Solutions Architect\",\"Web Developer\",\"Systems Analyst\",\"Software Engineer\",\"Systems Administrator\",\"Web Developer\",\"Cloud Solutions Architect\",\"Database Administrator (DBA)\",\"IT Security Analyst\",\"IT Manager\",\"Software Engineer\",\"Network Administrator\",\"Systems Administrator\",\"Network Administrator\",\"Systems Administrator\",\"Network Administrator\",\"Systems Administrator\",\"Network Administrator\",\"Cloud Solutions Architect\",\"Database Administrator (DBA)\",\"Cloud Solutions Architect\",\"IT Manager\",\"IT Manager\",\"Web Developer\",\"IT Support Specialist\",\"Software Engineer\",\"IT Support Specialist\",\"Database Administrator (DBA)\"],\"x0\":\" \",\"xaxis\":\"x\",\"y\":[-0.10839570613433153,1.1055543153598433,-1.397859768138992,-0.3272185148265362,-0.5339673605226344,0.32405585037704226,-0.21814439041905484,-0.3361659125878417,-1.1496834063385146,0.7078906213593535,-0.1860731975978039,0.4704717097194461,0.241016421023216,-0.10805216732267603,-0.7303271821122551,-0.6154045667229182,-1.0288887302446486,0.9382857780564865,0.5281162188104614,-0.05684907303840489,-1.8881948600320015,0.12802224512888383,1.11221113788083,1.3379175229135989,0.2863721826585316,1.2540693425600482,-0.33367485489450716,-1.4663457128408492,-0.4989624367593149,2.1747263205898304,-2.7675336892433395,0.9796784873360941,1.1847454481498294,0.03722289080413461,-1.3384818005925037,-1.088547416244925,0.21707440917748722,0.17587217225309876,1.0344014872504157,-0.3647245129804658,0.6631290142543962,-2.275206363477812,0.34681121600090287,-0.7360605670126725,0.09387563855777632,-0.5669549973279374,0.6946529782161456,0.15186460528010448,-2.0469086297056958,-0.03661436573804461,0.7630492294104916,-1.08461440047752,0.2379851938357892,1.4759037994366464,-0.40539984584882255,-0.02893661738233339,0.492908693241368,0.781069250081386,2.278674887205842,1.5980921778262551,0.4644770615543843,1.608416118459329,-1.0013164547225222,-0.9454991378935209,0.6439906599355878,-0.5549946033687431,-2.2613661034802397,0.5385575683759838,-0.9395391062873077,0.2473522930802477,-2.0931283828147187,-1.197412006045779,-1.810664086883904,1.6409623801731994,1.095263522098292,1.068012111454657,0.09119370571731168,1.5037251648403251,1.1039284165274335,1.2880451628756808,0.4578830086083096,0.5344367667030632,0.3778520987032574,-0.4196839786621601,-1.7129573116079366,1.9862114492806235,-1.7882743987388892,0.22107096189397193,0.3487871464806839,-0.3776828652964721,1.1112865766313744,-1.392049927855349,-0.17423001725002354,-0.10800309361860115,-0.4062142195453754,-0.044120079097271114,-0.23607952746034627,0.6175811163719913,-0.20125463957166234,0.17413355757905088,-0.9472275206700309,0.09435675287078478,1.339944807975679,-0.12730288507085644,-0.8564859192423631,0.07419734736291551,-0.34737519061367517,-1.1198906305334346,-0.2460394329528202,1.1391872841897537,-0.8053103478084103,-0.6470818943961087,0.10610817594420408,0.16690062007244272,0.593892725103526,1.652271882755463,-1.641044224765747,-0.7993477030067789,1.4611017138500644,0.5591929798983243,-1.690749286893959,0.5476463134626944,-1.573384777189904,-0.3939410697473991,-0.8109735981179884,1.037796484840136,-0.6830076728060821,0.994771510828342,-0.1888712092830549,-0.844080911638918,0.5098289741071208,2.086978289412227,1.3478753498159868,-0.33964100878167564,0.9519653962011695,0.6885735975074911,0.19145155271722802,-1.3075024726143498,0.7725098284727508,0.17725341669573952,-0.19591580236272746,0.224229233388989,0.8475643265136501,-0.6451675002432423,-0.8986342813665069,-1.3264738790599793,0.20379422282701629,1.0886009599783482,-0.7279945527733495,-1.6741711010816287,-0.41995673046038,0.3225933374542003,-0.24203088772197975,0.01638519920994578,0.8161007188290834,1.0608420351590055,-1.929331655275962,-0.01029212976314771,0.6041232735374431,1.1132326840087967,0.5627517499178857,-0.14807271651926304,1.9663977918935502,0.08375405144952583,-0.8843580772440496,-0.24274996881551797,-0.5394728604765154,1.2274741790458152,-0.3307095326374285,1.5999894423102279,1.4735949721613462,0.5304880131533918,-1.0287545848056128,-0.6777039284955547,0.39273326964831223,-1.2473345991038132,-0.3010882778809925,-0.43069591599067514,-0.2163365011031876,-0.8358712325230935,1.7996414161007723,0.8037195513914728,0.6270416539545766,0.9999651014411606,-1.4563643207230277,-0.8106932913481844,-1.363471841593969,-0.1406451927339677,0.7323076199658703,-2.0754238867496126,0.1077277497143897,-0.18602280732922657,0.8663812223476125,-0.4825896955561618,-0.5290664772675849,0.7361609949027036,1.258455479878166,-0.9082761625542225,-1.8689545795311362,-0.9248372277734712,-2.412957889487348,0.1252352082302301],\"y0\":\" \",\"yaxis\":\"y\",\"type\":\"violin\"}],                        {\"template\":{\"data\":{\"histogram2dcontour\":[{\"type\":\"histogram2dcontour\",\"colorbar\":{\"outlinewidth\":0,\"ticks\":\"\"},\"colorscale\":[[0.0,\"#0d0887\"],[0.1111111111111111,\"#46039f\"],[0.2222222222222222,\"#7201a8\"],[0.3333333333333333,\"#9c179e\"],[0.4444444444444444,\"#bd3786\"],[0.5555555555555556,\"#d8576b\"],[0.6666666666666666,\"#ed7953\"],[0.7777777777777778,\"#fb9f3a\"],[0.8888888888888888,\"#fdca26\"],[1.0,\"#f0f921\"]]}],\"choropleth\":[{\"type\":\"choropleth\",\"colorbar\":{\"outlinewidth\":0,\"ticks\":\"\"}}],\"histogram2d\":[{\"type\":\"histogram2d\",\"colorbar\":{\"outlinewidth\":0,\"ticks\":\"\"},\"colorscale\":[[0.0,\"#0d0887\"],[0.1111111111111111,\"#46039f\"],[0.2222222222222222,\"#7201a8\"],[0.3333333333333333,\"#9c179e\"],[0.4444444444444444,\"#bd3786\"],[0.5555555555555556,\"#d8576b\"],[0.6666666666666666,\"#ed7953\"],[0.7777777777777778,\"#fb9f3a\"],[0.8888888888888888,\"#fdca26\"],[1.0,\"#f0f921\"]]}],\"heatmap\":[{\"type\":\"heatmap\",\"colorbar\":{\"outlinewidth\":0,\"ticks\":\"\"},\"colorscale\":[[0.0,\"#0d0887\"],[0.1111111111111111,\"#46039f\"],[0.2222222222222222,\"#7201a8\"],[0.3333333333333333,\"#9c179e\"],[0.4444444444444444,\"#bd3786\"],[0.5555555555555556,\"#d8576b\"],[0.6666666666666666,\"#ed7953\"],[0.7777777777777778,\"#fb9f3a\"],[0.8888888888888888,\"#fdca26\"],[1.0,\"#f0f921\"]]}],\"heatmapgl\":[{\"type\":\"heatmapgl\",\"colorbar\":{\"outlinewidth\":0,\"ticks\":\"\"},\"colorscale\":[[0.0,\"#0d0887\"],[0.1111111111111111,\"#46039f\"],[0.2222222222222222,\"#7201a8\"],[0.3333333333333333,\"#9c179e\"],[0.4444444444444444,\"#bd3786\"],[0.5555555555555556,\"#d8576b\"],[0.6666666666666666,\"#ed7953\"],[0.7777777777777778,\"#fb9f3a\"],[0.8888888888888888,\"#fdca26\"],[1.0,\"#f0f921\"]]}],\"contourcarpet\":[{\"type\":\"contourcarpet\",\"colorbar\":{\"outlinewidth\":0,\"ticks\":\"\"}}],\"contour\":[{\"type\":\"contour\",\"colorbar\":{\"outlinewidth\":0,\"ticks\":\"\"},\"colorscale\":[[0.0,\"#0d0887\"],[0.1111111111111111,\"#46039f\"],[0.2222222222222222,\"#7201a8\"],[0.3333333333333333,\"#9c179e\"],[0.4444444444444444,\"#bd3786\"],[0.5555555555555556,\"#d8576b\"],[0.6666666666666666,\"#ed7953\"],[0.7777777777777778,\"#fb9f3a\"],[0.8888888888888888,\"#fdca26\"],[1.0,\"#f0f921\"]]}],\"surface\":[{\"type\":\"surface\",\"colorbar\":{\"outlinewidth\":0,\"ticks\":\"\"},\"colorscale\":[[0.0,\"#0d0887\"],[0.1111111111111111,\"#46039f\"],[0.2222222222222222,\"#7201a8\"],[0.3333333333333333,\"#9c179e\"],[0.4444444444444444,\"#bd3786\"],[0.5555555555555556,\"#d8576b\"],[0.6666666666666666,\"#ed7953\"],[0.7777777777777778,\"#fb9f3a\"],[0.8888888888888888,\"#fdca26\"],[1.0,\"#f0f921\"]]}],\"mesh3d\":[{\"type\":\"mesh3d\",\"colorbar\":{\"outlinewidth\":0,\"ticks\":\"\"}}],\"scatter\":[{\"fillpattern\":{\"fillmode\":\"overlay\",\"size\":10,\"solidity\":0.2},\"type\":\"scatter\"}],\"parcoords\":[{\"type\":\"parcoords\",\"line\":{\"colorbar\":{\"outlinewidth\":0,\"ticks\":\"\"}}}],\"scatterpolargl\":[{\"type\":\"scatterpolargl\",\"marker\":{\"colorbar\":{\"outlinewidth\":0,\"ticks\":\"\"}}}],\"bar\":[{\"error_x\":{\"color\":\"#2a3f5f\"},\"error_y\":{\"color\":\"#2a3f5f\"},\"marker\":{\"line\":{\"color\":\"#E5ECF6\",\"width\":0.5},\"pattern\":{\"fillmode\":\"overlay\",\"size\":10,\"solidity\":0.2}},\"type\":\"bar\"}],\"scattergeo\":[{\"type\":\"scattergeo\",\"marker\":{\"colorbar\":{\"outlinewidth\":0,\"ticks\":\"\"}}}],\"scatterpolar\":[{\"type\":\"scatterpolar\",\"marker\":{\"colorbar\":{\"outlinewidth\":0,\"ticks\":\"\"}}}],\"histogram\":[{\"marker\":{\"pattern\":{\"fillmode\":\"overlay\",\"size\":10,\"solidity\":0.2}},\"type\":\"histogram\"}],\"scattergl\":[{\"type\":\"scattergl\",\"marker\":{\"colorbar\":{\"outlinewidth\":0,\"ticks\":\"\"}}}],\"scatter3d\":[{\"type\":\"scatter3d\",\"line\":{\"colorbar\":{\"outlinewidth\":0,\"ticks\":\"\"}},\"marker\":{\"colorbar\":{\"outlinewidth\":0,\"ticks\":\"\"}}}],\"scattermapbox\":[{\"type\":\"scattermapbox\",\"marker\":{\"colorbar\":{\"outlinewidth\":0,\"ticks\":\"\"}}}],\"scatterternary\":[{\"type\":\"scatterternary\",\"marker\":{\"colorbar\":{\"outlinewidth\":0,\"ticks\":\"\"}}}],\"scattercarpet\":[{\"type\":\"scattercarpet\",\"marker\":{\"colorbar\":{\"outlinewidth\":0,\"ticks\":\"\"}}}],\"carpet\":[{\"aaxis\":{\"endlinecolor\":\"#2a3f5f\",\"gridcolor\":\"white\",\"linecolor\":\"white\",\"minorgridcolor\":\"white\",\"startlinecolor\":\"#2a3f5f\"},\"baxis\":{\"endlinecolor\":\"#2a3f5f\",\"gridcolor\":\"white\",\"linecolor\":\"white\",\"minorgridcolor\":\"white\",\"startlinecolor\":\"#2a3f5f\"},\"type\":\"carpet\"}],\"table\":[{\"cells\":{\"fill\":{\"color\":\"#EBF0F8\"},\"line\":{\"color\":\"white\"}},\"header\":{\"fill\":{\"color\":\"#C8D4E3\"},\"line\":{\"color\":\"white\"}},\"type\":\"table\"}],\"barpolar\":[{\"marker\":{\"line\":{\"color\":\"#E5ECF6\",\"width\":0.5},\"pattern\":{\"fillmode\":\"overlay\",\"size\":10,\"solidity\":0.2}},\"type\":\"barpolar\"}],\"pie\":[{\"automargin\":true,\"type\":\"pie\"}]},\"layout\":{\"autotypenumbers\":\"strict\",\"colorway\":[\"#636efa\",\"#EF553B\",\"#00cc96\",\"#ab63fa\",\"#FFA15A\",\"#19d3f3\",\"#FF6692\",\"#B6E880\",\"#FF97FF\",\"#FECB52\"],\"font\":{\"color\":\"#2a3f5f\"},\"hovermode\":\"closest\",\"hoverlabel\":{\"align\":\"left\"},\"paper_bgcolor\":\"white\",\"plot_bgcolor\":\"#E5ECF6\",\"polar\":{\"bgcolor\":\"#E5ECF6\",\"angularaxis\":{\"gridcolor\":\"white\",\"linecolor\":\"white\",\"ticks\":\"\"},\"radialaxis\":{\"gridcolor\":\"white\",\"linecolor\":\"white\",\"ticks\":\"\"}},\"ternary\":{\"bgcolor\":\"#E5ECF6\",\"aaxis\":{\"gridcolor\":\"white\",\"linecolor\":\"white\",\"ticks\":\"\"},\"baxis\":{\"gridcolor\":\"white\",\"linecolor\":\"white\",\"ticks\":\"\"},\"caxis\":{\"gridcolor\":\"white\",\"linecolor\":\"white\",\"ticks\":\"\"}},\"coloraxis\":{\"colorbar\":{\"outlinewidth\":0,\"ticks\":\"\"}},\"colorscale\":{\"sequential\":[[0.0,\"#0d0887\"],[0.1111111111111111,\"#46039f\"],[0.2222222222222222,\"#7201a8\"],[0.3333333333333333,\"#9c179e\"],[0.4444444444444444,\"#bd3786\"],[0.5555555555555556,\"#d8576b\"],[0.6666666666666666,\"#ed7953\"],[0.7777777777777778,\"#fb9f3a\"],[0.8888888888888888,\"#fdca26\"],[1.0,\"#f0f921\"]],\"sequentialminus\":[[0.0,\"#0d0887\"],[0.1111111111111111,\"#46039f\"],[0.2222222222222222,\"#7201a8\"],[0.3333333333333333,\"#9c179e\"],[0.4444444444444444,\"#bd3786\"],[0.5555555555555556,\"#d8576b\"],[0.6666666666666666,\"#ed7953\"],[0.7777777777777778,\"#fb9f3a\"],[0.8888888888888888,\"#fdca26\"],[1.0,\"#f0f921\"]],\"diverging\":[[0,\"#8e0152\"],[0.1,\"#c51b7d\"],[0.2,\"#de77ae\"],[0.3,\"#f1b6da\"],[0.4,\"#fde0ef\"],[0.5,\"#f7f7f7\"],[0.6,\"#e6f5d0\"],[0.7,\"#b8e186\"],[0.8,\"#7fbc41\"],[0.9,\"#4d9221\"],[1,\"#276419\"]]},\"xaxis\":{\"gridcolor\":\"white\",\"linecolor\":\"white\",\"ticks\":\"\",\"title\":{\"standoff\":15},\"zerolinecolor\":\"white\",\"automargin\":true,\"zerolinewidth\":2},\"yaxis\":{\"gridcolor\":\"white\",\"linecolor\":\"white\",\"ticks\":\"\",\"title\":{\"standoff\":15},\"zerolinecolor\":\"white\",\"automargin\":true,\"zerolinewidth\":2},\"scene\":{\"xaxis\":{\"backgroundcolor\":\"#E5ECF6\",\"gridcolor\":\"white\",\"linecolor\":\"white\",\"showbackground\":true,\"ticks\":\"\",\"zerolinecolor\":\"white\",\"gridwidth\":2},\"yaxis\":{\"backgroundcolor\":\"#E5ECF6\",\"gridcolor\":\"white\",\"linecolor\":\"white\",\"showbackground\":true,\"ticks\":\"\",\"zerolinecolor\":\"white\",\"gridwidth\":2},\"zaxis\":{\"backgroundcolor\":\"#E5ECF6\",\"gridcolor\":\"white\",\"linecolor\":\"white\",\"showbackground\":true,\"ticks\":\"\",\"zerolinecolor\":\"white\",\"gridwidth\":2}},\"shapedefaults\":{\"line\":{\"color\":\"#2a3f5f\"}},\"annotationdefaults\":{\"arrowcolor\":\"#2a3f5f\",\"arrowhead\":0,\"arrowwidth\":1},\"geo\":{\"bgcolor\":\"white\",\"landcolor\":\"#E5ECF6\",\"subunitcolor\":\"white\",\"showland\":true,\"showlakes\":true,\"lakecolor\":\"white\"},\"title\":{\"x\":0.05},\"mapbox\":{\"style\":\"light\"}}},\"xaxis\":{\"anchor\":\"y\",\"domain\":[0.0,1.0],\"title\":{\"text\":\"Position\"}},\"yaxis\":{\"anchor\":\"x\",\"domain\":[0.0,1.0],\"title\":{\"text\":\"Log_Salary\"}},\"legend\":{\"title\":{\"text\":\"Gender\"},\"tracegroupgap\":0},\"title\":{\"text\":\"Salary Distribution by Position and Gender (Violin Plot)\"},\"violinmode\":\"group\",\"height\":600,\"width\":800},                        {\"responsive\": true}                    ).then(function(){\n",
       "                            \n",
       "var gd = document.getElementById('8a0e4447-8c7e-42d0-aeac-deb8c3bd1a16');\n",
       "var x = new MutationObserver(function (mutations, observer) {{\n",
       "        var display = window.getComputedStyle(gd).display;\n",
       "        if (!display || display === 'none') {{\n",
       "            console.log([gd, 'removed!']);\n",
       "            Plotly.purge(gd);\n",
       "            observer.disconnect();\n",
       "        }}\n",
       "}});\n",
       "\n",
       "// Listen for the removal of the full notebook cells\n",
       "var notebookContainer = gd.closest('#notebook-container');\n",
       "if (notebookContainer) {{\n",
       "    x.observe(notebookContainer, {childList: true});\n",
       "}}\n",
       "\n",
       "// Listen for the clearing of the current output cell\n",
       "var outputEl = gd.closest('.output');\n",
       "if (outputEl) {{\n",
       "    x.observe(outputEl, {childList: true});\n",
       "}}\n",
       "\n",
       "                        })                };                });            </script>        </div>"
      ]
     },
     "metadata": {},
     "output_type": "display_data"
    }
   ],
   "source": [
    "fig = px.violin(df, x='Position', y='Log_Salary', color='Gender', \n",
    "                box=True, points='all', \n",
    "                title='Salary Distribution by Position and Gender (Violin Plot)')\n",
    "fig.update_layout(height=600, width=800)\n",
    "fig.show()"
   ]
  },
  {
   "cell_type": "markdown",
   "metadata": {},
   "source": [
    "#### To show pairwise relationships between numerical features."
   ]
  },
  {
   "cell_type": "code",
   "execution_count": 29,
   "metadata": {},
   "outputs": [
    {
     "data": {
      "application/vnd.plotly.v1+json": {
       "config": {
        "plotlyServerURL": "https://plot.ly"
       },
       "data": [
        {
         "dimensions": [
          {
           "axis": {
            "matches": true
           },
           "label": "Experience (Years)",
           "values": [
            -0.9304325872265634,
            0.5464445353552834,
            0.5464445353552834,
            0.21824961922598404,
            -0.6022376710972642,
            -0.6022376710972642,
            1.5310292837431811,
            1.0387369095492323,
            -0.4381402130326145,
            1.0387369095492323,
            -0.7663351291619138,
            1.6951267418078309,
            1.5310292837431811,
            -1.5868224194851621,
            0.5464445353552834,
            -1.094530045291213,
            0.054152161161334395,
            -0.7663351291619138,
            1.6951267418078309,
            -0.4381402130326145,
            -1.2586275033558627,
            -0.9304325872265634,
            1.5310292837431811,
            -1.4227249614205124,
            0.054152161161334395,
            -1.4227249614205124,
            -1.4227249614205124,
            0.5464445353552834,
            0.38234707729063366,
            0.38234707729063366,
            0.054152161161334395,
            1.0387369095492323,
            -0.10994529690331525,
            -0.6022376710972642,
            1.5310292837431811,
            -0.7663351291619138,
            1.5310292837431811,
            -1.4227249614205124,
            1.5310292837431811,
            -1.2586275033558627,
            -0.4381402130326145,
            0.38234707729063366,
            -1.5868224194851621,
            0.054152161161334395,
            1.6951267418078309,
            -0.7663351291619138,
            -1.5868224194851621,
            -1.4227249614205124,
            0.5464445353552834,
            -0.2740427549679649,
            0.38234707729063366,
            0.054152161161334395,
            -1.094530045291213,
            1.0387369095492323,
            -1.4227249614205124,
            1.3669318256785314,
            -0.9304325872265634,
            -1.2586275033558627,
            0.5464445353552834,
            1.202834367613882,
            1.3669318256785314,
            0.38234707729063366,
            0.054152161161334395,
            1.3669318256785314,
            0.21824961922598404,
            0.710541993419933,
            -1.4227249614205124,
            -1.094530045291213,
            -1.2586275033558627,
            -1.094530045291213,
            -0.10994529690331525,
            -1.4227249614205124,
            -1.4227249614205124,
            0.8746394514845827,
            -1.2586275033558627,
            -0.2740427549679649,
            -0.4381402130326145,
            0.5464445353552834,
            1.202834367613882,
            0.21824961922598404,
            0.21824961922598404,
            -0.10994529690331525,
            0.710541993419933,
            -0.7663351291619138,
            -0.6022376710972642,
            1.202834367613882,
            0.38234707729063366,
            -0.9304325872265634,
            0.710541993419933,
            0.38234707729063366,
            -1.4227249614205124,
            1.3669318256785314,
            0.8746394514845827,
            1.5310292837431811,
            0.38234707729063366,
            1.3669318256785314,
            1.0387369095492323,
            -1.2586275033558627,
            -0.4381402130326145,
            0.21824961922598404,
            0.710541993419933,
            1.5310292837431811,
            -0.10994529690331525,
            -1.5868224194851621,
            0.054152161161334395,
            -0.9304325872265634,
            -0.6022376710972642,
            0.710541993419933,
            0.21824961922598404,
            -1.5868224194851621,
            -0.10994529690331525,
            0.710541993419933,
            1.3669318256785314,
            1.5310292837431811,
            -0.9304325872265634,
            -0.7663351291619138,
            0.21824961922598404,
            0.710541993419933,
            1.5310292837431811,
            -1.5868224194851621,
            -1.2586275033558627,
            -1.094530045291213,
            1.5310292837431811,
            -0.4381402130326145,
            -1.2586275033558627,
            -0.9304325872265634,
            1.202834367613882,
            -1.094530045291213,
            -1.5868224194851621,
            1.0387369095492323,
            -0.6022376710972642,
            -1.094530045291213,
            -0.7663351291619138,
            -0.4381402130326145,
            -1.5868224194851621,
            0.710541993419933,
            0.38234707729063366,
            0.054152161161334395,
            1.6951267418078309,
            0.054152161161334395,
            -0.4381402130326145,
            0.8746394514845827,
            -0.2740427549679649,
            -0.4381402130326145,
            -0.9304325872265634,
            -1.094530045291213,
            1.5310292837431811,
            -0.2740427549679649,
            0.054152161161334395,
            -0.6022376710972642,
            -0.4381402130326145,
            1.3669318256785314,
            1.0387369095492323,
            -1.4227249614205124,
            1.6951267418078309,
            0.054152161161334395,
            1.3669318256785314,
            0.8746394514845827,
            0.21824961922598404,
            0.8746394514845827,
            0.710541993419933,
            -0.10994529690331525,
            -1.094530045291213,
            -0.6022376710972642,
            1.0387369095492323,
            -0.10994529690331525,
            -0.6022376710972642,
            1.202834367613882,
            0.38234707729063366,
            1.5310292837431811,
            0.38234707729063366,
            1.202834367613882,
            -0.10994529690331525,
            0.054152161161334395,
            1.6951267418078309,
            1.3669318256785314,
            0.5464445353552834,
            0.38234707729063366,
            -1.2586275033558627,
            0.054152161161334395,
            1.0387369095492323,
            0.5464445353552834,
            1.0387369095492323,
            -1.4227249614205124,
            -1.5868224194851621,
            0.710541993419933,
            0.710541993419933,
            -1.094530045291213,
            -1.094530045291213,
            -1.4227249614205124,
            -0.9304325872265634,
            -0.10994529690331525,
            -1.094530045291213,
            -1.4227249614205124,
            1.5310292837431811,
            1.6951267418078309,
            -0.10994529690331525,
            0.21824961922598404
           ]
          },
          {
           "axis": {
            "matches": true
           },
           "label": "Log_Salary",
           "values": [
            -0.36761709076186533,
            0.5937573667340736,
            -0.23602827484591316,
            -1.2209070634630255,
            -0.4883070220055694,
            0.7866530798923423,
            0.7160830386460577,
            0.29408885507543203,
            0.5526508491079464,
            1.2231353664064075,
            0.10724881354329087,
            0.33878879621836466,
            1.8445328724428083,
            -1.6480288031242674,
            1.8730203823719438,
            -1.64840122758669,
            0.4808376523842501,
            0.7160644874751803,
            0.8907138841521145,
            0.29136889072713373,
            -1.0346963713734993,
            0.31660855439698654,
            0.534081595473689,
            -0.3015074776081569,
            0.2685467768526663,
            -0.2574266777924602,
            -1.079935822661515,
            -0.23083076577605982,
            0.5637677525004146,
            0.4146787691066053,
            1.0966985726416818,
            0.5881441916853105,
            -1.560623721243561,
            0.6721245937688874,
            1.7609996940087607,
            -0.3583868456157684,
            0.9603101371505828,
            -1.8299664259219461,
            0.3963953282968101,
            0.3776856359090244,
            -1.4158554481530348,
            -0.16173449088868969,
            -0.3784358243303446,
            1.3595001555234052,
            0.18523856548586495,
            -1.9529152520927378,
            -2.4236517959752866,
            -1.6595959031863683,
            0.47240676889479355,
            0.5640607650859855,
            1.5035689581521798,
            -0.6104246748615058,
            -0.9567354251694856,
            0.6203611451464421,
            -3.091226556063907,
            0.8120093684575201,
            -0.1935404737091964,
            -2.358429979473999,
            1.1540466954774542,
            1.8190354951214065,
            2.265808803076531,
            -0.6297505043038858,
            -0.6635379696872046,
            -0.24902368470217887,
            -0.10707084847309642,
            -0.7794972711480531,
            -2.1955139790327842,
            -0.3689035927940118,
            -1.118265400577752,
            0.05995458654975942,
            -0.2786955830354418,
            0.19599205563739175,
            -2.701310798891322,
            0.2582719692220046,
            -0.9694276703681756,
            0.7289109994638122,
            -0.10633507372011929,
            0.04471090210496683,
            1.0045272292933254,
            0.21920511454843059,
            0.5490405871286651,
            0.20946158843322837,
            -1.213114046612104,
            0.45226846820054095,
            -0.44122710317275277,
            0.16694532233149834,
            0.6115134701624505,
            -0.39767449926189063,
            -0.7685165230806503,
            0.9890276775798736,
            -1.0644166199187424,
            0.6352328164781357,
            -0.19705360579989528,
            0.2337274908364521,
            1.0646352833039936,
            1.7376136877206625,
            -0.47249297457449574,
            0.2699068539929098,
            0.6968945062151198,
            0.5603862333418774,
            0.5089335185461611,
            0.6330583641443894,
            0.38616327257166255,
            0.5423577913762611,
            0.4195448299708022,
            -1.7843714658750578,
            -1.3798221948135956,
            0.7826838465374499,
            0.5464478893057871,
            -0.5571941896028395,
            0.2991152490569932,
            1.1856156137740614,
            1.2553055347945268,
            0.26597602838642126,
            -0.7403451307495285,
            -0.8345836654376916,
            -0.7079556554167591,
            -0.9102727575336879,
            1.0557877848347965,
            -2.0423168148952926,
            -1.6156839421017681,
            0.7007384914612051,
            0.135396300457379,
            -0.1006023265967335,
            -1.8224498082486358,
            0.3701433383179251,
            1.0075031134102,
            0.520077463807377,
            -0.9348252211332713,
            1.0897451176070332,
            -0.8640238324767641,
            0.6765275005270918,
            -1.673378022920395,
            -0.22924517486738313,
            -0.5739016875362275,
            0.022001730121128354,
            -0.2922465904119332,
            0.12537122241842122,
            1.2466412796410002,
            0.08469652779076495,
            -0.457674911961247,
            1.2023203495226993,
            0.15980672698683873,
            0.5012612562248266,
            -1.5079146057348485,
            -1.1917357408402702,
            -0.07897248029089297,
            -0.8771502627659037,
            1.4008444156118212,
            0.27773128443893635,
            0.021837381291718846,
            0.5156328840563099,
            1.1396532788102416,
            -0.7162383734504684,
            1.486564015172683,
            1.295918331467592,
            0.12664038554768545,
            -0.47046667566197387,
            -0.3319270717919878,
            1.5612531382803807,
            0.8903991597834795,
            0.7304067332660028,
            0.16488831627637718,
            -1.1438192656217299,
            -0.9914982847020771,
            0.052133457739741366,
            -0.24133765422925235,
            0.06886437545502178,
            0.5042129572586006,
            1.9665312959258576,
            0.678914361248283,
            -0.2700503406928258,
            0.8764124956871,
            1.3572624344561737,
            0.9928468845954135,
            1.5623113027442435,
            -0.6291062161340752,
            1.3981816576465693,
            -0.3391632717302819,
            -1.243256141239518,
            0.6996940207513623,
            0.7821396993710893,
            0.5328776412086726,
            -0.3486528844102252,
            -0.4828683323398659,
            -0.07031150350408243,
            -0.4075176857365692,
            -0.7014962517067247,
            -0.5781293795938898,
            -0.542570675689458,
            -0.5648627188751477,
            -0.436231067492371,
            0.7348340852794457,
            -1.3301119816288114,
            1.8831504164185764,
            1.1293359658121687,
            -1.1077748671354242,
            0.8995125479404844
           ]
          },
          {
           "axis": {
            "matches": true
           },
           "label": "ID",
           "values": [
            1,
            5,
            6,
            7,
            9,
            10,
            11,
            13,
            15,
            18,
            19,
            21,
            22,
            23,
            24,
            25,
            26,
            27,
            30,
            38,
            39,
            40,
            43,
            45,
            46,
            47,
            48,
            51,
            52,
            55,
            57,
            58,
            63,
            64,
            71,
            72,
            73,
            74,
            75,
            76,
            80,
            81,
            82,
            83,
            84,
            85,
            87,
            88,
            90,
            95,
            97,
            98,
            103,
            105,
            112,
            114,
            115,
            118,
            119,
            120,
            121,
            123,
            125,
            126,
            129,
            130,
            135,
            136,
            137,
            139,
            144,
            146,
            148,
            159,
            160,
            161,
            166,
            167,
            169,
            170,
            172,
            173,
            174,
            175,
            176,
            181,
            183,
            184,
            185,
            186,
            188,
            191,
            193,
            195,
            196,
            197,
            198,
            199,
            201,
            203,
            204,
            205,
            207,
            208,
            209,
            211,
            212,
            218,
            219,
            222,
            226,
            228,
            229,
            233,
            234,
            237,
            239,
            240,
            242,
            243,
            246,
            248,
            250,
            251,
            252,
            254,
            258,
            259,
            261,
            263,
            264,
            267,
            270,
            271,
            279,
            280,
            283,
            284,
            287,
            288,
            289,
            292,
            293,
            295,
            296,
            297,
            302,
            303,
            304,
            306,
            309,
            312,
            313,
            314,
            317,
            320,
            322,
            323,
            325,
            327,
            328,
            329,
            336,
            337,
            338,
            341,
            344,
            345,
            347,
            348,
            353,
            355,
            356,
            357,
            361,
            362,
            363,
            364,
            365,
            367,
            369,
            373,
            380,
            381,
            382,
            384,
            385,
            386,
            387,
            388,
            389,
            390,
            392,
            393,
            396,
            397,
            398,
            400
           ]
          },
          {
           "axis": {
            "matches": true
           },
           "label": "Experience_Years",
           "values": [
            4,
            13,
            13,
            11,
            6,
            6,
            19,
            16,
            7,
            16,
            5,
            20,
            19,
            0,
            13,
            3,
            10,
            5,
            20,
            7,
            2,
            4,
            19,
            1,
            10,
            1,
            1,
            13,
            12,
            12,
            10,
            16,
            9,
            6,
            19,
            5,
            19,
            1,
            19,
            2,
            7,
            12,
            0,
            10,
            20,
            5,
            0,
            1,
            13,
            8,
            12,
            10,
            3,
            16,
            1,
            18,
            4,
            2,
            13,
            17,
            18,
            12,
            10,
            18,
            11,
            14,
            1,
            3,
            2,
            3,
            9,
            1,
            1,
            15,
            2,
            8,
            7,
            13,
            17,
            11,
            11,
            9,
            14,
            5,
            6,
            17,
            12,
            4,
            14,
            12,
            1,
            18,
            15,
            19,
            12,
            18,
            16,
            2,
            7,
            11,
            14,
            19,
            9,
            0,
            10,
            4,
            6,
            14,
            11,
            0,
            9,
            14,
            18,
            19,
            4,
            5,
            11,
            14,
            19,
            0,
            2,
            3,
            19,
            7,
            2,
            4,
            17,
            3,
            0,
            16,
            6,
            3,
            5,
            7,
            0,
            14,
            12,
            10,
            20,
            10,
            7,
            15,
            8,
            7,
            4,
            3,
            19,
            8,
            10,
            6,
            7,
            18,
            16,
            1,
            20,
            10,
            18,
            15,
            11,
            15,
            14,
            9,
            3,
            6,
            16,
            9,
            6,
            17,
            12,
            19,
            12,
            17,
            9,
            10,
            20,
            18,
            13,
            12,
            2,
            10,
            16,
            13,
            16,
            1,
            0,
            14,
            14,
            3,
            3,
            1,
            4,
            9,
            3,
            1,
            19,
            20,
            9,
            11
           ]
          },
          {
           "axis": {
            "matches": true
           },
           "label": "Experience_Years^2",
           "values": [
            16,
            169,
            169,
            121,
            36,
            36,
            361,
            256,
            49,
            256,
            25,
            400,
            361,
            0,
            169,
            9,
            100,
            25,
            400,
            49,
            4,
            16,
            361,
            1,
            100,
            1,
            1,
            169,
            144,
            144,
            100,
            256,
            81,
            36,
            361,
            25,
            361,
            1,
            361,
            4,
            49,
            144,
            0,
            100,
            400,
            25,
            0,
            1,
            169,
            64,
            144,
            100,
            9,
            256,
            1,
            324,
            16,
            4,
            169,
            289,
            324,
            144,
            100,
            324,
            121,
            196,
            1,
            9,
            4,
            9,
            81,
            1,
            1,
            225,
            4,
            64,
            49,
            169,
            289,
            121,
            121,
            81,
            196,
            25,
            36,
            289,
            144,
            16,
            196,
            144,
            1,
            324,
            225,
            361,
            144,
            324,
            256,
            4,
            49,
            121,
            196,
            361,
            81,
            0,
            100,
            16,
            36,
            196,
            121,
            0,
            81,
            196,
            324,
            361,
            16,
            25,
            121,
            196,
            361,
            0,
            4,
            9,
            361,
            49,
            4,
            16,
            289,
            9,
            0,
            256,
            36,
            9,
            25,
            49,
            0,
            196,
            144,
            100,
            400,
            100,
            49,
            225,
            64,
            49,
            16,
            9,
            361,
            64,
            100,
            36,
            49,
            324,
            256,
            1,
            400,
            100,
            324,
            225,
            121,
            225,
            196,
            81,
            9,
            36,
            256,
            81,
            36,
            289,
            144,
            361,
            144,
            289,
            81,
            100,
            400,
            324,
            169,
            144,
            4,
            100,
            256,
            169,
            256,
            1,
            0,
            196,
            196,
            9,
            9,
            1,
            16,
            81,
            9,
            1,
            361,
            400,
            81,
            121
           ]
          },
          {
           "axis": {
            "matches": true
           },
           "label": "Experience_Gender_M",
           "values": [
            0,
            0,
            0,
            0,
            0,
            0,
            0,
            0,
            0,
            0,
            0,
            0,
            0,
            0,
            0,
            0,
            0,
            0,
            0,
            0,
            0,
            0,
            0,
            0,
            0,
            0,
            0,
            0,
            0,
            0,
            0,
            0,
            0,
            0,
            0,
            0,
            0,
            0,
            0,
            0,
            0,
            0,
            0,
            0,
            0,
            0,
            0,
            0,
            0,
            0,
            0,
            0,
            0,
            0,
            0,
            0,
            0,
            0,
            0,
            0,
            0,
            0,
            0,
            0,
            0,
            0,
            0,
            0,
            0,
            0,
            0,
            0,
            0,
            0,
            0,
            0,
            0,
            0,
            0,
            0,
            0,
            0,
            0,
            0,
            0,
            0,
            0,
            0,
            0,
            0,
            0,
            0,
            0,
            0,
            0,
            0,
            0,
            0,
            0,
            0,
            0,
            0,
            0,
            0,
            0,
            0,
            0,
            0,
            0,
            0,
            0,
            0,
            0,
            0,
            0,
            0,
            0,
            0,
            0,
            0,
            0,
            0,
            0,
            0,
            0,
            0,
            0,
            0,
            0,
            0,
            0,
            0,
            0,
            0,
            0,
            0,
            0,
            0,
            0,
            0,
            0,
            0,
            0,
            0,
            0,
            0,
            0,
            0,
            0,
            0,
            0,
            0,
            0,
            0,
            0,
            0,
            0,
            0,
            0,
            0,
            0,
            0,
            0,
            0,
            0,
            0,
            0,
            0,
            0,
            0,
            0,
            0,
            0,
            0,
            0,
            0,
            0,
            0,
            0,
            0,
            0,
            0,
            0,
            0,
            0,
            0,
            0,
            0,
            0,
            0,
            0,
            0,
            0,
            0,
            0,
            0,
            0,
            0
           ]
          }
         ],
         "hovertemplate": "Gender=F<br>%{xaxis.title.text}=%{x}<br>%{yaxis.title.text}=%{y}<extra></extra>",
         "legendgroup": "F",
         "marker": {
          "color": "#636efa",
          "symbol": "circle"
         },
         "name": "F",
         "showlegend": true,
         "type": "splom"
        },
        {
         "dimensions": [
          {
           "axis": {
            "matches": true
           },
           "label": "Experience (Years)",
           "values": [
            -0.6022376710972642,
            1.202834367613882,
            -0.4381402130326145,
            -1.2586275033558627,
            -1.2586275033558627,
            -0.10994529690331525,
            0.5464445353552834,
            -0.9304325872265634,
            -0.7663351291619138,
            1.202834367613882,
            1.6951267418078309,
            -0.2740427549679649,
            -0.4381402130326145,
            0.8746394514845827,
            -1.094530045291213,
            0.5464445353552834,
            -1.4227249614205124,
            0.710541993419933,
            0.21824961922598404,
            -1.4227249614205124,
            -0.9304325872265634,
            0.8746394514845827,
            -0.6022376710972642,
            1.202834367613882,
            0.710541993419933,
            1.6951267418078309,
            -1.5868224194851621,
            -1.2586275033558627,
            -0.4381402130326145,
            1.202834367613882,
            -1.2586275033558627,
            1.202834367613882,
            -0.10994529690331525,
            -1.094530045291213,
            -1.2586275033558627,
            -1.4227249614205124,
            0.8746394514845827,
            -1.2586275033558627,
            0.38234707729063366,
            -1.094530045291213,
            0.21824961922598404,
            -1.094530045291213,
            0.8746394514845827,
            -1.2586275033558627,
            1.0387369095492323,
            -1.4227249614205124,
            -1.094530045291213,
            -0.9304325872265634,
            -0.9304325872265634,
            -1.4227249614205124,
            -0.10994529690331525,
            -1.094530045291213,
            -0.6022376710972642,
            0.710541993419933,
            -1.2586275033558627,
            0.710541993419933,
            -0.10994529690331525,
            -1.2586275033558627,
            1.3669318256785314,
            1.0387369095492323,
            0.5464445353552834,
            1.3669318256785314,
            -0.7663351291619138,
            0.054152161161334395,
            1.0387369095492323,
            -0.6022376710972642,
            -1.094530045291213,
            0.710541993419933,
            0.8746394514845827,
            0.054152161161334395,
            -1.094530045291213,
            -0.7663351291619138,
            -1.5868224194851621,
            0.38234707729063366,
            1.5310292837431811,
            1.5310292837431811,
            -0.4381402130326145,
            1.0387369095492323,
            1.5310292837431811,
            0.5464445353552834,
            -0.2740427549679649,
            -0.2740427549679649,
            -0.2740427549679649,
            -1.5868224194851621,
            -0.2740427549679649,
            1.202834367613882,
            -0.7663351291619138,
            0.5464445353552834,
            0.710541993419933,
            -1.094530045291213,
            1.6951267418078309,
            -0.7663351291619138,
            1.0387369095492323,
            1.6951267418078309,
            0.5464445353552834,
            0.38234707729063366,
            -1.2586275033558627,
            0.21824961922598404,
            0.21824961922598404,
            -0.4381402130326145,
            -0.4381402130326145,
            -0.2740427549679649,
            0.21824961922598404,
            1.5310292837431811,
            0.21824961922598404,
            -0.6022376710972642,
            -0.2740427549679649,
            -0.10994529690331525,
            0.21824961922598404,
            0.710541993419933,
            -0.9304325872265634,
            -1.094530045291213,
            -0.10994529690331525,
            -0.2740427549679649,
            1.3669318256785314,
            1.6951267418078309,
            -1.5868224194851621,
            -1.094530045291213,
            0.710541993419933,
            -0.2740427549679649,
            -1.5868224194851621,
            1.202834367613882,
            -0.7663351291619138,
            -1.094530045291213,
            0.5464445353552834,
            1.202834367613882,
            0.054152161161334395,
            1.0387369095492323,
            -0.6022376710972642,
            -1.4227249614205124,
            -0.10994529690331525,
            0.710541993419933,
            0.21824961922598404,
            0.054152161161334395,
            1.0387369095492323,
            -0.7663351291619138,
            -0.10994529690331525,
            -1.4227249614205124,
            0.5464445353552834,
            1.5310292837431811,
            1.5310292837431811,
            0.5464445353552834,
            0.054152161161334395,
            0.21824961922598404,
            -0.7663351291619138,
            -1.2586275033558627,
            -0.6022376710972642,
            0.21824961922598404,
            -0.4381402130326145,
            -1.5868224194851621,
            0.5464445353552834,
            1.3669318256785314,
            1.0387369095492323,
            -0.9304325872265634,
            0.054152161161334395,
            0.8746394514845827,
            -1.5868224194851621,
            0.8746394514845827,
            0.38234707729063366,
            1.0387369095492323,
            0.054152161161334395,
            -0.7663351291619138,
            1.3669318256785314,
            0.054152161161334395,
            -1.2586275033558627,
            -1.5868224194851621,
            -1.2586275033558627,
            1.202834367613882,
            1.5310292837431811,
            1.6951267418078309,
            1.6951267418078309,
            1.6951267418078309,
            -1.2586275033558627,
            -0.9304325872265634,
            0.21824961922598404,
            0.38234707729063366,
            1.202834367613882,
            -0.9304325872265634,
            -0.10994529690331525,
            1.0387369095492323,
            1.5310292837431811,
            1.202834367613882,
            -0.6022376710972642,
            1.0387369095492323,
            -0.7663351291619138,
            -0.9304325872265634,
            -1.4227249614205124,
            0.8746394514845827,
            0.5464445353552834,
            -1.4227249614205124,
            -0.6022376710972642,
            0.38234707729063366,
            0.5464445353552834,
            -1.094530045291213,
            -1.4227249614205124,
            0.21824961922598404,
            1.6951267418078309,
            0.054152161161334395,
            0.21824961922598404,
            -1.2586275033558627,
            -1.094530045291213,
            1.3669318256785314
           ]
          },
          {
           "axis": {
            "matches": true
           },
           "label": "Log_Salary",
           "values": [
            -0.10839570613433153,
            1.1055543153598433,
            -1.397859768138992,
            -0.3272185148265362,
            -0.5339673605226344,
            0.32405585037704226,
            -0.21814439041905484,
            -0.3361659125878417,
            -1.1496834063385146,
            0.7078906213593535,
            -0.1860731975978039,
            0.4704717097194461,
            0.241016421023216,
            -0.10805216732267603,
            -0.7303271821122551,
            -0.6154045667229182,
            -1.0288887302446486,
            0.9382857780564865,
            0.5281162188104614,
            -0.05684907303840489,
            -1.8881948600320015,
            0.12802224512888383,
            1.11221113788083,
            1.3379175229135989,
            0.2863721826585316,
            1.2540693425600482,
            -0.33367485489450716,
            -1.4663457128408492,
            -0.4989624367593149,
            2.1747263205898304,
            -2.7675336892433395,
            0.9796784873360941,
            1.1847454481498294,
            0.03722289080413461,
            -1.3384818005925037,
            -1.088547416244925,
            0.21707440917748722,
            0.17587217225309876,
            1.0344014872504157,
            -0.3647245129804658,
            0.6631290142543962,
            -2.275206363477812,
            0.34681121600090287,
            -0.7360605670126725,
            0.09387563855777632,
            -0.5669549973279374,
            0.6946529782161456,
            0.15186460528010448,
            -2.0469086297056958,
            -0.03661436573804461,
            0.7630492294104916,
            -1.08461440047752,
            0.2379851938357892,
            1.4759037994366464,
            -0.40539984584882255,
            -0.02893661738233339,
            0.492908693241368,
            0.781069250081386,
            2.278674887205842,
            1.5980921778262551,
            0.4644770615543843,
            1.608416118459329,
            -1.0013164547225222,
            -0.9454991378935209,
            0.6439906599355878,
            -0.5549946033687431,
            -2.2613661034802397,
            0.5385575683759838,
            -0.9395391062873077,
            0.2473522930802477,
            -2.0931283828147187,
            -1.197412006045779,
            -1.810664086883904,
            1.6409623801731994,
            1.095263522098292,
            1.068012111454657,
            0.09119370571731168,
            1.5037251648403251,
            1.1039284165274335,
            1.2880451628756808,
            0.4578830086083096,
            0.5344367667030632,
            0.3778520987032574,
            -0.4196839786621601,
            -1.7129573116079366,
            1.9862114492806235,
            -1.7882743987388892,
            0.22107096189397193,
            0.3487871464806839,
            -0.3776828652964721,
            1.1112865766313744,
            -1.392049927855349,
            -0.17423001725002354,
            -0.10800309361860115,
            -0.4062142195453754,
            -0.044120079097271114,
            -0.23607952746034627,
            0.6175811163719913,
            -0.20125463957166234,
            0.17413355757905088,
            -0.9472275206700309,
            0.09435675287078478,
            1.339944807975679,
            -0.12730288507085644,
            -0.8564859192423631,
            0.07419734736291551,
            -0.34737519061367517,
            -1.1198906305334346,
            -0.2460394329528202,
            1.1391872841897537,
            -0.8053103478084103,
            -0.6470818943961087,
            0.10610817594420408,
            0.16690062007244272,
            0.593892725103526,
            1.652271882755463,
            -1.641044224765747,
            -0.7993477030067789,
            1.4611017138500644,
            0.5591929798983243,
            -1.690749286893959,
            0.5476463134626944,
            -1.573384777189904,
            -0.3939410697473991,
            -0.8109735981179884,
            1.037796484840136,
            -0.6830076728060821,
            0.994771510828342,
            -0.1888712092830549,
            -0.844080911638918,
            0.5098289741071208,
            2.086978289412227,
            1.3478753498159868,
            -0.33964100878167564,
            0.9519653962011695,
            0.6885735975074911,
            0.19145155271722802,
            -1.3075024726143498,
            0.7725098284727508,
            0.17725341669573952,
            -0.19591580236272746,
            0.224229233388989,
            0.8475643265136501,
            -0.6451675002432423,
            -0.8986342813665069,
            -1.3264738790599793,
            0.20379422282701629,
            1.0886009599783482,
            -0.7279945527733495,
            -1.6741711010816287,
            -0.41995673046038,
            0.3225933374542003,
            -0.24203088772197975,
            0.01638519920994578,
            0.8161007188290834,
            1.0608420351590055,
            -1.929331655275962,
            -0.01029212976314771,
            0.6041232735374431,
            1.1132326840087967,
            0.5627517499178857,
            -0.14807271651926304,
            1.9663977918935502,
            0.08375405144952583,
            -0.8843580772440496,
            -0.24274996881551797,
            -0.5394728604765154,
            1.2274741790458152,
            -0.3307095326374285,
            1.5999894423102279,
            1.4735949721613462,
            0.5304880131533918,
            -1.0287545848056128,
            -0.6777039284955547,
            0.39273326964831223,
            -1.2473345991038132,
            -0.3010882778809925,
            -0.43069591599067514,
            -0.2163365011031876,
            -0.8358712325230935,
            1.7996414161007723,
            0.8037195513914728,
            0.6270416539545766,
            0.9999651014411606,
            -1.4563643207230277,
            -0.8106932913481844,
            -1.363471841593969,
            -0.1406451927339677,
            0.7323076199658703,
            -2.0754238867496126,
            0.1077277497143897,
            -0.18602280732922657,
            0.8663812223476125,
            -0.4825896955561618,
            -0.5290664772675849,
            0.7361609949027036,
            1.258455479878166,
            -0.9082761625542225,
            -1.8689545795311362,
            -0.9248372277734712,
            -2.412957889487348,
            0.1252352082302301
           ]
          },
          {
           "axis": {
            "matches": true
           },
           "label": "ID",
           "values": [
            2,
            3,
            4,
            8,
            12,
            14,
            16,
            17,
            20,
            28,
            29,
            31,
            32,
            33,
            34,
            35,
            36,
            37,
            41,
            42,
            44,
            49,
            50,
            53,
            54,
            56,
            59,
            60,
            61,
            62,
            65,
            66,
            67,
            68,
            69,
            70,
            77,
            78,
            79,
            86,
            89,
            91,
            92,
            93,
            94,
            96,
            99,
            100,
            101,
            102,
            104,
            106,
            107,
            108,
            109,
            110,
            111,
            113,
            116,
            117,
            122,
            124,
            127,
            128,
            131,
            132,
            133,
            134,
            138,
            140,
            141,
            142,
            143,
            145,
            147,
            149,
            150,
            151,
            152,
            153,
            154,
            155,
            156,
            157,
            158,
            162,
            163,
            164,
            165,
            168,
            171,
            177,
            178,
            179,
            180,
            182,
            187,
            189,
            190,
            192,
            194,
            200,
            202,
            206,
            210,
            213,
            214,
            215,
            216,
            217,
            220,
            221,
            223,
            224,
            225,
            227,
            230,
            231,
            232,
            235,
            236,
            238,
            241,
            244,
            245,
            247,
            249,
            253,
            255,
            256,
            257,
            260,
            262,
            265,
            266,
            268,
            269,
            272,
            273,
            274,
            275,
            276,
            277,
            278,
            281,
            282,
            285,
            286,
            290,
            291,
            294,
            298,
            299,
            300,
            301,
            305,
            307,
            308,
            310,
            311,
            315,
            316,
            318,
            319,
            321,
            324,
            326,
            330,
            331,
            332,
            333,
            334,
            335,
            339,
            340,
            342,
            343,
            346,
            349,
            350,
            351,
            352,
            354,
            358,
            359,
            360,
            366,
            368,
            370,
            371,
            372,
            374,
            375,
            376,
            377,
            378,
            379,
            383,
            391,
            394,
            395,
            399
           ]
          },
          {
           "axis": {
            "matches": true
           },
           "label": "Experience_Years",
           "values": [
            6,
            17,
            7,
            2,
            2,
            9,
            13,
            4,
            5,
            17,
            20,
            8,
            7,
            15,
            3,
            13,
            1,
            14,
            11,
            1,
            4,
            15,
            6,
            17,
            14,
            20,
            0,
            2,
            7,
            17,
            2,
            17,
            9,
            3,
            2,
            1,
            15,
            2,
            12,
            3,
            11,
            3,
            15,
            2,
            16,
            1,
            3,
            4,
            4,
            1,
            9,
            3,
            6,
            14,
            2,
            14,
            9,
            2,
            18,
            16,
            13,
            18,
            5,
            10,
            16,
            6,
            3,
            14,
            15,
            10,
            3,
            5,
            0,
            12,
            19,
            19,
            7,
            16,
            19,
            13,
            8,
            8,
            8,
            0,
            8,
            17,
            5,
            13,
            14,
            3,
            20,
            5,
            16,
            20,
            13,
            12,
            2,
            11,
            11,
            7,
            7,
            8,
            11,
            19,
            11,
            6,
            8,
            9,
            11,
            14,
            4,
            3,
            9,
            8,
            18,
            20,
            0,
            3,
            14,
            8,
            0,
            17,
            5,
            3,
            13,
            17,
            10,
            16,
            6,
            1,
            9,
            14,
            11,
            10,
            16,
            5,
            9,
            1,
            13,
            19,
            19,
            13,
            10,
            11,
            5,
            2,
            6,
            11,
            7,
            0,
            13,
            18,
            16,
            4,
            10,
            15,
            0,
            15,
            12,
            16,
            10,
            5,
            18,
            10,
            2,
            0,
            2,
            17,
            19,
            20,
            20,
            20,
            2,
            4,
            11,
            12,
            17,
            4,
            9,
            16,
            19,
            17,
            6,
            16,
            5,
            4,
            1,
            15,
            13,
            1,
            6,
            12,
            13,
            3,
            1,
            11,
            20,
            10,
            11,
            2,
            3,
            18
           ]
          },
          {
           "axis": {
            "matches": true
           },
           "label": "Experience_Years^2",
           "values": [
            36,
            289,
            49,
            4,
            4,
            81,
            169,
            16,
            25,
            289,
            400,
            64,
            49,
            225,
            9,
            169,
            1,
            196,
            121,
            1,
            16,
            225,
            36,
            289,
            196,
            400,
            0,
            4,
            49,
            289,
            4,
            289,
            81,
            9,
            4,
            1,
            225,
            4,
            144,
            9,
            121,
            9,
            225,
            4,
            256,
            1,
            9,
            16,
            16,
            1,
            81,
            9,
            36,
            196,
            4,
            196,
            81,
            4,
            324,
            256,
            169,
            324,
            25,
            100,
            256,
            36,
            9,
            196,
            225,
            100,
            9,
            25,
            0,
            144,
            361,
            361,
            49,
            256,
            361,
            169,
            64,
            64,
            64,
            0,
            64,
            289,
            25,
            169,
            196,
            9,
            400,
            25,
            256,
            400,
            169,
            144,
            4,
            121,
            121,
            49,
            49,
            64,
            121,
            361,
            121,
            36,
            64,
            81,
            121,
            196,
            16,
            9,
            81,
            64,
            324,
            400,
            0,
            9,
            196,
            64,
            0,
            289,
            25,
            9,
            169,
            289,
            100,
            256,
            36,
            1,
            81,
            196,
            121,
            100,
            256,
            25,
            81,
            1,
            169,
            361,
            361,
            169,
            100,
            121,
            25,
            4,
            36,
            121,
            49,
            0,
            169,
            324,
            256,
            16,
            100,
            225,
            0,
            225,
            144,
            256,
            100,
            25,
            324,
            100,
            4,
            0,
            4,
            289,
            361,
            400,
            400,
            400,
            4,
            16,
            121,
            144,
            289,
            16,
            81,
            256,
            361,
            289,
            36,
            256,
            25,
            16,
            1,
            225,
            169,
            1,
            36,
            144,
            169,
            9,
            1,
            121,
            400,
            100,
            121,
            4,
            9,
            324
           ]
          },
          {
           "axis": {
            "matches": true
           },
           "label": "Experience_Gender_M",
           "values": [
            6,
            17,
            7,
            2,
            2,
            9,
            13,
            4,
            5,
            17,
            20,
            8,
            7,
            15,
            3,
            13,
            1,
            14,
            11,
            1,
            4,
            15,
            6,
            17,
            14,
            20,
            0,
            2,
            7,
            17,
            2,
            17,
            9,
            3,
            2,
            1,
            15,
            2,
            12,
            3,
            11,
            3,
            15,
            2,
            16,
            1,
            3,
            4,
            4,
            1,
            9,
            3,
            6,
            14,
            2,
            14,
            9,
            2,
            18,
            16,
            13,
            18,
            5,
            10,
            16,
            6,
            3,
            14,
            15,
            10,
            3,
            5,
            0,
            12,
            19,
            19,
            7,
            16,
            19,
            13,
            8,
            8,
            8,
            0,
            8,
            17,
            5,
            13,
            14,
            3,
            20,
            5,
            16,
            20,
            13,
            12,
            2,
            11,
            11,
            7,
            7,
            8,
            11,
            19,
            11,
            6,
            8,
            9,
            11,
            14,
            4,
            3,
            9,
            8,
            18,
            20,
            0,
            3,
            14,
            8,
            0,
            17,
            5,
            3,
            13,
            17,
            10,
            16,
            6,
            1,
            9,
            14,
            11,
            10,
            16,
            5,
            9,
            1,
            13,
            19,
            19,
            13,
            10,
            11,
            5,
            2,
            6,
            11,
            7,
            0,
            13,
            18,
            16,
            4,
            10,
            15,
            0,
            15,
            12,
            16,
            10,
            5,
            18,
            10,
            2,
            0,
            2,
            17,
            19,
            20,
            20,
            20,
            2,
            4,
            11,
            12,
            17,
            4,
            9,
            16,
            19,
            17,
            6,
            16,
            5,
            4,
            1,
            15,
            13,
            1,
            6,
            12,
            13,
            3,
            1,
            11,
            20,
            10,
            11,
            2,
            3,
            18
           ]
          }
         ],
         "hovertemplate": "Gender=M<br>%{xaxis.title.text}=%{x}<br>%{yaxis.title.text}=%{y}<extra></extra>",
         "legendgroup": "M",
         "marker": {
          "color": "#EF553B",
          "symbol": "circle"
         },
         "name": "M",
         "showlegend": true,
         "type": "splom"
        }
       ],
       "layout": {
        "dragmode": "select",
        "height": 800,
        "legend": {
         "title": {
          "text": "Gender"
         },
         "tracegroupgap": 0
        },
        "template": {
         "data": {
          "bar": [
           {
            "error_x": {
             "color": "#2a3f5f"
            },
            "error_y": {
             "color": "#2a3f5f"
            },
            "marker": {
             "line": {
              "color": "#E5ECF6",
              "width": 0.5
             },
             "pattern": {
              "fillmode": "overlay",
              "size": 10,
              "solidity": 0.2
             }
            },
            "type": "bar"
           }
          ],
          "barpolar": [
           {
            "marker": {
             "line": {
              "color": "#E5ECF6",
              "width": 0.5
             },
             "pattern": {
              "fillmode": "overlay",
              "size": 10,
              "solidity": 0.2
             }
            },
            "type": "barpolar"
           }
          ],
          "carpet": [
           {
            "aaxis": {
             "endlinecolor": "#2a3f5f",
             "gridcolor": "white",
             "linecolor": "white",
             "minorgridcolor": "white",
             "startlinecolor": "#2a3f5f"
            },
            "baxis": {
             "endlinecolor": "#2a3f5f",
             "gridcolor": "white",
             "linecolor": "white",
             "minorgridcolor": "white",
             "startlinecolor": "#2a3f5f"
            },
            "type": "carpet"
           }
          ],
          "choropleth": [
           {
            "colorbar": {
             "outlinewidth": 0,
             "ticks": ""
            },
            "type": "choropleth"
           }
          ],
          "contour": [
           {
            "colorbar": {
             "outlinewidth": 0,
             "ticks": ""
            },
            "colorscale": [
             [
              0,
              "#0d0887"
             ],
             [
              0.1111111111111111,
              "#46039f"
             ],
             [
              0.2222222222222222,
              "#7201a8"
             ],
             [
              0.3333333333333333,
              "#9c179e"
             ],
             [
              0.4444444444444444,
              "#bd3786"
             ],
             [
              0.5555555555555556,
              "#d8576b"
             ],
             [
              0.6666666666666666,
              "#ed7953"
             ],
             [
              0.7777777777777778,
              "#fb9f3a"
             ],
             [
              0.8888888888888888,
              "#fdca26"
             ],
             [
              1,
              "#f0f921"
             ]
            ],
            "type": "contour"
           }
          ],
          "contourcarpet": [
           {
            "colorbar": {
             "outlinewidth": 0,
             "ticks": ""
            },
            "type": "contourcarpet"
           }
          ],
          "heatmap": [
           {
            "colorbar": {
             "outlinewidth": 0,
             "ticks": ""
            },
            "colorscale": [
             [
              0,
              "#0d0887"
             ],
             [
              0.1111111111111111,
              "#46039f"
             ],
             [
              0.2222222222222222,
              "#7201a8"
             ],
             [
              0.3333333333333333,
              "#9c179e"
             ],
             [
              0.4444444444444444,
              "#bd3786"
             ],
             [
              0.5555555555555556,
              "#d8576b"
             ],
             [
              0.6666666666666666,
              "#ed7953"
             ],
             [
              0.7777777777777778,
              "#fb9f3a"
             ],
             [
              0.8888888888888888,
              "#fdca26"
             ],
             [
              1,
              "#f0f921"
             ]
            ],
            "type": "heatmap"
           }
          ],
          "heatmapgl": [
           {
            "colorbar": {
             "outlinewidth": 0,
             "ticks": ""
            },
            "colorscale": [
             [
              0,
              "#0d0887"
             ],
             [
              0.1111111111111111,
              "#46039f"
             ],
             [
              0.2222222222222222,
              "#7201a8"
             ],
             [
              0.3333333333333333,
              "#9c179e"
             ],
             [
              0.4444444444444444,
              "#bd3786"
             ],
             [
              0.5555555555555556,
              "#d8576b"
             ],
             [
              0.6666666666666666,
              "#ed7953"
             ],
             [
              0.7777777777777778,
              "#fb9f3a"
             ],
             [
              0.8888888888888888,
              "#fdca26"
             ],
             [
              1,
              "#f0f921"
             ]
            ],
            "type": "heatmapgl"
           }
          ],
          "histogram": [
           {
            "marker": {
             "pattern": {
              "fillmode": "overlay",
              "size": 10,
              "solidity": 0.2
             }
            },
            "type": "histogram"
           }
          ],
          "histogram2d": [
           {
            "colorbar": {
             "outlinewidth": 0,
             "ticks": ""
            },
            "colorscale": [
             [
              0,
              "#0d0887"
             ],
             [
              0.1111111111111111,
              "#46039f"
             ],
             [
              0.2222222222222222,
              "#7201a8"
             ],
             [
              0.3333333333333333,
              "#9c179e"
             ],
             [
              0.4444444444444444,
              "#bd3786"
             ],
             [
              0.5555555555555556,
              "#d8576b"
             ],
             [
              0.6666666666666666,
              "#ed7953"
             ],
             [
              0.7777777777777778,
              "#fb9f3a"
             ],
             [
              0.8888888888888888,
              "#fdca26"
             ],
             [
              1,
              "#f0f921"
             ]
            ],
            "type": "histogram2d"
           }
          ],
          "histogram2dcontour": [
           {
            "colorbar": {
             "outlinewidth": 0,
             "ticks": ""
            },
            "colorscale": [
             [
              0,
              "#0d0887"
             ],
             [
              0.1111111111111111,
              "#46039f"
             ],
             [
              0.2222222222222222,
              "#7201a8"
             ],
             [
              0.3333333333333333,
              "#9c179e"
             ],
             [
              0.4444444444444444,
              "#bd3786"
             ],
             [
              0.5555555555555556,
              "#d8576b"
             ],
             [
              0.6666666666666666,
              "#ed7953"
             ],
             [
              0.7777777777777778,
              "#fb9f3a"
             ],
             [
              0.8888888888888888,
              "#fdca26"
             ],
             [
              1,
              "#f0f921"
             ]
            ],
            "type": "histogram2dcontour"
           }
          ],
          "mesh3d": [
           {
            "colorbar": {
             "outlinewidth": 0,
             "ticks": ""
            },
            "type": "mesh3d"
           }
          ],
          "parcoords": [
           {
            "line": {
             "colorbar": {
              "outlinewidth": 0,
              "ticks": ""
             }
            },
            "type": "parcoords"
           }
          ],
          "pie": [
           {
            "automargin": true,
            "type": "pie"
           }
          ],
          "scatter": [
           {
            "fillpattern": {
             "fillmode": "overlay",
             "size": 10,
             "solidity": 0.2
            },
            "type": "scatter"
           }
          ],
          "scatter3d": [
           {
            "line": {
             "colorbar": {
              "outlinewidth": 0,
              "ticks": ""
             }
            },
            "marker": {
             "colorbar": {
              "outlinewidth": 0,
              "ticks": ""
             }
            },
            "type": "scatter3d"
           }
          ],
          "scattercarpet": [
           {
            "marker": {
             "colorbar": {
              "outlinewidth": 0,
              "ticks": ""
             }
            },
            "type": "scattercarpet"
           }
          ],
          "scattergeo": [
           {
            "marker": {
             "colorbar": {
              "outlinewidth": 0,
              "ticks": ""
             }
            },
            "type": "scattergeo"
           }
          ],
          "scattergl": [
           {
            "marker": {
             "colorbar": {
              "outlinewidth": 0,
              "ticks": ""
             }
            },
            "type": "scattergl"
           }
          ],
          "scattermapbox": [
           {
            "marker": {
             "colorbar": {
              "outlinewidth": 0,
              "ticks": ""
             }
            },
            "type": "scattermapbox"
           }
          ],
          "scatterpolar": [
           {
            "marker": {
             "colorbar": {
              "outlinewidth": 0,
              "ticks": ""
             }
            },
            "type": "scatterpolar"
           }
          ],
          "scatterpolargl": [
           {
            "marker": {
             "colorbar": {
              "outlinewidth": 0,
              "ticks": ""
             }
            },
            "type": "scatterpolargl"
           }
          ],
          "scatterternary": [
           {
            "marker": {
             "colorbar": {
              "outlinewidth": 0,
              "ticks": ""
             }
            },
            "type": "scatterternary"
           }
          ],
          "surface": [
           {
            "colorbar": {
             "outlinewidth": 0,
             "ticks": ""
            },
            "colorscale": [
             [
              0,
              "#0d0887"
             ],
             [
              0.1111111111111111,
              "#46039f"
             ],
             [
              0.2222222222222222,
              "#7201a8"
             ],
             [
              0.3333333333333333,
              "#9c179e"
             ],
             [
              0.4444444444444444,
              "#bd3786"
             ],
             [
              0.5555555555555556,
              "#d8576b"
             ],
             [
              0.6666666666666666,
              "#ed7953"
             ],
             [
              0.7777777777777778,
              "#fb9f3a"
             ],
             [
              0.8888888888888888,
              "#fdca26"
             ],
             [
              1,
              "#f0f921"
             ]
            ],
            "type": "surface"
           }
          ],
          "table": [
           {
            "cells": {
             "fill": {
              "color": "#EBF0F8"
             },
             "line": {
              "color": "white"
             }
            },
            "header": {
             "fill": {
              "color": "#C8D4E3"
             },
             "line": {
              "color": "white"
             }
            },
            "type": "table"
           }
          ]
         },
         "layout": {
          "annotationdefaults": {
           "arrowcolor": "#2a3f5f",
           "arrowhead": 0,
           "arrowwidth": 1
          },
          "autotypenumbers": "strict",
          "coloraxis": {
           "colorbar": {
            "outlinewidth": 0,
            "ticks": ""
           }
          },
          "colorscale": {
           "diverging": [
            [
             0,
             "#8e0152"
            ],
            [
             0.1,
             "#c51b7d"
            ],
            [
             0.2,
             "#de77ae"
            ],
            [
             0.3,
             "#f1b6da"
            ],
            [
             0.4,
             "#fde0ef"
            ],
            [
             0.5,
             "#f7f7f7"
            ],
            [
             0.6,
             "#e6f5d0"
            ],
            [
             0.7,
             "#b8e186"
            ],
            [
             0.8,
             "#7fbc41"
            ],
            [
             0.9,
             "#4d9221"
            ],
            [
             1,
             "#276419"
            ]
           ],
           "sequential": [
            [
             0,
             "#0d0887"
            ],
            [
             0.1111111111111111,
             "#46039f"
            ],
            [
             0.2222222222222222,
             "#7201a8"
            ],
            [
             0.3333333333333333,
             "#9c179e"
            ],
            [
             0.4444444444444444,
             "#bd3786"
            ],
            [
             0.5555555555555556,
             "#d8576b"
            ],
            [
             0.6666666666666666,
             "#ed7953"
            ],
            [
             0.7777777777777778,
             "#fb9f3a"
            ],
            [
             0.8888888888888888,
             "#fdca26"
            ],
            [
             1,
             "#f0f921"
            ]
           ],
           "sequentialminus": [
            [
             0,
             "#0d0887"
            ],
            [
             0.1111111111111111,
             "#46039f"
            ],
            [
             0.2222222222222222,
             "#7201a8"
            ],
            [
             0.3333333333333333,
             "#9c179e"
            ],
            [
             0.4444444444444444,
             "#bd3786"
            ],
            [
             0.5555555555555556,
             "#d8576b"
            ],
            [
             0.6666666666666666,
             "#ed7953"
            ],
            [
             0.7777777777777778,
             "#fb9f3a"
            ],
            [
             0.8888888888888888,
             "#fdca26"
            ],
            [
             1,
             "#f0f921"
            ]
           ]
          },
          "colorway": [
           "#636efa",
           "#EF553B",
           "#00cc96",
           "#ab63fa",
           "#FFA15A",
           "#19d3f3",
           "#FF6692",
           "#B6E880",
           "#FF97FF",
           "#FECB52"
          ],
          "font": {
           "color": "#2a3f5f"
          },
          "geo": {
           "bgcolor": "white",
           "lakecolor": "white",
           "landcolor": "#E5ECF6",
           "showlakes": true,
           "showland": true,
           "subunitcolor": "white"
          },
          "hoverlabel": {
           "align": "left"
          },
          "hovermode": "closest",
          "mapbox": {
           "style": "light"
          },
          "paper_bgcolor": "white",
          "plot_bgcolor": "#E5ECF6",
          "polar": {
           "angularaxis": {
            "gridcolor": "white",
            "linecolor": "white",
            "ticks": ""
           },
           "bgcolor": "#E5ECF6",
           "radialaxis": {
            "gridcolor": "white",
            "linecolor": "white",
            "ticks": ""
           }
          },
          "scene": {
           "xaxis": {
            "backgroundcolor": "#E5ECF6",
            "gridcolor": "white",
            "gridwidth": 2,
            "linecolor": "white",
            "showbackground": true,
            "ticks": "",
            "zerolinecolor": "white"
           },
           "yaxis": {
            "backgroundcolor": "#E5ECF6",
            "gridcolor": "white",
            "gridwidth": 2,
            "linecolor": "white",
            "showbackground": true,
            "ticks": "",
            "zerolinecolor": "white"
           },
           "zaxis": {
            "backgroundcolor": "#E5ECF6",
            "gridcolor": "white",
            "gridwidth": 2,
            "linecolor": "white",
            "showbackground": true,
            "ticks": "",
            "zerolinecolor": "white"
           }
          },
          "shapedefaults": {
           "line": {
            "color": "#2a3f5f"
           }
          },
          "ternary": {
           "aaxis": {
            "gridcolor": "white",
            "linecolor": "white",
            "ticks": ""
           },
           "baxis": {
            "gridcolor": "white",
            "linecolor": "white",
            "ticks": ""
           },
           "bgcolor": "#E5ECF6",
           "caxis": {
            "gridcolor": "white",
            "linecolor": "white",
            "ticks": ""
           }
          },
          "title": {
           "x": 0.05
          },
          "xaxis": {
           "automargin": true,
           "gridcolor": "white",
           "linecolor": "white",
           "ticks": "",
           "title": {
            "standoff": 15
           },
           "zerolinecolor": "white",
           "zerolinewidth": 2
          },
          "yaxis": {
           "automargin": true,
           "gridcolor": "white",
           "linecolor": "white",
           "ticks": "",
           "title": {
            "standoff": 15
           },
           "zerolinecolor": "white",
           "zerolinewidth": 2
          }
         }
        },
        "title": {
         "text": "Pairwise Relationships"
        },
        "width": 800
       }
      },
      "text/html": [
       "<div>                            <div id=\"60090b53-3167-4c0f-bc50-f6bb4fdc84e6\" class=\"plotly-graph-div\" style=\"height:800px; width:800px;\"></div>            <script type=\"text/javascript\">                require([\"plotly\"], function(Plotly) {                    window.PLOTLYENV=window.PLOTLYENV || {};                                    if (document.getElementById(\"60090b53-3167-4c0f-bc50-f6bb4fdc84e6\")) {                    Plotly.newPlot(                        \"60090b53-3167-4c0f-bc50-f6bb4fdc84e6\",                        [{\"dimensions\":[{\"axis\":{\"matches\":true},\"label\":\"Experience (Years)\",\"values\":[-0.9304325872265634,0.5464445353552834,0.5464445353552834,0.21824961922598404,-0.6022376710972642,-0.6022376710972642,1.5310292837431811,1.0387369095492323,-0.4381402130326145,1.0387369095492323,-0.7663351291619138,1.6951267418078309,1.5310292837431811,-1.5868224194851621,0.5464445353552834,-1.094530045291213,0.054152161161334395,-0.7663351291619138,1.6951267418078309,-0.4381402130326145,-1.2586275033558627,-0.9304325872265634,1.5310292837431811,-1.4227249614205124,0.054152161161334395,-1.4227249614205124,-1.4227249614205124,0.5464445353552834,0.38234707729063366,0.38234707729063366,0.054152161161334395,1.0387369095492323,-0.10994529690331525,-0.6022376710972642,1.5310292837431811,-0.7663351291619138,1.5310292837431811,-1.4227249614205124,1.5310292837431811,-1.2586275033558627,-0.4381402130326145,0.38234707729063366,-1.5868224194851621,0.054152161161334395,1.6951267418078309,-0.7663351291619138,-1.5868224194851621,-1.4227249614205124,0.5464445353552834,-0.2740427549679649,0.38234707729063366,0.054152161161334395,-1.094530045291213,1.0387369095492323,-1.4227249614205124,1.3669318256785314,-0.9304325872265634,-1.2586275033558627,0.5464445353552834,1.202834367613882,1.3669318256785314,0.38234707729063366,0.054152161161334395,1.3669318256785314,0.21824961922598404,0.710541993419933,-1.4227249614205124,-1.094530045291213,-1.2586275033558627,-1.094530045291213,-0.10994529690331525,-1.4227249614205124,-1.4227249614205124,0.8746394514845827,-1.2586275033558627,-0.2740427549679649,-0.4381402130326145,0.5464445353552834,1.202834367613882,0.21824961922598404,0.21824961922598404,-0.10994529690331525,0.710541993419933,-0.7663351291619138,-0.6022376710972642,1.202834367613882,0.38234707729063366,-0.9304325872265634,0.710541993419933,0.38234707729063366,-1.4227249614205124,1.3669318256785314,0.8746394514845827,1.5310292837431811,0.38234707729063366,1.3669318256785314,1.0387369095492323,-1.2586275033558627,-0.4381402130326145,0.21824961922598404,0.710541993419933,1.5310292837431811,-0.10994529690331525,-1.5868224194851621,0.054152161161334395,-0.9304325872265634,-0.6022376710972642,0.710541993419933,0.21824961922598404,-1.5868224194851621,-0.10994529690331525,0.710541993419933,1.3669318256785314,1.5310292837431811,-0.9304325872265634,-0.7663351291619138,0.21824961922598404,0.710541993419933,1.5310292837431811,-1.5868224194851621,-1.2586275033558627,-1.094530045291213,1.5310292837431811,-0.4381402130326145,-1.2586275033558627,-0.9304325872265634,1.202834367613882,-1.094530045291213,-1.5868224194851621,1.0387369095492323,-0.6022376710972642,-1.094530045291213,-0.7663351291619138,-0.4381402130326145,-1.5868224194851621,0.710541993419933,0.38234707729063366,0.054152161161334395,1.6951267418078309,0.054152161161334395,-0.4381402130326145,0.8746394514845827,-0.2740427549679649,-0.4381402130326145,-0.9304325872265634,-1.094530045291213,1.5310292837431811,-0.2740427549679649,0.054152161161334395,-0.6022376710972642,-0.4381402130326145,1.3669318256785314,1.0387369095492323,-1.4227249614205124,1.6951267418078309,0.054152161161334395,1.3669318256785314,0.8746394514845827,0.21824961922598404,0.8746394514845827,0.710541993419933,-0.10994529690331525,-1.094530045291213,-0.6022376710972642,1.0387369095492323,-0.10994529690331525,-0.6022376710972642,1.202834367613882,0.38234707729063366,1.5310292837431811,0.38234707729063366,1.202834367613882,-0.10994529690331525,0.054152161161334395,1.6951267418078309,1.3669318256785314,0.5464445353552834,0.38234707729063366,-1.2586275033558627,0.054152161161334395,1.0387369095492323,0.5464445353552834,1.0387369095492323,-1.4227249614205124,-1.5868224194851621,0.710541993419933,0.710541993419933,-1.094530045291213,-1.094530045291213,-1.4227249614205124,-0.9304325872265634,-0.10994529690331525,-1.094530045291213,-1.4227249614205124,1.5310292837431811,1.6951267418078309,-0.10994529690331525,0.21824961922598404]},{\"axis\":{\"matches\":true},\"label\":\"Log_Salary\",\"values\":[-0.36761709076186533,0.5937573667340736,-0.23602827484591316,-1.2209070634630255,-0.4883070220055694,0.7866530798923423,0.7160830386460577,0.29408885507543203,0.5526508491079464,1.2231353664064075,0.10724881354329087,0.33878879621836466,1.8445328724428083,-1.6480288031242674,1.8730203823719438,-1.64840122758669,0.4808376523842501,0.7160644874751803,0.8907138841521145,0.29136889072713373,-1.0346963713734993,0.31660855439698654,0.534081595473689,-0.3015074776081569,0.2685467768526663,-0.2574266777924602,-1.079935822661515,-0.23083076577605982,0.5637677525004146,0.4146787691066053,1.0966985726416818,0.5881441916853105,-1.560623721243561,0.6721245937688874,1.7609996940087607,-0.3583868456157684,0.9603101371505828,-1.8299664259219461,0.3963953282968101,0.3776856359090244,-1.4158554481530348,-0.16173449088868969,-0.3784358243303446,1.3595001555234052,0.18523856548586495,-1.9529152520927378,-2.4236517959752866,-1.6595959031863683,0.47240676889479355,0.5640607650859855,1.5035689581521798,-0.6104246748615058,-0.9567354251694856,0.6203611451464421,-3.091226556063907,0.8120093684575201,-0.1935404737091964,-2.358429979473999,1.1540466954774542,1.8190354951214065,2.265808803076531,-0.6297505043038858,-0.6635379696872046,-0.24902368470217887,-0.10707084847309642,-0.7794972711480531,-2.1955139790327842,-0.3689035927940118,-1.118265400577752,0.05995458654975942,-0.2786955830354418,0.19599205563739175,-2.701310798891322,0.2582719692220046,-0.9694276703681756,0.7289109994638122,-0.10633507372011929,0.04471090210496683,1.0045272292933254,0.21920511454843059,0.5490405871286651,0.20946158843322837,-1.213114046612104,0.45226846820054095,-0.44122710317275277,0.16694532233149834,0.6115134701624505,-0.39767449926189063,-0.7685165230806503,0.9890276775798736,-1.0644166199187424,0.6352328164781357,-0.19705360579989528,0.2337274908364521,1.0646352833039936,1.7376136877206625,-0.47249297457449574,0.2699068539929098,0.6968945062151198,0.5603862333418774,0.5089335185461611,0.6330583641443894,0.38616327257166255,0.5423577913762611,0.4195448299708022,-1.7843714658750578,-1.3798221948135956,0.7826838465374499,0.5464478893057871,-0.5571941896028395,0.2991152490569932,1.1856156137740614,1.2553055347945268,0.26597602838642126,-0.7403451307495285,-0.8345836654376916,-0.7079556554167591,-0.9102727575336879,1.0557877848347965,-2.0423168148952926,-1.6156839421017681,0.7007384914612051,0.135396300457379,-0.1006023265967335,-1.8224498082486358,0.3701433383179251,1.0075031134102,0.520077463807377,-0.9348252211332713,1.0897451176070332,-0.8640238324767641,0.6765275005270918,-1.673378022920395,-0.22924517486738313,-0.5739016875362275,0.022001730121128354,-0.2922465904119332,0.12537122241842122,1.2466412796410002,0.08469652779076495,-0.457674911961247,1.2023203495226993,0.15980672698683873,0.5012612562248266,-1.5079146057348485,-1.1917357408402702,-0.07897248029089297,-0.8771502627659037,1.4008444156118212,0.27773128443893635,0.021837381291718846,0.5156328840563099,1.1396532788102416,-0.7162383734504684,1.486564015172683,1.295918331467592,0.12664038554768545,-0.47046667566197387,-0.3319270717919878,1.5612531382803807,0.8903991597834795,0.7304067332660028,0.16488831627637718,-1.1438192656217299,-0.9914982847020771,0.052133457739741366,-0.24133765422925235,0.06886437545502178,0.5042129572586006,1.9665312959258576,0.678914361248283,-0.2700503406928258,0.8764124956871,1.3572624344561737,0.9928468845954135,1.5623113027442435,-0.6291062161340752,1.3981816576465693,-0.3391632717302819,-1.243256141239518,0.6996940207513623,0.7821396993710893,0.5328776412086726,-0.3486528844102252,-0.4828683323398659,-0.07031150350408243,-0.4075176857365692,-0.7014962517067247,-0.5781293795938898,-0.542570675689458,-0.5648627188751477,-0.436231067492371,0.7348340852794457,-1.3301119816288114,1.8831504164185764,1.1293359658121687,-1.1077748671354242,0.8995125479404844]},{\"axis\":{\"matches\":true},\"label\":\"ID\",\"values\":[1,5,6,7,9,10,11,13,15,18,19,21,22,23,24,25,26,27,30,38,39,40,43,45,46,47,48,51,52,55,57,58,63,64,71,72,73,74,75,76,80,81,82,83,84,85,87,88,90,95,97,98,103,105,112,114,115,118,119,120,121,123,125,126,129,130,135,136,137,139,144,146,148,159,160,161,166,167,169,170,172,173,174,175,176,181,183,184,185,186,188,191,193,195,196,197,198,199,201,203,204,205,207,208,209,211,212,218,219,222,226,228,229,233,234,237,239,240,242,243,246,248,250,251,252,254,258,259,261,263,264,267,270,271,279,280,283,284,287,288,289,292,293,295,296,297,302,303,304,306,309,312,313,314,317,320,322,323,325,327,328,329,336,337,338,341,344,345,347,348,353,355,356,357,361,362,363,364,365,367,369,373,380,381,382,384,385,386,387,388,389,390,392,393,396,397,398,400]},{\"axis\":{\"matches\":true},\"label\":\"Experience_Years\",\"values\":[4.0,13.0,13.0,11.0,6.0,6.0,19.0,16.0,7.0,16.0,5.0,20.0,19.0,0.0,13.0,3.0,10.0,5.0,20.0,7.0,2.0,4.0,19.0,1.0,10.0,1.0,1.0,13.0,12.0,12.0,10.0,16.0,9.0,6.0,19.0,5.0,19.0,1.0,19.0,2.0,7.0,12.0,0.0,10.0,20.0,5.0,0.0,1.0,13.0,8.0,12.0,10.0,3.0,16.0,1.0,18.0,4.0,2.0,13.0,17.0,18.0,12.0,10.0,18.0,11.0,14.0,1.0,3.0,2.0,3.0,9.0,1.0,1.0,15.0,2.0,8.0,7.0,13.0,17.0,11.0,11.0,9.0,14.0,5.0,6.0,17.0,12.0,4.0,14.0,12.0,1.0,18.0,15.0,19.0,12.0,18.0,16.0,2.0,7.0,11.0,14.0,19.0,9.0,0.0,10.0,4.0,6.0,14.0,11.0,0.0,9.0,14.0,18.0,19.0,4.0,5.0,11.0,14.0,19.0,0.0,2.0,3.0,19.0,7.0,2.0,4.0,17.0,3.0,0.0,16.0,6.0,3.0,5.0,7.0,0.0,14.0,12.0,10.0,20.0,10.0,7.0,15.0,8.0,7.0,4.0,3.0,19.0,8.0,10.0,6.0,7.0,18.0,16.0,1.0,20.0,10.0,18.0,15.0,11.0,15.0,14.0,9.0,3.0,6.0,16.0,9.0,6.0,17.0,12.0,19.0,12.0,17.0,9.0,10.0,20.0,18.0,13.0,12.0,2.0,10.0,16.0,13.0,16.0,1.0,0.0,14.0,14.0,3.0,3.0,1.0,4.0,9.0,3.0,1.0,19.0,20.0,9.0,11.0]},{\"axis\":{\"matches\":true},\"label\":\"Experience_Years^2\",\"values\":[16.0,169.0,169.0,121.0,36.0,36.0,361.0,256.0,49.0,256.0,25.0,400.0,361.0,0.0,169.0,9.0,100.0,25.0,400.0,49.0,4.0,16.0,361.0,1.0,100.0,1.0,1.0,169.0,144.0,144.0,100.0,256.0,81.0,36.0,361.0,25.0,361.0,1.0,361.0,4.0,49.0,144.0,0.0,100.0,400.0,25.0,0.0,1.0,169.0,64.0,144.0,100.0,9.0,256.0,1.0,324.0,16.0,4.0,169.0,289.0,324.0,144.0,100.0,324.0,121.0,196.0,1.0,9.0,4.0,9.0,81.0,1.0,1.0,225.0,4.0,64.0,49.0,169.0,289.0,121.0,121.0,81.0,196.0,25.0,36.0,289.0,144.0,16.0,196.0,144.0,1.0,324.0,225.0,361.0,144.0,324.0,256.0,4.0,49.0,121.0,196.0,361.0,81.0,0.0,100.0,16.0,36.0,196.0,121.0,0.0,81.0,196.0,324.0,361.0,16.0,25.0,121.0,196.0,361.0,0.0,4.0,9.0,361.0,49.0,4.0,16.0,289.0,9.0,0.0,256.0,36.0,9.0,25.0,49.0,0.0,196.0,144.0,100.0,400.0,100.0,49.0,225.0,64.0,49.0,16.0,9.0,361.0,64.0,100.0,36.0,49.0,324.0,256.0,1.0,400.0,100.0,324.0,225.0,121.0,225.0,196.0,81.0,9.0,36.0,256.0,81.0,36.0,289.0,144.0,361.0,144.0,289.0,81.0,100.0,400.0,324.0,169.0,144.0,4.0,100.0,256.0,169.0,256.0,1.0,0.0,196.0,196.0,9.0,9.0,1.0,16.0,81.0,9.0,1.0,361.0,400.0,81.0,121.0]},{\"axis\":{\"matches\":true},\"label\":\"Experience_Gender_M\",\"values\":[0,0,0,0,0,0,0,0,0,0,0,0,0,0,0,0,0,0,0,0,0,0,0,0,0,0,0,0,0,0,0,0,0,0,0,0,0,0,0,0,0,0,0,0,0,0,0,0,0,0,0,0,0,0,0,0,0,0,0,0,0,0,0,0,0,0,0,0,0,0,0,0,0,0,0,0,0,0,0,0,0,0,0,0,0,0,0,0,0,0,0,0,0,0,0,0,0,0,0,0,0,0,0,0,0,0,0,0,0,0,0,0,0,0,0,0,0,0,0,0,0,0,0,0,0,0,0,0,0,0,0,0,0,0,0,0,0,0,0,0,0,0,0,0,0,0,0,0,0,0,0,0,0,0,0,0,0,0,0,0,0,0,0,0,0,0,0,0,0,0,0,0,0,0,0,0,0,0,0,0,0,0,0,0,0,0,0,0,0,0,0,0,0,0,0,0,0,0]}],\"hovertemplate\":\"Gender=F\\u003cbr\\u003e%{xaxis.title.text}=%{x}\\u003cbr\\u003e%{yaxis.title.text}=%{y}\\u003cextra\\u003e\\u003c\\u002fextra\\u003e\",\"legendgroup\":\"F\",\"marker\":{\"color\":\"#636efa\",\"symbol\":\"circle\"},\"name\":\"F\",\"showlegend\":true,\"type\":\"splom\"},{\"dimensions\":[{\"axis\":{\"matches\":true},\"label\":\"Experience (Years)\",\"values\":[-0.6022376710972642,1.202834367613882,-0.4381402130326145,-1.2586275033558627,-1.2586275033558627,-0.10994529690331525,0.5464445353552834,-0.9304325872265634,-0.7663351291619138,1.202834367613882,1.6951267418078309,-0.2740427549679649,-0.4381402130326145,0.8746394514845827,-1.094530045291213,0.5464445353552834,-1.4227249614205124,0.710541993419933,0.21824961922598404,-1.4227249614205124,-0.9304325872265634,0.8746394514845827,-0.6022376710972642,1.202834367613882,0.710541993419933,1.6951267418078309,-1.5868224194851621,-1.2586275033558627,-0.4381402130326145,1.202834367613882,-1.2586275033558627,1.202834367613882,-0.10994529690331525,-1.094530045291213,-1.2586275033558627,-1.4227249614205124,0.8746394514845827,-1.2586275033558627,0.38234707729063366,-1.094530045291213,0.21824961922598404,-1.094530045291213,0.8746394514845827,-1.2586275033558627,1.0387369095492323,-1.4227249614205124,-1.094530045291213,-0.9304325872265634,-0.9304325872265634,-1.4227249614205124,-0.10994529690331525,-1.094530045291213,-0.6022376710972642,0.710541993419933,-1.2586275033558627,0.710541993419933,-0.10994529690331525,-1.2586275033558627,1.3669318256785314,1.0387369095492323,0.5464445353552834,1.3669318256785314,-0.7663351291619138,0.054152161161334395,1.0387369095492323,-0.6022376710972642,-1.094530045291213,0.710541993419933,0.8746394514845827,0.054152161161334395,-1.094530045291213,-0.7663351291619138,-1.5868224194851621,0.38234707729063366,1.5310292837431811,1.5310292837431811,-0.4381402130326145,1.0387369095492323,1.5310292837431811,0.5464445353552834,-0.2740427549679649,-0.2740427549679649,-0.2740427549679649,-1.5868224194851621,-0.2740427549679649,1.202834367613882,-0.7663351291619138,0.5464445353552834,0.710541993419933,-1.094530045291213,1.6951267418078309,-0.7663351291619138,1.0387369095492323,1.6951267418078309,0.5464445353552834,0.38234707729063366,-1.2586275033558627,0.21824961922598404,0.21824961922598404,-0.4381402130326145,-0.4381402130326145,-0.2740427549679649,0.21824961922598404,1.5310292837431811,0.21824961922598404,-0.6022376710972642,-0.2740427549679649,-0.10994529690331525,0.21824961922598404,0.710541993419933,-0.9304325872265634,-1.094530045291213,-0.10994529690331525,-0.2740427549679649,1.3669318256785314,1.6951267418078309,-1.5868224194851621,-1.094530045291213,0.710541993419933,-0.2740427549679649,-1.5868224194851621,1.202834367613882,-0.7663351291619138,-1.094530045291213,0.5464445353552834,1.202834367613882,0.054152161161334395,1.0387369095492323,-0.6022376710972642,-1.4227249614205124,-0.10994529690331525,0.710541993419933,0.21824961922598404,0.054152161161334395,1.0387369095492323,-0.7663351291619138,-0.10994529690331525,-1.4227249614205124,0.5464445353552834,1.5310292837431811,1.5310292837431811,0.5464445353552834,0.054152161161334395,0.21824961922598404,-0.7663351291619138,-1.2586275033558627,-0.6022376710972642,0.21824961922598404,-0.4381402130326145,-1.5868224194851621,0.5464445353552834,1.3669318256785314,1.0387369095492323,-0.9304325872265634,0.054152161161334395,0.8746394514845827,-1.5868224194851621,0.8746394514845827,0.38234707729063366,1.0387369095492323,0.054152161161334395,-0.7663351291619138,1.3669318256785314,0.054152161161334395,-1.2586275033558627,-1.5868224194851621,-1.2586275033558627,1.202834367613882,1.5310292837431811,1.6951267418078309,1.6951267418078309,1.6951267418078309,-1.2586275033558627,-0.9304325872265634,0.21824961922598404,0.38234707729063366,1.202834367613882,-0.9304325872265634,-0.10994529690331525,1.0387369095492323,1.5310292837431811,1.202834367613882,-0.6022376710972642,1.0387369095492323,-0.7663351291619138,-0.9304325872265634,-1.4227249614205124,0.8746394514845827,0.5464445353552834,-1.4227249614205124,-0.6022376710972642,0.38234707729063366,0.5464445353552834,-1.094530045291213,-1.4227249614205124,0.21824961922598404,1.6951267418078309,0.054152161161334395,0.21824961922598404,-1.2586275033558627,-1.094530045291213,1.3669318256785314]},{\"axis\":{\"matches\":true},\"label\":\"Log_Salary\",\"values\":[-0.10839570613433153,1.1055543153598433,-1.397859768138992,-0.3272185148265362,-0.5339673605226344,0.32405585037704226,-0.21814439041905484,-0.3361659125878417,-1.1496834063385146,0.7078906213593535,-0.1860731975978039,0.4704717097194461,0.241016421023216,-0.10805216732267603,-0.7303271821122551,-0.6154045667229182,-1.0288887302446486,0.9382857780564865,0.5281162188104614,-0.05684907303840489,-1.8881948600320015,0.12802224512888383,1.11221113788083,1.3379175229135989,0.2863721826585316,1.2540693425600482,-0.33367485489450716,-1.4663457128408492,-0.4989624367593149,2.1747263205898304,-2.7675336892433395,0.9796784873360941,1.1847454481498294,0.03722289080413461,-1.3384818005925037,-1.088547416244925,0.21707440917748722,0.17587217225309876,1.0344014872504157,-0.3647245129804658,0.6631290142543962,-2.275206363477812,0.34681121600090287,-0.7360605670126725,0.09387563855777632,-0.5669549973279374,0.6946529782161456,0.15186460528010448,-2.0469086297056958,-0.03661436573804461,0.7630492294104916,-1.08461440047752,0.2379851938357892,1.4759037994366464,-0.40539984584882255,-0.02893661738233339,0.492908693241368,0.781069250081386,2.278674887205842,1.5980921778262551,0.4644770615543843,1.608416118459329,-1.0013164547225222,-0.9454991378935209,0.6439906599355878,-0.5549946033687431,-2.2613661034802397,0.5385575683759838,-0.9395391062873077,0.2473522930802477,-2.0931283828147187,-1.197412006045779,-1.810664086883904,1.6409623801731994,1.095263522098292,1.068012111454657,0.09119370571731168,1.5037251648403251,1.1039284165274335,1.2880451628756808,0.4578830086083096,0.5344367667030632,0.3778520987032574,-0.4196839786621601,-1.7129573116079366,1.9862114492806235,-1.7882743987388892,0.22107096189397193,0.3487871464806839,-0.3776828652964721,1.1112865766313744,-1.392049927855349,-0.17423001725002354,-0.10800309361860115,-0.4062142195453754,-0.044120079097271114,-0.23607952746034627,0.6175811163719913,-0.20125463957166234,0.17413355757905088,-0.9472275206700309,0.09435675287078478,1.339944807975679,-0.12730288507085644,-0.8564859192423631,0.07419734736291551,-0.34737519061367517,-1.1198906305334346,-0.2460394329528202,1.1391872841897537,-0.8053103478084103,-0.6470818943961087,0.10610817594420408,0.16690062007244272,0.593892725103526,1.652271882755463,-1.641044224765747,-0.7993477030067789,1.4611017138500644,0.5591929798983243,-1.690749286893959,0.5476463134626944,-1.573384777189904,-0.3939410697473991,-0.8109735981179884,1.037796484840136,-0.6830076728060821,0.994771510828342,-0.1888712092830549,-0.844080911638918,0.5098289741071208,2.086978289412227,1.3478753498159868,-0.33964100878167564,0.9519653962011695,0.6885735975074911,0.19145155271722802,-1.3075024726143498,0.7725098284727508,0.17725341669573952,-0.19591580236272746,0.224229233388989,0.8475643265136501,-0.6451675002432423,-0.8986342813665069,-1.3264738790599793,0.20379422282701629,1.0886009599783482,-0.7279945527733495,-1.6741711010816287,-0.41995673046038,0.3225933374542003,-0.24203088772197975,0.01638519920994578,0.8161007188290834,1.0608420351590055,-1.929331655275962,-0.01029212976314771,0.6041232735374431,1.1132326840087967,0.5627517499178857,-0.14807271651926304,1.9663977918935502,0.08375405144952583,-0.8843580772440496,-0.24274996881551797,-0.5394728604765154,1.2274741790458152,-0.3307095326374285,1.5999894423102279,1.4735949721613462,0.5304880131533918,-1.0287545848056128,-0.6777039284955547,0.39273326964831223,-1.2473345991038132,-0.3010882778809925,-0.43069591599067514,-0.2163365011031876,-0.8358712325230935,1.7996414161007723,0.8037195513914728,0.6270416539545766,0.9999651014411606,-1.4563643207230277,-0.8106932913481844,-1.363471841593969,-0.1406451927339677,0.7323076199658703,-2.0754238867496126,0.1077277497143897,-0.18602280732922657,0.8663812223476125,-0.4825896955561618,-0.5290664772675849,0.7361609949027036,1.258455479878166,-0.9082761625542225,-1.8689545795311362,-0.9248372277734712,-2.412957889487348,0.1252352082302301]},{\"axis\":{\"matches\":true},\"label\":\"ID\",\"values\":[2,3,4,8,12,14,16,17,20,28,29,31,32,33,34,35,36,37,41,42,44,49,50,53,54,56,59,60,61,62,65,66,67,68,69,70,77,78,79,86,89,91,92,93,94,96,99,100,101,102,104,106,107,108,109,110,111,113,116,117,122,124,127,128,131,132,133,134,138,140,141,142,143,145,147,149,150,151,152,153,154,155,156,157,158,162,163,164,165,168,171,177,178,179,180,182,187,189,190,192,194,200,202,206,210,213,214,215,216,217,220,221,223,224,225,227,230,231,232,235,236,238,241,244,245,247,249,253,255,256,257,260,262,265,266,268,269,272,273,274,275,276,277,278,281,282,285,286,290,291,294,298,299,300,301,305,307,308,310,311,315,316,318,319,321,324,326,330,331,332,333,334,335,339,340,342,343,346,349,350,351,352,354,358,359,360,366,368,370,371,372,374,375,376,377,378,379,383,391,394,395,399]},{\"axis\":{\"matches\":true},\"label\":\"Experience_Years\",\"values\":[6.0,17.0,7.0,2.0,2.0,9.0,13.0,4.0,5.0,17.0,20.0,8.0,7.0,15.0,3.0,13.0,1.0,14.0,11.0,1.0,4.0,15.0,6.0,17.0,14.0,20.0,0.0,2.0,7.0,17.0,2.0,17.0,9.0,3.0,2.0,1.0,15.0,2.0,12.0,3.0,11.0,3.0,15.0,2.0,16.0,1.0,3.0,4.0,4.0,1.0,9.0,3.0,6.0,14.0,2.0,14.0,9.0,2.0,18.0,16.0,13.0,18.0,5.0,10.0,16.0,6.0,3.0,14.0,15.0,10.0,3.0,5.0,0.0,12.0,19.0,19.0,7.0,16.0,19.0,13.0,8.0,8.0,8.0,0.0,8.0,17.0,5.0,13.0,14.0,3.0,20.0,5.0,16.0,20.0,13.0,12.0,2.0,11.0,11.0,7.0,7.0,8.0,11.0,19.0,11.0,6.0,8.0,9.0,11.0,14.0,4.0,3.0,9.0,8.0,18.0,20.0,0.0,3.0,14.0,8.0,0.0,17.0,5.0,3.0,13.0,17.0,10.0,16.0,6.0,1.0,9.0,14.0,11.0,10.0,16.0,5.0,9.0,1.0,13.0,19.0,19.0,13.0,10.0,11.0,5.0,2.0,6.0,11.0,7.0,0.0,13.0,18.0,16.0,4.0,10.0,15.0,0.0,15.0,12.0,16.0,10.0,5.0,18.0,10.0,2.0,0.0,2.0,17.0,19.0,20.0,20.0,20.0,2.0,4.0,11.0,12.0,17.0,4.0,9.0,16.0,19.0,17.0,6.0,16.0,5.0,4.0,1.0,15.0,13.0,1.0,6.0,12.0,13.0,3.0,1.0,11.0,20.0,10.0,11.0,2.0,3.0,18.0]},{\"axis\":{\"matches\":true},\"label\":\"Experience_Years^2\",\"values\":[36.0,289.0,49.0,4.0,4.0,81.0,169.0,16.0,25.0,289.0,400.0,64.0,49.0,225.0,9.0,169.0,1.0,196.0,121.0,1.0,16.0,225.0,36.0,289.0,196.0,400.0,0.0,4.0,49.0,289.0,4.0,289.0,81.0,9.0,4.0,1.0,225.0,4.0,144.0,9.0,121.0,9.0,225.0,4.0,256.0,1.0,9.0,16.0,16.0,1.0,81.0,9.0,36.0,196.0,4.0,196.0,81.0,4.0,324.0,256.0,169.0,324.0,25.0,100.0,256.0,36.0,9.0,196.0,225.0,100.0,9.0,25.0,0.0,144.0,361.0,361.0,49.0,256.0,361.0,169.0,64.0,64.0,64.0,0.0,64.0,289.0,25.0,169.0,196.0,9.0,400.0,25.0,256.0,400.0,169.0,144.0,4.0,121.0,121.0,49.0,49.0,64.0,121.0,361.0,121.0,36.0,64.0,81.0,121.0,196.0,16.0,9.0,81.0,64.0,324.0,400.0,0.0,9.0,196.0,64.0,0.0,289.0,25.0,9.0,169.0,289.0,100.0,256.0,36.0,1.0,81.0,196.0,121.0,100.0,256.0,25.0,81.0,1.0,169.0,361.0,361.0,169.0,100.0,121.0,25.0,4.0,36.0,121.0,49.0,0.0,169.0,324.0,256.0,16.0,100.0,225.0,0.0,225.0,144.0,256.0,100.0,25.0,324.0,100.0,4.0,0.0,4.0,289.0,361.0,400.0,400.0,400.0,4.0,16.0,121.0,144.0,289.0,16.0,81.0,256.0,361.0,289.0,36.0,256.0,25.0,16.0,1.0,225.0,169.0,1.0,36.0,144.0,169.0,9.0,1.0,121.0,400.0,100.0,121.0,4.0,9.0,324.0]},{\"axis\":{\"matches\":true},\"label\":\"Experience_Gender_M\",\"values\":[6,17,7,2,2,9,13,4,5,17,20,8,7,15,3,13,1,14,11,1,4,15,6,17,14,20,0,2,7,17,2,17,9,3,2,1,15,2,12,3,11,3,15,2,16,1,3,4,4,1,9,3,6,14,2,14,9,2,18,16,13,18,5,10,16,6,3,14,15,10,3,5,0,12,19,19,7,16,19,13,8,8,8,0,8,17,5,13,14,3,20,5,16,20,13,12,2,11,11,7,7,8,11,19,11,6,8,9,11,14,4,3,9,8,18,20,0,3,14,8,0,17,5,3,13,17,10,16,6,1,9,14,11,10,16,5,9,1,13,19,19,13,10,11,5,2,6,11,7,0,13,18,16,4,10,15,0,15,12,16,10,5,18,10,2,0,2,17,19,20,20,20,2,4,11,12,17,4,9,16,19,17,6,16,5,4,1,15,13,1,6,12,13,3,1,11,20,10,11,2,3,18]}],\"hovertemplate\":\"Gender=M\\u003cbr\\u003e%{xaxis.title.text}=%{x}\\u003cbr\\u003e%{yaxis.title.text}=%{y}\\u003cextra\\u003e\\u003c\\u002fextra\\u003e\",\"legendgroup\":\"M\",\"marker\":{\"color\":\"#EF553B\",\"symbol\":\"circle\"},\"name\":\"M\",\"showlegend\":true,\"type\":\"splom\"}],                        {\"template\":{\"data\":{\"histogram2dcontour\":[{\"type\":\"histogram2dcontour\",\"colorbar\":{\"outlinewidth\":0,\"ticks\":\"\"},\"colorscale\":[[0.0,\"#0d0887\"],[0.1111111111111111,\"#46039f\"],[0.2222222222222222,\"#7201a8\"],[0.3333333333333333,\"#9c179e\"],[0.4444444444444444,\"#bd3786\"],[0.5555555555555556,\"#d8576b\"],[0.6666666666666666,\"#ed7953\"],[0.7777777777777778,\"#fb9f3a\"],[0.8888888888888888,\"#fdca26\"],[1.0,\"#f0f921\"]]}],\"choropleth\":[{\"type\":\"choropleth\",\"colorbar\":{\"outlinewidth\":0,\"ticks\":\"\"}}],\"histogram2d\":[{\"type\":\"histogram2d\",\"colorbar\":{\"outlinewidth\":0,\"ticks\":\"\"},\"colorscale\":[[0.0,\"#0d0887\"],[0.1111111111111111,\"#46039f\"],[0.2222222222222222,\"#7201a8\"],[0.3333333333333333,\"#9c179e\"],[0.4444444444444444,\"#bd3786\"],[0.5555555555555556,\"#d8576b\"],[0.6666666666666666,\"#ed7953\"],[0.7777777777777778,\"#fb9f3a\"],[0.8888888888888888,\"#fdca26\"],[1.0,\"#f0f921\"]]}],\"heatmap\":[{\"type\":\"heatmap\",\"colorbar\":{\"outlinewidth\":0,\"ticks\":\"\"},\"colorscale\":[[0.0,\"#0d0887\"],[0.1111111111111111,\"#46039f\"],[0.2222222222222222,\"#7201a8\"],[0.3333333333333333,\"#9c179e\"],[0.4444444444444444,\"#bd3786\"],[0.5555555555555556,\"#d8576b\"],[0.6666666666666666,\"#ed7953\"],[0.7777777777777778,\"#fb9f3a\"],[0.8888888888888888,\"#fdca26\"],[1.0,\"#f0f921\"]]}],\"heatmapgl\":[{\"type\":\"heatmapgl\",\"colorbar\":{\"outlinewidth\":0,\"ticks\":\"\"},\"colorscale\":[[0.0,\"#0d0887\"],[0.1111111111111111,\"#46039f\"],[0.2222222222222222,\"#7201a8\"],[0.3333333333333333,\"#9c179e\"],[0.4444444444444444,\"#bd3786\"],[0.5555555555555556,\"#d8576b\"],[0.6666666666666666,\"#ed7953\"],[0.7777777777777778,\"#fb9f3a\"],[0.8888888888888888,\"#fdca26\"],[1.0,\"#f0f921\"]]}],\"contourcarpet\":[{\"type\":\"contourcarpet\",\"colorbar\":{\"outlinewidth\":0,\"ticks\":\"\"}}],\"contour\":[{\"type\":\"contour\",\"colorbar\":{\"outlinewidth\":0,\"ticks\":\"\"},\"colorscale\":[[0.0,\"#0d0887\"],[0.1111111111111111,\"#46039f\"],[0.2222222222222222,\"#7201a8\"],[0.3333333333333333,\"#9c179e\"],[0.4444444444444444,\"#bd3786\"],[0.5555555555555556,\"#d8576b\"],[0.6666666666666666,\"#ed7953\"],[0.7777777777777778,\"#fb9f3a\"],[0.8888888888888888,\"#fdca26\"],[1.0,\"#f0f921\"]]}],\"surface\":[{\"type\":\"surface\",\"colorbar\":{\"outlinewidth\":0,\"ticks\":\"\"},\"colorscale\":[[0.0,\"#0d0887\"],[0.1111111111111111,\"#46039f\"],[0.2222222222222222,\"#7201a8\"],[0.3333333333333333,\"#9c179e\"],[0.4444444444444444,\"#bd3786\"],[0.5555555555555556,\"#d8576b\"],[0.6666666666666666,\"#ed7953\"],[0.7777777777777778,\"#fb9f3a\"],[0.8888888888888888,\"#fdca26\"],[1.0,\"#f0f921\"]]}],\"mesh3d\":[{\"type\":\"mesh3d\",\"colorbar\":{\"outlinewidth\":0,\"ticks\":\"\"}}],\"scatter\":[{\"fillpattern\":{\"fillmode\":\"overlay\",\"size\":10,\"solidity\":0.2},\"type\":\"scatter\"}],\"parcoords\":[{\"type\":\"parcoords\",\"line\":{\"colorbar\":{\"outlinewidth\":0,\"ticks\":\"\"}}}],\"scatterpolargl\":[{\"type\":\"scatterpolargl\",\"marker\":{\"colorbar\":{\"outlinewidth\":0,\"ticks\":\"\"}}}],\"bar\":[{\"error_x\":{\"color\":\"#2a3f5f\"},\"error_y\":{\"color\":\"#2a3f5f\"},\"marker\":{\"line\":{\"color\":\"#E5ECF6\",\"width\":0.5},\"pattern\":{\"fillmode\":\"overlay\",\"size\":10,\"solidity\":0.2}},\"type\":\"bar\"}],\"scattergeo\":[{\"type\":\"scattergeo\",\"marker\":{\"colorbar\":{\"outlinewidth\":0,\"ticks\":\"\"}}}],\"scatterpolar\":[{\"type\":\"scatterpolar\",\"marker\":{\"colorbar\":{\"outlinewidth\":0,\"ticks\":\"\"}}}],\"histogram\":[{\"marker\":{\"pattern\":{\"fillmode\":\"overlay\",\"size\":10,\"solidity\":0.2}},\"type\":\"histogram\"}],\"scattergl\":[{\"type\":\"scattergl\",\"marker\":{\"colorbar\":{\"outlinewidth\":0,\"ticks\":\"\"}}}],\"scatter3d\":[{\"type\":\"scatter3d\",\"line\":{\"colorbar\":{\"outlinewidth\":0,\"ticks\":\"\"}},\"marker\":{\"colorbar\":{\"outlinewidth\":0,\"ticks\":\"\"}}}],\"scattermapbox\":[{\"type\":\"scattermapbox\",\"marker\":{\"colorbar\":{\"outlinewidth\":0,\"ticks\":\"\"}}}],\"scatterternary\":[{\"type\":\"scatterternary\",\"marker\":{\"colorbar\":{\"outlinewidth\":0,\"ticks\":\"\"}}}],\"scattercarpet\":[{\"type\":\"scattercarpet\",\"marker\":{\"colorbar\":{\"outlinewidth\":0,\"ticks\":\"\"}}}],\"carpet\":[{\"aaxis\":{\"endlinecolor\":\"#2a3f5f\",\"gridcolor\":\"white\",\"linecolor\":\"white\",\"minorgridcolor\":\"white\",\"startlinecolor\":\"#2a3f5f\"},\"baxis\":{\"endlinecolor\":\"#2a3f5f\",\"gridcolor\":\"white\",\"linecolor\":\"white\",\"minorgridcolor\":\"white\",\"startlinecolor\":\"#2a3f5f\"},\"type\":\"carpet\"}],\"table\":[{\"cells\":{\"fill\":{\"color\":\"#EBF0F8\"},\"line\":{\"color\":\"white\"}},\"header\":{\"fill\":{\"color\":\"#C8D4E3\"},\"line\":{\"color\":\"white\"}},\"type\":\"table\"}],\"barpolar\":[{\"marker\":{\"line\":{\"color\":\"#E5ECF6\",\"width\":0.5},\"pattern\":{\"fillmode\":\"overlay\",\"size\":10,\"solidity\":0.2}},\"type\":\"barpolar\"}],\"pie\":[{\"automargin\":true,\"type\":\"pie\"}]},\"layout\":{\"autotypenumbers\":\"strict\",\"colorway\":[\"#636efa\",\"#EF553B\",\"#00cc96\",\"#ab63fa\",\"#FFA15A\",\"#19d3f3\",\"#FF6692\",\"#B6E880\",\"#FF97FF\",\"#FECB52\"],\"font\":{\"color\":\"#2a3f5f\"},\"hovermode\":\"closest\",\"hoverlabel\":{\"align\":\"left\"},\"paper_bgcolor\":\"white\",\"plot_bgcolor\":\"#E5ECF6\",\"polar\":{\"bgcolor\":\"#E5ECF6\",\"angularaxis\":{\"gridcolor\":\"white\",\"linecolor\":\"white\",\"ticks\":\"\"},\"radialaxis\":{\"gridcolor\":\"white\",\"linecolor\":\"white\",\"ticks\":\"\"}},\"ternary\":{\"bgcolor\":\"#E5ECF6\",\"aaxis\":{\"gridcolor\":\"white\",\"linecolor\":\"white\",\"ticks\":\"\"},\"baxis\":{\"gridcolor\":\"white\",\"linecolor\":\"white\",\"ticks\":\"\"},\"caxis\":{\"gridcolor\":\"white\",\"linecolor\":\"white\",\"ticks\":\"\"}},\"coloraxis\":{\"colorbar\":{\"outlinewidth\":0,\"ticks\":\"\"}},\"colorscale\":{\"sequential\":[[0.0,\"#0d0887\"],[0.1111111111111111,\"#46039f\"],[0.2222222222222222,\"#7201a8\"],[0.3333333333333333,\"#9c179e\"],[0.4444444444444444,\"#bd3786\"],[0.5555555555555556,\"#d8576b\"],[0.6666666666666666,\"#ed7953\"],[0.7777777777777778,\"#fb9f3a\"],[0.8888888888888888,\"#fdca26\"],[1.0,\"#f0f921\"]],\"sequentialminus\":[[0.0,\"#0d0887\"],[0.1111111111111111,\"#46039f\"],[0.2222222222222222,\"#7201a8\"],[0.3333333333333333,\"#9c179e\"],[0.4444444444444444,\"#bd3786\"],[0.5555555555555556,\"#d8576b\"],[0.6666666666666666,\"#ed7953\"],[0.7777777777777778,\"#fb9f3a\"],[0.8888888888888888,\"#fdca26\"],[1.0,\"#f0f921\"]],\"diverging\":[[0,\"#8e0152\"],[0.1,\"#c51b7d\"],[0.2,\"#de77ae\"],[0.3,\"#f1b6da\"],[0.4,\"#fde0ef\"],[0.5,\"#f7f7f7\"],[0.6,\"#e6f5d0\"],[0.7,\"#b8e186\"],[0.8,\"#7fbc41\"],[0.9,\"#4d9221\"],[1,\"#276419\"]]},\"xaxis\":{\"gridcolor\":\"white\",\"linecolor\":\"white\",\"ticks\":\"\",\"title\":{\"standoff\":15},\"zerolinecolor\":\"white\",\"automargin\":true,\"zerolinewidth\":2},\"yaxis\":{\"gridcolor\":\"white\",\"linecolor\":\"white\",\"ticks\":\"\",\"title\":{\"standoff\":15},\"zerolinecolor\":\"white\",\"automargin\":true,\"zerolinewidth\":2},\"scene\":{\"xaxis\":{\"backgroundcolor\":\"#E5ECF6\",\"gridcolor\":\"white\",\"linecolor\":\"white\",\"showbackground\":true,\"ticks\":\"\",\"zerolinecolor\":\"white\",\"gridwidth\":2},\"yaxis\":{\"backgroundcolor\":\"#E5ECF6\",\"gridcolor\":\"white\",\"linecolor\":\"white\",\"showbackground\":true,\"ticks\":\"\",\"zerolinecolor\":\"white\",\"gridwidth\":2},\"zaxis\":{\"backgroundcolor\":\"#E5ECF6\",\"gridcolor\":\"white\",\"linecolor\":\"white\",\"showbackground\":true,\"ticks\":\"\",\"zerolinecolor\":\"white\",\"gridwidth\":2}},\"shapedefaults\":{\"line\":{\"color\":\"#2a3f5f\"}},\"annotationdefaults\":{\"arrowcolor\":\"#2a3f5f\",\"arrowhead\":0,\"arrowwidth\":1},\"geo\":{\"bgcolor\":\"white\",\"landcolor\":\"#E5ECF6\",\"subunitcolor\":\"white\",\"showland\":true,\"showlakes\":true,\"lakecolor\":\"white\"},\"title\":{\"x\":0.05},\"mapbox\":{\"style\":\"light\"}}},\"legend\":{\"title\":{\"text\":\"Gender\"},\"tracegroupgap\":0},\"title\":{\"text\":\"Pairwise Relationships\"},\"dragmode\":\"select\",\"height\":800,\"width\":800},                        {\"responsive\": true}                    ).then(function(){\n",
       "                            \n",
       "var gd = document.getElementById('60090b53-3167-4c0f-bc50-f6bb4fdc84e6');\n",
       "var x = new MutationObserver(function (mutations, observer) {{\n",
       "        var display = window.getComputedStyle(gd).display;\n",
       "        if (!display || display === 'none') {{\n",
       "            console.log([gd, 'removed!']);\n",
       "            Plotly.purge(gd);\n",
       "            observer.disconnect();\n",
       "        }}\n",
       "}});\n",
       "\n",
       "// Listen for the removal of the full notebook cells\n",
       "var notebookContainer = gd.closest('#notebook-container');\n",
       "if (notebookContainer) {{\n",
       "    x.observe(notebookContainer, {childList: true});\n",
       "}}\n",
       "\n",
       "// Listen for the clearing of the current output cell\n",
       "var outputEl = gd.closest('.output');\n",
       "if (outputEl) {{\n",
       "    x.observe(outputEl, {childList: true});\n",
       "}}\n",
       "\n",
       "                        })                };                });            </script>        </div>"
      ]
     },
     "metadata": {},
     "output_type": "display_data"
    }
   ],
   "source": [
    "fig = px.scatter_matrix(df, dimensions=['Experience (Years)', 'Log_Salary', 'ID','Experience_Years','Experience_Years^2','Experience_Gender_M'],\n",
    "                        color='Gender', title='Pairwise Relationships')\n",
    "fig.update_layout(height=800, width=800)\n",
    "fig.show()"
   ]
  },
  {
   "cell_type": "markdown",
   "metadata": {},
   "source": [
    "#### To show the density of data points across two dimensions, such as Experience and Salary."
   ]
  },
  {
   "cell_type": "code",
   "execution_count": 30,
   "metadata": {},
   "outputs": [
    {
     "data": {
      "application/vnd.plotly.v1+json": {
       "config": {
        "plotlyServerURL": "https://plot.ly"
       },
       "data": [
        {
         "coloraxis": "coloraxis",
         "hovertemplate": "Experience (Years)=%{x}<br>Log_Salary=%{y}<br>count=%{z}<extra></extra>",
         "name": "",
         "type": "histogram2d",
         "x": [
          -0.9304325872265634,
          -0.6022376710972642,
          1.202834367613882,
          -0.4381402130326145,
          0.5464445353552834,
          0.5464445353552834,
          0.21824961922598404,
          -1.2586275033558627,
          -0.6022376710972642,
          -0.6022376710972642,
          1.5310292837431811,
          -1.2586275033558627,
          1.0387369095492323,
          -0.10994529690331525,
          -0.4381402130326145,
          0.5464445353552834,
          -0.9304325872265634,
          1.0387369095492323,
          -0.7663351291619138,
          -0.7663351291619138,
          1.6951267418078309,
          1.5310292837431811,
          -1.5868224194851621,
          0.5464445353552834,
          -1.094530045291213,
          0.054152161161334395,
          -0.7663351291619138,
          1.202834367613882,
          1.6951267418078309,
          1.6951267418078309,
          -0.2740427549679649,
          -0.4381402130326145,
          0.8746394514845827,
          -1.094530045291213,
          0.5464445353552834,
          -1.4227249614205124,
          0.710541993419933,
          -0.4381402130326145,
          -1.2586275033558627,
          -0.9304325872265634,
          0.21824961922598404,
          -1.4227249614205124,
          1.5310292837431811,
          -0.9304325872265634,
          -1.4227249614205124,
          0.054152161161334395,
          -1.4227249614205124,
          -1.4227249614205124,
          0.8746394514845827,
          -0.6022376710972642,
          0.5464445353552834,
          0.38234707729063366,
          1.202834367613882,
          0.710541993419933,
          0.38234707729063366,
          1.6951267418078309,
          0.054152161161334395,
          1.0387369095492323,
          -1.5868224194851621,
          -1.2586275033558627,
          -0.4381402130326145,
          1.202834367613882,
          -0.10994529690331525,
          -0.6022376710972642,
          -1.2586275033558627,
          1.202834367613882,
          -0.10994529690331525,
          -1.094530045291213,
          -1.2586275033558627,
          -1.4227249614205124,
          1.5310292837431811,
          -0.7663351291619138,
          1.5310292837431811,
          -1.4227249614205124,
          1.5310292837431811,
          -1.2586275033558627,
          0.8746394514845827,
          -1.2586275033558627,
          0.38234707729063366,
          -0.4381402130326145,
          0.38234707729063366,
          -1.5868224194851621,
          0.054152161161334395,
          1.6951267418078309,
          -0.7663351291619138,
          -1.094530045291213,
          -1.5868224194851621,
          -1.4227249614205124,
          0.21824961922598404,
          0.5464445353552834,
          -1.094530045291213,
          0.8746394514845827,
          -1.2586275033558627,
          1.0387369095492323,
          -0.2740427549679649,
          -1.4227249614205124,
          0.38234707729063366,
          0.054152161161334395,
          -1.094530045291213,
          -0.9304325872265634,
          -0.9304325872265634,
          -1.4227249614205124,
          -1.094530045291213,
          -0.10994529690331525,
          1.0387369095492323,
          -1.094530045291213,
          -0.6022376710972642,
          0.710541993419933,
          -1.2586275033558627,
          0.710541993419933,
          -0.10994529690331525,
          -1.4227249614205124,
          -1.2586275033558627,
          1.3669318256785314,
          -0.9304325872265634,
          1.3669318256785314,
          1.0387369095492323,
          -1.2586275033558627,
          0.5464445353552834,
          1.202834367613882,
          1.3669318256785314,
          0.5464445353552834,
          0.38234707729063366,
          1.3669318256785314,
          0.054152161161334395,
          1.3669318256785314,
          -0.7663351291619138,
          0.054152161161334395,
          0.21824961922598404,
          0.710541993419933,
          1.0387369095492323,
          -0.6022376710972642,
          -1.094530045291213,
          0.710541993419933,
          -1.4227249614205124,
          -1.094530045291213,
          -1.2586275033558627,
          0.8746394514845827,
          -1.094530045291213,
          0.054152161161334395,
          -1.094530045291213,
          -0.7663351291619138,
          -1.5868224194851621,
          -0.10994529690331525,
          0.38234707729063366,
          -1.4227249614205124,
          1.5310292837431811,
          -1.4227249614205124,
          1.5310292837431811,
          -0.4381402130326145,
          1.0387369095492323,
          1.5310292837431811,
          0.5464445353552834,
          -0.2740427549679649,
          -0.2740427549679649,
          -0.2740427549679649,
          -1.5868224194851621,
          -0.2740427549679649,
          0.8746394514845827,
          -1.2586275033558627,
          -0.2740427549679649,
          1.202834367613882,
          -0.7663351291619138,
          0.5464445353552834,
          0.710541993419933,
          -0.4381402130326145,
          0.5464445353552834,
          -1.094530045291213,
          1.202834367613882,
          0.21824961922598404,
          1.6951267418078309,
          0.21824961922598404,
          -0.10994529690331525,
          0.710541993419933,
          -0.7663351291619138,
          -0.6022376710972642,
          -0.7663351291619138,
          1.0387369095492323,
          1.6951267418078309,
          0.5464445353552834,
          1.202834367613882,
          0.38234707729063366,
          0.38234707729063366,
          -0.9304325872265634,
          0.710541993419933,
          0.38234707729063366,
          -1.2586275033558627,
          -1.4227249614205124,
          0.21824961922598404,
          0.21824961922598404,
          1.3669318256785314,
          -0.4381402130326145,
          0.8746394514845827,
          -0.4381402130326145,
          1.5310292837431811,
          0.38234707729063366,
          1.3669318256785314,
          1.0387369095492323,
          -1.2586275033558627,
          -0.2740427549679649,
          -0.4381402130326145,
          0.21824961922598404,
          0.21824961922598404,
          0.710541993419933,
          1.5310292837431811,
          1.5310292837431811,
          -0.10994529690331525,
          -1.5868224194851621,
          0.054152161161334395,
          0.21824961922598404,
          -0.9304325872265634,
          -0.6022376710972642,
          -0.6022376710972642,
          -0.2740427549679649,
          -0.10994529690331525,
          0.21824961922598404,
          0.710541993419933,
          0.710541993419933,
          0.21824961922598404,
          -0.9304325872265634,
          -1.094530045291213,
          -1.5868224194851621,
          -0.10994529690331525,
          -0.2740427549679649,
          1.3669318256785314,
          -0.10994529690331525,
          1.6951267418078309,
          0.710541993419933,
          1.3669318256785314,
          -1.5868224194851621,
          -1.094530045291213,
          0.710541993419933,
          1.5310292837431811,
          -0.9304325872265634,
          -0.2740427549679649,
          -1.5868224194851621,
          -0.7663351291619138,
          1.202834367613882,
          0.21824961922598404,
          0.710541993419933,
          -0.7663351291619138,
          1.5310292837431811,
          -1.5868224194851621,
          -1.094530045291213,
          0.5464445353552834,
          -1.2586275033558627,
          1.202834367613882,
          -1.094530045291213,
          0.054152161161334395,
          1.5310292837431811,
          -0.4381402130326145,
          -1.2586275033558627,
          1.0387369095492323,
          -0.9304325872265634,
          -0.6022376710972642,
          -1.4227249614205124,
          -0.10994529690331525,
          1.202834367613882,
          -1.094530045291213,
          0.710541993419933,
          -1.5868224194851621,
          0.21824961922598404,
          1.0387369095492323,
          -0.6022376710972642,
          0.054152161161334395,
          1.0387369095492323,
          -1.094530045291213,
          -0.7663351291619138,
          -0.10994529690331525,
          -0.7663351291619138,
          -0.4381402130326145,
          -1.4227249614205124,
          0.5464445353552834,
          1.5310292837431811,
          1.5310292837431811,
          0.5464445353552834,
          0.054152161161334395,
          0.21824961922598404,
          -1.5868224194851621,
          0.710541993419933,
          -0.7663351291619138,
          -1.2586275033558627,
          0.38234707729063366,
          0.054152161161334395,
          -0.6022376710972642,
          0.21824961922598404,
          1.6951267418078309,
          0.054152161161334395,
          -0.4381402130326145,
          -0.4381402130326145,
          -1.5868224194851621,
          0.8746394514845827,
          -0.2740427549679649,
          0.5464445353552834,
          -0.4381402130326145,
          -0.9304325872265634,
          -1.094530045291213,
          1.3669318256785314,
          1.0387369095492323,
          -0.9304325872265634,
          0.054152161161334395,
          1.5310292837431811,
          -0.2740427549679649,
          0.054152161161334395,
          0.8746394514845827,
          -0.6022376710972642,
          -1.5868224194851621,
          0.8746394514845827,
          -0.4381402130326145,
          0.38234707729063366,
          1.0387369095492323,
          1.3669318256785314,
          1.0387369095492323,
          -1.4227249614205124,
          0.054152161161334395,
          -0.7663351291619138,
          1.6951267418078309,
          1.3669318256785314,
          0.054152161161334395,
          0.054152161161334395,
          -1.2586275033558627,
          1.3669318256785314,
          0.8746394514845827,
          -1.5868224194851621,
          0.21824961922598404,
          -1.2586275033558627,
          0.8746394514845827,
          0.710541993419933,
          -0.10994529690331525,
          1.202834367613882,
          1.5310292837431811,
          1.6951267418078309,
          1.6951267418078309,
          1.6951267418078309,
          -1.2586275033558627,
          -1.094530045291213,
          -0.6022376710972642,
          1.0387369095492323,
          -0.9304325872265634,
          0.21824961922598404,
          -0.10994529690331525,
          0.38234707729063366,
          1.202834367613882,
          -0.6022376710972642,
          1.202834367613882,
          -0.9304325872265634,
          0.38234707729063366,
          1.5310292837431811,
          -0.10994529690331525,
          1.0387369095492323,
          1.5310292837431811,
          1.202834367613882,
          0.38234707729063366,
          -0.6022376710972642,
          1.202834367613882,
          -0.10994529690331525,
          0.054152161161334395,
          1.0387369095492323,
          -0.7663351291619138,
          -0.9304325872265634,
          1.6951267418078309,
          1.3669318256785314,
          0.5464445353552834,
          0.38234707729063366,
          -1.2586275033558627,
          -1.4227249614205124,
          0.054152161161334395,
          0.8746394514845827,
          1.0387369095492323,
          0.5464445353552834,
          -1.4227249614205124,
          -0.6022376710972642,
          0.5464445353552834,
          0.38234707729063366,
          0.5464445353552834,
          -1.094530045291213,
          -1.4227249614205124,
          0.21824961922598404,
          1.6951267418078309,
          1.0387369095492323,
          -1.4227249614205124,
          -1.5868224194851621,
          0.054152161161334395,
          0.710541993419933,
          0.710541993419933,
          -1.094530045291213,
          -1.094530045291213,
          -1.4227249614205124,
          -0.9304325872265634,
          -0.10994529690331525,
          0.21824961922598404,
          -1.094530045291213,
          -1.4227249614205124,
          -1.2586275033558627,
          -1.094530045291213,
          1.5310292837431811,
          1.6951267418078309,
          -0.10994529690331525,
          1.3669318256785314,
          0.21824961922598404
         ],
         "xaxis": "x",
         "xbingroup": "x",
         "y": [
          -0.36761709076186533,
          -0.10839570613433153,
          1.1055543153598433,
          -1.397859768138992,
          0.5937573667340736,
          -0.23602827484591316,
          -1.2209070634630255,
          -0.3272185148265362,
          -0.4883070220055694,
          0.7866530798923423,
          0.7160830386460577,
          -0.5339673605226344,
          0.29408885507543203,
          0.32405585037704226,
          0.5526508491079464,
          -0.21814439041905484,
          -0.3361659125878417,
          1.2231353664064075,
          0.10724881354329087,
          -1.1496834063385146,
          0.33878879621836466,
          1.8445328724428083,
          -1.6480288031242674,
          1.8730203823719438,
          -1.64840122758669,
          0.4808376523842501,
          0.7160644874751803,
          0.7078906213593535,
          -0.1860731975978039,
          0.8907138841521145,
          0.4704717097194461,
          0.241016421023216,
          -0.10805216732267603,
          -0.7303271821122551,
          -0.6154045667229182,
          -1.0288887302446486,
          0.9382857780564865,
          0.29136889072713373,
          -1.0346963713734993,
          0.31660855439698654,
          0.5281162188104614,
          -0.05684907303840489,
          0.534081595473689,
          -1.8881948600320015,
          -0.3015074776081569,
          0.2685467768526663,
          -0.2574266777924602,
          -1.079935822661515,
          0.12802224512888383,
          1.11221113788083,
          -0.23083076577605982,
          0.5637677525004146,
          1.3379175229135989,
          0.2863721826585316,
          0.4146787691066053,
          1.2540693425600482,
          1.0966985726416818,
          0.5881441916853105,
          -0.33367485489450716,
          -1.4663457128408492,
          -0.4989624367593149,
          2.1747263205898304,
          -1.560623721243561,
          0.6721245937688874,
          -2.7675336892433395,
          0.9796784873360941,
          1.1847454481498294,
          0.03722289080413461,
          -1.3384818005925037,
          -1.088547416244925,
          1.7609996940087607,
          -0.3583868456157684,
          0.9603101371505828,
          -1.8299664259219461,
          0.3963953282968101,
          0.3776856359090244,
          0.21707440917748722,
          0.17587217225309876,
          1.0344014872504157,
          -1.4158554481530348,
          -0.16173449088868969,
          -0.3784358243303446,
          1.3595001555234052,
          0.18523856548586495,
          -1.9529152520927378,
          -0.3647245129804658,
          -2.4236517959752866,
          -1.6595959031863683,
          0.6631290142543962,
          0.47240676889479355,
          -2.275206363477812,
          0.34681121600090287,
          -0.7360605670126725,
          0.09387563855777632,
          0.5640607650859855,
          -0.5669549973279374,
          1.5035689581521798,
          -0.6104246748615058,
          0.6946529782161456,
          0.15186460528010448,
          -2.0469086297056958,
          -0.03661436573804461,
          -0.9567354251694856,
          0.7630492294104916,
          0.6203611451464421,
          -1.08461440047752,
          0.2379851938357892,
          1.4759037994366464,
          -0.40539984584882255,
          -0.02893661738233339,
          0.492908693241368,
          -3.091226556063907,
          0.781069250081386,
          0.8120093684575201,
          -0.1935404737091964,
          2.278674887205842,
          1.5980921778262551,
          -2.358429979473999,
          1.1540466954774542,
          1.8190354951214065,
          2.265808803076531,
          0.4644770615543843,
          -0.6297505043038858,
          1.608416118459329,
          -0.6635379696872046,
          -0.24902368470217887,
          -1.0013164547225222,
          -0.9454991378935209,
          -0.10707084847309642,
          -0.7794972711480531,
          0.6439906599355878,
          -0.5549946033687431,
          -2.2613661034802397,
          0.5385575683759838,
          -2.1955139790327842,
          -0.3689035927940118,
          -1.118265400577752,
          -0.9395391062873077,
          0.05995458654975942,
          0.2473522930802477,
          -2.0931283828147187,
          -1.197412006045779,
          -1.810664086883904,
          -0.2786955830354418,
          1.6409623801731994,
          0.19599205563739175,
          1.095263522098292,
          -2.701310798891322,
          1.068012111454657,
          0.09119370571731168,
          1.5037251648403251,
          1.1039284165274335,
          1.2880451628756808,
          0.4578830086083096,
          0.5344367667030632,
          0.3778520987032574,
          -0.4196839786621601,
          -1.7129573116079366,
          0.2582719692220046,
          -0.9694276703681756,
          0.7289109994638122,
          1.9862114492806235,
          -1.7882743987388892,
          0.22107096189397193,
          0.3487871464806839,
          -0.10633507372011929,
          0.04471090210496683,
          -0.3776828652964721,
          1.0045272292933254,
          0.21920511454843059,
          1.1112865766313744,
          0.5490405871286651,
          0.20946158843322837,
          -1.213114046612104,
          0.45226846820054095,
          -0.44122710317275277,
          -1.392049927855349,
          -0.17423001725002354,
          -0.10800309361860115,
          -0.4062142195453754,
          0.16694532233149834,
          -0.044120079097271114,
          0.6115134701624505,
          -0.39767449926189063,
          -0.7685165230806503,
          0.9890276775798736,
          -0.23607952746034627,
          -1.0644166199187424,
          0.6175811163719913,
          -0.20125463957166234,
          0.6352328164781357,
          0.17413355757905088,
          -0.19705360579989528,
          -0.9472275206700309,
          0.2337274908364521,
          1.0646352833039936,
          1.7376136877206625,
          -0.47249297457449574,
          0.2699068539929098,
          0.09435675287078478,
          0.6968945062151198,
          1.339944807975679,
          0.5603862333418774,
          0.5089335185461611,
          0.6330583641443894,
          -0.12730288507085644,
          0.38616327257166255,
          0.5423577913762611,
          0.4195448299708022,
          -0.8564859192423631,
          -1.7843714658750578,
          -1.3798221948135956,
          0.07419734736291551,
          -0.34737519061367517,
          -1.1198906305334346,
          -0.2460394329528202,
          1.1391872841897537,
          0.7826838465374499,
          0.5464478893057871,
          -0.8053103478084103,
          -0.6470818943961087,
          -0.5571941896028395,
          0.10610817594420408,
          0.16690062007244272,
          0.593892725103526,
          0.2991152490569932,
          1.652271882755463,
          1.1856156137740614,
          1.2553055347945268,
          -1.641044224765747,
          -0.7993477030067789,
          1.4611017138500644,
          0.26597602838642126,
          -0.7403451307495285,
          0.5591929798983243,
          -1.690749286893959,
          -0.8345836654376916,
          0.5476463134626944,
          -0.7079556554167591,
          -0.9102727575336879,
          -1.573384777189904,
          1.0557877848347965,
          -2.0423168148952926,
          -0.3939410697473991,
          -0.8109735981179884,
          -1.6156839421017681,
          1.037796484840136,
          0.7007384914612051,
          -0.6830076728060821,
          0.135396300457379,
          -0.1006023265967335,
          -1.8224498082486358,
          0.994771510828342,
          0.3701433383179251,
          -0.1888712092830549,
          -0.844080911638918,
          0.5098289741071208,
          1.0075031134102,
          0.520077463807377,
          2.086978289412227,
          -0.9348252211332713,
          1.3478753498159868,
          1.0897451176070332,
          -0.8640238324767641,
          -0.33964100878167564,
          0.9519653962011695,
          0.6765275005270918,
          0.6885735975074911,
          0.19145155271722802,
          -1.673378022920395,
          -0.22924517486738313,
          -1.3075024726143498,
          0.7725098284727508,
          0.17725341669573952,
          -0.19591580236272746,
          0.224229233388989,
          0.8475643265136501,
          -0.6451675002432423,
          -0.5739016875362275,
          0.022001730121128354,
          -0.8986342813665069,
          -1.3264738790599793,
          -0.2922465904119332,
          0.12537122241842122,
          0.20379422282701629,
          1.0886009599783482,
          1.2466412796410002,
          0.08469652779076495,
          -0.457674911961247,
          -0.7279945527733495,
          -1.6741711010816287,
          1.2023203495226993,
          0.15980672698683873,
          -0.41995673046038,
          0.5012612562248266,
          -1.5079146057348485,
          -1.1917357408402702,
          0.3225933374542003,
          -0.24203088772197975,
          0.01638519920994578,
          0.8161007188290834,
          -0.07897248029089297,
          -0.8771502627659037,
          1.4008444156118212,
          1.0608420351590055,
          0.27773128443893635,
          -1.929331655275962,
          -0.01029212976314771,
          0.021837381291718846,
          0.6041232735374431,
          1.1132326840087967,
          0.5156328840563099,
          1.1396532788102416,
          -0.7162383734504684,
          0.5627517499178857,
          -0.14807271651926304,
          1.486564015172683,
          1.9663977918935502,
          0.08375405144952583,
          1.295918331467592,
          -0.8843580772440496,
          0.12664038554768545,
          -0.47046667566197387,
          -0.24274996881551797,
          -0.3319270717919878,
          -0.5394728604765154,
          1.5612531382803807,
          0.8903991597834795,
          0.7304067332660028,
          1.2274741790458152,
          -0.3307095326374285,
          1.5999894423102279,
          1.4735949721613462,
          0.5304880131533918,
          -1.0287545848056128,
          0.16488831627637718,
          -1.1438192656217299,
          -0.9914982847020771,
          -0.6777039284955547,
          0.39273326964831223,
          0.052133457739741366,
          -1.2473345991038132,
          -0.3010882778809925,
          -0.24133765422925235,
          0.06886437545502178,
          -0.43069591599067514,
          0.5042129572586006,
          1.9665312959258576,
          -0.2163365011031876,
          -0.8358712325230935,
          1.7996414161007723,
          0.8037195513914728,
          0.678914361248283,
          0.6270416539545766,
          -0.2700503406928258,
          0.8764124956871,
          1.3572624344561737,
          0.9999651014411606,
          -1.4563643207230277,
          -0.8106932913481844,
          0.9928468845954135,
          1.5623113027442435,
          -0.6291062161340752,
          1.3981816576465693,
          -0.3391632717302819,
          -1.363471841593969,
          -1.243256141239518,
          -0.1406451927339677,
          0.6996940207513623,
          0.7323076199658703,
          -2.0754238867496126,
          0.1077277497143897,
          0.7821396993710893,
          -0.18602280732922657,
          0.8663812223476125,
          -0.4825896955561618,
          -0.5290664772675849,
          0.7361609949027036,
          1.258455479878166,
          0.5328776412086726,
          -0.3486528844102252,
          -0.4828683323398659,
          -0.9082761625542225,
          -0.07031150350408243,
          -0.4075176857365692,
          -0.7014962517067247,
          -0.5781293795938898,
          -0.542570675689458,
          -0.5648627188751477,
          -0.436231067492371,
          -1.8689545795311362,
          0.7348340852794457,
          -1.3301119816288114,
          -0.9248372277734712,
          -2.412957889487348,
          1.8831504164185764,
          1.1293359658121687,
          -1.1077748671354242,
          0.1252352082302301,
          0.8995125479404844
         ],
         "yaxis": "y",
         "ybingroup": "y"
        },
        {
         "alignmentgroup": "True",
         "bingroup": "x",
         "hovertemplate": "Experience (Years)=%{x}<br>count=%{y}<extra></extra>",
         "legendgroup": "",
         "marker": {
          "color": "#0d0887"
         },
         "name": "",
         "offsetgroup": "",
         "opacity": 0.5,
         "showlegend": false,
         "type": "histogram",
         "x": [
          -0.9304325872265634,
          -0.6022376710972642,
          1.202834367613882,
          -0.4381402130326145,
          0.5464445353552834,
          0.5464445353552834,
          0.21824961922598404,
          -1.2586275033558627,
          -0.6022376710972642,
          -0.6022376710972642,
          1.5310292837431811,
          -1.2586275033558627,
          1.0387369095492323,
          -0.10994529690331525,
          -0.4381402130326145,
          0.5464445353552834,
          -0.9304325872265634,
          1.0387369095492323,
          -0.7663351291619138,
          -0.7663351291619138,
          1.6951267418078309,
          1.5310292837431811,
          -1.5868224194851621,
          0.5464445353552834,
          -1.094530045291213,
          0.054152161161334395,
          -0.7663351291619138,
          1.202834367613882,
          1.6951267418078309,
          1.6951267418078309,
          -0.2740427549679649,
          -0.4381402130326145,
          0.8746394514845827,
          -1.094530045291213,
          0.5464445353552834,
          -1.4227249614205124,
          0.710541993419933,
          -0.4381402130326145,
          -1.2586275033558627,
          -0.9304325872265634,
          0.21824961922598404,
          -1.4227249614205124,
          1.5310292837431811,
          -0.9304325872265634,
          -1.4227249614205124,
          0.054152161161334395,
          -1.4227249614205124,
          -1.4227249614205124,
          0.8746394514845827,
          -0.6022376710972642,
          0.5464445353552834,
          0.38234707729063366,
          1.202834367613882,
          0.710541993419933,
          0.38234707729063366,
          1.6951267418078309,
          0.054152161161334395,
          1.0387369095492323,
          -1.5868224194851621,
          -1.2586275033558627,
          -0.4381402130326145,
          1.202834367613882,
          -0.10994529690331525,
          -0.6022376710972642,
          -1.2586275033558627,
          1.202834367613882,
          -0.10994529690331525,
          -1.094530045291213,
          -1.2586275033558627,
          -1.4227249614205124,
          1.5310292837431811,
          -0.7663351291619138,
          1.5310292837431811,
          -1.4227249614205124,
          1.5310292837431811,
          -1.2586275033558627,
          0.8746394514845827,
          -1.2586275033558627,
          0.38234707729063366,
          -0.4381402130326145,
          0.38234707729063366,
          -1.5868224194851621,
          0.054152161161334395,
          1.6951267418078309,
          -0.7663351291619138,
          -1.094530045291213,
          -1.5868224194851621,
          -1.4227249614205124,
          0.21824961922598404,
          0.5464445353552834,
          -1.094530045291213,
          0.8746394514845827,
          -1.2586275033558627,
          1.0387369095492323,
          -0.2740427549679649,
          -1.4227249614205124,
          0.38234707729063366,
          0.054152161161334395,
          -1.094530045291213,
          -0.9304325872265634,
          -0.9304325872265634,
          -1.4227249614205124,
          -1.094530045291213,
          -0.10994529690331525,
          1.0387369095492323,
          -1.094530045291213,
          -0.6022376710972642,
          0.710541993419933,
          -1.2586275033558627,
          0.710541993419933,
          -0.10994529690331525,
          -1.4227249614205124,
          -1.2586275033558627,
          1.3669318256785314,
          -0.9304325872265634,
          1.3669318256785314,
          1.0387369095492323,
          -1.2586275033558627,
          0.5464445353552834,
          1.202834367613882,
          1.3669318256785314,
          0.5464445353552834,
          0.38234707729063366,
          1.3669318256785314,
          0.054152161161334395,
          1.3669318256785314,
          -0.7663351291619138,
          0.054152161161334395,
          0.21824961922598404,
          0.710541993419933,
          1.0387369095492323,
          -0.6022376710972642,
          -1.094530045291213,
          0.710541993419933,
          -1.4227249614205124,
          -1.094530045291213,
          -1.2586275033558627,
          0.8746394514845827,
          -1.094530045291213,
          0.054152161161334395,
          -1.094530045291213,
          -0.7663351291619138,
          -1.5868224194851621,
          -0.10994529690331525,
          0.38234707729063366,
          -1.4227249614205124,
          1.5310292837431811,
          -1.4227249614205124,
          1.5310292837431811,
          -0.4381402130326145,
          1.0387369095492323,
          1.5310292837431811,
          0.5464445353552834,
          -0.2740427549679649,
          -0.2740427549679649,
          -0.2740427549679649,
          -1.5868224194851621,
          -0.2740427549679649,
          0.8746394514845827,
          -1.2586275033558627,
          -0.2740427549679649,
          1.202834367613882,
          -0.7663351291619138,
          0.5464445353552834,
          0.710541993419933,
          -0.4381402130326145,
          0.5464445353552834,
          -1.094530045291213,
          1.202834367613882,
          0.21824961922598404,
          1.6951267418078309,
          0.21824961922598404,
          -0.10994529690331525,
          0.710541993419933,
          -0.7663351291619138,
          -0.6022376710972642,
          -0.7663351291619138,
          1.0387369095492323,
          1.6951267418078309,
          0.5464445353552834,
          1.202834367613882,
          0.38234707729063366,
          0.38234707729063366,
          -0.9304325872265634,
          0.710541993419933,
          0.38234707729063366,
          -1.2586275033558627,
          -1.4227249614205124,
          0.21824961922598404,
          0.21824961922598404,
          1.3669318256785314,
          -0.4381402130326145,
          0.8746394514845827,
          -0.4381402130326145,
          1.5310292837431811,
          0.38234707729063366,
          1.3669318256785314,
          1.0387369095492323,
          -1.2586275033558627,
          -0.2740427549679649,
          -0.4381402130326145,
          0.21824961922598404,
          0.21824961922598404,
          0.710541993419933,
          1.5310292837431811,
          1.5310292837431811,
          -0.10994529690331525,
          -1.5868224194851621,
          0.054152161161334395,
          0.21824961922598404,
          -0.9304325872265634,
          -0.6022376710972642,
          -0.6022376710972642,
          -0.2740427549679649,
          -0.10994529690331525,
          0.21824961922598404,
          0.710541993419933,
          0.710541993419933,
          0.21824961922598404,
          -0.9304325872265634,
          -1.094530045291213,
          -1.5868224194851621,
          -0.10994529690331525,
          -0.2740427549679649,
          1.3669318256785314,
          -0.10994529690331525,
          1.6951267418078309,
          0.710541993419933,
          1.3669318256785314,
          -1.5868224194851621,
          -1.094530045291213,
          0.710541993419933,
          1.5310292837431811,
          -0.9304325872265634,
          -0.2740427549679649,
          -1.5868224194851621,
          -0.7663351291619138,
          1.202834367613882,
          0.21824961922598404,
          0.710541993419933,
          -0.7663351291619138,
          1.5310292837431811,
          -1.5868224194851621,
          -1.094530045291213,
          0.5464445353552834,
          -1.2586275033558627,
          1.202834367613882,
          -1.094530045291213,
          0.054152161161334395,
          1.5310292837431811,
          -0.4381402130326145,
          -1.2586275033558627,
          1.0387369095492323,
          -0.9304325872265634,
          -0.6022376710972642,
          -1.4227249614205124,
          -0.10994529690331525,
          1.202834367613882,
          -1.094530045291213,
          0.710541993419933,
          -1.5868224194851621,
          0.21824961922598404,
          1.0387369095492323,
          -0.6022376710972642,
          0.054152161161334395,
          1.0387369095492323,
          -1.094530045291213,
          -0.7663351291619138,
          -0.10994529690331525,
          -0.7663351291619138,
          -0.4381402130326145,
          -1.4227249614205124,
          0.5464445353552834,
          1.5310292837431811,
          1.5310292837431811,
          0.5464445353552834,
          0.054152161161334395,
          0.21824961922598404,
          -1.5868224194851621,
          0.710541993419933,
          -0.7663351291619138,
          -1.2586275033558627,
          0.38234707729063366,
          0.054152161161334395,
          -0.6022376710972642,
          0.21824961922598404,
          1.6951267418078309,
          0.054152161161334395,
          -0.4381402130326145,
          -0.4381402130326145,
          -1.5868224194851621,
          0.8746394514845827,
          -0.2740427549679649,
          0.5464445353552834,
          -0.4381402130326145,
          -0.9304325872265634,
          -1.094530045291213,
          1.3669318256785314,
          1.0387369095492323,
          -0.9304325872265634,
          0.054152161161334395,
          1.5310292837431811,
          -0.2740427549679649,
          0.054152161161334395,
          0.8746394514845827,
          -0.6022376710972642,
          -1.5868224194851621,
          0.8746394514845827,
          -0.4381402130326145,
          0.38234707729063366,
          1.0387369095492323,
          1.3669318256785314,
          1.0387369095492323,
          -1.4227249614205124,
          0.054152161161334395,
          -0.7663351291619138,
          1.6951267418078309,
          1.3669318256785314,
          0.054152161161334395,
          0.054152161161334395,
          -1.2586275033558627,
          1.3669318256785314,
          0.8746394514845827,
          -1.5868224194851621,
          0.21824961922598404,
          -1.2586275033558627,
          0.8746394514845827,
          0.710541993419933,
          -0.10994529690331525,
          1.202834367613882,
          1.5310292837431811,
          1.6951267418078309,
          1.6951267418078309,
          1.6951267418078309,
          -1.2586275033558627,
          -1.094530045291213,
          -0.6022376710972642,
          1.0387369095492323,
          -0.9304325872265634,
          0.21824961922598404,
          -0.10994529690331525,
          0.38234707729063366,
          1.202834367613882,
          -0.6022376710972642,
          1.202834367613882,
          -0.9304325872265634,
          0.38234707729063366,
          1.5310292837431811,
          -0.10994529690331525,
          1.0387369095492323,
          1.5310292837431811,
          1.202834367613882,
          0.38234707729063366,
          -0.6022376710972642,
          1.202834367613882,
          -0.10994529690331525,
          0.054152161161334395,
          1.0387369095492323,
          -0.7663351291619138,
          -0.9304325872265634,
          1.6951267418078309,
          1.3669318256785314,
          0.5464445353552834,
          0.38234707729063366,
          -1.2586275033558627,
          -1.4227249614205124,
          0.054152161161334395,
          0.8746394514845827,
          1.0387369095492323,
          0.5464445353552834,
          -1.4227249614205124,
          -0.6022376710972642,
          0.5464445353552834,
          0.38234707729063366,
          0.5464445353552834,
          -1.094530045291213,
          -1.4227249614205124,
          0.21824961922598404,
          1.6951267418078309,
          1.0387369095492323,
          -1.4227249614205124,
          -1.5868224194851621,
          0.054152161161334395,
          0.710541993419933,
          0.710541993419933,
          -1.094530045291213,
          -1.094530045291213,
          -1.4227249614205124,
          -0.9304325872265634,
          -0.10994529690331525,
          0.21824961922598404,
          -1.094530045291213,
          -1.4227249614205124,
          -1.2586275033558627,
          -1.094530045291213,
          1.5310292837431811,
          1.6951267418078309,
          -0.10994529690331525,
          1.3669318256785314,
          0.21824961922598404
         ],
         "xaxis": "x3",
         "yaxis": "y3"
        },
        {
         "alignmentgroup": "True",
         "bingroup": "y",
         "hovertemplate": "Log_Salary=%{y}<br>count=%{x}<extra></extra>",
         "legendgroup": "",
         "marker": {
          "color": "#0d0887"
         },
         "name": "",
         "offsetgroup": "",
         "opacity": 0.5,
         "showlegend": false,
         "type": "histogram",
         "xaxis": "x2",
         "y": [
          -0.36761709076186533,
          -0.10839570613433153,
          1.1055543153598433,
          -1.397859768138992,
          0.5937573667340736,
          -0.23602827484591316,
          -1.2209070634630255,
          -0.3272185148265362,
          -0.4883070220055694,
          0.7866530798923423,
          0.7160830386460577,
          -0.5339673605226344,
          0.29408885507543203,
          0.32405585037704226,
          0.5526508491079464,
          -0.21814439041905484,
          -0.3361659125878417,
          1.2231353664064075,
          0.10724881354329087,
          -1.1496834063385146,
          0.33878879621836466,
          1.8445328724428083,
          -1.6480288031242674,
          1.8730203823719438,
          -1.64840122758669,
          0.4808376523842501,
          0.7160644874751803,
          0.7078906213593535,
          -0.1860731975978039,
          0.8907138841521145,
          0.4704717097194461,
          0.241016421023216,
          -0.10805216732267603,
          -0.7303271821122551,
          -0.6154045667229182,
          -1.0288887302446486,
          0.9382857780564865,
          0.29136889072713373,
          -1.0346963713734993,
          0.31660855439698654,
          0.5281162188104614,
          -0.05684907303840489,
          0.534081595473689,
          -1.8881948600320015,
          -0.3015074776081569,
          0.2685467768526663,
          -0.2574266777924602,
          -1.079935822661515,
          0.12802224512888383,
          1.11221113788083,
          -0.23083076577605982,
          0.5637677525004146,
          1.3379175229135989,
          0.2863721826585316,
          0.4146787691066053,
          1.2540693425600482,
          1.0966985726416818,
          0.5881441916853105,
          -0.33367485489450716,
          -1.4663457128408492,
          -0.4989624367593149,
          2.1747263205898304,
          -1.560623721243561,
          0.6721245937688874,
          -2.7675336892433395,
          0.9796784873360941,
          1.1847454481498294,
          0.03722289080413461,
          -1.3384818005925037,
          -1.088547416244925,
          1.7609996940087607,
          -0.3583868456157684,
          0.9603101371505828,
          -1.8299664259219461,
          0.3963953282968101,
          0.3776856359090244,
          0.21707440917748722,
          0.17587217225309876,
          1.0344014872504157,
          -1.4158554481530348,
          -0.16173449088868969,
          -0.3784358243303446,
          1.3595001555234052,
          0.18523856548586495,
          -1.9529152520927378,
          -0.3647245129804658,
          -2.4236517959752866,
          -1.6595959031863683,
          0.6631290142543962,
          0.47240676889479355,
          -2.275206363477812,
          0.34681121600090287,
          -0.7360605670126725,
          0.09387563855777632,
          0.5640607650859855,
          -0.5669549973279374,
          1.5035689581521798,
          -0.6104246748615058,
          0.6946529782161456,
          0.15186460528010448,
          -2.0469086297056958,
          -0.03661436573804461,
          -0.9567354251694856,
          0.7630492294104916,
          0.6203611451464421,
          -1.08461440047752,
          0.2379851938357892,
          1.4759037994366464,
          -0.40539984584882255,
          -0.02893661738233339,
          0.492908693241368,
          -3.091226556063907,
          0.781069250081386,
          0.8120093684575201,
          -0.1935404737091964,
          2.278674887205842,
          1.5980921778262551,
          -2.358429979473999,
          1.1540466954774542,
          1.8190354951214065,
          2.265808803076531,
          0.4644770615543843,
          -0.6297505043038858,
          1.608416118459329,
          -0.6635379696872046,
          -0.24902368470217887,
          -1.0013164547225222,
          -0.9454991378935209,
          -0.10707084847309642,
          -0.7794972711480531,
          0.6439906599355878,
          -0.5549946033687431,
          -2.2613661034802397,
          0.5385575683759838,
          -2.1955139790327842,
          -0.3689035927940118,
          -1.118265400577752,
          -0.9395391062873077,
          0.05995458654975942,
          0.2473522930802477,
          -2.0931283828147187,
          -1.197412006045779,
          -1.810664086883904,
          -0.2786955830354418,
          1.6409623801731994,
          0.19599205563739175,
          1.095263522098292,
          -2.701310798891322,
          1.068012111454657,
          0.09119370571731168,
          1.5037251648403251,
          1.1039284165274335,
          1.2880451628756808,
          0.4578830086083096,
          0.5344367667030632,
          0.3778520987032574,
          -0.4196839786621601,
          -1.7129573116079366,
          0.2582719692220046,
          -0.9694276703681756,
          0.7289109994638122,
          1.9862114492806235,
          -1.7882743987388892,
          0.22107096189397193,
          0.3487871464806839,
          -0.10633507372011929,
          0.04471090210496683,
          -0.3776828652964721,
          1.0045272292933254,
          0.21920511454843059,
          1.1112865766313744,
          0.5490405871286651,
          0.20946158843322837,
          -1.213114046612104,
          0.45226846820054095,
          -0.44122710317275277,
          -1.392049927855349,
          -0.17423001725002354,
          -0.10800309361860115,
          -0.4062142195453754,
          0.16694532233149834,
          -0.044120079097271114,
          0.6115134701624505,
          -0.39767449926189063,
          -0.7685165230806503,
          0.9890276775798736,
          -0.23607952746034627,
          -1.0644166199187424,
          0.6175811163719913,
          -0.20125463957166234,
          0.6352328164781357,
          0.17413355757905088,
          -0.19705360579989528,
          -0.9472275206700309,
          0.2337274908364521,
          1.0646352833039936,
          1.7376136877206625,
          -0.47249297457449574,
          0.2699068539929098,
          0.09435675287078478,
          0.6968945062151198,
          1.339944807975679,
          0.5603862333418774,
          0.5089335185461611,
          0.6330583641443894,
          -0.12730288507085644,
          0.38616327257166255,
          0.5423577913762611,
          0.4195448299708022,
          -0.8564859192423631,
          -1.7843714658750578,
          -1.3798221948135956,
          0.07419734736291551,
          -0.34737519061367517,
          -1.1198906305334346,
          -0.2460394329528202,
          1.1391872841897537,
          0.7826838465374499,
          0.5464478893057871,
          -0.8053103478084103,
          -0.6470818943961087,
          -0.5571941896028395,
          0.10610817594420408,
          0.16690062007244272,
          0.593892725103526,
          0.2991152490569932,
          1.652271882755463,
          1.1856156137740614,
          1.2553055347945268,
          -1.641044224765747,
          -0.7993477030067789,
          1.4611017138500644,
          0.26597602838642126,
          -0.7403451307495285,
          0.5591929798983243,
          -1.690749286893959,
          -0.8345836654376916,
          0.5476463134626944,
          -0.7079556554167591,
          -0.9102727575336879,
          -1.573384777189904,
          1.0557877848347965,
          -2.0423168148952926,
          -0.3939410697473991,
          -0.8109735981179884,
          -1.6156839421017681,
          1.037796484840136,
          0.7007384914612051,
          -0.6830076728060821,
          0.135396300457379,
          -0.1006023265967335,
          -1.8224498082486358,
          0.994771510828342,
          0.3701433383179251,
          -0.1888712092830549,
          -0.844080911638918,
          0.5098289741071208,
          1.0075031134102,
          0.520077463807377,
          2.086978289412227,
          -0.9348252211332713,
          1.3478753498159868,
          1.0897451176070332,
          -0.8640238324767641,
          -0.33964100878167564,
          0.9519653962011695,
          0.6765275005270918,
          0.6885735975074911,
          0.19145155271722802,
          -1.673378022920395,
          -0.22924517486738313,
          -1.3075024726143498,
          0.7725098284727508,
          0.17725341669573952,
          -0.19591580236272746,
          0.224229233388989,
          0.8475643265136501,
          -0.6451675002432423,
          -0.5739016875362275,
          0.022001730121128354,
          -0.8986342813665069,
          -1.3264738790599793,
          -0.2922465904119332,
          0.12537122241842122,
          0.20379422282701629,
          1.0886009599783482,
          1.2466412796410002,
          0.08469652779076495,
          -0.457674911961247,
          -0.7279945527733495,
          -1.6741711010816287,
          1.2023203495226993,
          0.15980672698683873,
          -0.41995673046038,
          0.5012612562248266,
          -1.5079146057348485,
          -1.1917357408402702,
          0.3225933374542003,
          -0.24203088772197975,
          0.01638519920994578,
          0.8161007188290834,
          -0.07897248029089297,
          -0.8771502627659037,
          1.4008444156118212,
          1.0608420351590055,
          0.27773128443893635,
          -1.929331655275962,
          -0.01029212976314771,
          0.021837381291718846,
          0.6041232735374431,
          1.1132326840087967,
          0.5156328840563099,
          1.1396532788102416,
          -0.7162383734504684,
          0.5627517499178857,
          -0.14807271651926304,
          1.486564015172683,
          1.9663977918935502,
          0.08375405144952583,
          1.295918331467592,
          -0.8843580772440496,
          0.12664038554768545,
          -0.47046667566197387,
          -0.24274996881551797,
          -0.3319270717919878,
          -0.5394728604765154,
          1.5612531382803807,
          0.8903991597834795,
          0.7304067332660028,
          1.2274741790458152,
          -0.3307095326374285,
          1.5999894423102279,
          1.4735949721613462,
          0.5304880131533918,
          -1.0287545848056128,
          0.16488831627637718,
          -1.1438192656217299,
          -0.9914982847020771,
          -0.6777039284955547,
          0.39273326964831223,
          0.052133457739741366,
          -1.2473345991038132,
          -0.3010882778809925,
          -0.24133765422925235,
          0.06886437545502178,
          -0.43069591599067514,
          0.5042129572586006,
          1.9665312959258576,
          -0.2163365011031876,
          -0.8358712325230935,
          1.7996414161007723,
          0.8037195513914728,
          0.678914361248283,
          0.6270416539545766,
          -0.2700503406928258,
          0.8764124956871,
          1.3572624344561737,
          0.9999651014411606,
          -1.4563643207230277,
          -0.8106932913481844,
          0.9928468845954135,
          1.5623113027442435,
          -0.6291062161340752,
          1.3981816576465693,
          -0.3391632717302819,
          -1.363471841593969,
          -1.243256141239518,
          -0.1406451927339677,
          0.6996940207513623,
          0.7323076199658703,
          -2.0754238867496126,
          0.1077277497143897,
          0.7821396993710893,
          -0.18602280732922657,
          0.8663812223476125,
          -0.4825896955561618,
          -0.5290664772675849,
          0.7361609949027036,
          1.258455479878166,
          0.5328776412086726,
          -0.3486528844102252,
          -0.4828683323398659,
          -0.9082761625542225,
          -0.07031150350408243,
          -0.4075176857365692,
          -0.7014962517067247,
          -0.5781293795938898,
          -0.542570675689458,
          -0.5648627188751477,
          -0.436231067492371,
          -1.8689545795311362,
          0.7348340852794457,
          -1.3301119816288114,
          -0.9248372277734712,
          -2.412957889487348,
          1.8831504164185764,
          1.1293359658121687,
          -1.1077748671354242,
          0.1252352082302301,
          0.8995125479404844
         ],
         "yaxis": "y2"
        }
       ],
       "layout": {
        "barmode": "overlay",
        "coloraxis": {
         "colorbar": {
          "title": {
           "text": "count"
          }
         },
         "colorscale": [
          [
           0,
           "#0d0887"
          ],
          [
           0.1111111111111111,
           "#46039f"
          ],
          [
           0.2222222222222222,
           "#7201a8"
          ],
          [
           0.3333333333333333,
           "#9c179e"
          ],
          [
           0.4444444444444444,
           "#bd3786"
          ],
          [
           0.5555555555555556,
           "#d8576b"
          ],
          [
           0.6666666666666666,
           "#ed7953"
          ],
          [
           0.7777777777777778,
           "#fb9f3a"
          ],
          [
           0.8888888888888888,
           "#fdca26"
          ],
          [
           1,
           "#f0f921"
          ]
         ]
        },
        "height": 600,
        "legend": {
         "tracegroupgap": 0
        },
        "template": {
         "data": {
          "bar": [
           {
            "error_x": {
             "color": "#2a3f5f"
            },
            "error_y": {
             "color": "#2a3f5f"
            },
            "marker": {
             "line": {
              "color": "#E5ECF6",
              "width": 0.5
             },
             "pattern": {
              "fillmode": "overlay",
              "size": 10,
              "solidity": 0.2
             }
            },
            "type": "bar"
           }
          ],
          "barpolar": [
           {
            "marker": {
             "line": {
              "color": "#E5ECF6",
              "width": 0.5
             },
             "pattern": {
              "fillmode": "overlay",
              "size": 10,
              "solidity": 0.2
             }
            },
            "type": "barpolar"
           }
          ],
          "carpet": [
           {
            "aaxis": {
             "endlinecolor": "#2a3f5f",
             "gridcolor": "white",
             "linecolor": "white",
             "minorgridcolor": "white",
             "startlinecolor": "#2a3f5f"
            },
            "baxis": {
             "endlinecolor": "#2a3f5f",
             "gridcolor": "white",
             "linecolor": "white",
             "minorgridcolor": "white",
             "startlinecolor": "#2a3f5f"
            },
            "type": "carpet"
           }
          ],
          "choropleth": [
           {
            "colorbar": {
             "outlinewidth": 0,
             "ticks": ""
            },
            "type": "choropleth"
           }
          ],
          "contour": [
           {
            "colorbar": {
             "outlinewidth": 0,
             "ticks": ""
            },
            "colorscale": [
             [
              0,
              "#0d0887"
             ],
             [
              0.1111111111111111,
              "#46039f"
             ],
             [
              0.2222222222222222,
              "#7201a8"
             ],
             [
              0.3333333333333333,
              "#9c179e"
             ],
             [
              0.4444444444444444,
              "#bd3786"
             ],
             [
              0.5555555555555556,
              "#d8576b"
             ],
             [
              0.6666666666666666,
              "#ed7953"
             ],
             [
              0.7777777777777778,
              "#fb9f3a"
             ],
             [
              0.8888888888888888,
              "#fdca26"
             ],
             [
              1,
              "#f0f921"
             ]
            ],
            "type": "contour"
           }
          ],
          "contourcarpet": [
           {
            "colorbar": {
             "outlinewidth": 0,
             "ticks": ""
            },
            "type": "contourcarpet"
           }
          ],
          "heatmap": [
           {
            "colorbar": {
             "outlinewidth": 0,
             "ticks": ""
            },
            "colorscale": [
             [
              0,
              "#0d0887"
             ],
             [
              0.1111111111111111,
              "#46039f"
             ],
             [
              0.2222222222222222,
              "#7201a8"
             ],
             [
              0.3333333333333333,
              "#9c179e"
             ],
             [
              0.4444444444444444,
              "#bd3786"
             ],
             [
              0.5555555555555556,
              "#d8576b"
             ],
             [
              0.6666666666666666,
              "#ed7953"
             ],
             [
              0.7777777777777778,
              "#fb9f3a"
             ],
             [
              0.8888888888888888,
              "#fdca26"
             ],
             [
              1,
              "#f0f921"
             ]
            ],
            "type": "heatmap"
           }
          ],
          "heatmapgl": [
           {
            "colorbar": {
             "outlinewidth": 0,
             "ticks": ""
            },
            "colorscale": [
             [
              0,
              "#0d0887"
             ],
             [
              0.1111111111111111,
              "#46039f"
             ],
             [
              0.2222222222222222,
              "#7201a8"
             ],
             [
              0.3333333333333333,
              "#9c179e"
             ],
             [
              0.4444444444444444,
              "#bd3786"
             ],
             [
              0.5555555555555556,
              "#d8576b"
             ],
             [
              0.6666666666666666,
              "#ed7953"
             ],
             [
              0.7777777777777778,
              "#fb9f3a"
             ],
             [
              0.8888888888888888,
              "#fdca26"
             ],
             [
              1,
              "#f0f921"
             ]
            ],
            "type": "heatmapgl"
           }
          ],
          "histogram": [
           {
            "marker": {
             "pattern": {
              "fillmode": "overlay",
              "size": 10,
              "solidity": 0.2
             }
            },
            "type": "histogram"
           }
          ],
          "histogram2d": [
           {
            "colorbar": {
             "outlinewidth": 0,
             "ticks": ""
            },
            "colorscale": [
             [
              0,
              "#0d0887"
             ],
             [
              0.1111111111111111,
              "#46039f"
             ],
             [
              0.2222222222222222,
              "#7201a8"
             ],
             [
              0.3333333333333333,
              "#9c179e"
             ],
             [
              0.4444444444444444,
              "#bd3786"
             ],
             [
              0.5555555555555556,
              "#d8576b"
             ],
             [
              0.6666666666666666,
              "#ed7953"
             ],
             [
              0.7777777777777778,
              "#fb9f3a"
             ],
             [
              0.8888888888888888,
              "#fdca26"
             ],
             [
              1,
              "#f0f921"
             ]
            ],
            "type": "histogram2d"
           }
          ],
          "histogram2dcontour": [
           {
            "colorbar": {
             "outlinewidth": 0,
             "ticks": ""
            },
            "colorscale": [
             [
              0,
              "#0d0887"
             ],
             [
              0.1111111111111111,
              "#46039f"
             ],
             [
              0.2222222222222222,
              "#7201a8"
             ],
             [
              0.3333333333333333,
              "#9c179e"
             ],
             [
              0.4444444444444444,
              "#bd3786"
             ],
             [
              0.5555555555555556,
              "#d8576b"
             ],
             [
              0.6666666666666666,
              "#ed7953"
             ],
             [
              0.7777777777777778,
              "#fb9f3a"
             ],
             [
              0.8888888888888888,
              "#fdca26"
             ],
             [
              1,
              "#f0f921"
             ]
            ],
            "type": "histogram2dcontour"
           }
          ],
          "mesh3d": [
           {
            "colorbar": {
             "outlinewidth": 0,
             "ticks": ""
            },
            "type": "mesh3d"
           }
          ],
          "parcoords": [
           {
            "line": {
             "colorbar": {
              "outlinewidth": 0,
              "ticks": ""
             }
            },
            "type": "parcoords"
           }
          ],
          "pie": [
           {
            "automargin": true,
            "type": "pie"
           }
          ],
          "scatter": [
           {
            "fillpattern": {
             "fillmode": "overlay",
             "size": 10,
             "solidity": 0.2
            },
            "type": "scatter"
           }
          ],
          "scatter3d": [
           {
            "line": {
             "colorbar": {
              "outlinewidth": 0,
              "ticks": ""
             }
            },
            "marker": {
             "colorbar": {
              "outlinewidth": 0,
              "ticks": ""
             }
            },
            "type": "scatter3d"
           }
          ],
          "scattercarpet": [
           {
            "marker": {
             "colorbar": {
              "outlinewidth": 0,
              "ticks": ""
             }
            },
            "type": "scattercarpet"
           }
          ],
          "scattergeo": [
           {
            "marker": {
             "colorbar": {
              "outlinewidth": 0,
              "ticks": ""
             }
            },
            "type": "scattergeo"
           }
          ],
          "scattergl": [
           {
            "marker": {
             "colorbar": {
              "outlinewidth": 0,
              "ticks": ""
             }
            },
            "type": "scattergl"
           }
          ],
          "scattermapbox": [
           {
            "marker": {
             "colorbar": {
              "outlinewidth": 0,
              "ticks": ""
             }
            },
            "type": "scattermapbox"
           }
          ],
          "scatterpolar": [
           {
            "marker": {
             "colorbar": {
              "outlinewidth": 0,
              "ticks": ""
             }
            },
            "type": "scatterpolar"
           }
          ],
          "scatterpolargl": [
           {
            "marker": {
             "colorbar": {
              "outlinewidth": 0,
              "ticks": ""
             }
            },
            "type": "scatterpolargl"
           }
          ],
          "scatterternary": [
           {
            "marker": {
             "colorbar": {
              "outlinewidth": 0,
              "ticks": ""
             }
            },
            "type": "scatterternary"
           }
          ],
          "surface": [
           {
            "colorbar": {
             "outlinewidth": 0,
             "ticks": ""
            },
            "colorscale": [
             [
              0,
              "#0d0887"
             ],
             [
              0.1111111111111111,
              "#46039f"
             ],
             [
              0.2222222222222222,
              "#7201a8"
             ],
             [
              0.3333333333333333,
              "#9c179e"
             ],
             [
              0.4444444444444444,
              "#bd3786"
             ],
             [
              0.5555555555555556,
              "#d8576b"
             ],
             [
              0.6666666666666666,
              "#ed7953"
             ],
             [
              0.7777777777777778,
              "#fb9f3a"
             ],
             [
              0.8888888888888888,
              "#fdca26"
             ],
             [
              1,
              "#f0f921"
             ]
            ],
            "type": "surface"
           }
          ],
          "table": [
           {
            "cells": {
             "fill": {
              "color": "#EBF0F8"
             },
             "line": {
              "color": "white"
             }
            },
            "header": {
             "fill": {
              "color": "#C8D4E3"
             },
             "line": {
              "color": "white"
             }
            },
            "type": "table"
           }
          ]
         },
         "layout": {
          "annotationdefaults": {
           "arrowcolor": "#2a3f5f",
           "arrowhead": 0,
           "arrowwidth": 1
          },
          "autotypenumbers": "strict",
          "coloraxis": {
           "colorbar": {
            "outlinewidth": 0,
            "ticks": ""
           }
          },
          "colorscale": {
           "diverging": [
            [
             0,
             "#8e0152"
            ],
            [
             0.1,
             "#c51b7d"
            ],
            [
             0.2,
             "#de77ae"
            ],
            [
             0.3,
             "#f1b6da"
            ],
            [
             0.4,
             "#fde0ef"
            ],
            [
             0.5,
             "#f7f7f7"
            ],
            [
             0.6,
             "#e6f5d0"
            ],
            [
             0.7,
             "#b8e186"
            ],
            [
             0.8,
             "#7fbc41"
            ],
            [
             0.9,
             "#4d9221"
            ],
            [
             1,
             "#276419"
            ]
           ],
           "sequential": [
            [
             0,
             "#0d0887"
            ],
            [
             0.1111111111111111,
             "#46039f"
            ],
            [
             0.2222222222222222,
             "#7201a8"
            ],
            [
             0.3333333333333333,
             "#9c179e"
            ],
            [
             0.4444444444444444,
             "#bd3786"
            ],
            [
             0.5555555555555556,
             "#d8576b"
            ],
            [
             0.6666666666666666,
             "#ed7953"
            ],
            [
             0.7777777777777778,
             "#fb9f3a"
            ],
            [
             0.8888888888888888,
             "#fdca26"
            ],
            [
             1,
             "#f0f921"
            ]
           ],
           "sequentialminus": [
            [
             0,
             "#0d0887"
            ],
            [
             0.1111111111111111,
             "#46039f"
            ],
            [
             0.2222222222222222,
             "#7201a8"
            ],
            [
             0.3333333333333333,
             "#9c179e"
            ],
            [
             0.4444444444444444,
             "#bd3786"
            ],
            [
             0.5555555555555556,
             "#d8576b"
            ],
            [
             0.6666666666666666,
             "#ed7953"
            ],
            [
             0.7777777777777778,
             "#fb9f3a"
            ],
            [
             0.8888888888888888,
             "#fdca26"
            ],
            [
             1,
             "#f0f921"
            ]
           ]
          },
          "colorway": [
           "#636efa",
           "#EF553B",
           "#00cc96",
           "#ab63fa",
           "#FFA15A",
           "#19d3f3",
           "#FF6692",
           "#B6E880",
           "#FF97FF",
           "#FECB52"
          ],
          "font": {
           "color": "#2a3f5f"
          },
          "geo": {
           "bgcolor": "white",
           "lakecolor": "white",
           "landcolor": "#E5ECF6",
           "showlakes": true,
           "showland": true,
           "subunitcolor": "white"
          },
          "hoverlabel": {
           "align": "left"
          },
          "hovermode": "closest",
          "mapbox": {
           "style": "light"
          },
          "paper_bgcolor": "white",
          "plot_bgcolor": "#E5ECF6",
          "polar": {
           "angularaxis": {
            "gridcolor": "white",
            "linecolor": "white",
            "ticks": ""
           },
           "bgcolor": "#E5ECF6",
           "radialaxis": {
            "gridcolor": "white",
            "linecolor": "white",
            "ticks": ""
           }
          },
          "scene": {
           "xaxis": {
            "backgroundcolor": "#E5ECF6",
            "gridcolor": "white",
            "gridwidth": 2,
            "linecolor": "white",
            "showbackground": true,
            "ticks": "",
            "zerolinecolor": "white"
           },
           "yaxis": {
            "backgroundcolor": "#E5ECF6",
            "gridcolor": "white",
            "gridwidth": 2,
            "linecolor": "white",
            "showbackground": true,
            "ticks": "",
            "zerolinecolor": "white"
           },
           "zaxis": {
            "backgroundcolor": "#E5ECF6",
            "gridcolor": "white",
            "gridwidth": 2,
            "linecolor": "white",
            "showbackground": true,
            "ticks": "",
            "zerolinecolor": "white"
           }
          },
          "shapedefaults": {
           "line": {
            "color": "#2a3f5f"
           }
          },
          "ternary": {
           "aaxis": {
            "gridcolor": "white",
            "linecolor": "white",
            "ticks": ""
           },
           "baxis": {
            "gridcolor": "white",
            "linecolor": "white",
            "ticks": ""
           },
           "bgcolor": "#E5ECF6",
           "caxis": {
            "gridcolor": "white",
            "linecolor": "white",
            "ticks": ""
           }
          },
          "title": {
           "x": 0.05
          },
          "xaxis": {
           "automargin": true,
           "gridcolor": "white",
           "linecolor": "white",
           "ticks": "",
           "title": {
            "standoff": 15
           },
           "zerolinecolor": "white",
           "zerolinewidth": 2
          },
          "yaxis": {
           "automargin": true,
           "gridcolor": "white",
           "linecolor": "white",
           "ticks": "",
           "title": {
            "standoff": 15
           },
           "zerolinecolor": "white",
           "zerolinewidth": 2
          }
         }
        },
        "title": {
         "text": "Density Heatmap of Experience vs Salary"
        },
        "width": 800,
        "xaxis": {
         "anchor": "y",
         "domain": [
          0,
          0.7363
         ],
         "title": {
          "text": "Experience (Years)"
         }
        },
        "xaxis2": {
         "anchor": "y2",
         "domain": [
          0.7413,
          1
         ],
         "matches": "x2",
         "showgrid": true,
         "showline": false,
         "showticklabels": false,
         "ticks": ""
        },
        "xaxis3": {
         "anchor": "y3",
         "domain": [
          0,
          0.7363
         ],
         "matches": "x",
         "showgrid": true,
         "showticklabels": false
        },
        "xaxis4": {
         "anchor": "y4",
         "domain": [
          0.7413,
          1
         ],
         "matches": "x2",
         "showgrid": true,
         "showline": false,
         "showticklabels": false,
         "ticks": ""
        },
        "yaxis": {
         "anchor": "x",
         "domain": [
          0,
          0.7326
         ],
         "title": {
          "text": "Log_Salary"
         }
        },
        "yaxis2": {
         "anchor": "x2",
         "domain": [
          0,
          0.7326
         ],
         "matches": "y",
         "showgrid": true,
         "showticklabels": false
        },
        "yaxis3": {
         "anchor": "x3",
         "domain": [
          0.7426,
          1
         ],
         "matches": "y3",
         "showgrid": true,
         "showline": false,
         "showticklabels": false,
         "ticks": ""
        },
        "yaxis4": {
         "anchor": "x4",
         "domain": [
          0.7426,
          1
         ],
         "matches": "y3",
         "showgrid": true,
         "showline": false,
         "showticklabels": false,
         "ticks": ""
        }
       }
      },
      "text/html": [
       "<div>                            <div id=\"61bb3588-3e0a-4c9f-aa92-cdf140152983\" class=\"plotly-graph-div\" style=\"height:600px; width:800px;\"></div>            <script type=\"text/javascript\">                require([\"plotly\"], function(Plotly) {                    window.PLOTLYENV=window.PLOTLYENV || {};                                    if (document.getElementById(\"61bb3588-3e0a-4c9f-aa92-cdf140152983\")) {                    Plotly.newPlot(                        \"61bb3588-3e0a-4c9f-aa92-cdf140152983\",                        [{\"coloraxis\":\"coloraxis\",\"hovertemplate\":\"Experience (Years)=%{x}\\u003cbr\\u003eLog_Salary=%{y}\\u003cbr\\u003ecount=%{z}\\u003cextra\\u003e\\u003c\\u002fextra\\u003e\",\"name\":\"\",\"x\":[-0.9304325872265634,-0.6022376710972642,1.202834367613882,-0.4381402130326145,0.5464445353552834,0.5464445353552834,0.21824961922598404,-1.2586275033558627,-0.6022376710972642,-0.6022376710972642,1.5310292837431811,-1.2586275033558627,1.0387369095492323,-0.10994529690331525,-0.4381402130326145,0.5464445353552834,-0.9304325872265634,1.0387369095492323,-0.7663351291619138,-0.7663351291619138,1.6951267418078309,1.5310292837431811,-1.5868224194851621,0.5464445353552834,-1.094530045291213,0.054152161161334395,-0.7663351291619138,1.202834367613882,1.6951267418078309,1.6951267418078309,-0.2740427549679649,-0.4381402130326145,0.8746394514845827,-1.094530045291213,0.5464445353552834,-1.4227249614205124,0.710541993419933,-0.4381402130326145,-1.2586275033558627,-0.9304325872265634,0.21824961922598404,-1.4227249614205124,1.5310292837431811,-0.9304325872265634,-1.4227249614205124,0.054152161161334395,-1.4227249614205124,-1.4227249614205124,0.8746394514845827,-0.6022376710972642,0.5464445353552834,0.38234707729063366,1.202834367613882,0.710541993419933,0.38234707729063366,1.6951267418078309,0.054152161161334395,1.0387369095492323,-1.5868224194851621,-1.2586275033558627,-0.4381402130326145,1.202834367613882,-0.10994529690331525,-0.6022376710972642,-1.2586275033558627,1.202834367613882,-0.10994529690331525,-1.094530045291213,-1.2586275033558627,-1.4227249614205124,1.5310292837431811,-0.7663351291619138,1.5310292837431811,-1.4227249614205124,1.5310292837431811,-1.2586275033558627,0.8746394514845827,-1.2586275033558627,0.38234707729063366,-0.4381402130326145,0.38234707729063366,-1.5868224194851621,0.054152161161334395,1.6951267418078309,-0.7663351291619138,-1.094530045291213,-1.5868224194851621,-1.4227249614205124,0.21824961922598404,0.5464445353552834,-1.094530045291213,0.8746394514845827,-1.2586275033558627,1.0387369095492323,-0.2740427549679649,-1.4227249614205124,0.38234707729063366,0.054152161161334395,-1.094530045291213,-0.9304325872265634,-0.9304325872265634,-1.4227249614205124,-1.094530045291213,-0.10994529690331525,1.0387369095492323,-1.094530045291213,-0.6022376710972642,0.710541993419933,-1.2586275033558627,0.710541993419933,-0.10994529690331525,-1.4227249614205124,-1.2586275033558627,1.3669318256785314,-0.9304325872265634,1.3669318256785314,1.0387369095492323,-1.2586275033558627,0.5464445353552834,1.202834367613882,1.3669318256785314,0.5464445353552834,0.38234707729063366,1.3669318256785314,0.054152161161334395,1.3669318256785314,-0.7663351291619138,0.054152161161334395,0.21824961922598404,0.710541993419933,1.0387369095492323,-0.6022376710972642,-1.094530045291213,0.710541993419933,-1.4227249614205124,-1.094530045291213,-1.2586275033558627,0.8746394514845827,-1.094530045291213,0.054152161161334395,-1.094530045291213,-0.7663351291619138,-1.5868224194851621,-0.10994529690331525,0.38234707729063366,-1.4227249614205124,1.5310292837431811,-1.4227249614205124,1.5310292837431811,-0.4381402130326145,1.0387369095492323,1.5310292837431811,0.5464445353552834,-0.2740427549679649,-0.2740427549679649,-0.2740427549679649,-1.5868224194851621,-0.2740427549679649,0.8746394514845827,-1.2586275033558627,-0.2740427549679649,1.202834367613882,-0.7663351291619138,0.5464445353552834,0.710541993419933,-0.4381402130326145,0.5464445353552834,-1.094530045291213,1.202834367613882,0.21824961922598404,1.6951267418078309,0.21824961922598404,-0.10994529690331525,0.710541993419933,-0.7663351291619138,-0.6022376710972642,-0.7663351291619138,1.0387369095492323,1.6951267418078309,0.5464445353552834,1.202834367613882,0.38234707729063366,0.38234707729063366,-0.9304325872265634,0.710541993419933,0.38234707729063366,-1.2586275033558627,-1.4227249614205124,0.21824961922598404,0.21824961922598404,1.3669318256785314,-0.4381402130326145,0.8746394514845827,-0.4381402130326145,1.5310292837431811,0.38234707729063366,1.3669318256785314,1.0387369095492323,-1.2586275033558627,-0.2740427549679649,-0.4381402130326145,0.21824961922598404,0.21824961922598404,0.710541993419933,1.5310292837431811,1.5310292837431811,-0.10994529690331525,-1.5868224194851621,0.054152161161334395,0.21824961922598404,-0.9304325872265634,-0.6022376710972642,-0.6022376710972642,-0.2740427549679649,-0.10994529690331525,0.21824961922598404,0.710541993419933,0.710541993419933,0.21824961922598404,-0.9304325872265634,-1.094530045291213,-1.5868224194851621,-0.10994529690331525,-0.2740427549679649,1.3669318256785314,-0.10994529690331525,1.6951267418078309,0.710541993419933,1.3669318256785314,-1.5868224194851621,-1.094530045291213,0.710541993419933,1.5310292837431811,-0.9304325872265634,-0.2740427549679649,-1.5868224194851621,-0.7663351291619138,1.202834367613882,0.21824961922598404,0.710541993419933,-0.7663351291619138,1.5310292837431811,-1.5868224194851621,-1.094530045291213,0.5464445353552834,-1.2586275033558627,1.202834367613882,-1.094530045291213,0.054152161161334395,1.5310292837431811,-0.4381402130326145,-1.2586275033558627,1.0387369095492323,-0.9304325872265634,-0.6022376710972642,-1.4227249614205124,-0.10994529690331525,1.202834367613882,-1.094530045291213,0.710541993419933,-1.5868224194851621,0.21824961922598404,1.0387369095492323,-0.6022376710972642,0.054152161161334395,1.0387369095492323,-1.094530045291213,-0.7663351291619138,-0.10994529690331525,-0.7663351291619138,-0.4381402130326145,-1.4227249614205124,0.5464445353552834,1.5310292837431811,1.5310292837431811,0.5464445353552834,0.054152161161334395,0.21824961922598404,-1.5868224194851621,0.710541993419933,-0.7663351291619138,-1.2586275033558627,0.38234707729063366,0.054152161161334395,-0.6022376710972642,0.21824961922598404,1.6951267418078309,0.054152161161334395,-0.4381402130326145,-0.4381402130326145,-1.5868224194851621,0.8746394514845827,-0.2740427549679649,0.5464445353552834,-0.4381402130326145,-0.9304325872265634,-1.094530045291213,1.3669318256785314,1.0387369095492323,-0.9304325872265634,0.054152161161334395,1.5310292837431811,-0.2740427549679649,0.054152161161334395,0.8746394514845827,-0.6022376710972642,-1.5868224194851621,0.8746394514845827,-0.4381402130326145,0.38234707729063366,1.0387369095492323,1.3669318256785314,1.0387369095492323,-1.4227249614205124,0.054152161161334395,-0.7663351291619138,1.6951267418078309,1.3669318256785314,0.054152161161334395,0.054152161161334395,-1.2586275033558627,1.3669318256785314,0.8746394514845827,-1.5868224194851621,0.21824961922598404,-1.2586275033558627,0.8746394514845827,0.710541993419933,-0.10994529690331525,1.202834367613882,1.5310292837431811,1.6951267418078309,1.6951267418078309,1.6951267418078309,-1.2586275033558627,-1.094530045291213,-0.6022376710972642,1.0387369095492323,-0.9304325872265634,0.21824961922598404,-0.10994529690331525,0.38234707729063366,1.202834367613882,-0.6022376710972642,1.202834367613882,-0.9304325872265634,0.38234707729063366,1.5310292837431811,-0.10994529690331525,1.0387369095492323,1.5310292837431811,1.202834367613882,0.38234707729063366,-0.6022376710972642,1.202834367613882,-0.10994529690331525,0.054152161161334395,1.0387369095492323,-0.7663351291619138,-0.9304325872265634,1.6951267418078309,1.3669318256785314,0.5464445353552834,0.38234707729063366,-1.2586275033558627,-1.4227249614205124,0.054152161161334395,0.8746394514845827,1.0387369095492323,0.5464445353552834,-1.4227249614205124,-0.6022376710972642,0.5464445353552834,0.38234707729063366,0.5464445353552834,-1.094530045291213,-1.4227249614205124,0.21824961922598404,1.6951267418078309,1.0387369095492323,-1.4227249614205124,-1.5868224194851621,0.054152161161334395,0.710541993419933,0.710541993419933,-1.094530045291213,-1.094530045291213,-1.4227249614205124,-0.9304325872265634,-0.10994529690331525,0.21824961922598404,-1.094530045291213,-1.4227249614205124,-1.2586275033558627,-1.094530045291213,1.5310292837431811,1.6951267418078309,-0.10994529690331525,1.3669318256785314,0.21824961922598404],\"xaxis\":\"x\",\"xbingroup\":\"x\",\"y\":[-0.36761709076186533,-0.10839570613433153,1.1055543153598433,-1.397859768138992,0.5937573667340736,-0.23602827484591316,-1.2209070634630255,-0.3272185148265362,-0.4883070220055694,0.7866530798923423,0.7160830386460577,-0.5339673605226344,0.29408885507543203,0.32405585037704226,0.5526508491079464,-0.21814439041905484,-0.3361659125878417,1.2231353664064075,0.10724881354329087,-1.1496834063385146,0.33878879621836466,1.8445328724428083,-1.6480288031242674,1.8730203823719438,-1.64840122758669,0.4808376523842501,0.7160644874751803,0.7078906213593535,-0.1860731975978039,0.8907138841521145,0.4704717097194461,0.241016421023216,-0.10805216732267603,-0.7303271821122551,-0.6154045667229182,-1.0288887302446486,0.9382857780564865,0.29136889072713373,-1.0346963713734993,0.31660855439698654,0.5281162188104614,-0.05684907303840489,0.534081595473689,-1.8881948600320015,-0.3015074776081569,0.2685467768526663,-0.2574266777924602,-1.079935822661515,0.12802224512888383,1.11221113788083,-0.23083076577605982,0.5637677525004146,1.3379175229135989,0.2863721826585316,0.4146787691066053,1.2540693425600482,1.0966985726416818,0.5881441916853105,-0.33367485489450716,-1.4663457128408492,-0.4989624367593149,2.1747263205898304,-1.560623721243561,0.6721245937688874,-2.7675336892433395,0.9796784873360941,1.1847454481498294,0.03722289080413461,-1.3384818005925037,-1.088547416244925,1.7609996940087607,-0.3583868456157684,0.9603101371505828,-1.8299664259219461,0.3963953282968101,0.3776856359090244,0.21707440917748722,0.17587217225309876,1.0344014872504157,-1.4158554481530348,-0.16173449088868969,-0.3784358243303446,1.3595001555234052,0.18523856548586495,-1.9529152520927378,-0.3647245129804658,-2.4236517959752866,-1.6595959031863683,0.6631290142543962,0.47240676889479355,-2.275206363477812,0.34681121600090287,-0.7360605670126725,0.09387563855777632,0.5640607650859855,-0.5669549973279374,1.5035689581521798,-0.6104246748615058,0.6946529782161456,0.15186460528010448,-2.0469086297056958,-0.03661436573804461,-0.9567354251694856,0.7630492294104916,0.6203611451464421,-1.08461440047752,0.2379851938357892,1.4759037994366464,-0.40539984584882255,-0.02893661738233339,0.492908693241368,-3.091226556063907,0.781069250081386,0.8120093684575201,-0.1935404737091964,2.278674887205842,1.5980921778262551,-2.358429979473999,1.1540466954774542,1.8190354951214065,2.265808803076531,0.4644770615543843,-0.6297505043038858,1.608416118459329,-0.6635379696872046,-0.24902368470217887,-1.0013164547225222,-0.9454991378935209,-0.10707084847309642,-0.7794972711480531,0.6439906599355878,-0.5549946033687431,-2.2613661034802397,0.5385575683759838,-2.1955139790327842,-0.3689035927940118,-1.118265400577752,-0.9395391062873077,0.05995458654975942,0.2473522930802477,-2.0931283828147187,-1.197412006045779,-1.810664086883904,-0.2786955830354418,1.6409623801731994,0.19599205563739175,1.095263522098292,-2.701310798891322,1.068012111454657,0.09119370571731168,1.5037251648403251,1.1039284165274335,1.2880451628756808,0.4578830086083096,0.5344367667030632,0.3778520987032574,-0.4196839786621601,-1.7129573116079366,0.2582719692220046,-0.9694276703681756,0.7289109994638122,1.9862114492806235,-1.7882743987388892,0.22107096189397193,0.3487871464806839,-0.10633507372011929,0.04471090210496683,-0.3776828652964721,1.0045272292933254,0.21920511454843059,1.1112865766313744,0.5490405871286651,0.20946158843322837,-1.213114046612104,0.45226846820054095,-0.44122710317275277,-1.392049927855349,-0.17423001725002354,-0.10800309361860115,-0.4062142195453754,0.16694532233149834,-0.044120079097271114,0.6115134701624505,-0.39767449926189063,-0.7685165230806503,0.9890276775798736,-0.23607952746034627,-1.0644166199187424,0.6175811163719913,-0.20125463957166234,0.6352328164781357,0.17413355757905088,-0.19705360579989528,-0.9472275206700309,0.2337274908364521,1.0646352833039936,1.7376136877206625,-0.47249297457449574,0.2699068539929098,0.09435675287078478,0.6968945062151198,1.339944807975679,0.5603862333418774,0.5089335185461611,0.6330583641443894,-0.12730288507085644,0.38616327257166255,0.5423577913762611,0.4195448299708022,-0.8564859192423631,-1.7843714658750578,-1.3798221948135956,0.07419734736291551,-0.34737519061367517,-1.1198906305334346,-0.2460394329528202,1.1391872841897537,0.7826838465374499,0.5464478893057871,-0.8053103478084103,-0.6470818943961087,-0.5571941896028395,0.10610817594420408,0.16690062007244272,0.593892725103526,0.2991152490569932,1.652271882755463,1.1856156137740614,1.2553055347945268,-1.641044224765747,-0.7993477030067789,1.4611017138500644,0.26597602838642126,-0.7403451307495285,0.5591929798983243,-1.690749286893959,-0.8345836654376916,0.5476463134626944,-0.7079556554167591,-0.9102727575336879,-1.573384777189904,1.0557877848347965,-2.0423168148952926,-0.3939410697473991,-0.8109735981179884,-1.6156839421017681,1.037796484840136,0.7007384914612051,-0.6830076728060821,0.135396300457379,-0.1006023265967335,-1.8224498082486358,0.994771510828342,0.3701433383179251,-0.1888712092830549,-0.844080911638918,0.5098289741071208,1.0075031134102,0.520077463807377,2.086978289412227,-0.9348252211332713,1.3478753498159868,1.0897451176070332,-0.8640238324767641,-0.33964100878167564,0.9519653962011695,0.6765275005270918,0.6885735975074911,0.19145155271722802,-1.673378022920395,-0.22924517486738313,-1.3075024726143498,0.7725098284727508,0.17725341669573952,-0.19591580236272746,0.224229233388989,0.8475643265136501,-0.6451675002432423,-0.5739016875362275,0.022001730121128354,-0.8986342813665069,-1.3264738790599793,-0.2922465904119332,0.12537122241842122,0.20379422282701629,1.0886009599783482,1.2466412796410002,0.08469652779076495,-0.457674911961247,-0.7279945527733495,-1.6741711010816287,1.2023203495226993,0.15980672698683873,-0.41995673046038,0.5012612562248266,-1.5079146057348485,-1.1917357408402702,0.3225933374542003,-0.24203088772197975,0.01638519920994578,0.8161007188290834,-0.07897248029089297,-0.8771502627659037,1.4008444156118212,1.0608420351590055,0.27773128443893635,-1.929331655275962,-0.01029212976314771,0.021837381291718846,0.6041232735374431,1.1132326840087967,0.5156328840563099,1.1396532788102416,-0.7162383734504684,0.5627517499178857,-0.14807271651926304,1.486564015172683,1.9663977918935502,0.08375405144952583,1.295918331467592,-0.8843580772440496,0.12664038554768545,-0.47046667566197387,-0.24274996881551797,-0.3319270717919878,-0.5394728604765154,1.5612531382803807,0.8903991597834795,0.7304067332660028,1.2274741790458152,-0.3307095326374285,1.5999894423102279,1.4735949721613462,0.5304880131533918,-1.0287545848056128,0.16488831627637718,-1.1438192656217299,-0.9914982847020771,-0.6777039284955547,0.39273326964831223,0.052133457739741366,-1.2473345991038132,-0.3010882778809925,-0.24133765422925235,0.06886437545502178,-0.43069591599067514,0.5042129572586006,1.9665312959258576,-0.2163365011031876,-0.8358712325230935,1.7996414161007723,0.8037195513914728,0.678914361248283,0.6270416539545766,-0.2700503406928258,0.8764124956871,1.3572624344561737,0.9999651014411606,-1.4563643207230277,-0.8106932913481844,0.9928468845954135,1.5623113027442435,-0.6291062161340752,1.3981816576465693,-0.3391632717302819,-1.363471841593969,-1.243256141239518,-0.1406451927339677,0.6996940207513623,0.7323076199658703,-2.0754238867496126,0.1077277497143897,0.7821396993710893,-0.18602280732922657,0.8663812223476125,-0.4825896955561618,-0.5290664772675849,0.7361609949027036,1.258455479878166,0.5328776412086726,-0.3486528844102252,-0.4828683323398659,-0.9082761625542225,-0.07031150350408243,-0.4075176857365692,-0.7014962517067247,-0.5781293795938898,-0.542570675689458,-0.5648627188751477,-0.436231067492371,-1.8689545795311362,0.7348340852794457,-1.3301119816288114,-0.9248372277734712,-2.412957889487348,1.8831504164185764,1.1293359658121687,-1.1077748671354242,0.1252352082302301,0.8995125479404844],\"yaxis\":\"y\",\"ybingroup\":\"y\",\"type\":\"histogram2d\"},{\"alignmentgroup\":\"True\",\"bingroup\":\"x\",\"hovertemplate\":\"Experience (Years)=%{x}\\u003cbr\\u003ecount=%{y}\\u003cextra\\u003e\\u003c\\u002fextra\\u003e\",\"legendgroup\":\"\",\"marker\":{\"color\":\"#0d0887\"},\"name\":\"\",\"offsetgroup\":\"\",\"opacity\":0.5,\"showlegend\":false,\"x\":[-0.9304325872265634,-0.6022376710972642,1.202834367613882,-0.4381402130326145,0.5464445353552834,0.5464445353552834,0.21824961922598404,-1.2586275033558627,-0.6022376710972642,-0.6022376710972642,1.5310292837431811,-1.2586275033558627,1.0387369095492323,-0.10994529690331525,-0.4381402130326145,0.5464445353552834,-0.9304325872265634,1.0387369095492323,-0.7663351291619138,-0.7663351291619138,1.6951267418078309,1.5310292837431811,-1.5868224194851621,0.5464445353552834,-1.094530045291213,0.054152161161334395,-0.7663351291619138,1.202834367613882,1.6951267418078309,1.6951267418078309,-0.2740427549679649,-0.4381402130326145,0.8746394514845827,-1.094530045291213,0.5464445353552834,-1.4227249614205124,0.710541993419933,-0.4381402130326145,-1.2586275033558627,-0.9304325872265634,0.21824961922598404,-1.4227249614205124,1.5310292837431811,-0.9304325872265634,-1.4227249614205124,0.054152161161334395,-1.4227249614205124,-1.4227249614205124,0.8746394514845827,-0.6022376710972642,0.5464445353552834,0.38234707729063366,1.202834367613882,0.710541993419933,0.38234707729063366,1.6951267418078309,0.054152161161334395,1.0387369095492323,-1.5868224194851621,-1.2586275033558627,-0.4381402130326145,1.202834367613882,-0.10994529690331525,-0.6022376710972642,-1.2586275033558627,1.202834367613882,-0.10994529690331525,-1.094530045291213,-1.2586275033558627,-1.4227249614205124,1.5310292837431811,-0.7663351291619138,1.5310292837431811,-1.4227249614205124,1.5310292837431811,-1.2586275033558627,0.8746394514845827,-1.2586275033558627,0.38234707729063366,-0.4381402130326145,0.38234707729063366,-1.5868224194851621,0.054152161161334395,1.6951267418078309,-0.7663351291619138,-1.094530045291213,-1.5868224194851621,-1.4227249614205124,0.21824961922598404,0.5464445353552834,-1.094530045291213,0.8746394514845827,-1.2586275033558627,1.0387369095492323,-0.2740427549679649,-1.4227249614205124,0.38234707729063366,0.054152161161334395,-1.094530045291213,-0.9304325872265634,-0.9304325872265634,-1.4227249614205124,-1.094530045291213,-0.10994529690331525,1.0387369095492323,-1.094530045291213,-0.6022376710972642,0.710541993419933,-1.2586275033558627,0.710541993419933,-0.10994529690331525,-1.4227249614205124,-1.2586275033558627,1.3669318256785314,-0.9304325872265634,1.3669318256785314,1.0387369095492323,-1.2586275033558627,0.5464445353552834,1.202834367613882,1.3669318256785314,0.5464445353552834,0.38234707729063366,1.3669318256785314,0.054152161161334395,1.3669318256785314,-0.7663351291619138,0.054152161161334395,0.21824961922598404,0.710541993419933,1.0387369095492323,-0.6022376710972642,-1.094530045291213,0.710541993419933,-1.4227249614205124,-1.094530045291213,-1.2586275033558627,0.8746394514845827,-1.094530045291213,0.054152161161334395,-1.094530045291213,-0.7663351291619138,-1.5868224194851621,-0.10994529690331525,0.38234707729063366,-1.4227249614205124,1.5310292837431811,-1.4227249614205124,1.5310292837431811,-0.4381402130326145,1.0387369095492323,1.5310292837431811,0.5464445353552834,-0.2740427549679649,-0.2740427549679649,-0.2740427549679649,-1.5868224194851621,-0.2740427549679649,0.8746394514845827,-1.2586275033558627,-0.2740427549679649,1.202834367613882,-0.7663351291619138,0.5464445353552834,0.710541993419933,-0.4381402130326145,0.5464445353552834,-1.094530045291213,1.202834367613882,0.21824961922598404,1.6951267418078309,0.21824961922598404,-0.10994529690331525,0.710541993419933,-0.7663351291619138,-0.6022376710972642,-0.7663351291619138,1.0387369095492323,1.6951267418078309,0.5464445353552834,1.202834367613882,0.38234707729063366,0.38234707729063366,-0.9304325872265634,0.710541993419933,0.38234707729063366,-1.2586275033558627,-1.4227249614205124,0.21824961922598404,0.21824961922598404,1.3669318256785314,-0.4381402130326145,0.8746394514845827,-0.4381402130326145,1.5310292837431811,0.38234707729063366,1.3669318256785314,1.0387369095492323,-1.2586275033558627,-0.2740427549679649,-0.4381402130326145,0.21824961922598404,0.21824961922598404,0.710541993419933,1.5310292837431811,1.5310292837431811,-0.10994529690331525,-1.5868224194851621,0.054152161161334395,0.21824961922598404,-0.9304325872265634,-0.6022376710972642,-0.6022376710972642,-0.2740427549679649,-0.10994529690331525,0.21824961922598404,0.710541993419933,0.710541993419933,0.21824961922598404,-0.9304325872265634,-1.094530045291213,-1.5868224194851621,-0.10994529690331525,-0.2740427549679649,1.3669318256785314,-0.10994529690331525,1.6951267418078309,0.710541993419933,1.3669318256785314,-1.5868224194851621,-1.094530045291213,0.710541993419933,1.5310292837431811,-0.9304325872265634,-0.2740427549679649,-1.5868224194851621,-0.7663351291619138,1.202834367613882,0.21824961922598404,0.710541993419933,-0.7663351291619138,1.5310292837431811,-1.5868224194851621,-1.094530045291213,0.5464445353552834,-1.2586275033558627,1.202834367613882,-1.094530045291213,0.054152161161334395,1.5310292837431811,-0.4381402130326145,-1.2586275033558627,1.0387369095492323,-0.9304325872265634,-0.6022376710972642,-1.4227249614205124,-0.10994529690331525,1.202834367613882,-1.094530045291213,0.710541993419933,-1.5868224194851621,0.21824961922598404,1.0387369095492323,-0.6022376710972642,0.054152161161334395,1.0387369095492323,-1.094530045291213,-0.7663351291619138,-0.10994529690331525,-0.7663351291619138,-0.4381402130326145,-1.4227249614205124,0.5464445353552834,1.5310292837431811,1.5310292837431811,0.5464445353552834,0.054152161161334395,0.21824961922598404,-1.5868224194851621,0.710541993419933,-0.7663351291619138,-1.2586275033558627,0.38234707729063366,0.054152161161334395,-0.6022376710972642,0.21824961922598404,1.6951267418078309,0.054152161161334395,-0.4381402130326145,-0.4381402130326145,-1.5868224194851621,0.8746394514845827,-0.2740427549679649,0.5464445353552834,-0.4381402130326145,-0.9304325872265634,-1.094530045291213,1.3669318256785314,1.0387369095492323,-0.9304325872265634,0.054152161161334395,1.5310292837431811,-0.2740427549679649,0.054152161161334395,0.8746394514845827,-0.6022376710972642,-1.5868224194851621,0.8746394514845827,-0.4381402130326145,0.38234707729063366,1.0387369095492323,1.3669318256785314,1.0387369095492323,-1.4227249614205124,0.054152161161334395,-0.7663351291619138,1.6951267418078309,1.3669318256785314,0.054152161161334395,0.054152161161334395,-1.2586275033558627,1.3669318256785314,0.8746394514845827,-1.5868224194851621,0.21824961922598404,-1.2586275033558627,0.8746394514845827,0.710541993419933,-0.10994529690331525,1.202834367613882,1.5310292837431811,1.6951267418078309,1.6951267418078309,1.6951267418078309,-1.2586275033558627,-1.094530045291213,-0.6022376710972642,1.0387369095492323,-0.9304325872265634,0.21824961922598404,-0.10994529690331525,0.38234707729063366,1.202834367613882,-0.6022376710972642,1.202834367613882,-0.9304325872265634,0.38234707729063366,1.5310292837431811,-0.10994529690331525,1.0387369095492323,1.5310292837431811,1.202834367613882,0.38234707729063366,-0.6022376710972642,1.202834367613882,-0.10994529690331525,0.054152161161334395,1.0387369095492323,-0.7663351291619138,-0.9304325872265634,1.6951267418078309,1.3669318256785314,0.5464445353552834,0.38234707729063366,-1.2586275033558627,-1.4227249614205124,0.054152161161334395,0.8746394514845827,1.0387369095492323,0.5464445353552834,-1.4227249614205124,-0.6022376710972642,0.5464445353552834,0.38234707729063366,0.5464445353552834,-1.094530045291213,-1.4227249614205124,0.21824961922598404,1.6951267418078309,1.0387369095492323,-1.4227249614205124,-1.5868224194851621,0.054152161161334395,0.710541993419933,0.710541993419933,-1.094530045291213,-1.094530045291213,-1.4227249614205124,-0.9304325872265634,-0.10994529690331525,0.21824961922598404,-1.094530045291213,-1.4227249614205124,-1.2586275033558627,-1.094530045291213,1.5310292837431811,1.6951267418078309,-0.10994529690331525,1.3669318256785314,0.21824961922598404],\"xaxis\":\"x3\",\"yaxis\":\"y3\",\"type\":\"histogram\"},{\"alignmentgroup\":\"True\",\"bingroup\":\"y\",\"hovertemplate\":\"Log_Salary=%{y}\\u003cbr\\u003ecount=%{x}\\u003cextra\\u003e\\u003c\\u002fextra\\u003e\",\"legendgroup\":\"\",\"marker\":{\"color\":\"#0d0887\"},\"name\":\"\",\"offsetgroup\":\"\",\"opacity\":0.5,\"showlegend\":false,\"xaxis\":\"x2\",\"y\":[-0.36761709076186533,-0.10839570613433153,1.1055543153598433,-1.397859768138992,0.5937573667340736,-0.23602827484591316,-1.2209070634630255,-0.3272185148265362,-0.4883070220055694,0.7866530798923423,0.7160830386460577,-0.5339673605226344,0.29408885507543203,0.32405585037704226,0.5526508491079464,-0.21814439041905484,-0.3361659125878417,1.2231353664064075,0.10724881354329087,-1.1496834063385146,0.33878879621836466,1.8445328724428083,-1.6480288031242674,1.8730203823719438,-1.64840122758669,0.4808376523842501,0.7160644874751803,0.7078906213593535,-0.1860731975978039,0.8907138841521145,0.4704717097194461,0.241016421023216,-0.10805216732267603,-0.7303271821122551,-0.6154045667229182,-1.0288887302446486,0.9382857780564865,0.29136889072713373,-1.0346963713734993,0.31660855439698654,0.5281162188104614,-0.05684907303840489,0.534081595473689,-1.8881948600320015,-0.3015074776081569,0.2685467768526663,-0.2574266777924602,-1.079935822661515,0.12802224512888383,1.11221113788083,-0.23083076577605982,0.5637677525004146,1.3379175229135989,0.2863721826585316,0.4146787691066053,1.2540693425600482,1.0966985726416818,0.5881441916853105,-0.33367485489450716,-1.4663457128408492,-0.4989624367593149,2.1747263205898304,-1.560623721243561,0.6721245937688874,-2.7675336892433395,0.9796784873360941,1.1847454481498294,0.03722289080413461,-1.3384818005925037,-1.088547416244925,1.7609996940087607,-0.3583868456157684,0.9603101371505828,-1.8299664259219461,0.3963953282968101,0.3776856359090244,0.21707440917748722,0.17587217225309876,1.0344014872504157,-1.4158554481530348,-0.16173449088868969,-0.3784358243303446,1.3595001555234052,0.18523856548586495,-1.9529152520927378,-0.3647245129804658,-2.4236517959752866,-1.6595959031863683,0.6631290142543962,0.47240676889479355,-2.275206363477812,0.34681121600090287,-0.7360605670126725,0.09387563855777632,0.5640607650859855,-0.5669549973279374,1.5035689581521798,-0.6104246748615058,0.6946529782161456,0.15186460528010448,-2.0469086297056958,-0.03661436573804461,-0.9567354251694856,0.7630492294104916,0.6203611451464421,-1.08461440047752,0.2379851938357892,1.4759037994366464,-0.40539984584882255,-0.02893661738233339,0.492908693241368,-3.091226556063907,0.781069250081386,0.8120093684575201,-0.1935404737091964,2.278674887205842,1.5980921778262551,-2.358429979473999,1.1540466954774542,1.8190354951214065,2.265808803076531,0.4644770615543843,-0.6297505043038858,1.608416118459329,-0.6635379696872046,-0.24902368470217887,-1.0013164547225222,-0.9454991378935209,-0.10707084847309642,-0.7794972711480531,0.6439906599355878,-0.5549946033687431,-2.2613661034802397,0.5385575683759838,-2.1955139790327842,-0.3689035927940118,-1.118265400577752,-0.9395391062873077,0.05995458654975942,0.2473522930802477,-2.0931283828147187,-1.197412006045779,-1.810664086883904,-0.2786955830354418,1.6409623801731994,0.19599205563739175,1.095263522098292,-2.701310798891322,1.068012111454657,0.09119370571731168,1.5037251648403251,1.1039284165274335,1.2880451628756808,0.4578830086083096,0.5344367667030632,0.3778520987032574,-0.4196839786621601,-1.7129573116079366,0.2582719692220046,-0.9694276703681756,0.7289109994638122,1.9862114492806235,-1.7882743987388892,0.22107096189397193,0.3487871464806839,-0.10633507372011929,0.04471090210496683,-0.3776828652964721,1.0045272292933254,0.21920511454843059,1.1112865766313744,0.5490405871286651,0.20946158843322837,-1.213114046612104,0.45226846820054095,-0.44122710317275277,-1.392049927855349,-0.17423001725002354,-0.10800309361860115,-0.4062142195453754,0.16694532233149834,-0.044120079097271114,0.6115134701624505,-0.39767449926189063,-0.7685165230806503,0.9890276775798736,-0.23607952746034627,-1.0644166199187424,0.6175811163719913,-0.20125463957166234,0.6352328164781357,0.17413355757905088,-0.19705360579989528,-0.9472275206700309,0.2337274908364521,1.0646352833039936,1.7376136877206625,-0.47249297457449574,0.2699068539929098,0.09435675287078478,0.6968945062151198,1.339944807975679,0.5603862333418774,0.5089335185461611,0.6330583641443894,-0.12730288507085644,0.38616327257166255,0.5423577913762611,0.4195448299708022,-0.8564859192423631,-1.7843714658750578,-1.3798221948135956,0.07419734736291551,-0.34737519061367517,-1.1198906305334346,-0.2460394329528202,1.1391872841897537,0.7826838465374499,0.5464478893057871,-0.8053103478084103,-0.6470818943961087,-0.5571941896028395,0.10610817594420408,0.16690062007244272,0.593892725103526,0.2991152490569932,1.652271882755463,1.1856156137740614,1.2553055347945268,-1.641044224765747,-0.7993477030067789,1.4611017138500644,0.26597602838642126,-0.7403451307495285,0.5591929798983243,-1.690749286893959,-0.8345836654376916,0.5476463134626944,-0.7079556554167591,-0.9102727575336879,-1.573384777189904,1.0557877848347965,-2.0423168148952926,-0.3939410697473991,-0.8109735981179884,-1.6156839421017681,1.037796484840136,0.7007384914612051,-0.6830076728060821,0.135396300457379,-0.1006023265967335,-1.8224498082486358,0.994771510828342,0.3701433383179251,-0.1888712092830549,-0.844080911638918,0.5098289741071208,1.0075031134102,0.520077463807377,2.086978289412227,-0.9348252211332713,1.3478753498159868,1.0897451176070332,-0.8640238324767641,-0.33964100878167564,0.9519653962011695,0.6765275005270918,0.6885735975074911,0.19145155271722802,-1.673378022920395,-0.22924517486738313,-1.3075024726143498,0.7725098284727508,0.17725341669573952,-0.19591580236272746,0.224229233388989,0.8475643265136501,-0.6451675002432423,-0.5739016875362275,0.022001730121128354,-0.8986342813665069,-1.3264738790599793,-0.2922465904119332,0.12537122241842122,0.20379422282701629,1.0886009599783482,1.2466412796410002,0.08469652779076495,-0.457674911961247,-0.7279945527733495,-1.6741711010816287,1.2023203495226993,0.15980672698683873,-0.41995673046038,0.5012612562248266,-1.5079146057348485,-1.1917357408402702,0.3225933374542003,-0.24203088772197975,0.01638519920994578,0.8161007188290834,-0.07897248029089297,-0.8771502627659037,1.4008444156118212,1.0608420351590055,0.27773128443893635,-1.929331655275962,-0.01029212976314771,0.021837381291718846,0.6041232735374431,1.1132326840087967,0.5156328840563099,1.1396532788102416,-0.7162383734504684,0.5627517499178857,-0.14807271651926304,1.486564015172683,1.9663977918935502,0.08375405144952583,1.295918331467592,-0.8843580772440496,0.12664038554768545,-0.47046667566197387,-0.24274996881551797,-0.3319270717919878,-0.5394728604765154,1.5612531382803807,0.8903991597834795,0.7304067332660028,1.2274741790458152,-0.3307095326374285,1.5999894423102279,1.4735949721613462,0.5304880131533918,-1.0287545848056128,0.16488831627637718,-1.1438192656217299,-0.9914982847020771,-0.6777039284955547,0.39273326964831223,0.052133457739741366,-1.2473345991038132,-0.3010882778809925,-0.24133765422925235,0.06886437545502178,-0.43069591599067514,0.5042129572586006,1.9665312959258576,-0.2163365011031876,-0.8358712325230935,1.7996414161007723,0.8037195513914728,0.678914361248283,0.6270416539545766,-0.2700503406928258,0.8764124956871,1.3572624344561737,0.9999651014411606,-1.4563643207230277,-0.8106932913481844,0.9928468845954135,1.5623113027442435,-0.6291062161340752,1.3981816576465693,-0.3391632717302819,-1.363471841593969,-1.243256141239518,-0.1406451927339677,0.6996940207513623,0.7323076199658703,-2.0754238867496126,0.1077277497143897,0.7821396993710893,-0.18602280732922657,0.8663812223476125,-0.4825896955561618,-0.5290664772675849,0.7361609949027036,1.258455479878166,0.5328776412086726,-0.3486528844102252,-0.4828683323398659,-0.9082761625542225,-0.07031150350408243,-0.4075176857365692,-0.7014962517067247,-0.5781293795938898,-0.542570675689458,-0.5648627188751477,-0.436231067492371,-1.8689545795311362,0.7348340852794457,-1.3301119816288114,-0.9248372277734712,-2.412957889487348,1.8831504164185764,1.1293359658121687,-1.1077748671354242,0.1252352082302301,0.8995125479404844],\"yaxis\":\"y2\",\"type\":\"histogram\"}],                        {\"template\":{\"data\":{\"histogram2dcontour\":[{\"type\":\"histogram2dcontour\",\"colorbar\":{\"outlinewidth\":0,\"ticks\":\"\"},\"colorscale\":[[0.0,\"#0d0887\"],[0.1111111111111111,\"#46039f\"],[0.2222222222222222,\"#7201a8\"],[0.3333333333333333,\"#9c179e\"],[0.4444444444444444,\"#bd3786\"],[0.5555555555555556,\"#d8576b\"],[0.6666666666666666,\"#ed7953\"],[0.7777777777777778,\"#fb9f3a\"],[0.8888888888888888,\"#fdca26\"],[1.0,\"#f0f921\"]]}],\"choropleth\":[{\"type\":\"choropleth\",\"colorbar\":{\"outlinewidth\":0,\"ticks\":\"\"}}],\"histogram2d\":[{\"type\":\"histogram2d\",\"colorbar\":{\"outlinewidth\":0,\"ticks\":\"\"},\"colorscale\":[[0.0,\"#0d0887\"],[0.1111111111111111,\"#46039f\"],[0.2222222222222222,\"#7201a8\"],[0.3333333333333333,\"#9c179e\"],[0.4444444444444444,\"#bd3786\"],[0.5555555555555556,\"#d8576b\"],[0.6666666666666666,\"#ed7953\"],[0.7777777777777778,\"#fb9f3a\"],[0.8888888888888888,\"#fdca26\"],[1.0,\"#f0f921\"]]}],\"heatmap\":[{\"type\":\"heatmap\",\"colorbar\":{\"outlinewidth\":0,\"ticks\":\"\"},\"colorscale\":[[0.0,\"#0d0887\"],[0.1111111111111111,\"#46039f\"],[0.2222222222222222,\"#7201a8\"],[0.3333333333333333,\"#9c179e\"],[0.4444444444444444,\"#bd3786\"],[0.5555555555555556,\"#d8576b\"],[0.6666666666666666,\"#ed7953\"],[0.7777777777777778,\"#fb9f3a\"],[0.8888888888888888,\"#fdca26\"],[1.0,\"#f0f921\"]]}],\"heatmapgl\":[{\"type\":\"heatmapgl\",\"colorbar\":{\"outlinewidth\":0,\"ticks\":\"\"},\"colorscale\":[[0.0,\"#0d0887\"],[0.1111111111111111,\"#46039f\"],[0.2222222222222222,\"#7201a8\"],[0.3333333333333333,\"#9c179e\"],[0.4444444444444444,\"#bd3786\"],[0.5555555555555556,\"#d8576b\"],[0.6666666666666666,\"#ed7953\"],[0.7777777777777778,\"#fb9f3a\"],[0.8888888888888888,\"#fdca26\"],[1.0,\"#f0f921\"]]}],\"contourcarpet\":[{\"type\":\"contourcarpet\",\"colorbar\":{\"outlinewidth\":0,\"ticks\":\"\"}}],\"contour\":[{\"type\":\"contour\",\"colorbar\":{\"outlinewidth\":0,\"ticks\":\"\"},\"colorscale\":[[0.0,\"#0d0887\"],[0.1111111111111111,\"#46039f\"],[0.2222222222222222,\"#7201a8\"],[0.3333333333333333,\"#9c179e\"],[0.4444444444444444,\"#bd3786\"],[0.5555555555555556,\"#d8576b\"],[0.6666666666666666,\"#ed7953\"],[0.7777777777777778,\"#fb9f3a\"],[0.8888888888888888,\"#fdca26\"],[1.0,\"#f0f921\"]]}],\"surface\":[{\"type\":\"surface\",\"colorbar\":{\"outlinewidth\":0,\"ticks\":\"\"},\"colorscale\":[[0.0,\"#0d0887\"],[0.1111111111111111,\"#46039f\"],[0.2222222222222222,\"#7201a8\"],[0.3333333333333333,\"#9c179e\"],[0.4444444444444444,\"#bd3786\"],[0.5555555555555556,\"#d8576b\"],[0.6666666666666666,\"#ed7953\"],[0.7777777777777778,\"#fb9f3a\"],[0.8888888888888888,\"#fdca26\"],[1.0,\"#f0f921\"]]}],\"mesh3d\":[{\"type\":\"mesh3d\",\"colorbar\":{\"outlinewidth\":0,\"ticks\":\"\"}}],\"scatter\":[{\"fillpattern\":{\"fillmode\":\"overlay\",\"size\":10,\"solidity\":0.2},\"type\":\"scatter\"}],\"parcoords\":[{\"type\":\"parcoords\",\"line\":{\"colorbar\":{\"outlinewidth\":0,\"ticks\":\"\"}}}],\"scatterpolargl\":[{\"type\":\"scatterpolargl\",\"marker\":{\"colorbar\":{\"outlinewidth\":0,\"ticks\":\"\"}}}],\"bar\":[{\"error_x\":{\"color\":\"#2a3f5f\"},\"error_y\":{\"color\":\"#2a3f5f\"},\"marker\":{\"line\":{\"color\":\"#E5ECF6\",\"width\":0.5},\"pattern\":{\"fillmode\":\"overlay\",\"size\":10,\"solidity\":0.2}},\"type\":\"bar\"}],\"scattergeo\":[{\"type\":\"scattergeo\",\"marker\":{\"colorbar\":{\"outlinewidth\":0,\"ticks\":\"\"}}}],\"scatterpolar\":[{\"type\":\"scatterpolar\",\"marker\":{\"colorbar\":{\"outlinewidth\":0,\"ticks\":\"\"}}}],\"histogram\":[{\"marker\":{\"pattern\":{\"fillmode\":\"overlay\",\"size\":10,\"solidity\":0.2}},\"type\":\"histogram\"}],\"scattergl\":[{\"type\":\"scattergl\",\"marker\":{\"colorbar\":{\"outlinewidth\":0,\"ticks\":\"\"}}}],\"scatter3d\":[{\"type\":\"scatter3d\",\"line\":{\"colorbar\":{\"outlinewidth\":0,\"ticks\":\"\"}},\"marker\":{\"colorbar\":{\"outlinewidth\":0,\"ticks\":\"\"}}}],\"scattermapbox\":[{\"type\":\"scattermapbox\",\"marker\":{\"colorbar\":{\"outlinewidth\":0,\"ticks\":\"\"}}}],\"scatterternary\":[{\"type\":\"scatterternary\",\"marker\":{\"colorbar\":{\"outlinewidth\":0,\"ticks\":\"\"}}}],\"scattercarpet\":[{\"type\":\"scattercarpet\",\"marker\":{\"colorbar\":{\"outlinewidth\":0,\"ticks\":\"\"}}}],\"carpet\":[{\"aaxis\":{\"endlinecolor\":\"#2a3f5f\",\"gridcolor\":\"white\",\"linecolor\":\"white\",\"minorgridcolor\":\"white\",\"startlinecolor\":\"#2a3f5f\"},\"baxis\":{\"endlinecolor\":\"#2a3f5f\",\"gridcolor\":\"white\",\"linecolor\":\"white\",\"minorgridcolor\":\"white\",\"startlinecolor\":\"#2a3f5f\"},\"type\":\"carpet\"}],\"table\":[{\"cells\":{\"fill\":{\"color\":\"#EBF0F8\"},\"line\":{\"color\":\"white\"}},\"header\":{\"fill\":{\"color\":\"#C8D4E3\"},\"line\":{\"color\":\"white\"}},\"type\":\"table\"}],\"barpolar\":[{\"marker\":{\"line\":{\"color\":\"#E5ECF6\",\"width\":0.5},\"pattern\":{\"fillmode\":\"overlay\",\"size\":10,\"solidity\":0.2}},\"type\":\"barpolar\"}],\"pie\":[{\"automargin\":true,\"type\":\"pie\"}]},\"layout\":{\"autotypenumbers\":\"strict\",\"colorway\":[\"#636efa\",\"#EF553B\",\"#00cc96\",\"#ab63fa\",\"#FFA15A\",\"#19d3f3\",\"#FF6692\",\"#B6E880\",\"#FF97FF\",\"#FECB52\"],\"font\":{\"color\":\"#2a3f5f\"},\"hovermode\":\"closest\",\"hoverlabel\":{\"align\":\"left\"},\"paper_bgcolor\":\"white\",\"plot_bgcolor\":\"#E5ECF6\",\"polar\":{\"bgcolor\":\"#E5ECF6\",\"angularaxis\":{\"gridcolor\":\"white\",\"linecolor\":\"white\",\"ticks\":\"\"},\"radialaxis\":{\"gridcolor\":\"white\",\"linecolor\":\"white\",\"ticks\":\"\"}},\"ternary\":{\"bgcolor\":\"#E5ECF6\",\"aaxis\":{\"gridcolor\":\"white\",\"linecolor\":\"white\",\"ticks\":\"\"},\"baxis\":{\"gridcolor\":\"white\",\"linecolor\":\"white\",\"ticks\":\"\"},\"caxis\":{\"gridcolor\":\"white\",\"linecolor\":\"white\",\"ticks\":\"\"}},\"coloraxis\":{\"colorbar\":{\"outlinewidth\":0,\"ticks\":\"\"}},\"colorscale\":{\"sequential\":[[0.0,\"#0d0887\"],[0.1111111111111111,\"#46039f\"],[0.2222222222222222,\"#7201a8\"],[0.3333333333333333,\"#9c179e\"],[0.4444444444444444,\"#bd3786\"],[0.5555555555555556,\"#d8576b\"],[0.6666666666666666,\"#ed7953\"],[0.7777777777777778,\"#fb9f3a\"],[0.8888888888888888,\"#fdca26\"],[1.0,\"#f0f921\"]],\"sequentialminus\":[[0.0,\"#0d0887\"],[0.1111111111111111,\"#46039f\"],[0.2222222222222222,\"#7201a8\"],[0.3333333333333333,\"#9c179e\"],[0.4444444444444444,\"#bd3786\"],[0.5555555555555556,\"#d8576b\"],[0.6666666666666666,\"#ed7953\"],[0.7777777777777778,\"#fb9f3a\"],[0.8888888888888888,\"#fdca26\"],[1.0,\"#f0f921\"]],\"diverging\":[[0,\"#8e0152\"],[0.1,\"#c51b7d\"],[0.2,\"#de77ae\"],[0.3,\"#f1b6da\"],[0.4,\"#fde0ef\"],[0.5,\"#f7f7f7\"],[0.6,\"#e6f5d0\"],[0.7,\"#b8e186\"],[0.8,\"#7fbc41\"],[0.9,\"#4d9221\"],[1,\"#276419\"]]},\"xaxis\":{\"gridcolor\":\"white\",\"linecolor\":\"white\",\"ticks\":\"\",\"title\":{\"standoff\":15},\"zerolinecolor\":\"white\",\"automargin\":true,\"zerolinewidth\":2},\"yaxis\":{\"gridcolor\":\"white\",\"linecolor\":\"white\",\"ticks\":\"\",\"title\":{\"standoff\":15},\"zerolinecolor\":\"white\",\"automargin\":true,\"zerolinewidth\":2},\"scene\":{\"xaxis\":{\"backgroundcolor\":\"#E5ECF6\",\"gridcolor\":\"white\",\"linecolor\":\"white\",\"showbackground\":true,\"ticks\":\"\",\"zerolinecolor\":\"white\",\"gridwidth\":2},\"yaxis\":{\"backgroundcolor\":\"#E5ECF6\",\"gridcolor\":\"white\",\"linecolor\":\"white\",\"showbackground\":true,\"ticks\":\"\",\"zerolinecolor\":\"white\",\"gridwidth\":2},\"zaxis\":{\"backgroundcolor\":\"#E5ECF6\",\"gridcolor\":\"white\",\"linecolor\":\"white\",\"showbackground\":true,\"ticks\":\"\",\"zerolinecolor\":\"white\",\"gridwidth\":2}},\"shapedefaults\":{\"line\":{\"color\":\"#2a3f5f\"}},\"annotationdefaults\":{\"arrowcolor\":\"#2a3f5f\",\"arrowhead\":0,\"arrowwidth\":1},\"geo\":{\"bgcolor\":\"white\",\"landcolor\":\"#E5ECF6\",\"subunitcolor\":\"white\",\"showland\":true,\"showlakes\":true,\"lakecolor\":\"white\"},\"title\":{\"x\":0.05},\"mapbox\":{\"style\":\"light\"}}},\"xaxis\":{\"anchor\":\"y\",\"domain\":[0.0,0.7363],\"title\":{\"text\":\"Experience (Years)\"}},\"yaxis\":{\"anchor\":\"x\",\"domain\":[0.0,0.7326],\"title\":{\"text\":\"Log_Salary\"}},\"xaxis2\":{\"anchor\":\"y2\",\"domain\":[0.7413,1.0],\"matches\":\"x2\",\"showticklabels\":false,\"showline\":false,\"ticks\":\"\",\"showgrid\":true},\"yaxis2\":{\"anchor\":\"x2\",\"domain\":[0.0,0.7326],\"matches\":\"y\",\"showticklabels\":false,\"showgrid\":true},\"xaxis3\":{\"anchor\":\"y3\",\"domain\":[0.0,0.7363],\"matches\":\"x\",\"showticklabels\":false,\"showgrid\":true},\"yaxis3\":{\"anchor\":\"x3\",\"domain\":[0.7426,1.0],\"matches\":\"y3\",\"showticklabels\":false,\"showline\":false,\"ticks\":\"\",\"showgrid\":true},\"xaxis4\":{\"anchor\":\"y4\",\"domain\":[0.7413,1.0],\"matches\":\"x2\",\"showticklabels\":false,\"showgrid\":true,\"showline\":false,\"ticks\":\"\"},\"yaxis4\":{\"anchor\":\"x4\",\"domain\":[0.7426,1.0],\"matches\":\"y3\",\"showticklabels\":false,\"showline\":false,\"ticks\":\"\",\"showgrid\":true},\"coloraxis\":{\"colorbar\":{\"title\":{\"text\":\"count\"}},\"colorscale\":[[0.0,\"#0d0887\"],[0.1111111111111111,\"#46039f\"],[0.2222222222222222,\"#7201a8\"],[0.3333333333333333,\"#9c179e\"],[0.4444444444444444,\"#bd3786\"],[0.5555555555555556,\"#d8576b\"],[0.6666666666666666,\"#ed7953\"],[0.7777777777777778,\"#fb9f3a\"],[0.8888888888888888,\"#fdca26\"],[1.0,\"#f0f921\"]]},\"legend\":{\"tracegroupgap\":0},\"title\":{\"text\":\"Density Heatmap of Experience vs Salary\"},\"barmode\":\"overlay\",\"height\":600,\"width\":800},                        {\"responsive\": true}                    ).then(function(){\n",
       "                            \n",
       "var gd = document.getElementById('61bb3588-3e0a-4c9f-aa92-cdf140152983');\n",
       "var x = new MutationObserver(function (mutations, observer) {{\n",
       "        var display = window.getComputedStyle(gd).display;\n",
       "        if (!display || display === 'none') {{\n",
       "            console.log([gd, 'removed!']);\n",
       "            Plotly.purge(gd);\n",
       "            observer.disconnect();\n",
       "        }}\n",
       "}});\n",
       "\n",
       "// Listen for the removal of the full notebook cells\n",
       "var notebookContainer = gd.closest('#notebook-container');\n",
       "if (notebookContainer) {{\n",
       "    x.observe(notebookContainer, {childList: true});\n",
       "}}\n",
       "\n",
       "// Listen for the clearing of the current output cell\n",
       "var outputEl = gd.closest('.output');\n",
       "if (outputEl) {{\n",
       "    x.observe(outputEl, {childList: true});\n",
       "}}\n",
       "\n",
       "                        })                };                });            </script>        </div>"
      ]
     },
     "metadata": {},
     "output_type": "display_data"
    }
   ],
   "source": [
    "fig = px.density_heatmap(df, x='Experience (Years)', y='Log_Salary', \n",
    "                         marginal_x='histogram', marginal_y='histogram',\n",
    "                         title='Density Heatmap of Experience vs Salary')\n",
    "fig.update_layout(height=600, width=800)\n",
    "fig.show()"
   ]
  },
  {
   "cell_type": "code",
   "execution_count": null,
   "metadata": {},
   "outputs": [],
   "source": []
  },
  {
   "cell_type": "markdown",
   "metadata": {},
   "source": [
    "# Data Analysis Report\n",
    "1. Introduction and Objective\n",
    "The primary objective of this analysis is to explore the relationship between various factors (such as experience) and salary, and to build predictive models for salary estimation.\n",
    "\n",
    "2. Data Collection and Preparation\n",
    "Data Collection: Data was likely collected from a source related to employment, containing fields like Experience (Years) and Salary.\n",
    "Data Cleaning: Data cleaning steps such as handling missing values, removing duplicates, and ensuring data consistency were performed.\n",
    "Feature Engineering: Log transformation of salary was applied to normalize the distribution.\n",
    "3. Exploratory Data Analysis (EDA)\n",
    "Descriptive Statistics: Summary statistics of the dataset provide insights into central tendencies and dispersion.\n",
    "Visualizations: Various plots were generated to understand the data distribution and relationships.\n",
    "Histograms: Displayed distributions of individual features.\n",
    "Scatter Plots: Showed relationships between Experience (Years) and Log_Salary.\n",
    "Heatmaps: Indicated density and correlation between features.\n",
    "4. Model Building\n",
    "Linear Regression: A linear regression model was built to predict salary based on experience.\n",
    "Performance Metrics: Metrics such as R-squared, Mean Absolute Error (MAE), and Mean Squared Error (MSE) were used to evaluate model performance.\n",
    "5. Findings\n",
    "Relationship between Experience and Salary: There is a positive correlation between years of experience and salary.\n",
    "Model Accuracy: The linear regression model showed a reasonable fit, indicating that experience is a significant predictor of salary.\n",
    "# Summary of Findings\n",
    "- Positive Correlation: There is a clear positive correlation between years of experience and salary, suggesting that more experienced individuals tend to earn higher salaries.\n",
    "- Model Performance: The predictive model demonstrated that experience can be a good predictor of salary, with acceptable accuracy based on the evaluation metrics.\n",
    "- Data Insights: Visual and statistical analyses highlighted key trends and patterns within the data, providing valuable insights for further decision-making."
   ]
  },
  {
   "cell_type": "markdown",
   "metadata": {},
   "source": [
    "# Thank you!"
   ]
  },
  {
   "cell_type": "code",
   "execution_count": null,
   "metadata": {},
   "outputs": [],
   "source": []
  }
 ],
 "metadata": {
  "kernelspec": {
   "display_name": "Python 3",
   "language": "python",
   "name": "python3"
  },
  "language_info": {
   "codemirror_mode": {
    "name": "ipython",
    "version": 3
   },
   "file_extension": ".py",
   "mimetype": "text/x-python",
   "name": "python",
   "nbconvert_exporter": "python",
   "pygments_lexer": "ipython3",
   "version": "3.8.5"
  }
 },
 "nbformat": 4,
 "nbformat_minor": 4
}
